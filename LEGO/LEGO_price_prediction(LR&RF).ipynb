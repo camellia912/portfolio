{
 "cells": [
  {
   "cell_type": "markdown",
   "id": "b029f4f8",
   "metadata": {},
   "source": [
    "### Build Random Forest and Linear Regression models"
   ]
  },
  {
   "cell_type": "code",
   "execution_count": 1,
   "id": "c8a8d581",
   "metadata": {},
   "outputs": [],
   "source": [
    "# install.packages(\"tidyverse\") \n",
    "# install.packages(\"dplyr\") \n",
    "# install.packages(\"randomForest\") \n",
    "# install.packages(\"caret\") \n",
    "# install.packages(\"rpart\")\n",
    "# install.packages(\"Metrics\")\n",
    "# install.packages(\"grid\") \n",
    "# install.packages(\"patchwork\") \n",
    "Sys.setenv(LANGUAGE = \"en\")"
   ]
  },
  {
   "cell_type": "code",
   "execution_count": 2,
   "id": "db783fbf",
   "metadata": {},
   "outputs": [
    {
     "name": "stderr",
     "output_type": "stream",
     "text": [
      "── \u001b[1mAttaching core tidyverse packages\u001b[22m ──────────────────────────────────────────────────────────────── tidyverse 2.0.0 ──\n",
      "\u001b[32m✔\u001b[39m \u001b[34mdplyr    \u001b[39m 1.1.2     \u001b[32m✔\u001b[39m \u001b[34mreadr    \u001b[39m 2.1.4\n",
      "\u001b[32m✔\u001b[39m \u001b[34mforcats  \u001b[39m 1.0.0     \u001b[32m✔\u001b[39m \u001b[34mstringr  \u001b[39m 1.5.0\n",
      "\u001b[32m✔\u001b[39m \u001b[34mggplot2  \u001b[39m 3.4.3     \u001b[32m✔\u001b[39m \u001b[34mtibble   \u001b[39m 3.2.1\n",
      "\u001b[32m✔\u001b[39m \u001b[34mlubridate\u001b[39m 1.9.2     \u001b[32m✔\u001b[39m \u001b[34mtidyr    \u001b[39m 1.3.0\n",
      "\u001b[32m✔\u001b[39m \u001b[34mpurrr    \u001b[39m 1.0.1     \n",
      "── \u001b[1mConflicts\u001b[22m ────────────────────────────────────────────────────────────────────────────────── tidyverse_conflicts() ──\n",
      "\u001b[31m✖\u001b[39m \u001b[34mdplyr\u001b[39m::\u001b[32mfilter()\u001b[39m masks \u001b[34mstats\u001b[39m::filter()\n",
      "\u001b[31m✖\u001b[39m \u001b[34mdplyr\u001b[39m::\u001b[32mlag()\u001b[39m    masks \u001b[34mstats\u001b[39m::lag()\n",
      "\u001b[36mℹ\u001b[39m Use the conflicted package (\u001b[3m\u001b[34m<http://conflicted.r-lib.org/>\u001b[39m\u001b[23m) to force all conflicts to become errors\n",
      "Warning message:\n",
      "\"package 'randomForest' was built under R version 4.3.2\"\n",
      "randomForest 4.7-1.1\n",
      "\n",
      "Type rfNews() to see new features/changes/bug fixes.\n",
      "\n",
      "\n",
      "Attaching package: 'randomForest'\n",
      "\n",
      "\n",
      "The following object is masked from 'package:dplyr':\n",
      "\n",
      "    combine\n",
      "\n",
      "\n",
      "The following object is masked from 'package:ggplot2':\n",
      "\n",
      "    margin\n",
      "\n",
      "\n",
      "Warning message:\n",
      "\"package 'caret' was built under R version 4.3.2\"\n",
      "Loading required package: lattice\n",
      "\n",
      "\n",
      "Attaching package: 'caret'\n",
      "\n",
      "\n",
      "The following object is masked from 'package:purrr':\n",
      "\n",
      "    lift\n",
      "\n",
      "\n",
      "Warning message:\n",
      "\"package 'Metrics' was built under R version 4.3.2\"\n",
      "\n",
      "Attaching package: 'Metrics'\n",
      "\n",
      "\n",
      "The following objects are masked from 'package:caret':\n",
      "\n",
      "    precision, recall\n",
      "\n",
      "\n",
      "Warning message:\n",
      "\"package 'glmnet' was built under R version 4.3.2\"\n",
      "Loading required package: Matrix\n",
      "\n",
      "\n",
      "Attaching package: 'Matrix'\n",
      "\n",
      "\n",
      "The following objects are masked from 'package:tidyr':\n",
      "\n",
      "    expand, pack, unpack\n",
      "\n",
      "\n",
      "Loaded glmnet 4.1-8\n",
      "\n",
      "Warning message:\n",
      "\"package 'patchwork' was built under R version 4.3.2\"\n"
     ]
    }
   ],
   "source": [
    "# Load libraries\n",
    "library(tidyverse)\n",
    "library(dplyr)\n",
    "library(randomForest)\n",
    "library(caret)\n",
    "library(rpart)\n",
    "library(Metrics)\n",
    "library(grid)\n",
    "library(glmnet)\n",
    "library(patchwork)\n",
    "options(repr.plot.width = 15, repr.plot.height = 11)"
   ]
  },
  {
   "cell_type": "code",
   "execution_count": 3,
   "id": "4c866fce",
   "metadata": {},
   "outputs": [
    {
     "name": "stderr",
     "output_type": "stream",
     "text": [
      "\u001b[1mRows: \u001b[22m\u001b[34m3653\u001b[39m \u001b[1mColumns: \u001b[22m\u001b[34m9\u001b[39m\n",
      "\u001b[36m──\u001b[39m \u001b[1mColumn specification\u001b[22m \u001b[36m────────────────────────────────────────────────────────────────────────────────────────────────────────────────────────────\u001b[39m\n",
      "\u001b[1mDelimiter:\u001b[22m \",\"\n",
      "\u001b[31mchr\u001b[39m (1): theme_name\n",
      "\u001b[32mdbl\u001b[39m (8): parts_count, minifigures_count, rating, retail_price, lifecycle_dur...\n",
      "\n",
      "\u001b[36mℹ\u001b[39m Use `spec()` to retrieve the full column specification for this data.\n",
      "\u001b[36mℹ\u001b[39m Specify the column types or set `show_col_types = FALSE` to quiet this message.\n"
     ]
    }
   ],
   "source": [
    "# Read dataset\n",
    "model_data <-\n",
    "  \"model_data.csv\" %>%\n",
    "  read_csv()"
   ]
  },
  {
   "cell_type": "code",
   "execution_count": 4,
   "id": "65385a2d",
   "metadata": {},
   "outputs": [],
   "source": [
    "# Select the desired themes with highest profits\n",
    "desired_themes <- c('Avatar: The Last Airbender', 'Model Team', 'Icons',\n",
    "                    'Batman', 'Trains', 'The Lord of the Rings', 'Spider-Man', \n",
    "                    'Pirates of the Caribbean', 'The Simpsons', 'Pirates', \n",
    "                    'Stranger Things', 'Western', 'Indiana Jones', \n",
    "                    'The Hobbit', 'Vikings', 'FORMA', 'Discovery', 'Adventurers', \n",
    "                    'Scooby-Doo', 'Monster Fighters', 'Rock Raiders', \n",
    "                    'SpongeBob SquarePants', 'Hobby Set', 'Exo-Force',\n",
    "                    'Star Wars', 'Aquazone', 'Castle', 'Studios', 'Dino Attack', \n",
    "                    'Time Cruisers', 'Bionicle')"
   ]
  },
  {
   "cell_type": "code",
   "execution_count": 5,
   "id": "ec4fff35",
   "metadata": {},
   "outputs": [],
   "source": [
    "# Create a new dataset to select the desired themes with highest profits\n",
    "theme_data <- \n",
    "  model_data[model_data$theme_name %in% desired_themes, ]"
   ]
  },
  {
   "cell_type": "code",
   "execution_count": 6,
   "id": "30988ef3",
   "metadata": {},
   "outputs": [],
   "source": [
    "# Select the retired themes\n",
    "retired_themes <- c('Avatar: The Last Airbender', 'Model Team', 'Pirates of the Caribbean', \n",
    "                    'The Simpsons', 'Western', 'Indiana Jones', 'The Hobbit', 'The Lord of the Rings', \n",
    "                    'Vikings', 'FORMA', 'Discovery', 'Adventurers', 'Scooby-Doo', 'Monster Fighters', \n",
    "                    'Rock Raiders', 'SpongeBob SquarePants', 'Exo-Force', 'Dino Attack', \n",
    "                    'Time Cruisers', 'Aquazone', 'Studios', 'Bionicle')"
   ]
  },
  {
   "cell_type": "code",
   "execution_count": 7,
   "id": "4ee7f176",
   "metadata": {},
   "outputs": [
    {
     "data": {
      "text/plain": [
       "  theme_name         parts_count     minifigures_count     rating     \n",
       " Length:783         Min.   :  12.0   Min.   : 1.000    Min.   :0.000  \n",
       " Class :character   1st Qu.: 109.0   1st Qu.: 2.000    1st Qu.:3.800  \n",
       " Mode  :character   Median : 262.0   Median : 4.000    Median :4.000  \n",
       "                    Mean   : 409.7   Mean   : 3.928    Mean   :3.879  \n",
       "                    3rd Qu.: 502.0   3rd Qu.: 5.000    3rd Qu.:4.200  \n",
       "                    Max.   :5197.0   Max.   :24.000    Max.   :4.700  \n",
       "  retail_price    lifecycle_duration days_since_launch resale_price_used\n",
       " Min.   :  2.00   Min.   :  30.0     Min.   : 121      Min.   :  2.52   \n",
       " 1st Qu.: 14.99   1st Qu.: 365.0     1st Qu.:2921      1st Qu.: 26.94   \n",
       " Median : 29.99   Median : 578.0     Median :4961      Median : 56.24   \n",
       " Mean   : 46.10   Mean   : 568.1     Mean   :4978      Mean   : 95.42   \n",
       " 3rd Qu.: 52.49   3rd Qu.: 729.0     3rd Qu.:7031      3rd Qu.:117.56   \n",
       " Max.   :699.99   Max.   :2677.0     Max.   :9861      Max.   :925.00   \n",
       " resale_price_new  is_from_retired_theme\n",
       " Min.   :   6.04   Min.   :0.0000       \n",
       " 1st Qu.:  51.11   1st Qu.:0.0000       \n",
       " Median : 114.35   Median :0.0000       \n",
       " Mean   : 192.58   Mean   :0.2822       \n",
       " 3rd Qu.: 234.22   3rd Qu.:1.0000       \n",
       " Max.   :9000.00   Max.   :1.0000       "
      ]
     },
     "metadata": {},
     "output_type": "display_data"
    }
   ],
   "source": [
    "# Create a variable to denote whether the set from a retired theme\n",
    "theme_data <- \n",
    "  theme_data %>%\n",
    "    mutate(is_from_retired_theme = ifelse(theme_name %in% retired_themes, 1, 0))\n",
    "\n",
    "summary(theme_data)"
   ]
  },
  {
   "cell_type": "code",
   "execution_count": 8,
   "id": "74d8a21f",
   "metadata": {},
   "outputs": [
    {
     "name": "stdout",
     "output_type": "stream",
     "text": [
      "Rows: 431\n",
      "Columns: 10\n",
      "$ theme_name            \u001b[3m\u001b[90m<chr>\u001b[39m\u001b[23m \"Star Wars\", \"Star Wars\", \"Star Wars\", \"Star War…\n",
      "$ parts_count           \u001b[3m\u001b[90m<dbl>\u001b[39m\u001b[23m 52, 49, 82, 93, 215, 136, 266, 179, 409, 244, 37…\n",
      "$ minifigures_count     \u001b[3m\u001b[90m<dbl>\u001b[39m\u001b[23m 2, 2, 4, 3, 3, 3, 4, 4, 3, 1, 3, 10, 2, 2, 1, 2,…\n",
      "$ rating                \u001b[3m\u001b[90m<dbl>\u001b[39m\u001b[23m 3.6, 3.7, 3.6, 4.1, 4.0, 3.7, 4.2, 3.7, 4.0, 3.5…\n",
      "$ retail_price          \u001b[3m\u001b[90m<dbl>\u001b[39m\u001b[23m 6, 6, 10, 10, 20, 15, 30, 20, 50, 30, 50, 90, 6,…\n",
      "$ lifecycle_duration    \u001b[3m\u001b[90m<dbl>\u001b[39m\u001b[23m 640, 678, 640, 671, 678, 640, 1043, 1005, 678, 6…\n",
      "$ days_since_launch     \u001b[3m\u001b[90m<dbl>\u001b[39m\u001b[23m 8675, 8713, 8675, 8706, 8713, 8675, 8713, 8675, …\n",
      "$ resale_price_used     \u001b[3m\u001b[90m<dbl>\u001b[39m\u001b[23m 30.41, 24.98, 23.88, 28.91, 36.34, 21.16, 62.85,…\n",
      "$ resale_price_new      \u001b[3m\u001b[90m<dbl>\u001b[39m\u001b[23m 89.92, 80.04, 72.74, 98.56, 128.36, 84.07, 296.9…\n",
      "$ is_from_retired_theme \u001b[3m\u001b[90m<dbl>\u001b[39m\u001b[23m 0, 0, 0, 0, 0, 0, 0, 0, 0, 0, 0, 0, 0, 0, 0, 0, …\n"
     ]
    }
   ],
   "source": [
    "# Check how many sets from Star Wars\n",
    "theme_data %>%\n",
    "  filter(theme_name == \"Star Wars\") %>%\n",
    "  glimpse()"
   ]
  },
  {
   "cell_type": "code",
   "execution_count": 9,
   "id": "85df3fed",
   "metadata": {},
   "outputs": [
    {
     "data": {
      "text/html": [
       "<table class=\"dataframe\">\n",
       "<caption>A tibble: 6 × 11</caption>\n",
       "<thead>\n",
       "\t<tr><th scope=col>theme_name</th><th scope=col>parts_count</th><th scope=col>minifigures_count</th><th scope=col>rating</th><th scope=col>retail_price</th><th scope=col>lifecycle_duration</th><th scope=col>days_since_launch</th><th scope=col>resale_price_used</th><th scope=col>resale_price_new</th><th scope=col>is_from_retired_theme</th><th scope=col>is_starwars</th></tr>\n",
       "\t<tr><th scope=col>&lt;chr&gt;</th><th scope=col>&lt;dbl&gt;</th><th scope=col>&lt;dbl&gt;</th><th scope=col>&lt;dbl&gt;</th><th scope=col>&lt;dbl&gt;</th><th scope=col>&lt;dbl&gt;</th><th scope=col>&lt;dbl&gt;</th><th scope=col>&lt;dbl&gt;</th><th scope=col>&lt;dbl&gt;</th><th scope=col>&lt;dbl&gt;</th><th scope=col>&lt;dbl&gt;</th></tr>\n",
       "</thead>\n",
       "<tbody>\n",
       "\t<tr><td>Trains  </td><td>842</td><td>7</td><td>4.3</td><td>130.00</td><td> 943</td><td>9679</td><td>216.43</td><td>762.15</td><td>0</td><td>0</td></tr>\n",
       "\t<tr><td>Trains  </td><td>914</td><td>3</td><td>4.4</td><td>140.00</td><td>2312</td><td>9617</td><td>243.55</td><td>589.41</td><td>0</td><td>0</td></tr>\n",
       "\t<tr><td>Castle  </td><td> 59</td><td>2</td><td>3.9</td><td>  6.50</td><td> 943</td><td>9709</td><td> 78.79</td><td>213.75</td><td>0</td><td>0</td></tr>\n",
       "\t<tr><td>Aquazone</td><td> 57</td><td>1</td><td>3.6</td><td>  8.75</td><td> 730</td><td>9861</td><td> 11.79</td><td> 20.00</td><td>1</td><td>0</td></tr>\n",
       "\t<tr><td>Aquazone</td><td> 96</td><td>1</td><td>3.8</td><td> 12.00</td><td>1004</td><td>9770</td><td> 17.05</td><td> 94.67</td><td>1</td><td>0</td></tr>\n",
       "\t<tr><td>Aquazone</td><td>258</td><td>2</td><td>4.4</td><td> 50.00</td><td> 548</td><td>9679</td><td>106.77</td><td>400.00</td><td>1</td><td>0</td></tr>\n",
       "</tbody>\n",
       "</table>\n"
      ],
      "text/latex": [
       "A tibble: 6 × 11\n",
       "\\begin{tabular}{lllllllllll}\n",
       " theme\\_name & parts\\_count & minifigures\\_count & rating & retail\\_price & lifecycle\\_duration & days\\_since\\_launch & resale\\_price\\_used & resale\\_price\\_new & is\\_from\\_retired\\_theme & is\\_starwars\\\\\n",
       " <chr> & <dbl> & <dbl> & <dbl> & <dbl> & <dbl> & <dbl> & <dbl> & <dbl> & <dbl> & <dbl>\\\\\n",
       "\\hline\n",
       "\t Trains   & 842 & 7 & 4.3 & 130.00 &  943 & 9679 & 216.43 & 762.15 & 0 & 0\\\\\n",
       "\t Trains   & 914 & 3 & 4.4 & 140.00 & 2312 & 9617 & 243.55 & 589.41 & 0 & 0\\\\\n",
       "\t Castle   &  59 & 2 & 3.9 &   6.50 &  943 & 9709 &  78.79 & 213.75 & 0 & 0\\\\\n",
       "\t Aquazone &  57 & 1 & 3.6 &   8.75 &  730 & 9861 &  11.79 &  20.00 & 1 & 0\\\\\n",
       "\t Aquazone &  96 & 1 & 3.8 &  12.00 & 1004 & 9770 &  17.05 &  94.67 & 1 & 0\\\\\n",
       "\t Aquazone & 258 & 2 & 4.4 &  50.00 &  548 & 9679 & 106.77 & 400.00 & 1 & 0\\\\\n",
       "\\end{tabular}\n"
      ],
      "text/markdown": [
       "\n",
       "A tibble: 6 × 11\n",
       "\n",
       "| theme_name &lt;chr&gt; | parts_count &lt;dbl&gt; | minifigures_count &lt;dbl&gt; | rating &lt;dbl&gt; | retail_price &lt;dbl&gt; | lifecycle_duration &lt;dbl&gt; | days_since_launch &lt;dbl&gt; | resale_price_used &lt;dbl&gt; | resale_price_new &lt;dbl&gt; | is_from_retired_theme &lt;dbl&gt; | is_starwars &lt;dbl&gt; |\n",
       "|---|---|---|---|---|---|---|---|---|---|---|\n",
       "| Trains   | 842 | 7 | 4.3 | 130.00 |  943 | 9679 | 216.43 | 762.15 | 0 | 0 |\n",
       "| Trains   | 914 | 3 | 4.4 | 140.00 | 2312 | 9617 | 243.55 | 589.41 | 0 | 0 |\n",
       "| Castle   |  59 | 2 | 3.9 |   6.50 |  943 | 9709 |  78.79 | 213.75 | 0 | 0 |\n",
       "| Aquazone |  57 | 1 | 3.6 |   8.75 |  730 | 9861 |  11.79 |  20.00 | 1 | 0 |\n",
       "| Aquazone |  96 | 1 | 3.8 |  12.00 | 1004 | 9770 |  17.05 |  94.67 | 1 | 0 |\n",
       "| Aquazone | 258 | 2 | 4.4 |  50.00 |  548 | 9679 | 106.77 | 400.00 | 1 | 0 |\n",
       "\n"
      ],
      "text/plain": [
       "  theme_name parts_count minifigures_count rating retail_price\n",
       "1 Trains     842         7                 4.3    130.00      \n",
       "2 Trains     914         3                 4.4    140.00      \n",
       "3 Castle      59         2                 3.9      6.50      \n",
       "4 Aquazone    57         1                 3.6      8.75      \n",
       "5 Aquazone    96         1                 3.8     12.00      \n",
       "6 Aquazone   258         2                 4.4     50.00      \n",
       "  lifecycle_duration days_since_launch resale_price_used resale_price_new\n",
       "1  943               9679              216.43            762.15          \n",
       "2 2312               9617              243.55            589.41          \n",
       "3  943               9709               78.79            213.75          \n",
       "4  730               9861               11.79             20.00          \n",
       "5 1004               9770               17.05             94.67          \n",
       "6  548               9679              106.77            400.00          \n",
       "  is_from_retired_theme is_starwars\n",
       "1 0                     0          \n",
       "2 0                     0          \n",
       "3 0                     0          \n",
       "4 1                     0          \n",
       "5 1                     0          \n",
       "6 1                     0          "
      ]
     },
     "metadata": {},
     "output_type": "display_data"
    }
   ],
   "source": [
    "# Create a variable to denote whether the set from Star Wars\n",
    "theme_data$is_starwars <- \n",
    "  ifelse(theme_data$theme_name == \"Star Wars\", 1, 0)\n",
    "\n",
    "head(theme_data)"
   ]
  },
  {
   "cell_type": "code",
   "execution_count": 10,
   "id": "a150be47",
   "metadata": {},
   "outputs": [
    {
     "data": {
      "text/html": [
       "<style>\n",
       ".list-inline {list-style: none; margin:0; padding: 0}\n",
       ".list-inline>li {display: inline-block}\n",
       ".list-inline>li:not(:last-child)::after {content: \"\\00b7\"; padding: 0 .5ex}\n",
       "</style>\n",
       "<ol class=list-inline><li>'Trains'</li><li>'Castle'</li><li>'Aquazone'</li><li>'Pirates'</li><li>'Time Cruisers'</li><li>'Western'</li><li>'Adventurers'</li><li>'Rock Raiders'</li><li>'Star Wars'</li><li>'Studios'</li><li>'Spider-Man'</li><li>'Discovery'</li><li>'Vikings'</li><li>'Dino Attack'</li><li>'Bionicle'</li><li>'SpongeBob SquarePants'</li><li>'Avatar: The Last Airbender'</li><li>'Exo-Force'</li><li>'Batman'</li><li>'Indiana Jones'</li><li>'Pirates of the Caribbean'</li><li>'Monster Fighters'</li><li>'The Lord of the Rings'</li><li>'The Hobbit'</li><li>'The Simpsons'</li><li>'Scooby-Doo'</li><li>'Stranger Things'</li><li>'Icons'</li></ol>\n"
      ],
      "text/latex": [
       "\\begin{enumerate*}\n",
       "\\item 'Trains'\n",
       "\\item 'Castle'\n",
       "\\item 'Aquazone'\n",
       "\\item 'Pirates'\n",
       "\\item 'Time Cruisers'\n",
       "\\item 'Western'\n",
       "\\item 'Adventurers'\n",
       "\\item 'Rock Raiders'\n",
       "\\item 'Star Wars'\n",
       "\\item 'Studios'\n",
       "\\item 'Spider-Man'\n",
       "\\item 'Discovery'\n",
       "\\item 'Vikings'\n",
       "\\item 'Dino Attack'\n",
       "\\item 'Bionicle'\n",
       "\\item 'SpongeBob SquarePants'\n",
       "\\item 'Avatar: The Last Airbender'\n",
       "\\item 'Exo-Force'\n",
       "\\item 'Batman'\n",
       "\\item 'Indiana Jones'\n",
       "\\item 'Pirates of the Caribbean'\n",
       "\\item 'Monster Fighters'\n",
       "\\item 'The Lord of the Rings'\n",
       "\\item 'The Hobbit'\n",
       "\\item 'The Simpsons'\n",
       "\\item 'Scooby-Doo'\n",
       "\\item 'Stranger Things'\n",
       "\\item 'Icons'\n",
       "\\end{enumerate*}\n"
      ],
      "text/markdown": [
       "1. 'Trains'\n",
       "2. 'Castle'\n",
       "3. 'Aquazone'\n",
       "4. 'Pirates'\n",
       "5. 'Time Cruisers'\n",
       "6. 'Western'\n",
       "7. 'Adventurers'\n",
       "8. 'Rock Raiders'\n",
       "9. 'Star Wars'\n",
       "10. 'Studios'\n",
       "11. 'Spider-Man'\n",
       "12. 'Discovery'\n",
       "13. 'Vikings'\n",
       "14. 'Dino Attack'\n",
       "15. 'Bionicle'\n",
       "16. 'SpongeBob SquarePants'\n",
       "17. 'Avatar: The Last Airbender'\n",
       "18. 'Exo-Force'\n",
       "19. 'Batman'\n",
       "20. 'Indiana Jones'\n",
       "21. 'Pirates of the Caribbean'\n",
       "22. 'Monster Fighters'\n",
       "23. 'The Lord of the Rings'\n",
       "24. 'The Hobbit'\n",
       "25. 'The Simpsons'\n",
       "26. 'Scooby-Doo'\n",
       "27. 'Stranger Things'\n",
       "28. 'Icons'\n",
       "\n",
       "\n"
      ],
      "text/plain": [
       " [1] \"Trains\"                     \"Castle\"                    \n",
       " [3] \"Aquazone\"                   \"Pirates\"                   \n",
       " [5] \"Time Cruisers\"              \"Western\"                   \n",
       " [7] \"Adventurers\"                \"Rock Raiders\"              \n",
       " [9] \"Star Wars\"                  \"Studios\"                   \n",
       "[11] \"Spider-Man\"                 \"Discovery\"                 \n",
       "[13] \"Vikings\"                    \"Dino Attack\"               \n",
       "[15] \"Bionicle\"                   \"SpongeBob SquarePants\"     \n",
       "[17] \"Avatar: The Last Airbender\" \"Exo-Force\"                 \n",
       "[19] \"Batman\"                     \"Indiana Jones\"             \n",
       "[21] \"Pirates of the Caribbean\"   \"Monster Fighters\"          \n",
       "[23] \"The Lord of the Rings\"      \"The Hobbit\"                \n",
       "[25] \"The Simpsons\"               \"Scooby-Doo\"                \n",
       "[27] \"Stranger Things\"            \"Icons\"                     "
      ]
     },
     "metadata": {},
     "output_type": "display_data"
    }
   ],
   "source": [
    "# Check unique theme name\n",
    "unique(theme_data$theme_name)"
   ]
  },
  {
   "cell_type": "code",
   "execution_count": 11,
   "id": "1e440356",
   "metadata": {},
   "outputs": [],
   "source": [
    "# Filtered out no rating value\n",
    "theme_data <-\n",
    "  theme_data %>%\n",
    "  filter(rating != 0) %>%\n",
    "  select(-theme_name)"
   ]
  },
  {
   "cell_type": "code",
   "execution_count": 12,
   "id": "c86cb65d",
   "metadata": {},
   "outputs": [
    {
     "data": {
      "text/plain": [
       "  parts_count     minifigures_count     rating       retail_price   \n",
       " Min.   :  12.0   Min.   : 1.000    Min.   :2.900   Min.   :  2.00  \n",
       " 1st Qu.: 110.0   1st Qu.: 2.000    1st Qu.:3.800   1st Qu.: 14.99  \n",
       " Median : 266.5   Median : 4.000    Median :4.000   Median : 29.99  \n",
       " Mean   : 415.2   Mean   : 3.924    Mean   :3.986   Mean   : 46.57  \n",
       " 3rd Qu.: 510.2   3rd Qu.: 5.000    3rd Qu.:4.200   3rd Qu.: 53.74  \n",
       " Max.   :5197.0   Max.   :24.000    Max.   :4.700   Max.   :699.99  \n",
       " lifecycle_duration days_since_launch resale_price_used resale_price_new \n",
       " Min.   :  30.0     Min.   : 121      Min.   :  4.01    Min.   :   9.65  \n",
       " 1st Qu.: 365.0     1st Qu.:2921      1st Qu.: 27.50    1st Qu.:  52.27  \n",
       " Median : 578.0     Median :4747      Median : 56.63    Median : 115.95  \n",
       " Mean   : 570.2     Mean   :4903      Mean   : 96.30    Mean   : 194.55  \n",
       " 3rd Qu.: 729.0     3rd Qu.:6757      3rd Qu.:117.56    3rd Qu.: 235.37  \n",
       " Max.   :2677.0     Max.   :9861      Max.   :925.00    Max.   :9000.00  \n",
       " is_from_retired_theme  is_starwars    \n",
       " Min.   :0.0000        Min.   :0.0000  \n",
       " 1st Qu.:0.0000        1st Qu.:0.0000  \n",
       " Median :0.0000        Median :1.0000  \n",
       " Mean   :0.2717        Mean   :0.5656  \n",
       " 3rd Qu.:1.0000        3rd Qu.:1.0000  \n",
       " Max.   :1.0000        Max.   :1.0000  "
      ]
     },
     "metadata": {},
     "output_type": "display_data"
    },
    {
     "name": "stdout",
     "output_type": "stream",
     "text": [
      "Rows: 762\n",
      "Columns: 10\n",
      "$ parts_count           \u001b[3m\u001b[90m<dbl>\u001b[39m\u001b[23m 842, 914, 59, 57, 96, 258, 71, 58, 152, 237, 28,…\n",
      "$ minifigures_count     \u001b[3m\u001b[90m<dbl>\u001b[39m\u001b[23m 7, 3, 2, 1, 1, 2, 1, 1, 2, 2, 2, 1, 4, 10, 1, 1,…\n",
      "$ rating                \u001b[3m\u001b[90m<dbl>\u001b[39m\u001b[23m 4.3, 4.4, 3.9, 3.6, 3.8, 4.4, 3.5, 3.3, 3.8, 3.9…\n",
      "$ retail_price          \u001b[3m\u001b[90m<dbl>\u001b[39m\u001b[23m 130.00, 140.00, 6.50, 8.75, 12.00, 50.00, 8.75, …\n",
      "$ lifecycle_duration    \u001b[3m\u001b[90m<dbl>\u001b[39m\u001b[23m 943, 2312, 943, 730, 1004, 548, 274, 913, 913, 9…\n",
      "$ days_since_launch     \u001b[3m\u001b[90m<dbl>\u001b[39m\u001b[23m 9679, 9617, 9709, 9861, 9770, 9679, 9770, 9679, …\n",
      "$ resale_price_used     \u001b[3m\u001b[90m<dbl>\u001b[39m\u001b[23m 216.43, 243.55, 78.79, 11.79, 17.05, 106.77, 45.…\n",
      "$ resale_price_new      \u001b[3m\u001b[90m<dbl>\u001b[39m\u001b[23m 762.15, 589.41, 213.75, 20.00, 94.67, 400.00, 16…\n",
      "$ is_from_retired_theme \u001b[3m\u001b[90m<dbl>\u001b[39m\u001b[23m 0, 0, 0, 1, 1, 1, 0, 1, 1, 1, 1, 1, 1, 1, 1, 1, …\n",
      "$ is_starwars           \u001b[3m\u001b[90m<dbl>\u001b[39m\u001b[23m 0, 0, 0, 0, 0, 0, 0, 0, 0, 0, 0, 0, 0, 0, 0, 0, …\n"
     ]
    }
   ],
   "source": [
    "# Check the dataset\n",
    "theme_data %>%\n",
    "  summary()\n",
    "\n",
    "theme_data %>%\n",
    "  glimpse()"
   ]
  },
  {
   "cell_type": "code",
   "execution_count": 13,
   "id": "b60e40cc",
   "metadata": {},
   "outputs": [],
   "source": [
    "# Save the dataset\n",
    "write.csv(theme_data, file = \"theme_data_model.csv\", row.names = FALSE)"
   ]
  },
  {
   "cell_type": "markdown",
   "id": "bfcd55f0",
   "metadata": {},
   "source": [
    "### Create Function for Building Random Forest Model"
   ]
  },
  {
   "cell_type": "code",
   "execution_count": 14,
   "id": "befecdff",
   "metadata": {},
   "outputs": [],
   "source": [
    "# Filter out variable not interested\n",
    "theme_data <-\n",
    "  theme_data %>%\n",
    "  select(-resale_price_used)"
   ]
  },
  {
   "cell_type": "code",
   "execution_count": 15,
   "id": "01d0aaf6",
   "metadata": {},
   "outputs": [
    {
     "name": "stdout",
     "output_type": "stream",
     "text": [
      "Rows: 762\n",
      "Columns: 9\n",
      "$ parts_count           \u001b[3m\u001b[90m<dbl>\u001b[39m\u001b[23m 842, 914, 59, 57, 96, 258, 71, 58, 152, 237, 28,…\n",
      "$ minifigures_count     \u001b[3m\u001b[90m<dbl>\u001b[39m\u001b[23m 7, 3, 2, 1, 1, 2, 1, 1, 2, 2, 2, 1, 4, 10, 1, 1,…\n",
      "$ rating                \u001b[3m\u001b[90m<dbl>\u001b[39m\u001b[23m 4.3, 4.4, 3.9, 3.6, 3.8, 4.4, 3.5, 3.3, 3.8, 3.9…\n",
      "$ retail_price          \u001b[3m\u001b[90m<dbl>\u001b[39m\u001b[23m 130.00, 140.00, 6.50, 8.75, 12.00, 50.00, 8.75, …\n",
      "$ lifecycle_duration    \u001b[3m\u001b[90m<dbl>\u001b[39m\u001b[23m 943, 2312, 943, 730, 1004, 548, 274, 913, 913, 9…\n",
      "$ days_since_launch     \u001b[3m\u001b[90m<dbl>\u001b[39m\u001b[23m 9679, 9617, 9709, 9861, 9770, 9679, 9770, 9679, …\n",
      "$ resale_price_new      \u001b[3m\u001b[90m<dbl>\u001b[39m\u001b[23m 762.15, 589.41, 213.75, 20.00, 94.67, 400.00, 16…\n",
      "$ is_from_retired_theme \u001b[3m\u001b[90m<dbl>\u001b[39m\u001b[23m 0, 0, 0, 1, 1, 1, 0, 1, 1, 1, 1, 1, 1, 1, 1, 1, …\n",
      "$ is_starwars           \u001b[3m\u001b[90m<dbl>\u001b[39m\u001b[23m 0, 0, 0, 0, 0, 0, 0, 0, 0, 0, 0, 0, 0, 0, 0, 0, …\n"
     ]
    }
   ],
   "source": [
    "# Check dataset\n",
    "theme_data %>%\n",
    "  glimpse()"
   ]
  },
  {
   "cell_type": "code",
   "execution_count": 16,
   "id": "1af7fced",
   "metadata": {},
   "outputs": [
    {
     "data": {
      "text/html": [
       "609"
      ],
      "text/latex": [
       "609"
      ],
      "text/markdown": [
       "609"
      ],
      "text/plain": [
       "[1] 609"
      ]
     },
     "metadata": {},
     "output_type": "display_data"
    },
    {
     "data": {
      "text/html": [
       "153"
      ],
      "text/latex": [
       "153"
      ],
      "text/markdown": [
       "153"
      ],
      "text/plain": [
       "[1] 153"
      ]
     },
     "metadata": {},
     "output_type": "display_data"
    }
   ],
   "source": [
    "# Set categorical variables \"is_starwars\" and \"is_from_retired_theme\" as factors\n",
    "theme_data$is_starwars <- as.factor(theme_data$is_starwars)\n",
    "theme_data$is_from_retired_theme <- as.factor(theme_data$is_from_retired_theme)\n",
    "\n",
    "# Set random seed\n",
    "set.seed(123)\n",
    "rows <- nrow(theme_data)\n",
    "shuffled_indices <- sample(1:rows, rows)\n",
    "train_size <- floor(0.8 * rows)                      \n",
    "train_indices <- shuffled_indices[1:train_size]         # 80% as train data\n",
    "test_indices <- shuffled_indices[(train_size + 1):rows] # 20% as test data\n",
    "\n",
    "train_data <- theme_data[train_indices, ]\n",
    "test_data <- theme_data[test_indices, ]\n",
    "\n",
    "# Check data\n",
    "nrow(train_data)\n",
    "nrow(test_data)"
   ]
  },
  {
   "cell_type": "code",
   "execution_count": 17,
   "id": "3b77c3f7",
   "metadata": {},
   "outputs": [],
   "source": [
    "# Create a function to train the Random Forest model using different parameters\n",
    "evaluate_rf_model <- function(data, outcome_var_name, folds = 10) {\n",
    "    \n",
    "  # The varied parametersin the model\n",
    "  ntree_values <- c(100, 200, 300, 400, 500)\n",
    "  mtry_values <- 1:8\n",
    "  \n",
    "  # Create a dataset to save the results\n",
    "  results <- expand.grid(ntree = integer(), mtry = integer(), RMSE = double(), Rsquared = double(), stringsAsFactors = FALSE)\n",
    "  \n",
    "  # Iterate through each parameter combination\n",
    "  for (ntree in ntree_values) {\n",
    "    for (mtry in mtry_values) {\n",
    "        \n",
    "      # Use k-fold cross validation, k is 10\n",
    "      train_control <- trainControl(method = \"cv\", number = folds, search = \"grid\", savePredictions = \"final\")\n",
    "      \n",
    "      # train the random forest model\n",
    "      model <- train(reformulate(\".\", outcome_var_name), data = data,\n",
    "                     method = \"rf\",\n",
    "                     trControl = train_control,\n",
    "                     tuneGrid = data.frame(mtry = mtry),\n",
    "                     ntree = ntree,\n",
    "                     metric = \"RMSE\")\n",
    "      \n",
    "      # Calculate RMSE\n",
    "      rmse_val <- rmse(model$pred$obs, model$pred$pred)\n",
    "      \n",
    "      # Calculate R-square\n",
    "      rsq_val <- R2(model$pred$obs, model$pred$pred)\n",
    "      \n",
    "      # Save the results\n",
    "      results <- rbind(results, data.frame(ntree = ntree, mtry = mtry, RMSE = rmse_val, Rsquared = rsq_val))\n",
    "    }\n",
    "  }\n",
    "  \n",
    "  return(results)\n",
    "}"
   ]
  },
  {
   "cell_type": "code",
   "execution_count": 18,
   "id": "0a5218e2",
   "metadata": {},
   "outputs": [
    {
     "data": {
      "text/html": [
       "<table class=\"dataframe\">\n",
       "<caption>A data.frame: 40 × 4</caption>\n",
       "<thead>\n",
       "\t<tr><th scope=col>ntree</th><th scope=col>mtry</th><th scope=col>RMSE</th><th scope=col>Rsquared</th></tr>\n",
       "\t<tr><th scope=col>&lt;dbl&gt;</th><th scope=col>&lt;int&gt;</th><th scope=col>&lt;dbl&gt;</th><th scope=col>&lt;dbl&gt;</th></tr>\n",
       "</thead>\n",
       "<tbody>\n",
       "\t<tr><td>100</td><td>1</td><td>149.3676</td><td>0.5853054</td></tr>\n",
       "\t<tr><td>100</td><td>2</td><td>136.9589</td><td>0.6211771</td></tr>\n",
       "\t<tr><td>100</td><td>3</td><td>134.8943</td><td>0.6307411</td></tr>\n",
       "\t<tr><td>100</td><td>4</td><td>133.5781</td><td>0.6365126</td></tr>\n",
       "\t<tr><td>100</td><td>5</td><td>130.1339</td><td>0.6553417</td></tr>\n",
       "\t<tr><td>100</td><td>6</td><td>131.6826</td><td>0.6463042</td></tr>\n",
       "\t<tr><td>100</td><td>7</td><td>134.3378</td><td>0.6316345</td></tr>\n",
       "\t<tr><td>100</td><td>8</td><td>130.6495</td><td>0.6518446</td></tr>\n",
       "\t<tr><td>200</td><td>1</td><td>146.8371</td><td>0.6084579</td></tr>\n",
       "\t<tr><td>200</td><td>2</td><td>135.6698</td><td>0.6303621</td></tr>\n",
       "\t<tr><td>200</td><td>3</td><td>133.6978</td><td>0.6380746</td></tr>\n",
       "\t<tr><td>200</td><td>4</td><td>134.4373</td><td>0.6320845</td></tr>\n",
       "\t<tr><td>200</td><td>5</td><td>133.9571</td><td>0.6340447</td></tr>\n",
       "\t<tr><td>200</td><td>6</td><td>134.7264</td><td>0.6296799</td></tr>\n",
       "\t<tr><td>200</td><td>7</td><td>134.6772</td><td>0.6316501</td></tr>\n",
       "\t<tr><td>200</td><td>8</td><td>135.3186</td><td>0.6262508</td></tr>\n",
       "\t<tr><td>300</td><td>1</td><td>150.0103</td><td>0.5945964</td></tr>\n",
       "\t<tr><td>300</td><td>2</td><td>135.4954</td><td>0.6335884</td></tr>\n",
       "\t<tr><td>300</td><td>3</td><td>133.7859</td><td>0.6375452</td></tr>\n",
       "\t<tr><td>300</td><td>4</td><td>131.8855</td><td>0.6472458</td></tr>\n",
       "\t<tr><td>300</td><td>5</td><td>134.2515</td><td>0.6323725</td></tr>\n",
       "\t<tr><td>300</td><td>6</td><td>134.6311</td><td>0.6305161</td></tr>\n",
       "\t<tr><td>300</td><td>7</td><td>134.1210</td><td>0.6328742</td></tr>\n",
       "\t<tr><td>300</td><td>8</td><td>130.9604</td><td>0.6504199</td></tr>\n",
       "\t<tr><td>400</td><td>1</td><td>149.6629</td><td>0.5859302</td></tr>\n",
       "\t<tr><td>400</td><td>2</td><td>135.8045</td><td>0.6324797</td></tr>\n",
       "\t<tr><td>400</td><td>3</td><td>134.1797</td><td>0.6360558</td></tr>\n",
       "\t<tr><td>400</td><td>4</td><td>132.2027</td><td>0.6448076</td></tr>\n",
       "\t<tr><td>400</td><td>5</td><td>132.0290</td><td>0.6455875</td></tr>\n",
       "\t<tr><td>400</td><td>6</td><td>134.6324</td><td>0.6305842</td></tr>\n",
       "\t<tr><td>400</td><td>7</td><td>131.7781</td><td>0.6466632</td></tr>\n",
       "\t<tr><td>400</td><td>8</td><td>133.1503</td><td>0.6382301</td></tr>\n",
       "\t<tr><td>500</td><td>1</td><td>146.7012</td><td>0.6129141</td></tr>\n",
       "\t<tr><td>500</td><td>2</td><td>133.9624</td><td>0.6412644</td></tr>\n",
       "\t<tr><td>500</td><td>3</td><td>135.1683</td><td>0.6289626</td></tr>\n",
       "\t<tr><td>500</td><td>4</td><td>139.7015</td><td>0.6022637</td></tr>\n",
       "\t<tr><td>500</td><td>5</td><td>136.2688</td><td>0.6212499</td></tr>\n",
       "\t<tr><td>500</td><td>6</td><td>131.9887</td><td>0.6452727</td></tr>\n",
       "\t<tr><td>500</td><td>7</td><td>133.0486</td><td>0.6389810</td></tr>\n",
       "\t<tr><td>500</td><td>8</td><td>135.5681</td><td>0.6249170</td></tr>\n",
       "</tbody>\n",
       "</table>\n"
      ],
      "text/latex": [
       "A data.frame: 40 × 4\n",
       "\\begin{tabular}{llll}\n",
       " ntree & mtry & RMSE & Rsquared\\\\\n",
       " <dbl> & <int> & <dbl> & <dbl>\\\\\n",
       "\\hline\n",
       "\t 100 & 1 & 149.3676 & 0.5853054\\\\\n",
       "\t 100 & 2 & 136.9589 & 0.6211771\\\\\n",
       "\t 100 & 3 & 134.8943 & 0.6307411\\\\\n",
       "\t 100 & 4 & 133.5781 & 0.6365126\\\\\n",
       "\t 100 & 5 & 130.1339 & 0.6553417\\\\\n",
       "\t 100 & 6 & 131.6826 & 0.6463042\\\\\n",
       "\t 100 & 7 & 134.3378 & 0.6316345\\\\\n",
       "\t 100 & 8 & 130.6495 & 0.6518446\\\\\n",
       "\t 200 & 1 & 146.8371 & 0.6084579\\\\\n",
       "\t 200 & 2 & 135.6698 & 0.6303621\\\\\n",
       "\t 200 & 3 & 133.6978 & 0.6380746\\\\\n",
       "\t 200 & 4 & 134.4373 & 0.6320845\\\\\n",
       "\t 200 & 5 & 133.9571 & 0.6340447\\\\\n",
       "\t 200 & 6 & 134.7264 & 0.6296799\\\\\n",
       "\t 200 & 7 & 134.6772 & 0.6316501\\\\\n",
       "\t 200 & 8 & 135.3186 & 0.6262508\\\\\n",
       "\t 300 & 1 & 150.0103 & 0.5945964\\\\\n",
       "\t 300 & 2 & 135.4954 & 0.6335884\\\\\n",
       "\t 300 & 3 & 133.7859 & 0.6375452\\\\\n",
       "\t 300 & 4 & 131.8855 & 0.6472458\\\\\n",
       "\t 300 & 5 & 134.2515 & 0.6323725\\\\\n",
       "\t 300 & 6 & 134.6311 & 0.6305161\\\\\n",
       "\t 300 & 7 & 134.1210 & 0.6328742\\\\\n",
       "\t 300 & 8 & 130.9604 & 0.6504199\\\\\n",
       "\t 400 & 1 & 149.6629 & 0.5859302\\\\\n",
       "\t 400 & 2 & 135.8045 & 0.6324797\\\\\n",
       "\t 400 & 3 & 134.1797 & 0.6360558\\\\\n",
       "\t 400 & 4 & 132.2027 & 0.6448076\\\\\n",
       "\t 400 & 5 & 132.0290 & 0.6455875\\\\\n",
       "\t 400 & 6 & 134.6324 & 0.6305842\\\\\n",
       "\t 400 & 7 & 131.7781 & 0.6466632\\\\\n",
       "\t 400 & 8 & 133.1503 & 0.6382301\\\\\n",
       "\t 500 & 1 & 146.7012 & 0.6129141\\\\\n",
       "\t 500 & 2 & 133.9624 & 0.6412644\\\\\n",
       "\t 500 & 3 & 135.1683 & 0.6289626\\\\\n",
       "\t 500 & 4 & 139.7015 & 0.6022637\\\\\n",
       "\t 500 & 5 & 136.2688 & 0.6212499\\\\\n",
       "\t 500 & 6 & 131.9887 & 0.6452727\\\\\n",
       "\t 500 & 7 & 133.0486 & 0.6389810\\\\\n",
       "\t 500 & 8 & 135.5681 & 0.6249170\\\\\n",
       "\\end{tabular}\n"
      ],
      "text/markdown": [
       "\n",
       "A data.frame: 40 × 4\n",
       "\n",
       "| ntree &lt;dbl&gt; | mtry &lt;int&gt; | RMSE &lt;dbl&gt; | Rsquared &lt;dbl&gt; |\n",
       "|---|---|---|---|\n",
       "| 100 | 1 | 149.3676 | 0.5853054 |\n",
       "| 100 | 2 | 136.9589 | 0.6211771 |\n",
       "| 100 | 3 | 134.8943 | 0.6307411 |\n",
       "| 100 | 4 | 133.5781 | 0.6365126 |\n",
       "| 100 | 5 | 130.1339 | 0.6553417 |\n",
       "| 100 | 6 | 131.6826 | 0.6463042 |\n",
       "| 100 | 7 | 134.3378 | 0.6316345 |\n",
       "| 100 | 8 | 130.6495 | 0.6518446 |\n",
       "| 200 | 1 | 146.8371 | 0.6084579 |\n",
       "| 200 | 2 | 135.6698 | 0.6303621 |\n",
       "| 200 | 3 | 133.6978 | 0.6380746 |\n",
       "| 200 | 4 | 134.4373 | 0.6320845 |\n",
       "| 200 | 5 | 133.9571 | 0.6340447 |\n",
       "| 200 | 6 | 134.7264 | 0.6296799 |\n",
       "| 200 | 7 | 134.6772 | 0.6316501 |\n",
       "| 200 | 8 | 135.3186 | 0.6262508 |\n",
       "| 300 | 1 | 150.0103 | 0.5945964 |\n",
       "| 300 | 2 | 135.4954 | 0.6335884 |\n",
       "| 300 | 3 | 133.7859 | 0.6375452 |\n",
       "| 300 | 4 | 131.8855 | 0.6472458 |\n",
       "| 300 | 5 | 134.2515 | 0.6323725 |\n",
       "| 300 | 6 | 134.6311 | 0.6305161 |\n",
       "| 300 | 7 | 134.1210 | 0.6328742 |\n",
       "| 300 | 8 | 130.9604 | 0.6504199 |\n",
       "| 400 | 1 | 149.6629 | 0.5859302 |\n",
       "| 400 | 2 | 135.8045 | 0.6324797 |\n",
       "| 400 | 3 | 134.1797 | 0.6360558 |\n",
       "| 400 | 4 | 132.2027 | 0.6448076 |\n",
       "| 400 | 5 | 132.0290 | 0.6455875 |\n",
       "| 400 | 6 | 134.6324 | 0.6305842 |\n",
       "| 400 | 7 | 131.7781 | 0.6466632 |\n",
       "| 400 | 8 | 133.1503 | 0.6382301 |\n",
       "| 500 | 1 | 146.7012 | 0.6129141 |\n",
       "| 500 | 2 | 133.9624 | 0.6412644 |\n",
       "| 500 | 3 | 135.1683 | 0.6289626 |\n",
       "| 500 | 4 | 139.7015 | 0.6022637 |\n",
       "| 500 | 5 | 136.2688 | 0.6212499 |\n",
       "| 500 | 6 | 131.9887 | 0.6452727 |\n",
       "| 500 | 7 | 133.0486 | 0.6389810 |\n",
       "| 500 | 8 | 135.5681 | 0.6249170 |\n",
       "\n"
      ],
      "text/plain": [
       "   ntree mtry RMSE     Rsquared \n",
       "1  100   1    149.3676 0.5853054\n",
       "2  100   2    136.9589 0.6211771\n",
       "3  100   3    134.8943 0.6307411\n",
       "4  100   4    133.5781 0.6365126\n",
       "5  100   5    130.1339 0.6553417\n",
       "6  100   6    131.6826 0.6463042\n",
       "7  100   7    134.3378 0.6316345\n",
       "8  100   8    130.6495 0.6518446\n",
       "9  200   1    146.8371 0.6084579\n",
       "10 200   2    135.6698 0.6303621\n",
       "11 200   3    133.6978 0.6380746\n",
       "12 200   4    134.4373 0.6320845\n",
       "13 200   5    133.9571 0.6340447\n",
       "14 200   6    134.7264 0.6296799\n",
       "15 200   7    134.6772 0.6316501\n",
       "16 200   8    135.3186 0.6262508\n",
       "17 300   1    150.0103 0.5945964\n",
       "18 300   2    135.4954 0.6335884\n",
       "19 300   3    133.7859 0.6375452\n",
       "20 300   4    131.8855 0.6472458\n",
       "21 300   5    134.2515 0.6323725\n",
       "22 300   6    134.6311 0.6305161\n",
       "23 300   7    134.1210 0.6328742\n",
       "24 300   8    130.9604 0.6504199\n",
       "25 400   1    149.6629 0.5859302\n",
       "26 400   2    135.8045 0.6324797\n",
       "27 400   3    134.1797 0.6360558\n",
       "28 400   4    132.2027 0.6448076\n",
       "29 400   5    132.0290 0.6455875\n",
       "30 400   6    134.6324 0.6305842\n",
       "31 400   7    131.7781 0.6466632\n",
       "32 400   8    133.1503 0.6382301\n",
       "33 500   1    146.7012 0.6129141\n",
       "34 500   2    133.9624 0.6412644\n",
       "35 500   3    135.1683 0.6289626\n",
       "36 500   4    139.7015 0.6022637\n",
       "37 500   5    136.2688 0.6212499\n",
       "38 500   6    131.9887 0.6452727\n",
       "39 500   7    133.0486 0.6389810\n",
       "40 500   8    135.5681 0.6249170"
      ]
     },
     "metadata": {},
     "output_type": "display_data"
    }
   ],
   "source": [
    "# Call the function to train a Random Forest model\n",
    "first_result <- \n",
    "  evaluate_rf_model(train_data, \"resale_price_new\")\n",
    "\n",
    "first_result"
   ]
  },
  {
   "cell_type": "code",
   "execution_count": 19,
   "id": "14d547a7",
   "metadata": {},
   "outputs": [
    {
     "data": {
      "text/html": [
       "<table class=\"dataframe\">\n",
       "<caption>A data.frame: 1 × 4</caption>\n",
       "<thead>\n",
       "\t<tr><th></th><th scope=col>ntree</th><th scope=col>mtry</th><th scope=col>RMSE</th><th scope=col>Rsquared</th></tr>\n",
       "\t<tr><th></th><th scope=col>&lt;dbl&gt;</th><th scope=col>&lt;int&gt;</th><th scope=col>&lt;dbl&gt;</th><th scope=col>&lt;dbl&gt;</th></tr>\n",
       "</thead>\n",
       "<tbody>\n",
       "\t<tr><th scope=row>5</th><td>100</td><td>5</td><td>130.1339</td><td>0.6553417</td></tr>\n",
       "</tbody>\n",
       "</table>\n"
      ],
      "text/latex": [
       "A data.frame: 1 × 4\n",
       "\\begin{tabular}{r|llll}\n",
       "  & ntree & mtry & RMSE & Rsquared\\\\\n",
       "  & <dbl> & <int> & <dbl> & <dbl>\\\\\n",
       "\\hline\n",
       "\t5 & 100 & 5 & 130.1339 & 0.6553417\\\\\n",
       "\\end{tabular}\n"
      ],
      "text/markdown": [
       "\n",
       "A data.frame: 1 × 4\n",
       "\n",
       "| <!--/--> | ntree &lt;dbl&gt; | mtry &lt;int&gt; | RMSE &lt;dbl&gt; | Rsquared &lt;dbl&gt; |\n",
       "|---|---|---|---|---|\n",
       "| 5 | 100 | 5 | 130.1339 | 0.6553417 |\n",
       "\n"
      ],
      "text/plain": [
       "  ntree mtry RMSE     Rsquared \n",
       "5 100   5    130.1339 0.6553417"
      ]
     },
     "metadata": {},
     "output_type": "display_data"
    },
    {
     "data": {
      "text/html": [
       "<table class=\"dataframe\">\n",
       "<caption>A data.frame: 1 × 4</caption>\n",
       "<thead>\n",
       "\t<tr><th></th><th scope=col>ntree</th><th scope=col>mtry</th><th scope=col>RMSE</th><th scope=col>Rsquared</th></tr>\n",
       "\t<tr><th></th><th scope=col>&lt;dbl&gt;</th><th scope=col>&lt;int&gt;</th><th scope=col>&lt;dbl&gt;</th><th scope=col>&lt;dbl&gt;</th></tr>\n",
       "</thead>\n",
       "<tbody>\n",
       "\t<tr><th scope=row>5</th><td>100</td><td>5</td><td>130.1339</td><td>0.6553417</td></tr>\n",
       "</tbody>\n",
       "</table>\n"
      ],
      "text/latex": [
       "A data.frame: 1 × 4\n",
       "\\begin{tabular}{r|llll}\n",
       "  & ntree & mtry & RMSE & Rsquared\\\\\n",
       "  & <dbl> & <int> & <dbl> & <dbl>\\\\\n",
       "\\hline\n",
       "\t5 & 100 & 5 & 130.1339 & 0.6553417\\\\\n",
       "\\end{tabular}\n"
      ],
      "text/markdown": [
       "\n",
       "A data.frame: 1 × 4\n",
       "\n",
       "| <!--/--> | ntree &lt;dbl&gt; | mtry &lt;int&gt; | RMSE &lt;dbl&gt; | Rsquared &lt;dbl&gt; |\n",
       "|---|---|---|---|---|\n",
       "| 5 | 100 | 5 | 130.1339 | 0.6553417 |\n",
       "\n"
      ],
      "text/plain": [
       "  ntree mtry RMSE     Rsquared \n",
       "5 100   5    130.1339 0.6553417"
      ]
     },
     "metadata": {},
     "output_type": "display_data"
    }
   ],
   "source": [
    "# Find the parameter combination with lowset RMSE\n",
    "first_best_rmse <- \n",
    "  first_result[which.min(first_result$RMSE), ]\n",
    "\n",
    "# Find the parameter combination with lowset R-square\n",
    "first_best_rsq <- \n",
    "  first_result[which.max(first_result$Rsquared), ]\n",
    "\n",
    "# Print the result\n",
    "first_best_rmse\n",
    "first_best_rsq"
   ]
  },
  {
   "cell_type": "code",
   "execution_count": 20,
   "id": "1cfba0a6",
   "metadata": {},
   "outputs": [
    {
     "name": "stdout",
     "output_type": "stream",
     "text": [
      "[1] \"RMSE on test set is 688.97206344713\"\n",
      "[1] \"R-squared on test set is: 0.13847546505282\"\n"
     ]
    }
   ],
   "source": [
    "set.seed(1234)\n",
    "\n",
    "# Train the model on the training dataset using optimal parameters ntree = 500 and mtry = 3\n",
    "final_model_rf <- \n",
    "  randomForest(resale_price_new ~ ., \n",
    "               data = train_data, \n",
    "               ntree = 100, \n",
    "               mtry = 5)\n",
    "\n",
    "# Use the final model to make predictions on the test dataset\n",
    "test_predictions <- \n",
    "  predict(final_model_rf, test_data)\n",
    "\n",
    "# alculate RMSE and R^2 on the test set\n",
    "test_rmse <- \n",
    "  rmse(test_data$resale_price_new, test_predictions)\n",
    "test_rsq <- \n",
    "  R2(test_predictions, test_data$resale_price_new)\n",
    "\n",
    "# Print the results\n",
    "print(paste(\"RMSE on test set is\", test_rmse))\n",
    "print(paste(\"R-squared on test set is:\", test_rsq))"
   ]
  },
  {
   "cell_type": "markdown",
   "id": "5b7cf980",
   "metadata": {},
   "source": [
    "### The Analysis of Data Distribution"
   ]
  },
  {
   "cell_type": "code",
   "execution_count": 28,
   "id": "ac433110",
   "metadata": {},
   "outputs": [
    {
     "data": {
      "image/png": "[encoded data removed]",
      "text/plain": [
       "plot without title"
      ]
     },
     "metadata": {
      "image/png": {
       "height": 600,
       "width": 840
      }
     },
     "output_type": "display_data"
    }
   ],
   "source": [
    "# Check the distribution of the target variable\n",
    "price_boxplot <-\n",
    "  theme_data %>%\n",
    "  ggplot(aes(y = resale_price_new)) + \n",
    "  geom_boxplot(fill = \"steelblue3\", color = \"darkblue\") +\n",
    "  theme_minimal() + \n",
    "  labs(title = \"The Distribution of Resale Price for new LEGO Sets\", \n",
    "       y = \"Resale Price (USD)\", \n",
    "       x = \"\") +\n",
    "# TO beautify the plot\n",
    "  theme(\n",
    "    axis.title = element_text(size = 25, hjust = 0.5), \n",
    "    axis.text = element_text(size = 24, color = \"black\"), \n",
    "    panel.grid.major = element_blank(), \n",
    "    panel.grid.minor = element_blank(), \n",
    "    panel.grid.major.y = element_line(colour = \"gray\", linetype = \"dashed\"), \n",
    "    panel.grid.minor.y = element_blank(), \n",
    "    axis.ticks = element_line(linewidth = 1), \n",
    "    panel.border = element_rect(colour = \"black\", fill = NA, linewidth = 1), \n",
    "    axis.line = element_line(colour = \"black\", linewidth = 0.5), \n",
    "    plot.title = element_text(hjust = 0.5, size = 25, face = \"bold\")) \n",
    "\n",
    "price_boxplot"
   ]
  },
  {
   "cell_type": "code",
   "execution_count": 29,
   "id": "ae2e52cf",
   "metadata": {},
   "outputs": [],
   "source": [
    "# Save the plot above\n",
    "ggsave(\"price_boxplot.jpg\", plot = price_boxplot, width = 11, height = 8, units = \"in\", dpi = 300)"
   ]
  },
  {
   "cell_type": "code",
   "execution_count": 18,
   "id": "8d9ff1c8",
   "metadata": {},
   "outputs": [],
   "source": [
    "# Filter out the price greater than 9000\n",
    "theme_data_clean <-\n",
    "  theme_data %>%\n",
    "  filter(resale_price_new < 9000)"
   ]
  },
  {
   "cell_type": "code",
   "execution_count": 19,
   "id": "fd9b484a",
   "metadata": {},
   "outputs": [
    {
     "data": {
      "text/plain": [
       "  parts_count     minifigures_count     rating       retail_price   \n",
       " Min.   :  12.0   Min.   : 1.00     Min.   :2.900   Min.   :  2.00  \n",
       " 1st Qu.: 110.0   1st Qu.: 2.00     1st Qu.:3.800   1st Qu.: 14.99  \n",
       " Median : 266.0   Median : 4.00     Median :4.000   Median : 29.99  \n",
       " Mean   : 414.8   Mean   : 3.92     Mean   :3.985   Mean   : 46.50  \n",
       " 3rd Qu.: 508.0   3rd Qu.: 5.00     3rd Qu.:4.200   3rd Qu.: 50.00  \n",
       " Max.   :5197.0   Max.   :24.00     Max.   :4.700   Max.   :699.99  \n",
       " lifecycle_duration days_since_launch resale_price_new  is_from_retired_theme\n",
       " Min.   :  30.0     Min.   : 121      Min.   :   9.65   0:554                \n",
       " 1st Qu.: 365.0     1st Qu.:2921      1st Qu.:  52.26   1:207                \n",
       " Median : 578.0     Median :4747      Median : 115.73                        \n",
       " Mean   : 570.2     Mean   :4901      Mean   : 182.98                        \n",
       " 3rd Qu.: 729.0     3rd Qu.:6757      3rd Qu.: 235.16                        \n",
       " Max.   :2677.0     Max.   :9861      Max.   :2165.01                        \n",
       " is_starwars\n",
       " 0:331      \n",
       " 1:430      \n",
       "            \n",
       "            \n",
       "            \n",
       "            "
      ]
     },
     "metadata": {},
     "output_type": "display_data"
    }
   ],
   "source": [
    "summary(theme_data_clean)"
   ]
  },
  {
   "cell_type": "code",
   "execution_count": 43,
   "id": "7ab24518",
   "metadata": {},
   "outputs": [
    {
     "data": {
      "image/png": "[encoded data removed]",
      "text/plain": [
       "plot without title"
      ]
     },
     "metadata": {
      "image/png": {
       "height": 600,
       "width": 840
      }
     },
     "output_type": "display_data"
    }
   ],
   "source": [
    "# Create histogram for the variable\n",
    "parts_count_plot <- \n",
    "  theme_data_clean %>%\n",
    "  ggplot(aes(x = parts_count)) +\n",
    "  geom_histogram(bins = 20, fill = 'hotpink3', color = 'gray') +\n",
    "  labs(title = \"Number of Parts\",\n",
    "       x = \"Number of Parts\",\n",
    "       y = \"Count\") +\n",
    "  theme_minimal() +\n",
    "  theme(\n",
    "    axis.title = element_text(size =24, hjust = 0.5), \n",
    "    plot.title = element_blank(), \n",
    "    axis.text = element_text(size = 22, color = \"black\"), \n",
    "    panel.grid.major = element_blank(), \n",
    "    panel.grid.minor = element_blank(), \n",
    "    panel.grid.major.y = element_line(colour = \"gray\", linetype = \"dashed\"), \n",
    "    panel.grid.minor.y = element_blank(), \n",
    "    axis.ticks = element_line(linewidth = 1), \n",
    "    panel.border = element_rect(colour = \"black\", fill = NA, linewidth = 1), \n",
    "    axis.line = element_line(colour = \"black\", linewidth = 0.5)) \n",
    "\n",
    "parts_count_plot"
   ]
  },
  {
   "cell_type": "code",
   "execution_count": 44,
   "id": "332216a7",
   "metadata": {},
   "outputs": [
    {
     "data": {
      "image/png": "[encoded data removed]",
      "text/plain": [
       "plot without title"
      ]
     },
     "metadata": {
      "image/png": {
       "height": 600,
       "width": 840
      }
     },
     "output_type": "display_data"
    }
   ],
   "source": [
    "# Create histogram for the variable\n",
    "minifigures_plot <- \n",
    "  theme_data_clean %>%\n",
    "  ggplot(aes(x = minifigures_count)) +\n",
    "  geom_histogram(bins = 20, fill = 'dodgerblue3', color = 'gray') +\n",
    "  labs(\n",
    "       x = \"Number of Minifigures\",\n",
    "       y = \"Count\") +\n",
    "  theme_minimal() +\n",
    "  theme(\n",
    "    axis.title = element_text(size = 24), \n",
    "    axis.title.y = element_blank(), # \n",
    "    axis.text = element_text(size = 22, color = \"black\"), \n",
    "    panel.grid.major = element_blank(), \n",
    "    panel.grid.minor = element_blank(), \n",
    "    panel.grid.major.y = element_line(colour = \"gray\", linetype = \"dashed\"), \n",
    "    panel.grid.minor.y = element_blank(), \n",
    "    axis.ticks = element_line(linewidth = 1), \n",
    "    panel.border = element_rect(colour = \"black\", fill = NA, linewidth = 1),\n",
    "    axis.line = element_line(colour = \"black\", linewidth = 0.5)) \n",
    "\n",
    "minifigures_plot "
   ]
  },
  {
   "cell_type": "code",
   "execution_count": 45,
   "id": "189894a4",
   "metadata": {},
   "outputs": [
    {
     "data": {
      "image/png": "[encoded data removed]",
      "text/plain": [
       "plot without title"
      ]
     },
     "metadata": {
      "image/png": {
       "height": 600,
       "width": 840
      }
     },
     "output_type": "display_data"
    }
   ],
   "source": [
    "# Create histogram for the variable\n",
    "rating_plot <- \n",
    "  theme_data_clean %>%\n",
    "  ggplot(aes(x = rating)) +\n",
    "  geom_histogram(bins = 19, fill = 'darkslategray4', color = 'gray') +\n",
    "  labs(\n",
    "       x = \"Rating\",\n",
    "       y = \"Count\") +\n",
    "  theme_minimal() +\n",
    "  theme(\n",
    "    axis.title.y = element_blank(), \n",
    "    axis.title = element_text(size = 24), \n",
    "    axis.text = element_text(size = 22, color = \"black\"), \n",
    "    panel.grid.major = element_blank(), \n",
    "    panel.grid.minor = element_blank(), \n",
    "    panel.grid.major.y = element_line(colour = \"gray\", linetype = \"dashed\"), \n",
    "    panel.grid.minor.y = element_blank(), \n",
    "    axis.ticks = element_line(linewidth = 1), \n",
    "    panel.border = element_rect(colour = \"black\", fill = NA, linewidth = 1),\n",
    "    axis.line = element_line(colour = \"black\", linewidth = 0.5)) \n",
    "rating_plot"
   ]
  },
  {
   "cell_type": "code",
   "execution_count": 52,
   "id": "3a354d45",
   "metadata": {},
   "outputs": [
    {
     "data": {
      "image/png": "[encoded data removed]",
      "text/plain": [
       "plot without title"
      ]
     },
     "metadata": {
      "image/png": {
       "height": 600,
       "width": 840
      }
     },
     "output_type": "display_data"
    }
   ],
   "source": [
    "# Create histogram for the variable\n",
    "retail_price_plot <- \n",
    "  theme_data_clean %>%\n",
    "  ggplot(aes(x = retail_price)) +\n",
    "  geom_histogram(bins = 20, fill = 'lightsalmon3', color = 'gray') +\n",
    "  labs(\n",
    "       x = \"Retail Price (USD)\",\n",
    "       y = \"Count\") +\n",
    "  theme_minimal() +\n",
    "  theme(\n",
    "    axis.text = element_text(size = 22, color = \"black\"), \n",
    "    axis.title = element_text(size = 24),\n",
    "    panel.grid.major = element_blank(), \n",
    "    panel.grid.minor = element_blank(), \n",
    "    panel.grid.major.y = element_line(colour = \"gray\", linetype = \"dashed\"), \n",
    "    panel.grid.minor.y = element_blank(), \n",
    "    axis.ticks = element_line(linewidth = 1), \n",
    "    panel.border = element_rect(colour = \"black\", fill = NA, linewidth = 1), \n",
    "    axis.line = element_line(colour = \"black\", linewidth = 0.5)) \n",
    "\n",
    "retail_price_plot"
   ]
  },
  {
   "cell_type": "code",
   "execution_count": 47,
   "id": "bc5c2b16",
   "metadata": {},
   "outputs": [
    {
     "data": {
      "image/png": "[encoded data removed]",
      "text/plain": [
       "plot without title"
      ]
     },
     "metadata": {
      "image/png": {
       "height": 600,
       "width": 840
      }
     },
     "output_type": "display_data"
    }
   ],
   "source": [
    "# Create histogram for the variable\n",
    "lifecycle_plot <- \n",
    "  theme_data_clean %>%\n",
    "  ggplot(aes(x = lifecycle_duration)) +\n",
    "  geom_histogram(bins = 20, fill = 'mediumpurple3', color = 'gray') +\n",
    "  labs(\n",
    "       x = \"Lifecycle Duration (Days)\",\n",
    "       y = \"Count\") +\n",
    "  theme_minimal() +\n",
    "  theme(\n",
    "    axis.title.y = element_blank(),\n",
    "    axis.title = element_text(size = 24, color = \"black\"), \n",
    "    axis.text = element_text(size = 22, color = \"black\"), \n",
    "    panel.grid.major = element_blank(), \n",
    "    panel.grid.minor = element_blank(), \n",
    "    panel.grid.major.y = element_line(colour = \"gray\", linetype = \"dashed\"), \n",
    "    panel.grid.minor.y = element_blank(), \n",
    "    axis.ticks = element_line(linewidth = 1), \n",
    "    panel.border = element_rect(colour = \"black\", fill = NA, linewidth = 1), \n",
    "    axis.line = element_line(colour = \"black\", linewidth = 0.5)) \n",
    "lifecycle_plot"
   ]
  },
  {
   "cell_type": "code",
   "execution_count": 48,
   "id": "329c0d66",
   "metadata": {},
   "outputs": [
    {
     "data": {
      "image/png": "[encoded data removed]",
      "text/plain": [
       "plot without title"
      ]
     },
     "metadata": {
      "image/png": {
       "height": 600,
       "width": 840
      }
     },
     "output_type": "display_data"
    }
   ],
   "source": [
    "# Create histogram for the variable\n",
    "days_since_lauch_plot <- \n",
    "  theme_data_clean %>%\n",
    "  ggplot(aes(x = days_since_launch)) +\n",
    "  geom_histogram(bins = 20, fill = 'steelblue3', color = 'gray') +\n",
    "  labs(\n",
    "       x = \" Days Since Launch\",\n",
    "       y = \"Count\") +\n",
    "  theme_minimal() +\n",
    "  theme(\n",
    "    axis.title.y = element_blank(),\n",
    "    axis.text = element_text(size = 22, color = \"black\"), \n",
    "    axis.title = element_text(size = 24, color = \"black\"),\n",
    "    panel.grid.major = element_blank(),\n",
    "    panel.grid.minor = element_blank(), \n",
    "    panel.grid.major.y = element_line(colour = \"gray\", linetype = \"dashed\"), \n",
    "    panel.grid.minor.y = element_blank(), \n",
    "    axis.ticks = element_line(linewidth = 1), \n",
    "    panel.border = element_rect(colour = \"black\", fill = NA, linewidth = 1), \n",
    "    axis.line = element_line(colour = \"black\", linewidth = 0.5)) \n",
    "\n",
    "days_since_lauch_plot"
   ]
  },
  {
   "cell_type": "code",
   "execution_count": 49,
   "id": "81e9ea94",
   "metadata": {},
   "outputs": [
    {
     "data": {
      "image/png": "[encoded data removed]",
      "text/plain": [
       "plot without title"
      ]
     },
     "metadata": {
      "image/png": {
       "height": 600,
       "width": 840
      }
     },
     "output_type": "display_data"
    }
   ],
   "source": [
    "# Create histogram for the variable\n",
    "resale_price_plot <- \n",
    "  theme_data_clean %>%\n",
    "  ggplot(aes(x = resale_price_new)) +\n",
    "  geom_histogram(bins = 25, fill = 'rosybrown', color = 'gray') +\n",
    "  labs(\n",
    "       x = \"Resale Price (USD)\",\n",
    "       y = \"Count\") +\n",
    "  theme_minimal() +\n",
    "  theme(\n",
    "    axis.text = element_text(size = 22, color = \"black\"), \n",
    "    axis.title = element_text(size = 24),\n",
    "    panel.grid.major = element_blank(), \n",
    "    panel.grid.minor = element_blank(), \n",
    "    panel.grid.major.y = element_line(colour = \"gray\", linetype = \"dashed\"), \n",
    "    panel.grid.minor.y = element_blank(), \n",
    "    axis.ticks = element_line(linewidth = 1), \n",
    "    panel.border = element_rect(colour = \"black\", fill = NA, linewidth = 1), \n",
    "    axis.line = element_line(colour = \"black\", linewidth = 0.5)) \n",
    "\n",
    "resale_price_plot"
   ]
  },
  {
   "cell_type": "code",
   "execution_count": 53,
   "id": "d60452fc",
   "metadata": {},
   "outputs": [
    {
     "data": {
      "image/png": "[encoded data removed]",
      "text/plain": [
       "plot without title"
      ]
     },
     "metadata": {
      "image/png": {
       "height": 600,
       "width": 840
      }
     },
     "output_type": "display_data"
    }
   ],
   "source": [
    "# Combine all the plots\n",
    "hist_plot <- parts_count_plot + minifigures_plot + rating_plot + \n",
    "             retail_price_plot+ lifecycle_plot + days_since_lauch_plot + \n",
    "             resale_price_plot +\n",
    "             plot_layout(ncol = 3, nrow = 3) +\n",
    "             plot_annotation(title = \"Distribution of Variables for LEGO Sets\",\n",
    "                             theme = theme(plot.title = element_text(size = 28, hjust = 0.5, face = \"bold\")))\n",
    "\n",
    "hist_plot"
   ]
  },
  {
   "cell_type": "code",
   "execution_count": 57,
   "id": "dc659288",
   "metadata": {},
   "outputs": [],
   "source": [
    "# Save the plot above\n",
    "ggsave(\"hist_plot.jpg\", plot = hist_plot, width = 20, height = 12, units = \"in\", dpi = 300)"
   ]
  },
  {
   "cell_type": "code",
   "execution_count": 20,
   "id": "efb7af2f",
   "metadata": {},
   "outputs": [],
   "source": [
    "# Take the logarithmic form of the data\n",
    "theme_data_log <- theme_data_clean\n",
    "\n",
    "theme_data_log$parts_count <- log(theme_data_log$parts_count)\n",
    "theme_data_log$minifigures_count <- log(theme_data_log$minifigures_count + 1)\n",
    "theme_data_log$retail_price <- log(theme_data_log$retail_price)\n",
    "theme_data_log$lifecycle_duration <- log(theme_data_log$lifecycle_duration)\n",
    "theme_data_log$days_since_launch <- log(theme_data_log$days_since_launch)\n",
    "theme_data_log$resale_price_new <- log(theme_data_log$resale_price_new)"
   ]
  },
  {
   "cell_type": "code",
   "execution_count": 83,
   "id": "02646f0f",
   "metadata": {},
   "outputs": [
    {
     "data": {
      "image/png": "[encoded data removed]",
      "text/plain": [
       "plot without title"
      ]
     },
     "metadata": {
      "image/png": {
       "height": 600,
       "width": 840
      }
     },
     "output_type": "display_data"
    }
   ],
   "source": [
    "# Create histogram for the variable after logarithmic transformation\n",
    "log_parts_count_plot <- \n",
    "  theme_data_log %>%\n",
    "  ggplot(aes(x = parts_count)) +\n",
    "  geom_histogram(bins = 20, fill = 'hotpink3', color = 'gray') +\n",
    "  labs(\n",
    "       x = \"Number of Parts\",\n",
    "       y = \"Count\") +\n",
    "  theme_minimal() +\n",
    "  theme(\n",
    "    axis.text = element_text(size = 22, color = \"black\"),\n",
    "    axis.title = element_text(size = 24),\n",
    "    panel.grid.major = element_blank(),\n",
    "    panel.grid.minor = element_blank(), \n",
    "    panel.grid.major.y = element_line(colour = \"gray\", linetype = \"dashed\"),\n",
    "    panel.grid.minor.y = element_blank(), \n",
    "    axis.ticks = element_line(linewidth = 1), \n",
    "    panel.border = element_rect(colour = \"black\", fill = NA, linewidth = 1),\n",
    "    axis.line = element_line(colour = \"black\", linewidth = 0.5))\n",
    "\n",
    "log_parts_count_plot"
   ]
  },
  {
   "cell_type": "code",
   "execution_count": 75,
   "id": "b7d49450",
   "metadata": {},
   "outputs": [
    {
     "data": {
      "image/png": "[encoded data removed]",
      "text/plain": [
       "plot without title"
      ]
     },
     "metadata": {
      "image/png": {
       "height": 600,
       "width": 840
      }
     },
     "output_type": "display_data"
    }
   ],
   "source": [
    "# Create histogram for the variable after logarithmic transformation\n",
    "log_minifigures_plot <- \n",
    "  theme_data_log %>%\n",
    "  ggplot(aes(x = minifigures_count)) +\n",
    "  geom_histogram(bins = 9, fill = 'dodgerblue3', color = 'gray') +\n",
    "  labs(\n",
    "       x = \"Number of Minifigures\",\n",
    "       y = \"Count\") +\n",
    "  theme_minimal() +\n",
    "  theme(\n",
    "    axis.title.y = element_blank(),\n",
    "    axis.text = element_text(size = 22, color = \"black\"), \n",
    "    axis.title = element_text(size = 24, color = \"black\"), \n",
    "    panel.grid.major = element_blank(), \n",
    "    panel.grid.minor = element_blank(), \n",
    "    panel.grid.major.y = element_line(colour = \"gray\", linetype = \"dashed\"), \n",
    "    panel.grid.minor.y = element_blank(), \n",
    "    axis.ticks = element_line(linewidth = 1), \n",
    "    panel.border = element_rect(colour = \"black\", fill = NA, linewidth = 1), \n",
    "    axis.line = element_line(colour = \"black\", linewidth = 0.5)) \n",
    "log_minifigures_plot"
   ]
  },
  {
   "cell_type": "code",
   "execution_count": 76,
   "id": "beec342d",
   "metadata": {},
   "outputs": [
    {
     "data": {
      "image/png": "[encoded data removed]",
      "text/plain": [
       "plot without title"
      ]
     },
     "metadata": {
      "image/png": {
       "height": 600,
       "width": 840
      }
     },
     "output_type": "display_data"
    }
   ],
   "source": [
    "# Create histogram for the variable \n",
    "# Rating did not take logarithmic transformation\n",
    "log_rating_plot <- \n",
    "  theme_data_log %>%\n",
    "  ggplot(aes(x = rating)) +\n",
    "  geom_histogram(bins = 19, fill = 'darkslategray4', color = 'gray') +\n",
    "  labs(\n",
    "       x = \"Rating\",\n",
    "       y = \"Count\") +\n",
    "  theme_minimal() +\n",
    "  theme(\n",
    "    axis.title.y = element_blank(),\n",
    "    axis.text = element_text(size = 22, color = \"black\"), \n",
    "    axis.title = element_text(size = 24, color = \"black\"), \n",
    "    panel.grid.major = element_blank(), \n",
    "    panel.grid.minor = element_blank(), \n",
    "    panel.grid.major.y = element_line(colour = \"gray\", linetype = \"dashed\"), \n",
    "    panel.grid.minor.y = element_blank(), \n",
    "    axis.ticks = element_line(linewidth = 1), \n",
    "    panel.border = element_rect(colour = \"black\", fill = NA, linewidth = 1), \n",
    "    axis.line = element_line(colour = \"black\", linewidth = 0.5)) \n",
    "log_rating_plot"
   ]
  },
  {
   "cell_type": "code",
   "execution_count": 77,
   "id": "e441e7d6",
   "metadata": {},
   "outputs": [
    {
     "data": {
      "image/png": "[encoded data removed]",
      "text/plain": [
       "plot without title"
      ]
     },
     "metadata": {
      "image/png": {
       "height": 600,
       "width": 840
      }
     },
     "output_type": "display_data"
    }
   ],
   "source": [
    "# Create histogram for the variable after logarithmic transformation\n",
    "log_retail_price_plot <- \n",
    "  theme_data_log %>%\n",
    "  ggplot(aes(x = retail_price)) +\n",
    "  geom_histogram(bins = 14, fill = 'lightsalmon3', color = 'gray') +\n",
    "  labs(\n",
    "       x = \"Retail Price (USD)\",\n",
    "       y = \"Count\") +\n",
    "  theme_minimal() +\n",
    "  theme(\n",
    "    axis.text = element_text(size = 22, color = \"black\"),\n",
    "    axis.title = element_text(size = 24),\n",
    "    panel.grid.major = element_blank(),\n",
    "    panel.grid.minor = element_blank(), \n",
    "    panel.grid.major.y = element_line(colour = \"gray\", linetype = \"dashed\"),\n",
    "    panel.grid.minor.y = element_blank(), \n",
    "    axis.ticks = element_line(linewidth = 1), \n",
    "    panel.border = element_rect(colour = \"black\", fill = NA, linewidth = 1),\n",
    "    axis.line = element_line(colour = \"black\", linewidth = 0.5))\n",
    "\n",
    "log_retail_price_plot"
   ]
  },
  {
   "cell_type": "code",
   "execution_count": 78,
   "id": "7e97915c",
   "metadata": {},
   "outputs": [
    {
     "data": {
      "image/png": "[encoded data removed]",
      "text/plain": [
       "plot without title"
      ]
     },
     "metadata": {
      "image/png": {
       "height": 600,
       "width": 840
      }
     },
     "output_type": "display_data"
    }
   ],
   "source": [
    "# Create histogram for the variable after logarithmic transformation\n",
    "log_lifecycle_plot <- \n",
    "  theme_data_log %>%\n",
    "  ggplot(aes(x = lifecycle_duration)) +\n",
    "  geom_histogram(bins = 16, fill = 'mediumpurple3', color = 'gray') +\n",
    "  labs(\n",
    "       x = \"Lifecycle Duration (Days)\",\n",
    "       y = \"Count\") +\n",
    "  theme_minimal() +\n",
    "  theme(\n",
    "    axis.title.y = element_blank(),\n",
    "    axis.text = element_text(size = 22, color = \"black\"), \n",
    "    axis.title = element_text(size = 24, color = \"black\"), \n",
    "    panel.grid.major = element_blank(), \n",
    "    panel.grid.minor = element_blank(), \n",
    "    panel.grid.major.y = element_line(colour = \"gray\", linetype = \"dashed\"), \n",
    "    panel.grid.minor.y = element_blank(), \n",
    "    axis.ticks = element_line(linewidth = 1), \n",
    "    panel.border = element_rect(colour = \"black\", fill = NA, linewidth = 1), \n",
    "    axis.line = element_line(colour = \"black\", linewidth = 0.5))\n",
    "      \n",
    "log_lifecycle_plot"
   ]
  },
  {
   "cell_type": "code",
   "execution_count": 79,
   "id": "aed7ad48",
   "metadata": {},
   "outputs": [
    {
     "data": {
      "image/png": "[encoded data removed]",
      "text/plain": [
       "plot without title"
      ]
     },
     "metadata": {
      "image/png": {
       "height": 600,
       "width": 840
      }
     },
     "output_type": "display_data"
    }
   ],
   "source": [
    "# Create histogram for the variable after logarithmic transformation\n",
    "log_days_since_lauch_plot <- \n",
    "  theme_data_log %>%\n",
    "  ggplot(aes(x = days_since_launch)) +\n",
    "  geom_histogram(bins = 20, fill = 'steelblue3', color = 'gray') +\n",
    "  labs(\n",
    "       x = \" Days Since Launch\",\n",
    "       y = \"Count\") +\n",
    "  theme_minimal() +\n",
    "  theme(\n",
    "    axis.title.y = element_blank(),\n",
    "    axis.text = element_text(size = 22, color = \"black\"), \n",
    "    axis.title = element_text(size = 24, color = \"black\"), \n",
    "    panel.grid.major = element_blank(), \n",
    "    panel.grid.minor = element_blank(), \n",
    "    panel.grid.major.y = element_line(colour = \"gray\", linetype = \"dashed\"), \n",
    "    panel.grid.minor.y = element_blank(), \n",
    "    axis.ticks = element_line(linewidth = 1), \n",
    "    panel.border = element_rect(colour = \"black\", fill = NA, linewidth = 1), \n",
    "    axis.line = element_line(colour = \"black\", linewidth = 0.5))\n",
    "log_days_since_lauch_plot"
   ]
  },
  {
   "cell_type": "code",
   "execution_count": 80,
   "id": "5cf1bbf0",
   "metadata": {},
   "outputs": [
    {
     "data": {
      "image/png": "[encoded data removed]",
      "text/plain": [
       "plot without title"
      ]
     },
     "metadata": {
      "image/png": {
       "height": 600,
       "width": 840
      }
     },
     "output_type": "display_data"
    }
   ],
   "source": [
    "# Create histogram for the variable after logarithmic transformation\n",
    "log_resale_price_plot <- \n",
    "  theme_data_log %>%\n",
    "  ggplot(aes(x = resale_price_new)) +\n",
    "  geom_histogram(bins = 20, fill = 'rosybrown', color = 'gray') +\n",
    "  labs(\n",
    "       x = \"Resale Price (USD)\",\n",
    "       y = \"Count\") +\n",
    "  theme_minimal() +\n",
    "  theme(\n",
    "    axis.text = element_text(size = 22, color = \"black\"), \n",
    "    axis.title = element_text(size = 24),\n",
    "    panel.grid.major = element_blank(), \n",
    "    panel.grid.minor = element_blank(), \n",
    "    panel.grid.major.y = element_line(colour = \"gray\", linetype = \"dashed\"), \n",
    "    panel.grid.minor.y = element_blank(), \n",
    "    axis.ticks = element_line(linewidth = 1), \n",
    "    panel.border = element_rect(colour = \"black\", fill = NA, linewidth = 1), \n",
    "    axis.line = element_line(colour = \"black\", linewidth = 0.5)) \n",
    "\n",
    "log_resale_price_plot"
   ]
  },
  {
   "cell_type": "code",
   "execution_count": 84,
   "id": "1bda1cad",
   "metadata": {},
   "outputs": [
    {
     "data": {
      "image/png": "[encoded data removed]",
      "text/plain": [
       "plot without title"
      ]
     },
     "metadata": {
      "image/png": {
       "height": 600,
       "width": 840
      }
     },
     "output_type": "display_data"
    }
   ],
   "source": [
    "# Combine all the plots\n",
    "log_hist_plot <- \n",
    "             log_parts_count_plot + log_minifigures_plot + log_rating_plot + \n",
    "             log_retail_price_plot+ log_lifecycle_plot + log_days_since_lauch_plot + \n",
    "             log_resale_price_plot +\n",
    "             plot_layout(ncol = 3, nrow = 3) +\n",
    "             plot_annotation(title = \"Distribution of Variables for LEGO Sets after Logarithmic Transformation\",\n",
    "                             theme = theme(plot.title = element_text(size = 28, hjust = 0.5, face = \"bold\")))\n",
    "\n",
    "log_hist_plot"
   ]
  },
  {
   "cell_type": "code",
   "execution_count": 86,
   "id": "abae39de",
   "metadata": {},
   "outputs": [],
   "source": [
    "# Save the plot above\n",
    "ggsave(\"log_hist_plot.jpg\", plot = log_hist_plot, width = 20, height = 12, units = \"in\", dpi = 300)"
   ]
  },
  {
   "cell_type": "markdown",
   "id": "29c94e0c",
   "metadata": {},
   "source": [
    "### Random Forest Model on Original Data"
   ]
  },
  {
   "cell_type": "code",
   "execution_count": 92,
   "id": "b06413b9",
   "metadata": {},
   "outputs": [
    {
     "data": {
      "text/html": [
       "608"
      ],
      "text/latex": [
       "608"
      ],
      "text/markdown": [
       "608"
      ],
      "text/plain": [
       "[1] 608"
      ]
     },
     "metadata": {},
     "output_type": "display_data"
    },
    {
     "data": {
      "text/html": [
       "153"
      ],
      "text/latex": [
       "153"
      ],
      "text/markdown": [
       "153"
      ],
      "text/plain": [
       "[1] 153"
      ]
     },
     "metadata": {},
     "output_type": "display_data"
    }
   ],
   "source": [
    "# Set categorical variables \"is_starwars\" and \"is_from_retired_theme\" as factors\n",
    "theme_data_clean$is_starwars <- as.factor(theme_data_clean$is_starwars)\n",
    "theme_data_clean$is_from_retired_theme <- as.factor(theme_data_clean$is_from_retired_theme)\n",
    "\n",
    "# Set random seed\n",
    "set.seed(123)\n",
    "rows_clean <- nrow(theme_data_clean)\n",
    "shuffled_indices_clean <- sample(1:rows_clean, rows_clean)\n",
    "train_size_clean <- floor(0.8 * rows_clean)                      \n",
    "train_indices_clean <- shuffled_indices_clean[1:train_size_clean]         # 80% as train data\n",
    "test_indices_clean <- shuffled_indices_clean[(train_size_clean + 1):rows_clean] # 20% as test data\n",
    "\n",
    "train_set <- theme_data_clean[train_indices_clean, ]\n",
    "test_set<- theme_data_clean[test_indices_clean, ]\n",
    "\n",
    "# Check data\n",
    "nrow(train_set)\n",
    "nrow(test_set)"
   ]
  },
  {
   "cell_type": "code",
   "execution_count": 95,
   "id": "08d65cbd",
   "metadata": {},
   "outputs": [
    {
     "data": {
      "text/html": [
       "<table class=\"dataframe\">\n",
       "<caption>A data.frame: 40 × 4</caption>\n",
       "<thead>\n",
       "\t<tr><th scope=col>ntree</th><th scope=col>mtry</th><th scope=col>RMSE</th><th scope=col>Rsquared</th></tr>\n",
       "\t<tr><th scope=col>&lt;dbl&gt;</th><th scope=col>&lt;int&gt;</th><th scope=col>&lt;dbl&gt;</th><th scope=col>&lt;dbl&gt;</th></tr>\n",
       "</thead>\n",
       "<tbody>\n",
       "\t<tr><td>100</td><td>1</td><td>146.2131</td><td>0.6213692</td></tr>\n",
       "\t<tr><td>100</td><td>2</td><td>133.3359</td><td>0.6447327</td></tr>\n",
       "\t<tr><td>100</td><td>3</td><td>136.3145</td><td>0.6233239</td></tr>\n",
       "\t<tr><td>100</td><td>4</td><td>132.0446</td><td>0.6461852</td></tr>\n",
       "\t<tr><td>100</td><td>5</td><td>135.5656</td><td>0.6261058</td></tr>\n",
       "\t<tr><td>100</td><td>6</td><td>132.7649</td><td>0.6417305</td></tr>\n",
       "\t<tr><td>100</td><td>7</td><td>134.7812</td><td>0.6304527</td></tr>\n",
       "\t<tr><td>100</td><td>8</td><td>134.7135</td><td>0.6307740</td></tr>\n",
       "\t<tr><td>200</td><td>1</td><td>149.6852</td><td>0.5921729</td></tr>\n",
       "\t<tr><td>200</td><td>2</td><td>135.0049</td><td>0.6371496</td></tr>\n",
       "\t<tr><td>200</td><td>3</td><td>134.4952</td><td>0.6339906</td></tr>\n",
       "\t<tr><td>200</td><td>4</td><td>134.2222</td><td>0.6342145</td></tr>\n",
       "\t<tr><td>200</td><td>5</td><td>135.5574</td><td>0.6261754</td></tr>\n",
       "\t<tr><td>200</td><td>6</td><td>129.5716</td><td>0.6600902</td></tr>\n",
       "\t<tr><td>200</td><td>7</td><td>135.8862</td><td>0.6243386</td></tr>\n",
       "\t<tr><td>200</td><td>8</td><td>135.6995</td><td>0.6255062</td></tr>\n",
       "\t<tr><td>300</td><td>1</td><td>147.9734</td><td>0.5990210</td></tr>\n",
       "\t<tr><td>300</td><td>2</td><td>136.8274</td><td>0.6257357</td></tr>\n",
       "\t<tr><td>300</td><td>3</td><td>132.3846</td><td>0.6460944</td></tr>\n",
       "\t<tr><td>300</td><td>4</td><td>133.1904</td><td>0.6394964</td></tr>\n",
       "\t<tr><td>300</td><td>5</td><td>134.7421</td><td>0.6308735</td></tr>\n",
       "\t<tr><td>300</td><td>6</td><td>133.1309</td><td>0.6397527</td></tr>\n",
       "\t<tr><td>300</td><td>7</td><td>136.3450</td><td>0.6217607</td></tr>\n",
       "\t<tr><td>300</td><td>8</td><td>131.2724</td><td>0.6493777</td></tr>\n",
       "\t<tr><td>400</td><td>1</td><td>147.1125</td><td>0.6118017</td></tr>\n",
       "\t<tr><td>400</td><td>2</td><td>134.4137</td><td>0.6414299</td></tr>\n",
       "\t<tr><td>400</td><td>3</td><td>133.6018</td><td>0.6392233</td></tr>\n",
       "\t<tr><td>400</td><td>4</td><td>132.7079</td><td>0.6437548</td></tr>\n",
       "\t<tr><td>400</td><td>5</td><td>133.3205</td><td>0.6387063</td></tr>\n",
       "\t<tr><td>400</td><td>6</td><td>133.5798</td><td>0.6374530</td></tr>\n",
       "\t<tr><td>400</td><td>7</td><td>131.4738</td><td>0.6485094</td></tr>\n",
       "\t<tr><td>400</td><td>8</td><td>136.0138</td><td>0.6237540</td></tr>\n",
       "\t<tr><td>500</td><td>1</td><td>146.7790</td><td>0.6120881</td></tr>\n",
       "\t<tr><td>500</td><td>2</td><td>139.7958</td><td>0.6073341</td></tr>\n",
       "\t<tr><td>500</td><td>3</td><td>134.5738</td><td>0.6329108</td></tr>\n",
       "\t<tr><td>500</td><td>4</td><td>133.5212</td><td>0.6393480</td></tr>\n",
       "\t<tr><td>500</td><td>5</td><td>132.9875</td><td>0.6408259</td></tr>\n",
       "\t<tr><td>500</td><td>6</td><td>137.4968</td><td>0.6153788</td></tr>\n",
       "\t<tr><td>500</td><td>7</td><td>130.6738</td><td>0.6531328</td></tr>\n",
       "\t<tr><td>500</td><td>8</td><td>134.1043</td><td>0.6340959</td></tr>\n",
       "</tbody>\n",
       "</table>\n"
      ],
      "text/latex": [
       "A data.frame: 40 × 4\n",
       "\\begin{tabular}{llll}\n",
       " ntree & mtry & RMSE & Rsquared\\\\\n",
       " <dbl> & <int> & <dbl> & <dbl>\\\\\n",
       "\\hline\n",
       "\t 100 & 1 & 146.2131 & 0.6213692\\\\\n",
       "\t 100 & 2 & 133.3359 & 0.6447327\\\\\n",
       "\t 100 & 3 & 136.3145 & 0.6233239\\\\\n",
       "\t 100 & 4 & 132.0446 & 0.6461852\\\\\n",
       "\t 100 & 5 & 135.5656 & 0.6261058\\\\\n",
       "\t 100 & 6 & 132.7649 & 0.6417305\\\\\n",
       "\t 100 & 7 & 134.7812 & 0.6304527\\\\\n",
       "\t 100 & 8 & 134.7135 & 0.6307740\\\\\n",
       "\t 200 & 1 & 149.6852 & 0.5921729\\\\\n",
       "\t 200 & 2 & 135.0049 & 0.6371496\\\\\n",
       "\t 200 & 3 & 134.4952 & 0.6339906\\\\\n",
       "\t 200 & 4 & 134.2222 & 0.6342145\\\\\n",
       "\t 200 & 5 & 135.5574 & 0.6261754\\\\\n",
       "\t 200 & 6 & 129.5716 & 0.6600902\\\\\n",
       "\t 200 & 7 & 135.8862 & 0.6243386\\\\\n",
       "\t 200 & 8 & 135.6995 & 0.6255062\\\\\n",
       "\t 300 & 1 & 147.9734 & 0.5990210\\\\\n",
       "\t 300 & 2 & 136.8274 & 0.6257357\\\\\n",
       "\t 300 & 3 & 132.3846 & 0.6460944\\\\\n",
       "\t 300 & 4 & 133.1904 & 0.6394964\\\\\n",
       "\t 300 & 5 & 134.7421 & 0.6308735\\\\\n",
       "\t 300 & 6 & 133.1309 & 0.6397527\\\\\n",
       "\t 300 & 7 & 136.3450 & 0.6217607\\\\\n",
       "\t 300 & 8 & 131.2724 & 0.6493777\\\\\n",
       "\t 400 & 1 & 147.1125 & 0.6118017\\\\\n",
       "\t 400 & 2 & 134.4137 & 0.6414299\\\\\n",
       "\t 400 & 3 & 133.6018 & 0.6392233\\\\\n",
       "\t 400 & 4 & 132.7079 & 0.6437548\\\\\n",
       "\t 400 & 5 & 133.3205 & 0.6387063\\\\\n",
       "\t 400 & 6 & 133.5798 & 0.6374530\\\\\n",
       "\t 400 & 7 & 131.4738 & 0.6485094\\\\\n",
       "\t 400 & 8 & 136.0138 & 0.6237540\\\\\n",
       "\t 500 & 1 & 146.7790 & 0.6120881\\\\\n",
       "\t 500 & 2 & 139.7958 & 0.6073341\\\\\n",
       "\t 500 & 3 & 134.5738 & 0.6329108\\\\\n",
       "\t 500 & 4 & 133.5212 & 0.6393480\\\\\n",
       "\t 500 & 5 & 132.9875 & 0.6408259\\\\\n",
       "\t 500 & 6 & 137.4968 & 0.6153788\\\\\n",
       "\t 500 & 7 & 130.6738 & 0.6531328\\\\\n",
       "\t 500 & 8 & 134.1043 & 0.6340959\\\\\n",
       "\\end{tabular}\n"
      ],
      "text/markdown": [
       "\n",
       "A data.frame: 40 × 4\n",
       "\n",
       "| ntree &lt;dbl&gt; | mtry &lt;int&gt; | RMSE &lt;dbl&gt; | Rsquared &lt;dbl&gt; |\n",
       "|---|---|---|---|\n",
       "| 100 | 1 | 146.2131 | 0.6213692 |\n",
       "| 100 | 2 | 133.3359 | 0.6447327 |\n",
       "| 100 | 3 | 136.3145 | 0.6233239 |\n",
       "| 100 | 4 | 132.0446 | 0.6461852 |\n",
       "| 100 | 5 | 135.5656 | 0.6261058 |\n",
       "| 100 | 6 | 132.7649 | 0.6417305 |\n",
       "| 100 | 7 | 134.7812 | 0.6304527 |\n",
       "| 100 | 8 | 134.7135 | 0.6307740 |\n",
       "| 200 | 1 | 149.6852 | 0.5921729 |\n",
       "| 200 | 2 | 135.0049 | 0.6371496 |\n",
       "| 200 | 3 | 134.4952 | 0.6339906 |\n",
       "| 200 | 4 | 134.2222 | 0.6342145 |\n",
       "| 200 | 5 | 135.5574 | 0.6261754 |\n",
       "| 200 | 6 | 129.5716 | 0.6600902 |\n",
       "| 200 | 7 | 135.8862 | 0.6243386 |\n",
       "| 200 | 8 | 135.6995 | 0.6255062 |\n",
       "| 300 | 1 | 147.9734 | 0.5990210 |\n",
       "| 300 | 2 | 136.8274 | 0.6257357 |\n",
       "| 300 | 3 | 132.3846 | 0.6460944 |\n",
       "| 300 | 4 | 133.1904 | 0.6394964 |\n",
       "| 300 | 5 | 134.7421 | 0.6308735 |\n",
       "| 300 | 6 | 133.1309 | 0.6397527 |\n",
       "| 300 | 7 | 136.3450 | 0.6217607 |\n",
       "| 300 | 8 | 131.2724 | 0.6493777 |\n",
       "| 400 | 1 | 147.1125 | 0.6118017 |\n",
       "| 400 | 2 | 134.4137 | 0.6414299 |\n",
       "| 400 | 3 | 133.6018 | 0.6392233 |\n",
       "| 400 | 4 | 132.7079 | 0.6437548 |\n",
       "| 400 | 5 | 133.3205 | 0.6387063 |\n",
       "| 400 | 6 | 133.5798 | 0.6374530 |\n",
       "| 400 | 7 | 131.4738 | 0.6485094 |\n",
       "| 400 | 8 | 136.0138 | 0.6237540 |\n",
       "| 500 | 1 | 146.7790 | 0.6120881 |\n",
       "| 500 | 2 | 139.7958 | 0.6073341 |\n",
       "| 500 | 3 | 134.5738 | 0.6329108 |\n",
       "| 500 | 4 | 133.5212 | 0.6393480 |\n",
       "| 500 | 5 | 132.9875 | 0.6408259 |\n",
       "| 500 | 6 | 137.4968 | 0.6153788 |\n",
       "| 500 | 7 | 130.6738 | 0.6531328 |\n",
       "| 500 | 8 | 134.1043 | 0.6340959 |\n",
       "\n"
      ],
      "text/plain": [
       "   ntree mtry RMSE     Rsquared \n",
       "1  100   1    146.2131 0.6213692\n",
       "2  100   2    133.3359 0.6447327\n",
       "3  100   3    136.3145 0.6233239\n",
       "4  100   4    132.0446 0.6461852\n",
       "5  100   5    135.5656 0.6261058\n",
       "6  100   6    132.7649 0.6417305\n",
       "7  100   7    134.7812 0.6304527\n",
       "8  100   8    134.7135 0.6307740\n",
       "9  200   1    149.6852 0.5921729\n",
       "10 200   2    135.0049 0.6371496\n",
       "11 200   3    134.4952 0.6339906\n",
       "12 200   4    134.2222 0.6342145\n",
       "13 200   5    135.5574 0.6261754\n",
       "14 200   6    129.5716 0.6600902\n",
       "15 200   7    135.8862 0.6243386\n",
       "16 200   8    135.6995 0.6255062\n",
       "17 300   1    147.9734 0.5990210\n",
       "18 300   2    136.8274 0.6257357\n",
       "19 300   3    132.3846 0.6460944\n",
       "20 300   4    133.1904 0.6394964\n",
       "21 300   5    134.7421 0.6308735\n",
       "22 300   6    133.1309 0.6397527\n",
       "23 300   7    136.3450 0.6217607\n",
       "24 300   8    131.2724 0.6493777\n",
       "25 400   1    147.1125 0.6118017\n",
       "26 400   2    134.4137 0.6414299\n",
       "27 400   3    133.6018 0.6392233\n",
       "28 400   4    132.7079 0.6437548\n",
       "29 400   5    133.3205 0.6387063\n",
       "30 400   6    133.5798 0.6374530\n",
       "31 400   7    131.4738 0.6485094\n",
       "32 400   8    136.0138 0.6237540\n",
       "33 500   1    146.7790 0.6120881\n",
       "34 500   2    139.7958 0.6073341\n",
       "35 500   3    134.5738 0.6329108\n",
       "36 500   4    133.5212 0.6393480\n",
       "37 500   5    132.9875 0.6408259\n",
       "38 500   6    137.4968 0.6153788\n",
       "39 500   7    130.6738 0.6531328\n",
       "40 500   8    134.1043 0.6340959"
      ]
     },
     "metadata": {},
     "output_type": "display_data"
    }
   ],
   "source": [
    "# Call the function\n",
    "set.seed(1234)\n",
    "rf_result <- \n",
    "  evaluate_rf_model(train_set, \"resale_price_new\")\n",
    "\n",
    "rf_result"
   ]
  },
  {
   "cell_type": "code",
   "execution_count": 96,
   "id": "b50e9a9b",
   "metadata": {
    "scrolled": true
   },
   "outputs": [
    {
     "data": {
      "text/html": [
       "<table class=\"dataframe\">\n",
       "<caption>A data.frame: 1 × 4</caption>\n",
       "<thead>\n",
       "\t<tr><th></th><th scope=col>ntree</th><th scope=col>mtry</th><th scope=col>RMSE</th><th scope=col>Rsquared</th></tr>\n",
       "\t<tr><th></th><th scope=col>&lt;dbl&gt;</th><th scope=col>&lt;int&gt;</th><th scope=col>&lt;dbl&gt;</th><th scope=col>&lt;dbl&gt;</th></tr>\n",
       "</thead>\n",
       "<tbody>\n",
       "\t<tr><th scope=row>14</th><td>200</td><td>6</td><td>129.5716</td><td>0.6600902</td></tr>\n",
       "</tbody>\n",
       "</table>\n"
      ],
      "text/latex": [
       "A data.frame: 1 × 4\n",
       "\\begin{tabular}{r|llll}\n",
       "  & ntree & mtry & RMSE & Rsquared\\\\\n",
       "  & <dbl> & <int> & <dbl> & <dbl>\\\\\n",
       "\\hline\n",
       "\t14 & 200 & 6 & 129.5716 & 0.6600902\\\\\n",
       "\\end{tabular}\n"
      ],
      "text/markdown": [
       "\n",
       "A data.frame: 1 × 4\n",
       "\n",
       "| <!--/--> | ntree &lt;dbl&gt; | mtry &lt;int&gt; | RMSE &lt;dbl&gt; | Rsquared &lt;dbl&gt; |\n",
       "|---|---|---|---|---|\n",
       "| 14 | 200 | 6 | 129.5716 | 0.6600902 |\n",
       "\n"
      ],
      "text/plain": [
       "   ntree mtry RMSE     Rsquared \n",
       "14 200   6    129.5716 0.6600902"
      ]
     },
     "metadata": {},
     "output_type": "display_data"
    },
    {
     "data": {
      "text/html": [
       "<table class=\"dataframe\">\n",
       "<caption>A data.frame: 1 × 4</caption>\n",
       "<thead>\n",
       "\t<tr><th></th><th scope=col>ntree</th><th scope=col>mtry</th><th scope=col>RMSE</th><th scope=col>Rsquared</th></tr>\n",
       "\t<tr><th></th><th scope=col>&lt;dbl&gt;</th><th scope=col>&lt;int&gt;</th><th scope=col>&lt;dbl&gt;</th><th scope=col>&lt;dbl&gt;</th></tr>\n",
       "</thead>\n",
       "<tbody>\n",
       "\t<tr><th scope=row>14</th><td>200</td><td>6</td><td>129.5716</td><td>0.6600902</td></tr>\n",
       "</tbody>\n",
       "</table>\n"
      ],
      "text/latex": [
       "A data.frame: 1 × 4\n",
       "\\begin{tabular}{r|llll}\n",
       "  & ntree & mtry & RMSE & Rsquared\\\\\n",
       "  & <dbl> & <int> & <dbl> & <dbl>\\\\\n",
       "\\hline\n",
       "\t14 & 200 & 6 & 129.5716 & 0.6600902\\\\\n",
       "\\end{tabular}\n"
      ],
      "text/markdown": [
       "\n",
       "A data.frame: 1 × 4\n",
       "\n",
       "| <!--/--> | ntree &lt;dbl&gt; | mtry &lt;int&gt; | RMSE &lt;dbl&gt; | Rsquared &lt;dbl&gt; |\n",
       "|---|---|---|---|---|\n",
       "| 14 | 200 | 6 | 129.5716 | 0.6600902 |\n",
       "\n"
      ],
      "text/plain": [
       "   ntree mtry RMSE     Rsquared \n",
       "14 200   6    129.5716 0.6600902"
      ]
     },
     "metadata": {},
     "output_type": "display_data"
    }
   ],
   "source": [
    "# Find the parameter combination with lowest RMSE\n",
    "rf_best_rmse <- \n",
    "  rf_result[which.min(rf_result$RMSE), ]\n",
    "\n",
    "# Find the parameter combination with lowest R-square\n",
    "rf_best_rsq <- \n",
    "  rf_result[which.max(rf_result$Rsquared), ]\n",
    "\n",
    "# Check the result\n",
    "rf_best_rmse\n",
    "rf_best_rsq"
   ]
  },
  {
   "cell_type": "code",
   "execution_count": 97,
   "id": "c7f3b0a5",
   "metadata": {},
   "outputs": [
    {
     "name": "stdout",
     "output_type": "stream",
     "text": [
      "[1] \"RMSE on test set is:  119.099696002189\"\n",
      "[1] \"R-squared on test set is: 0.511231325582447\"\n",
      "[1] \"Correlation coefficient on test set is:  0.715004423470545\"\n"
     ]
    }
   ],
   "source": [
    "set.seed(1234)\n",
    "\n",
    "# Train the model on the training dataset using optimal parameters\n",
    "final_model_rf <- \n",
    "  randomForest(resale_price_new ~ ., \n",
    "               data = train_set, \n",
    "               ntree = 200, \n",
    "               mtry = 6)\n",
    "\n",
    "# Use the final model to make predictions on the test dataset\n",
    "test_predictions <- \n",
    "  predict(final_model_rf, test_set)\n",
    "\n",
    "# Calculate RMSE\n",
    "test_rmse <- \n",
    "  rmse(test_set$resale_price_new, test_predictions)\n",
    "\n",
    "# Calculate R-square\n",
    "test_rsq <- \n",
    "  R2(test_predictions, test_set$resale_price_new)\n",
    "\n",
    "test_p <-\n",
    "  cor(test_predictions, test_set$resale_price_new)\n",
    "\n",
    "# Print the results\n",
    "print(paste(\"RMSE on test set is: \", test_rmse))\n",
    "print(paste(\"R-squared on test set is:\", test_rsq))\n",
    "print(paste(\"Correlation coefficient on test set is: \", test_p ))"
   ]
  },
  {
   "cell_type": "code",
   "execution_count": 98,
   "id": "64528331",
   "metadata": {},
   "outputs": [],
   "source": [
    "# Predict on dataset for vasualisation\n",
    "total_test_predictions <- \n",
    "  predict(final_model_rf, theme_data_clean)\n",
    "\n",
    "total_actual_predict_data <-\n",
    "  data.frame(actual = theme_data_clean$resale_price_new,\n",
    "             predicted = total_test_predictions)\n"
   ]
  },
  {
   "cell_type": "code",
   "execution_count": 100,
   "id": "d1095e40",
   "metadata": {},
   "outputs": [
    {
     "data": {
      "text/plain": [
       "     actual          predicted      \n",
       " Min.   :   9.65   Min.   :  14.53  \n",
       " 1st Qu.:  52.26   1st Qu.:  60.84  \n",
       " Median : 115.73   Median : 123.50  \n",
       " Mean   : 182.98   Mean   : 183.38  \n",
       " 3rd Qu.: 235.16   3rd Qu.: 242.10  \n",
       " Max.   :2165.01   Max.   :1618.26  "
      ]
     },
     "metadata": {},
     "output_type": "display_data"
    }
   ],
   "source": [
    "# Check the statistics of actual and predicted data\n",
    "summary(total_actual_predict_data)"
   ]
  },
  {
   "cell_type": "code",
   "execution_count": 101,
   "id": "74014551",
   "metadata": {},
   "outputs": [
    {
     "data": {
      "image/png": "[encoded data removed]",
      "text/plain": [
       "plot without title"
      ]
     },
     "metadata": {
      "image/png": {
       "height": 600,
       "width": 840
      }
     },
     "output_type": "display_data"
    }
   ],
   "source": [
    "# Create a scatter plot to visualize actual price vs predicted price\n",
    "actual_predicted_plot <- \n",
    "  total_actual_predict_data %>%\n",
    "  ggplot(aes(x = actual, y = predicted)) +\n",
    "  geom_point(shape = 3, color = \"dodgerblue3\", size = 2) +\n",
    "  labs(\n",
    "    x = \"Actual Price (USD)\",\n",
    "    y = \"Predicted Price (USD)\",\n",
    "    title = \"Actual Price vs Predicted Price\\n(Random Forest Model on Original Data)\"\n",
    "  ) +\n",
    "  geom_abline(intercept = 0, slope = 1, linetype = \"dashed\", color = \"black\", linewidth = 1) + \n",
    "  theme_minimal() +\n",
    "  theme(\n",
    "    plot.title = element_text(size = 26, hjust = 0.5, face = \"bold\"),\n",
    "    axis.title = element_text(size =24, color = 'black'),\n",
    "    axis.text = element_text(size = 24, color = 'black'),\n",
    "    panel.grid.major = element_blank(),\n",
    "    panel.grid.minor = element_blank(),\n",
    "    panel.grid.minor.y = element_blank(),\n",
    "    axis.ticks = element_line(linewidth = 1),\n",
    "    panel.border = element_rect(colour = \"black\", fill = NA, linewidth = 1),\n",
    "    axis.line = element_line(colour = \"black\", linewidth = 0.5))\n",
    "\n",
    "actual_predicted_plot"
   ]
  },
  {
   "cell_type": "code",
   "execution_count": 103,
   "id": "bbece524",
   "metadata": {},
   "outputs": [],
   "source": [
    "ggsave(\"rf_actual_predicted_plot.jpg\", plot = actual_predicted_plot, width = 15, height = 10, units = \"in\", dpi = 300)"
   ]
  },
  {
   "cell_type": "code",
   "execution_count": 104,
   "id": "69db6ecc",
   "metadata": {},
   "outputs": [
    {
     "name": "stdout",
     "output_type": "stream",
     "text": [
      " num [1:8, 1] 4653107 1014231 5944466 10304266 1146819 ...\n",
      " - attr(*, \"dimnames\")=List of 2\n",
      "  ..$ : chr [1:8] \"parts_count\" \"minifigures_count\" \"rating\" \"retail_price\" ...\n",
      "  ..$ : chr \"IncNodePurity\"\n"
     ]
    },
    {
     "data": {
      "text/html": [
       "'IncNodePurity'"
      ],
      "text/latex": [
       "'IncNodePurity'"
      ],
      "text/markdown": [
       "'IncNodePurity'"
      ],
      "text/plain": [
       "[1] \"IncNodePurity\""
      ]
     },
     "metadata": {},
     "output_type": "display_data"
    }
   ],
   "source": [
    "# To analyze the variable importance in Random Forest model\n",
    "importance_values <- \n",
    "  importance(final_model_rf)\n",
    "\n",
    "# Create a dataset to save the results\n",
    "importance_df <- \n",
    "  data.frame(Variable = row.names(importance_values), \n",
    "                            Importance = importance_values[, 'IncNodePurity'])\n",
    "\n",
    "# Order the ranking from most important to least important\n",
    "importance_df <-\n",
    "  importance_df[order(-importance_df$Importance),]\n",
    "\n",
    "# Check the results\n",
    "str(importance_values)\n",
    "colnames(importance_values)"
   ]
  },
  {
   "cell_type": "code",
   "execution_count": 105,
   "id": "aa8300b7",
   "metadata": {},
   "outputs": [
    {
     "data": {
      "text/html": [
       "<table class=\"dataframe\">\n",
       "<caption>A data.frame: 8 × 2</caption>\n",
       "<thead>\n",
       "\t<tr><th></th><th scope=col>Variable</th><th scope=col>Importance</th></tr>\n",
       "\t<tr><th></th><th scope=col>&lt;chr&gt;</th><th scope=col>&lt;dbl&gt;</th></tr>\n",
       "</thead>\n",
       "<tbody>\n",
       "\t<tr><th scope=row>retail_price</th><td>retail_price         </td><td>10304266.3</td></tr>\n",
       "\t<tr><th scope=row>rating</th><td>rating               </td><td> 5944466.0</td></tr>\n",
       "\t<tr><th scope=row>days_since_launch</th><td>days_since_launch    </td><td> 5523236.3</td></tr>\n",
       "\t<tr><th scope=row>parts_count</th><td>parts_count          </td><td> 4653106.5</td></tr>\n",
       "\t<tr><th scope=row>lifecycle_duration</th><td>lifecycle_duration   </td><td> 1146818.6</td></tr>\n",
       "\t<tr><th scope=row>minifigures_count</th><td>minifigures_count    </td><td> 1014230.6</td></tr>\n",
       "\t<tr><th scope=row>is_starwars</th><td>is_starwars          </td><td>  166958.1</td></tr>\n",
       "\t<tr><th scope=row>is_from_retired_theme</th><td>is_from_retired_theme</td><td>  146243.1</td></tr>\n",
       "</tbody>\n",
       "</table>\n"
      ],
      "text/latex": [
       "A data.frame: 8 × 2\n",
       "\\begin{tabular}{r|ll}\n",
       "  & Variable & Importance\\\\\n",
       "  & <chr> & <dbl>\\\\\n",
       "\\hline\n",
       "\tretail\\_price & retail\\_price          & 10304266.3\\\\\n",
       "\trating & rating                &  5944466.0\\\\\n",
       "\tdays\\_since\\_launch & days\\_since\\_launch     &  5523236.3\\\\\n",
       "\tparts\\_count & parts\\_count           &  4653106.5\\\\\n",
       "\tlifecycle\\_duration & lifecycle\\_duration    &  1146818.6\\\\\n",
       "\tminifigures\\_count & minifigures\\_count     &  1014230.6\\\\\n",
       "\tis\\_starwars & is\\_starwars           &   166958.1\\\\\n",
       "\tis\\_from\\_retired\\_theme & is\\_from\\_retired\\_theme &   146243.1\\\\\n",
       "\\end{tabular}\n"
      ],
      "text/markdown": [
       "\n",
       "A data.frame: 8 × 2\n",
       "\n",
       "| <!--/--> | Variable &lt;chr&gt; | Importance &lt;dbl&gt; |\n",
       "|---|---|---|\n",
       "| retail_price | retail_price          | 10304266.3 |\n",
       "| rating | rating                |  5944466.0 |\n",
       "| days_since_launch | days_since_launch     |  5523236.3 |\n",
       "| parts_count | parts_count           |  4653106.5 |\n",
       "| lifecycle_duration | lifecycle_duration    |  1146818.6 |\n",
       "| minifigures_count | minifigures_count     |  1014230.6 |\n",
       "| is_starwars | is_starwars           |   166958.1 |\n",
       "| is_from_retired_theme | is_from_retired_theme |   146243.1 |\n",
       "\n"
      ],
      "text/plain": [
       "                      Variable              Importance\n",
       "retail_price          retail_price          10304266.3\n",
       "rating                rating                 5944466.0\n",
       "days_since_launch     days_since_launch      5523236.3\n",
       "parts_count           parts_count            4653106.5\n",
       "lifecycle_duration    lifecycle_duration     1146818.6\n",
       "minifigures_count     minifigures_count      1014230.6\n",
       "is_starwars           is_starwars             166958.1\n",
       "is_from_retired_theme is_from_retired_theme   146243.1"
      ]
     },
     "metadata": {},
     "output_type": "display_data"
    }
   ],
   "source": [
    "# Check the data\n",
    "importance_df"
   ]
  },
  {
   "cell_type": "code",
   "execution_count": 108,
   "id": "6a2e3fca",
   "metadata": {},
   "outputs": [
    {
     "name": "stdout",
     "output_type": "stream",
     "text": [
      "                                   Variable Importance\n",
      "retail_price                   Retail Price 10304266.3\n",
      "rating                               Rating  5944466.0\n",
      "days_since_launch         Days Since Launch  5523236.3\n",
      "parts_count                 Number of Parts  4653106.5\n",
      "lifecycle_duration       Lifecycle Duration  1146818.6\n",
      "minifigures_count     Number of Minifigures  1014230.6\n",
      "is_starwars               Is from Star Wars   166958.1\n",
      "is_from_retired_theme Is from Retired Theme   146243.1\n"
     ]
    }
   ],
   "source": [
    "# Rename the variables to visualize\n",
    "new_variable_names <- c(\"Retail Price\", \"Rating\", \"Days Since Launch\", \n",
    "                        \"Number of Parts\", \"Lifecycle Duration\", \"Number of Minifigures\", \n",
    "                        \"Is from Star Wars\", \"Is from Retired Theme\")\n",
    "\n",
    "# Assign the variable name to dateset\n",
    "importance_df$Variable <- new_variable_names\n",
    "\n",
    "# Check the results\n",
    "print(importance_df)"
   ]
  },
  {
   "cell_type": "code",
   "execution_count": 113,
   "id": "98208285",
   "metadata": {
    "scrolled": true
   },
   "outputs": [
    {
     "data": {
      "image/png": "[encoded data removed]",
      "text/plain": [
       "plot without title"
      ]
     },
     "metadata": {
      "image/png": {
       "height": 600,
       "width": 840
      }
     },
     "output_type": "display_data"
    }
   ],
   "source": [
    "# Create the variable importance visualisation\n",
    "variable_importance_plot <- \n",
    "  importance_df %>%\n",
    "  ggplot(aes(x = reorder(Variable, Importance), y = Importance)) +\n",
    "  geom_bar(stat = \"identity\", width = 0.7, fill = \"royalblue2\") +\n",
    "  coord_flip() +  \n",
    "  theme_minimal() +\n",
    "  labs(title = \"Variable Importance on Random Forest Model\",\n",
    "       x = \"Variables\",\n",
    "       y = \"Increase Node Purity\") +\n",
    "   theme(\n",
    "        plot.title = element_text(hjust = 0.5, size = 24, face = \"bold\"),\n",
    "        axis.title = element_text(size = 24),\n",
    "        axis.text = element_text(size = 22, color = \"black\"),\n",
    "        panel.grid.major = element_blank(),\n",
    "        panel.grid.minor = element_blank(),\n",
    "        panel.border = element_rect(colour = \"black\", fill = NA, linewidth = 1),\n",
    "        axis.ticks = element_line(linewidth = 1))\n",
    "\n",
    "variable_importance_plot"
   ]
  },
  {
   "cell_type": "code",
   "execution_count": 114,
   "id": "3d7b636b",
   "metadata": {},
   "outputs": [],
   "source": [
    "# Save the plot above\n",
    "ggsave(\"variable_importance_plot.jpg\", plot = variable_importance_plot, width = 14, height = 8, units = \"in\", dpi = 300)"
   ]
  },
  {
   "cell_type": "markdown",
   "id": "f8e04d6c",
   "metadata": {},
   "source": [
    "### Random Forest Model on Logarithmic Transformation Data"
   ]
  },
  {
   "cell_type": "code",
   "execution_count": 21,
   "id": "b14abed0",
   "metadata": {},
   "outputs": [],
   "source": [
    "theme_data_log_clean <- theme_data_clean\n",
    "\n",
    "# Convert numerical variables to logarithms\n",
    "theme_data_log_clean$parts_count <- log(theme_data_log_clean$parts_count)\n",
    "\n",
    "# There are many 1 value in minifigures, plus 1 to aviod generating 0\n",
    "theme_data_log_clean$minifigures_count <- log(theme_data_log_clean$minifigures_count + 1)\n",
    "theme_data_log_clean$days_since_launch <- log(theme_data_log_clean$days_since_launch)\n",
    "theme_data_log_clean$retail_price <- log(theme_data_log_clean$retail_price)\n",
    "theme_data_log_clean$lifecycle_duration <- log(theme_data_log_clean$lifecycle_duration)\n",
    "theme_data_log_clean$resale_price_new <- log(theme_data_log_clean$resale_price_new)"
   ]
  },
  {
   "cell_type": "code",
   "execution_count": 22,
   "id": "aed477cb",
   "metadata": {},
   "outputs": [
    {
     "data": {
      "text/plain": [
       "  parts_count    minifigures_count     rating       retail_price   \n",
       " Min.   :2.485   Min.   :0.6931    Min.   :2.900   Min.   :0.6931  \n",
       " 1st Qu.:4.700   1st Qu.:1.0986    1st Qu.:3.800   1st Qu.:2.7074  \n",
       " Median :5.583   Median :1.6094    Median :4.000   Median :3.4009  \n",
       " Mean   :5.529   Mean   :1.4621    Mean   :3.985   Mean   :3.3805  \n",
       " 3rd Qu.:6.230   3rd Qu.:1.7918    3rd Qu.:4.200   3rd Qu.:3.9120  \n",
       " Max.   :8.556   Max.   :3.2189    Max.   :4.700   Max.   :6.5511  \n",
       " lifecycle_duration days_since_launch resale_price_new is_from_retired_theme\n",
       " Min.   :3.401      Min.   :4.796     Min.   :2.267    0:554                \n",
       " 1st Qu.:5.900      1st Qu.:7.980     1st Qu.:3.956    1:207                \n",
       " Median :6.360      Median :8.465     Median :4.751                         \n",
       " Mean   :6.247      Mean   :8.323     Mean   :4.709                         \n",
       " 3rd Qu.:6.592      3rd Qu.:8.818     3rd Qu.:5.460                         \n",
       " Max.   :7.892      Max.   :9.196     Max.   :7.680                         \n",
       " is_starwars\n",
       " 0:331      \n",
       " 1:430      \n",
       "            \n",
       "            \n",
       "            \n",
       "            "
      ]
     },
     "metadata": {},
     "output_type": "display_data"
    }
   ],
   "source": [
    "# Check the statistics of the data\n",
    "summary(theme_data_log_clean)"
   ]
  },
  {
   "cell_type": "code",
   "execution_count": 23,
   "id": "fbd876be",
   "metadata": {},
   "outputs": [
    {
     "data": {
      "text/html": [
       "608"
      ],
      "text/latex": [
       "608"
      ],
      "text/markdown": [
       "608"
      ],
      "text/plain": [
       "[1] 608"
      ]
     },
     "metadata": {},
     "output_type": "display_data"
    },
    {
     "data": {
      "text/html": [
       "153"
      ],
      "text/latex": [
       "153"
      ],
      "text/markdown": [
       "153"
      ],
      "text/plain": [
       "[1] 153"
      ]
     },
     "metadata": {},
     "output_type": "display_data"
    }
   ],
   "source": [
    "set.seed(123)\n",
    "# Set \"is_starwars\" and \"is from retired themes\" as factors\n",
    "theme_data_log_clean$is_starwars <- as.factor(theme_data_log_clean$is_starwars)\n",
    "theme_data_log_clean$is_from_retired_theme <- as.factor(theme_data_log_clean$is_from_retired_theme)\n",
    "\n",
    "# Calculate the size of the training data set\n",
    "train_size_log <- floor(0.8 * nrow(theme_data_log_clean))\n",
    "\n",
    "# Create a random row index vector\n",
    "train_index_log <- sample(seq_len(nrow(theme_data_log_clean)), size = train_size_log)\n",
    "\n",
    "# Create training set and test set based on index\n",
    "train_set_log <- theme_data_log_clean[train_index_log, ]\n",
    "test_set_log <- theme_data_log_clean[-train_index_log, ]\n",
    "\n",
    "# Check the rows of traing and test set\n",
    "nrow(train_set_log)\n",
    "nrow(test_set_log)"
   ]
  },
  {
   "cell_type": "code",
   "execution_count": 24,
   "id": "8e66227e",
   "metadata": {},
   "outputs": [],
   "source": [
    "# Create a function to train the Random Forest model using different parameters\n",
    "log_evaluate_rf_model <- function(data, outcome_var_name, folds = 10) {\n",
    "  \n",
    "  # The varied parametersin the model\n",
    "  ntree_values <- c(100, 200, 300, 400, 500)\n",
    "  mtry_values <- 1:8\n",
    "  \n",
    "  # Create a dataset to save the results\n",
    "  results <- expand.grid(ntree = integer(), mtry = integer(), RMSE = double(), Rsquared = double(), stringsAsFactors = FALSE)\n",
    "  \n",
    "  # Iterate through each parameter combination\n",
    "  for (ntree in ntree_values) {\n",
    "    for (mtry in mtry_values) {\n",
    "        \n",
    "      # Use k-fold cross validation, k is 10\n",
    "      train_control <- trainControl(method = \"cv\", number = folds, search = \"grid\", savePredictions = \"final\")\n",
    "      \n",
    "      # train the random forest model\n",
    "      model <- train(reformulate(\".\", outcome_var_name), data = data,\n",
    "                     method = \"rf\",\n",
    "                     trControl = train_control,\n",
    "                     tuneGrid = data.frame(mtry = mtry),\n",
    "                     ntree = ntree,\n",
    "                     metric = \"RMSE\")\n",
    "      \n",
    "      # Restore predicted and observed values from logarithmic form\n",
    "      preds_exp <- exp(model$pred$pred) \n",
    "      obs_exp <- exp(model$pred$obs) \n",
    "      \n",
    "      # Calculate RMSE\n",
    "      rmse_val <- round(rmse(obs_exp, preds_exp), 4)\n",
    "      \n",
    "       # Calculate R-square\n",
    "      rsq_val <- round(R2(obs_exp, preds_exp), 4)\n",
    "      \n",
    "      # Save the results\n",
    "      results <- rbind(results, data.frame(ntree = ntree, mtry = mtry, RMSE = rmse_val, Rsquared = rsq_val))\n",
    "    }\n",
    "  }\n",
    "  \n",
    "  return(results)\n",
    "}"
   ]
  },
  {
   "cell_type": "code",
   "execution_count": 25,
   "id": "11fd8855",
   "metadata": {},
   "outputs": [
    {
     "data": {
      "text/html": [
       "<table class=\"dataframe\">\n",
       "<caption>A data.frame: 40 × 4</caption>\n",
       "<thead>\n",
       "\t<tr><th scope=col>ntree</th><th scope=col>mtry</th><th scope=col>RMSE</th><th scope=col>Rsquared</th></tr>\n",
       "\t<tr><th scope=col>&lt;dbl&gt;</th><th scope=col>&lt;int&gt;</th><th scope=col>&lt;dbl&gt;</th><th scope=col>&lt;dbl&gt;</th></tr>\n",
       "</thead>\n",
       "<tbody>\n",
       "\t<tr><td>100</td><td>1</td><td>169.3804</td><td>0.5769</td></tr>\n",
       "\t<tr><td>100</td><td>2</td><td>145.5786</td><td>0.6124</td></tr>\n",
       "\t<tr><td>100</td><td>3</td><td>138.1191</td><td>0.6478</td></tr>\n",
       "\t<tr><td>100</td><td>4</td><td>136.4799</td><td>0.6447</td></tr>\n",
       "\t<tr><td>100</td><td>5</td><td>137.5306</td><td>0.6401</td></tr>\n",
       "\t<tr><td>100</td><td>6</td><td>137.8141</td><td>0.6353</td></tr>\n",
       "\t<tr><td>100</td><td>7</td><td>137.7526</td><td>0.6369</td></tr>\n",
       "\t<tr><td>100</td><td>8</td><td>135.9865</td><td>0.6453</td></tr>\n",
       "\t<tr><td>200</td><td>1</td><td>167.2686</td><td>0.5930</td></tr>\n",
       "\t<tr><td>200</td><td>2</td><td>144.5740</td><td>0.6257</td></tr>\n",
       "\t<tr><td>200</td><td>3</td><td>141.9352</td><td>0.6267</td></tr>\n",
       "\t<tr><td>200</td><td>4</td><td>138.9212</td><td>0.6365</td></tr>\n",
       "\t<tr><td>200</td><td>5</td><td>135.8539</td><td>0.6543</td></tr>\n",
       "\t<tr><td>200</td><td>6</td><td>140.9373</td><td>0.6162</td></tr>\n",
       "\t<tr><td>200</td><td>7</td><td>135.3945</td><td>0.6502</td></tr>\n",
       "\t<tr><td>200</td><td>8</td><td>136.8640</td><td>0.6434</td></tr>\n",
       "\t<tr><td>300</td><td>1</td><td>170.5510</td><td>0.5684</td></tr>\n",
       "\t<tr><td>300</td><td>2</td><td>143.7434</td><td>0.6386</td></tr>\n",
       "\t<tr><td>300</td><td>3</td><td>139.8993</td><td>0.6427</td></tr>\n",
       "\t<tr><td>300</td><td>4</td><td>136.7726</td><td>0.6495</td></tr>\n",
       "\t<tr><td>300</td><td>5</td><td>133.6964</td><td>0.6662</td></tr>\n",
       "\t<tr><td>300</td><td>6</td><td>142.0412</td><td>0.6130</td></tr>\n",
       "\t<tr><td>300</td><td>7</td><td>139.6859</td><td>0.6191</td></tr>\n",
       "\t<tr><td>300</td><td>8</td><td>139.7341</td><td>0.6219</td></tr>\n",
       "\t<tr><td>400</td><td>1</td><td>169.5064</td><td>0.5772</td></tr>\n",
       "\t<tr><td>400</td><td>2</td><td>141.9921</td><td>0.6422</td></tr>\n",
       "\t<tr><td>400</td><td>3</td><td>140.1298</td><td>0.6370</td></tr>\n",
       "\t<tr><td>400</td><td>4</td><td>140.0014</td><td>0.6302</td></tr>\n",
       "\t<tr><td>400</td><td>5</td><td>139.4812</td><td>0.6282</td></tr>\n",
       "\t<tr><td>400</td><td>6</td><td>135.9034</td><td>0.6517</td></tr>\n",
       "\t<tr><td>400</td><td>7</td><td>139.7291</td><td>0.6258</td></tr>\n",
       "\t<tr><td>400</td><td>8</td><td>135.4495</td><td>0.6524</td></tr>\n",
       "\t<tr><td>500</td><td>1</td><td>169.2920</td><td>0.5806</td></tr>\n",
       "\t<tr><td>500</td><td>2</td><td>144.3607</td><td>0.6301</td></tr>\n",
       "\t<tr><td>500</td><td>3</td><td>138.2650</td><td>0.6543</td></tr>\n",
       "\t<tr><td>500</td><td>4</td><td>137.5294</td><td>0.6436</td></tr>\n",
       "\t<tr><td>500</td><td>5</td><td>137.3449</td><td>0.6429</td></tr>\n",
       "\t<tr><td>500</td><td>6</td><td>138.6494</td><td>0.6297</td></tr>\n",
       "\t<tr><td>500</td><td>7</td><td>135.6000</td><td>0.6467</td></tr>\n",
       "\t<tr><td>500</td><td>8</td><td>138.6397</td><td>0.6282</td></tr>\n",
       "</tbody>\n",
       "</table>\n"
      ],
      "text/latex": [
       "A data.frame: 40 × 4\n",
       "\\begin{tabular}{llll}\n",
       " ntree & mtry & RMSE & Rsquared\\\\\n",
       " <dbl> & <int> & <dbl> & <dbl>\\\\\n",
       "\\hline\n",
       "\t 100 & 1 & 169.3804 & 0.5769\\\\\n",
       "\t 100 & 2 & 145.5786 & 0.6124\\\\\n",
       "\t 100 & 3 & 138.1191 & 0.6478\\\\\n",
       "\t 100 & 4 & 136.4799 & 0.6447\\\\\n",
       "\t 100 & 5 & 137.5306 & 0.6401\\\\\n",
       "\t 100 & 6 & 137.8141 & 0.6353\\\\\n",
       "\t 100 & 7 & 137.7526 & 0.6369\\\\\n",
       "\t 100 & 8 & 135.9865 & 0.6453\\\\\n",
       "\t 200 & 1 & 167.2686 & 0.5930\\\\\n",
       "\t 200 & 2 & 144.5740 & 0.6257\\\\\n",
       "\t 200 & 3 & 141.9352 & 0.6267\\\\\n",
       "\t 200 & 4 & 138.9212 & 0.6365\\\\\n",
       "\t 200 & 5 & 135.8539 & 0.6543\\\\\n",
       "\t 200 & 6 & 140.9373 & 0.6162\\\\\n",
       "\t 200 & 7 & 135.3945 & 0.6502\\\\\n",
       "\t 200 & 8 & 136.8640 & 0.6434\\\\\n",
       "\t 300 & 1 & 170.5510 & 0.5684\\\\\n",
       "\t 300 & 2 & 143.7434 & 0.6386\\\\\n",
       "\t 300 & 3 & 139.8993 & 0.6427\\\\\n",
       "\t 300 & 4 & 136.7726 & 0.6495\\\\\n",
       "\t 300 & 5 & 133.6964 & 0.6662\\\\\n",
       "\t 300 & 6 & 142.0412 & 0.6130\\\\\n",
       "\t 300 & 7 & 139.6859 & 0.6191\\\\\n",
       "\t 300 & 8 & 139.7341 & 0.6219\\\\\n",
       "\t 400 & 1 & 169.5064 & 0.5772\\\\\n",
       "\t 400 & 2 & 141.9921 & 0.6422\\\\\n",
       "\t 400 & 3 & 140.1298 & 0.6370\\\\\n",
       "\t 400 & 4 & 140.0014 & 0.6302\\\\\n",
       "\t 400 & 5 & 139.4812 & 0.6282\\\\\n",
       "\t 400 & 6 & 135.9034 & 0.6517\\\\\n",
       "\t 400 & 7 & 139.7291 & 0.6258\\\\\n",
       "\t 400 & 8 & 135.4495 & 0.6524\\\\\n",
       "\t 500 & 1 & 169.2920 & 0.5806\\\\\n",
       "\t 500 & 2 & 144.3607 & 0.6301\\\\\n",
       "\t 500 & 3 & 138.2650 & 0.6543\\\\\n",
       "\t 500 & 4 & 137.5294 & 0.6436\\\\\n",
       "\t 500 & 5 & 137.3449 & 0.6429\\\\\n",
       "\t 500 & 6 & 138.6494 & 0.6297\\\\\n",
       "\t 500 & 7 & 135.6000 & 0.6467\\\\\n",
       "\t 500 & 8 & 138.6397 & 0.6282\\\\\n",
       "\\end{tabular}\n"
      ],
      "text/markdown": [
       "\n",
       "A data.frame: 40 × 4\n",
       "\n",
       "| ntree &lt;dbl&gt; | mtry &lt;int&gt; | RMSE &lt;dbl&gt; | Rsquared &lt;dbl&gt; |\n",
       "|---|---|---|---|\n",
       "| 100 | 1 | 169.3804 | 0.5769 |\n",
       "| 100 | 2 | 145.5786 | 0.6124 |\n",
       "| 100 | 3 | 138.1191 | 0.6478 |\n",
       "| 100 | 4 | 136.4799 | 0.6447 |\n",
       "| 100 | 5 | 137.5306 | 0.6401 |\n",
       "| 100 | 6 | 137.8141 | 0.6353 |\n",
       "| 100 | 7 | 137.7526 | 0.6369 |\n",
       "| 100 | 8 | 135.9865 | 0.6453 |\n",
       "| 200 | 1 | 167.2686 | 0.5930 |\n",
       "| 200 | 2 | 144.5740 | 0.6257 |\n",
       "| 200 | 3 | 141.9352 | 0.6267 |\n",
       "| 200 | 4 | 138.9212 | 0.6365 |\n",
       "| 200 | 5 | 135.8539 | 0.6543 |\n",
       "| 200 | 6 | 140.9373 | 0.6162 |\n",
       "| 200 | 7 | 135.3945 | 0.6502 |\n",
       "| 200 | 8 | 136.8640 | 0.6434 |\n",
       "| 300 | 1 | 170.5510 | 0.5684 |\n",
       "| 300 | 2 | 143.7434 | 0.6386 |\n",
       "| 300 | 3 | 139.8993 | 0.6427 |\n",
       "| 300 | 4 | 136.7726 | 0.6495 |\n",
       "| 300 | 5 | 133.6964 | 0.6662 |\n",
       "| 300 | 6 | 142.0412 | 0.6130 |\n",
       "| 300 | 7 | 139.6859 | 0.6191 |\n",
       "| 300 | 8 | 139.7341 | 0.6219 |\n",
       "| 400 | 1 | 169.5064 | 0.5772 |\n",
       "| 400 | 2 | 141.9921 | 0.6422 |\n",
       "| 400 | 3 | 140.1298 | 0.6370 |\n",
       "| 400 | 4 | 140.0014 | 0.6302 |\n",
       "| 400 | 5 | 139.4812 | 0.6282 |\n",
       "| 400 | 6 | 135.9034 | 0.6517 |\n",
       "| 400 | 7 | 139.7291 | 0.6258 |\n",
       "| 400 | 8 | 135.4495 | 0.6524 |\n",
       "| 500 | 1 | 169.2920 | 0.5806 |\n",
       "| 500 | 2 | 144.3607 | 0.6301 |\n",
       "| 500 | 3 | 138.2650 | 0.6543 |\n",
       "| 500 | 4 | 137.5294 | 0.6436 |\n",
       "| 500 | 5 | 137.3449 | 0.6429 |\n",
       "| 500 | 6 | 138.6494 | 0.6297 |\n",
       "| 500 | 7 | 135.6000 | 0.6467 |\n",
       "| 500 | 8 | 138.6397 | 0.6282 |\n",
       "\n"
      ],
      "text/plain": [
       "   ntree mtry RMSE     Rsquared\n",
       "1  100   1    169.3804 0.5769  \n",
       "2  100   2    145.5786 0.6124  \n",
       "3  100   3    138.1191 0.6478  \n",
       "4  100   4    136.4799 0.6447  \n",
       "5  100   5    137.5306 0.6401  \n",
       "6  100   6    137.8141 0.6353  \n",
       "7  100   7    137.7526 0.6369  \n",
       "8  100   8    135.9865 0.6453  \n",
       "9  200   1    167.2686 0.5930  \n",
       "10 200   2    144.5740 0.6257  \n",
       "11 200   3    141.9352 0.6267  \n",
       "12 200   4    138.9212 0.6365  \n",
       "13 200   5    135.8539 0.6543  \n",
       "14 200   6    140.9373 0.6162  \n",
       "15 200   7    135.3945 0.6502  \n",
       "16 200   8    136.8640 0.6434  \n",
       "17 300   1    170.5510 0.5684  \n",
       "18 300   2    143.7434 0.6386  \n",
       "19 300   3    139.8993 0.6427  \n",
       "20 300   4    136.7726 0.6495  \n",
       "21 300   5    133.6964 0.6662  \n",
       "22 300   6    142.0412 0.6130  \n",
       "23 300   7    139.6859 0.6191  \n",
       "24 300   8    139.7341 0.6219  \n",
       "25 400   1    169.5064 0.5772  \n",
       "26 400   2    141.9921 0.6422  \n",
       "27 400   3    140.1298 0.6370  \n",
       "28 400   4    140.0014 0.6302  \n",
       "29 400   5    139.4812 0.6282  \n",
       "30 400   6    135.9034 0.6517  \n",
       "31 400   7    139.7291 0.6258  \n",
       "32 400   8    135.4495 0.6524  \n",
       "33 500   1    169.2920 0.5806  \n",
       "34 500   2    144.3607 0.6301  \n",
       "35 500   3    138.2650 0.6543  \n",
       "36 500   4    137.5294 0.6436  \n",
       "37 500   5    137.3449 0.6429  \n",
       "38 500   6    138.6494 0.6297  \n",
       "39 500   7    135.6000 0.6467  \n",
       "40 500   8    138.6397 0.6282  "
      ]
     },
     "metadata": {},
     "output_type": "display_data"
    }
   ],
   "source": [
    "set.seed(1234)\n",
    "# Call the function to train on train set\n",
    "log_result <- \n",
    "  log_evaluate_rf_model(train_set_log, \"resale_price_new\")\n",
    "\n",
    "log_result"
   ]
  },
  {
   "cell_type": "code",
   "execution_count": 26,
   "id": "4a1a2513",
   "metadata": {},
   "outputs": [
    {
     "data": {
      "text/html": [
       "<table class=\"dataframe\">\n",
       "<caption>A data.frame: 1 × 4</caption>\n",
       "<thead>\n",
       "\t<tr><th></th><th scope=col>ntree</th><th scope=col>mtry</th><th scope=col>RMSE</th><th scope=col>Rsquared</th></tr>\n",
       "\t<tr><th></th><th scope=col>&lt;dbl&gt;</th><th scope=col>&lt;int&gt;</th><th scope=col>&lt;dbl&gt;</th><th scope=col>&lt;dbl&gt;</th></tr>\n",
       "</thead>\n",
       "<tbody>\n",
       "\t<tr><th scope=row>21</th><td>300</td><td>5</td><td>133.6964</td><td>0.6662</td></tr>\n",
       "</tbody>\n",
       "</table>\n"
      ],
      "text/latex": [
       "A data.frame: 1 × 4\n",
       "\\begin{tabular}{r|llll}\n",
       "  & ntree & mtry & RMSE & Rsquared\\\\\n",
       "  & <dbl> & <int> & <dbl> & <dbl>\\\\\n",
       "\\hline\n",
       "\t21 & 300 & 5 & 133.6964 & 0.6662\\\\\n",
       "\\end{tabular}\n"
      ],
      "text/markdown": [
       "\n",
       "A data.frame: 1 × 4\n",
       "\n",
       "| <!--/--> | ntree &lt;dbl&gt; | mtry &lt;int&gt; | RMSE &lt;dbl&gt; | Rsquared &lt;dbl&gt; |\n",
       "|---|---|---|---|---|\n",
       "| 21 | 300 | 5 | 133.6964 | 0.6662 |\n",
       "\n"
      ],
      "text/plain": [
       "   ntree mtry RMSE     Rsquared\n",
       "21 300   5    133.6964 0.6662  "
      ]
     },
     "metadata": {},
     "output_type": "display_data"
    },
    {
     "data": {
      "text/html": [
       "<table class=\"dataframe\">\n",
       "<caption>A data.frame: 1 × 4</caption>\n",
       "<thead>\n",
       "\t<tr><th></th><th scope=col>ntree</th><th scope=col>mtry</th><th scope=col>RMSE</th><th scope=col>Rsquared</th></tr>\n",
       "\t<tr><th></th><th scope=col>&lt;dbl&gt;</th><th scope=col>&lt;int&gt;</th><th scope=col>&lt;dbl&gt;</th><th scope=col>&lt;dbl&gt;</th></tr>\n",
       "</thead>\n",
       "<tbody>\n",
       "\t<tr><th scope=row>21</th><td>300</td><td>5</td><td>133.6964</td><td>0.6662</td></tr>\n",
       "</tbody>\n",
       "</table>\n"
      ],
      "text/latex": [
       "A data.frame: 1 × 4\n",
       "\\begin{tabular}{r|llll}\n",
       "  & ntree & mtry & RMSE & Rsquared\\\\\n",
       "  & <dbl> & <int> & <dbl> & <dbl>\\\\\n",
       "\\hline\n",
       "\t21 & 300 & 5 & 133.6964 & 0.6662\\\\\n",
       "\\end{tabular}\n"
      ],
      "text/markdown": [
       "\n",
       "A data.frame: 1 × 4\n",
       "\n",
       "| <!--/--> | ntree &lt;dbl&gt; | mtry &lt;int&gt; | RMSE &lt;dbl&gt; | Rsquared &lt;dbl&gt; |\n",
       "|---|---|---|---|---|\n",
       "| 21 | 300 | 5 | 133.6964 | 0.6662 |\n",
       "\n"
      ],
      "text/plain": [
       "   ntree mtry RMSE     Rsquared\n",
       "21 300   5    133.6964 0.6662  "
      ]
     },
     "metadata": {},
     "output_type": "display_data"
    }
   ],
   "source": [
    "# Find the parameter combination with lowest RMSE\n",
    "log_best_rmse <- \n",
    "  log_result[which.min(log_result$RMSE), ]\n",
    "\n",
    "# Find the parameter combination with lowest R-square\n",
    "log_best_rsq <- \n",
    "  log_result[which.max(log_result$Rsquared), ]\n",
    "\n",
    "# Check the result\n",
    "log_best_rmse\n",
    "log_best_rsq"
   ]
  },
  {
   "cell_type": "code",
   "execution_count": 27,
   "id": "21a11598",
   "metadata": {},
   "outputs": [
    {
     "name": "stdout",
     "output_type": "stream",
     "text": [
      "[1] \"RMSE on test set is:  114.981560499672\"\n",
      "[1] \"R-squared on test set is:  0.533124871367151\"\n",
      "[1] \"Correlation coefficient on test set is:  0.730154005239409\"\n"
     ]
    }
   ],
   "source": [
    "# Train the model on the training dataset using optimal parameters\n",
    "log_final_model_rf <- \n",
    "  randomForest(resale_price_new ~ ., \n",
    "               data = train_set_log, \n",
    "               ntree = 300, \n",
    "               mtry = 5)\n",
    "\n",
    "# Use the final model to make predictions on the test dataset\n",
    "clean_test_predictions_log <- \n",
    "  predict(log_final_model_rf, test_set_log) %>%\n",
    "  exp()\n",
    "\n",
    "# Calculate RMSE and R-square on the test set \n",
    "log_test_rmse <- \n",
    "  rmse(exp(test_set_log$resale_price_new), clean_test_predictions_log)\n",
    "\n",
    "log_test_rsq <- \n",
    "  R2(clean_test_predictions_log, exp(test_set_log$resale_price_new))\n",
    "\n",
    "log_test_r <-\n",
    "  cor(clean_test_predictions_log, exp(test_set_log$resale_price_new))\n",
    "\n",
    "# Print the results\n",
    "print(paste(\"RMSE on test set is: \", log_test_rmse))\n",
    "print(paste(\"R-squared on test set is: \", log_test_rsq))\n",
    "print(paste(\"Correlation coefficient on test set is: \", log_test_r))"
   ]
  },
  {
   "cell_type": "code",
   "execution_count": 28,
   "id": "1a7b00c4",
   "metadata": {},
   "outputs": [],
   "source": [
    "# Predict on dataset for vasualisation\n",
    "log_total_test_predictions <- \n",
    "  predict(log_final_model_rf, theme_data_log_clean) %>%\n",
    "  exp()\n",
    "\n",
    "# Create a dataset for visualisation\n",
    "log_total_actual_predict_data <-\n",
    "  data.frame(actual = exp(theme_data_log_clean$resale_price_new),\n",
    "             predicted = log_total_test_predictions)\n"
   ]
  },
  {
   "cell_type": "code",
   "execution_count": 29,
   "id": "00312366",
   "metadata": {},
   "outputs": [
    {
     "data": {
      "text/plain": [
       "     actual          predicted      \n",
       " Min.   :   9.65   Min.   :  13.61  \n",
       " 1st Qu.:  52.26   1st Qu.:  54.81  \n",
       " Median : 115.73   Median : 112.17  \n",
       " Mean   : 182.98   Mean   : 168.09  \n",
       " 3rd Qu.: 235.16   3rd Qu.: 221.43  \n",
       " Max.   :2165.01   Max.   :1403.68  "
      ]
     },
     "metadata": {},
     "output_type": "display_data"
    }
   ],
   "source": [
    "# Check statistics of actual and predicted price\n",
    "summary(log_total_actual_predict_data)"
   ]
  },
  {
   "cell_type": "code",
   "execution_count": 127,
   "id": "efba656e",
   "metadata": {},
   "outputs": [
    {
     "data": {
      "image/png": "[encoded data removed]",
      "text/plain": [
       "plot without title"
      ]
     },
     "metadata": {
      "image/png": {
       "height": 600,
       "width": 840
      }
     },
     "output_type": "display_data"
    }
   ],
   "source": [
    "# Create a scatter plot of actual price vs predicted price\n",
    "log_actual_predicted_plot <- \n",
    "  log_total_actual_predict_data %>%\n",
    "  ggplot(aes(x = actual, y = predicted)) +\n",
    "  geom_point(shape = 3, color = \"dodgerblue3\", size = 2) +\n",
    "  labs(\n",
    "    x = \"Actual Price (USD)\",\n",
    "    y = \"Predicted Price (USD)\",\n",
    "    title = \"Actual Price vs Predicted Price\\n(Random Forest Model on Logarithmic Data)\"\n",
    "  ) +\n",
    "  geom_abline(intercept = 0, slope = 1, linetype = \"dashed\", color = \"black\", linewidth = 1) + # 添加斜率为1的线\n",
    "  theme_minimal() +\n",
    "  theme(\n",
    "    plot.title = element_text(size = 26, hjust = 0.5, face = \"bold\"),\n",
    "    axis.title = element_text(size =24, color = 'black'),\n",
    "    axis.text = element_text(size = 24, color = 'black'),\n",
    "    panel.grid.major = element_blank(),\n",
    "    panel.grid.minor = element_blank(),\n",
    "    panel.grid.minor.y = element_blank(),\n",
    "    axis.ticks = element_line(linewidth = 1),\n",
    "    panel.border = element_rect(colour = \"black\", fill = NA, linewidth = 1),\n",
    "    axis.line = element_line(colour = \"black\", linewidth = 0.5))\n",
    "\n",
    "log_actual_predicted_plot"
   ]
  },
  {
   "cell_type": "code",
   "execution_count": 128,
   "id": "9d1b2dd5",
   "metadata": {},
   "outputs": [],
   "source": [
    "# Save the plot\n",
    "ggsave(\"log_rf_actual_predicted_plot.jpg\", plot = log_actual_predicted_plot, width = 13, height = 9, units = \"in\", dpi = 300)"
   ]
  },
  {
   "cell_type": "code",
   "execution_count": 30,
   "id": "2f9ebe8d",
   "metadata": {},
   "outputs": [
    {
     "data": {
      "text/html": [
       "<table class=\"dataframe\">\n",
       "<caption>A data.frame: 8 × 2</caption>\n",
       "<thead>\n",
       "\t<tr><th></th><th scope=col>Variable</th><th scope=col>Importance</th></tr>\n",
       "\t<tr><th></th><th scope=col>&lt;chr&gt;</th><th scope=col>&lt;dbl&gt;</th></tr>\n",
       "</thead>\n",
       "<tbody>\n",
       "\t<tr><th scope=row>retail_price</th><td>retail_price         </td><td>240.661843</td></tr>\n",
       "\t<tr><th scope=row>days_since_launch</th><td>days_since_launch    </td><td>126.244910</td></tr>\n",
       "\t<tr><th scope=row>parts_count</th><td>parts_count          </td><td>125.639248</td></tr>\n",
       "\t<tr><th scope=row>rating</th><td>rating               </td><td>101.751473</td></tr>\n",
       "\t<tr><th scope=row>minifigures_count</th><td>minifigures_count    </td><td> 20.889398</td></tr>\n",
       "\t<tr><th scope=row>lifecycle_duration</th><td>lifecycle_duration   </td><td> 20.739018</td></tr>\n",
       "\t<tr><th scope=row>is_starwars</th><td>is_starwars          </td><td>  5.875522</td></tr>\n",
       "\t<tr><th scope=row>is_from_retired_theme</th><td>is_from_retired_theme</td><td>  2.616655</td></tr>\n",
       "</tbody>\n",
       "</table>\n"
      ],
      "text/latex": [
       "A data.frame: 8 × 2\n",
       "\\begin{tabular}{r|ll}\n",
       "  & Variable & Importance\\\\\n",
       "  & <chr> & <dbl>\\\\\n",
       "\\hline\n",
       "\tretail\\_price & retail\\_price          & 240.661843\\\\\n",
       "\tdays\\_since\\_launch & days\\_since\\_launch     & 126.244910\\\\\n",
       "\tparts\\_count & parts\\_count           & 125.639248\\\\\n",
       "\trating & rating                & 101.751473\\\\\n",
       "\tminifigures\\_count & minifigures\\_count     &  20.889398\\\\\n",
       "\tlifecycle\\_duration & lifecycle\\_duration    &  20.739018\\\\\n",
       "\tis\\_starwars & is\\_starwars           &   5.875522\\\\\n",
       "\tis\\_from\\_retired\\_theme & is\\_from\\_retired\\_theme &   2.616655\\\\\n",
       "\\end{tabular}\n"
      ],
      "text/markdown": [
       "\n",
       "A data.frame: 8 × 2\n",
       "\n",
       "| <!--/--> | Variable &lt;chr&gt; | Importance &lt;dbl&gt; |\n",
       "|---|---|---|\n",
       "| retail_price | retail_price          | 240.661843 |\n",
       "| days_since_launch | days_since_launch     | 126.244910 |\n",
       "| parts_count | parts_count           | 125.639248 |\n",
       "| rating | rating                | 101.751473 |\n",
       "| minifigures_count | minifigures_count     |  20.889398 |\n",
       "| lifecycle_duration | lifecycle_duration    |  20.739018 |\n",
       "| is_starwars | is_starwars           |   5.875522 |\n",
       "| is_from_retired_theme | is_from_retired_theme |   2.616655 |\n",
       "\n"
      ],
      "text/plain": [
       "                      Variable              Importance\n",
       "retail_price          retail_price          240.661843\n",
       "days_since_launch     days_since_launch     126.244910\n",
       "parts_count           parts_count           125.639248\n",
       "rating                rating                101.751473\n",
       "minifigures_count     minifigures_count      20.889398\n",
       "lifecycle_duration    lifecycle_duration     20.739018\n",
       "is_starwars           is_starwars             5.875522\n",
       "is_from_retired_theme is_from_retired_theme   2.616655"
      ]
     },
     "metadata": {},
     "output_type": "display_data"
    }
   ],
   "source": [
    "# Analyze the variable importance in Random Forest model\n",
    "log_importance_values <- importance(log_final_model_rf)\n",
    "\n",
    "# Save the result in a dataset\n",
    "log_importance_df <- data.frame(Variable = row.names(log_importance_values), \n",
    "                            Importance = log_importance_values[, 'IncNodePurity'])\n",
    "\n",
    "# Order the variables from most importance to leaset importance\n",
    "log_importance_df <-\n",
    "  log_importance_df[order(-log_importance_df$Importance),]\n",
    "\n",
    "log_importance_df"
   ]
  },
  {
   "cell_type": "code",
   "execution_count": 31,
   "id": "999fd615",
   "metadata": {},
   "outputs": [
    {
     "name": "stdout",
     "output_type": "stream",
     "text": [
      "                                   Variable Importance\n",
      "retail_price                   Retail Price 240.661843\n",
      "days_since_launch         Days Since Launch 126.244910\n",
      "parts_count                 Number of Parts 125.639248\n",
      "rating                               Rating 101.751473\n",
      "minifigures_count     Number of Minifigures  20.889398\n",
      "lifecycle_duration       Lifecycle Duration  20.739018\n",
      "is_starwars                    Is Star Wars   5.875522\n",
      "is_from_retired_theme Is from Retired Theme   2.616655\n"
     ]
    }
   ],
   "source": [
    "# Rename the variables to visualize\n",
    "log_new_variable_names <- c(\"Retail Price\", \"Days Since Launch\", \"Number of Parts\",\n",
    "                        \"Rating\", \"Number of Minifigures\", \"Lifecycle Duration\",\n",
    "                        \"Is Star Wars\", \"Is from Retired Theme\")\n",
    "\n",
    "# Assign the variable name to dateset\n",
    "log_importance_df$Variable <- log_new_variable_names\n",
    "\n",
    "# Check the results\n",
    "print(log_importance_df)"
   ]
  },
  {
   "cell_type": "code",
   "execution_count": 37,
   "id": "ec304598",
   "metadata": {},
   "outputs": [
    {
     "data": {
      "image/png": "[encoded data removed]",
      "text/plain": [
       "plot without title"
      ]
     },
     "metadata": {
      "image/png": {
       "height": 660,
       "width": 900
      }
     },
     "output_type": "display_data"
    }
   ],
   "source": [
    "# Create the vasualisation for variable importance\n",
    "log_variable_importance_plot1 <- \n",
    "  log_importance_df %>%\n",
    "  ggplot(aes(x = reorder(Variable, Importance), y = Importance)) +\n",
    "  geom_bar(stat = \"identity\", width = 0.7, fill = \"royalblue2\") +\n",
    "  coord_flip() +  \n",
    "  theme_minimal() +\n",
    "  labs(title = \"Variable Importance in Random Forest Model\\n(on Logarithmic Data)\",\n",
    "       x = \"Variables\",\n",
    "       y = \"Increase Node Purity\") +\n",
    "   theme(text = element_text(size = 22),\n",
    "        plot.title = element_text(hjust = 0.5, size = 22, face = \"bold\"),\n",
    "        axis.title = element_text(size = 24),\n",
    "        axis.text.y = element_text(size = 24),\n",
    "        panel.grid.major = element_blank(),\n",
    "        panel.grid.minor = element_blank(),\n",
    "        panel.border = element_rect(colour = \"black\", fill = NA, linewidth = 1),\n",
    "        axis.ticks = element_line(linewidth = 1))\n",
    "\n",
    "log_variable_importance_plot1"
   ]
  },
  {
   "cell_type": "code",
   "execution_count": 39,
   "id": "aeec9b49",
   "metadata": {},
   "outputs": [],
   "source": [
    "# Save the plot above\n",
    "ggsave(\"log_variable_importance_plot.jpg\", plot = log_variable_importance_plot1, width = 16, height = 10, units = \"in\", dpi = 300)"
   ]
  },
  {
   "cell_type": "markdown",
   "id": "498135ba",
   "metadata": {},
   "source": [
    "### Build multipile regression model"
   ]
  },
  {
   "cell_type": "code",
   "execution_count": 232,
   "id": "524dfe3b",
   "metadata": {},
   "outputs": [
    {
     "data": {
      "text/plain": [
       "\n",
       "Call:\n",
       "lm(formula = resale_price_new ~ retail_price + parts_count + \n",
       "    days_since_launch + rating, data = train_set)\n",
       "\n",
       "Residuals:\n",
       "    Min      1Q  Median      3Q     Max \n",
       "-751.82  -69.97   -7.19   38.30  889.14 \n",
       "\n",
       "Coefficients:\n",
       "                    Estimate Std. Error t value Pr(>|t|)    \n",
       "(Intercept)       -7.975e+02  7.905e+01 -10.089  < 2e-16 ***\n",
       "retail_price       1.757e+00  3.765e-01   4.665  3.8e-06 ***\n",
       "parts_count        4.848e-02  4.261e-02   1.138    0.256    \n",
       "days_since_launch  2.950e-02  2.363e-03  12.485  < 2e-16 ***\n",
       "rating             1.842e+02  2.069e+01   8.906  < 2e-16 ***\n",
       "---\n",
       "Signif. codes:  0 '***' 0.001 '**' 0.01 '*' 0.05 '.' 0.1 ' ' 1\n",
       "\n",
       "Residual standard error: 139.9 on 603 degrees of freedom\n",
       "Multiple R-squared:  0.6048,\tAdjusted R-squared:  0.6022 \n",
       "F-statistic: 230.7 on 4 and 603 DF,  p-value: < 2.2e-16\n"
      ]
     },
     "metadata": {},
     "output_type": "display_data"
    }
   ],
   "source": [
    "# Train the Linear regression model using these four most important variables\n",
    "lm_model_4 <- \n",
    "  lm(resale_price_new ~  retail_price  + parts_count + \n",
    "                         days_since_launch + rating , \n",
    "                         data = train_set)\n",
    "\n",
    "summary(lm_model_4)"
   ]
  },
  {
   "cell_type": "code",
   "execution_count": 233,
   "id": "0f1142e7",
   "metadata": {},
   "outputs": [
    {
     "name": "stdout",
     "output_type": "stream",
     "text": [
      "RMSE on test set is:  123.5482 \n",
      "R-squared on test set is:  0.4629123"
     ]
    }
   ],
   "source": [
    "# Predict price using this model\n",
    "lm_predictions_4 <- \n",
    "  predict(lm_model_4, test_set)\n",
    "\n",
    "# Calculate RMSE\n",
    "rmse_4 <- \n",
    "  rmse(test_set$resale_price_new, lm_predictions_4)\n",
    "\n",
    "# Calculate R-square\n",
    "rsq_4 <- \n",
    "  R2(lm_predictions_4, test_set$resale_price_new)\n",
    "\n",
    "cat(\"RMSE on test set is: \", rmse_4, \"\\n\")\n",
    "cat(\"R-squared on test set is: \",rsq_4)"
   ]
  },
  {
   "cell_type": "code",
   "execution_count": 235,
   "id": "3ba2a098",
   "metadata": {},
   "outputs": [
    {
     "data": {
      "text/plain": [
       "\n",
       "Call:\n",
       "lm(formula = resale_price_new ~ retail_price + parts_count + \n",
       "    days_since_launch + rating + lifecycle_duration, data = train_set)\n",
       "\n",
       "Residuals:\n",
       "    Min      1Q  Median      3Q     Max \n",
       "-767.09  -66.96  -11.58   42.58  885.88 \n",
       "\n",
       "Coefficients:\n",
       "                     Estimate Std. Error t value Pr(>|t|)    \n",
       "(Intercept)        -7.496e+02  7.821e+01  -9.584  < 2e-16 ***\n",
       "retail_price        1.744e+00  3.696e-01   4.718 2.97e-06 ***\n",
       "parts_count         7.252e-02  4.211e-02   1.722   0.0855 .  \n",
       "days_since_launch   3.172e-02  2.363e-03  13.421  < 2e-16 ***\n",
       "rating              1.841e+02  2.031e+01   9.066  < 2e-16 ***\n",
       "lifecycle_duration -1.184e-01  2.422e-02  -4.889 1.30e-06 ***\n",
       "---\n",
       "Signif. codes:  0 '***' 0.001 '**' 0.01 '*' 0.05 '.' 0.1 ' ' 1\n",
       "\n",
       "Residual standard error: 137.4 on 602 degrees of freedom\n",
       "Multiple R-squared:  0.6199,\tAdjusted R-squared:  0.6168 \n",
       "F-statistic: 196.4 on 5 and 602 DF,  p-value: < 2.2e-16\n"
      ]
     },
     "metadata": {},
     "output_type": "display_data"
    }
   ],
   "source": [
    "# Train the Linear Regression model adding a variable \"minifigures_count\"\n",
    "lm_model_5 <- \n",
    "  lm(resale_price_new ~  retail_price  + parts_count + \n",
    "                         days_since_launch + rating +\n",
    "                         lifecycle_duration, \n",
    "                         data = train_set)\n",
    "\n",
    "summary(lm_model_5)"
   ]
  },
  {
   "cell_type": "code",
   "execution_count": 236,
   "id": "3895d082",
   "metadata": {},
   "outputs": [
    {
     "name": "stdout",
     "output_type": "stream",
     "text": [
      "RMSE on test set is:  122.8769 \n",
      "R-squared on test set is:  0.4726415"
     ]
    }
   ],
   "source": [
    "# Predict price using this model\n",
    "lm_predictions_5 <- \n",
    "  predict(lm_model_5, test_set)\n",
    "\n",
    "# Calculate RMSE\n",
    "rmse_5 <- \n",
    "  rmse(test_set$resale_price_new, lm_predictions_5)\n",
    "\n",
    "# Calculate R-square\n",
    "rsq_5 <- \n",
    "  R2(lm_predictions_5, test_set$resale_price_new)\n",
    "\n",
    "cat(\"RMSE on test set is: \", rmse_5, \"\\n\")\n",
    "cat(\"R-squared on test set is: \",rsq_5)"
   ]
  },
  {
   "cell_type": "code",
   "execution_count": 237,
   "id": "6d8635c5",
   "metadata": {},
   "outputs": [
    {
     "data": {
      "text/plain": [
       "\n",
       "Call:\n",
       "lm(formula = resale_price_new ~ retail_price + days_since_launch + \n",
       "    rating + parts_count + lifecycle_duration + minifigures_count, \n",
       "    data = train_set)\n",
       "\n",
       "Residuals:\n",
       "    Min      1Q  Median      3Q     Max \n",
       "-661.71  -67.80  -11.25   43.28  905.74 \n",
       "\n",
       "Coefficients:\n",
       "                     Estimate Std. Error t value Pr(>|t|)    \n",
       "(Intercept)        -7.202e+02  7.797e+01  -9.238  < 2e-16 ***\n",
       "retail_price        1.633e+00  3.676e-01   4.441 1.07e-05 ***\n",
       "days_since_launch   3.202e-02  2.344e-03  13.663  < 2e-16 ***\n",
       "rating              1.703e+02  2.051e+01   8.301 6.82e-16 ***\n",
       "parts_count         6.981e-02  4.174e-02   1.672 0.094954 .  \n",
       "lifecycle_duration -1.178e-01  2.400e-02  -4.906 1.20e-06 ***\n",
       "minifigures_count   7.702e+00  2.225e+00   3.462 0.000575 ***\n",
       "---\n",
       "Signif. codes:  0 '***' 0.001 '**' 0.01 '*' 0.05 '.' 0.1 ' ' 1\n",
       "\n",
       "Residual standard error: 136.1 on 601 degrees of freedom\n",
       "Multiple R-squared:  0.6274,\tAdjusted R-squared:  0.6236 \n",
       "F-statistic: 168.6 on 6 and 601 DF,  p-value: < 2.2e-16\n"
      ]
     },
     "metadata": {},
     "output_type": "display_data"
    }
   ],
   "source": [
    "# Train the Linear Regression model adding a variable \"lifecycle_duration\"\n",
    "lm_model_6 <- \n",
    "  lm(resale_price_new ~ retail_price + days_since_launch +\n",
    "                        rating + parts_count + \n",
    "                        lifecycle_duration + minifigures_count,\n",
    "                        data = train_set)\n",
    "\n",
    "summary(lm_model_6)"
   ]
  },
  {
   "cell_type": "code",
   "execution_count": 238,
   "id": "8f132bcd",
   "metadata": {},
   "outputs": [
    {
     "name": "stdout",
     "output_type": "stream",
     "text": [
      "RMSE on test set is:  124.8129 \n",
      "R-squared on test set is:  0.4647441"
     ]
    }
   ],
   "source": [
    "# Predict price using this model\n",
    "lm_predictions_6 <- \n",
    "  predict(lm_model_6, test_set)\n",
    "\n",
    "# Calculate RMSE\n",
    "rmse_6 <- \n",
    "  rmse(test_set$resale_price_new, lm_predictions_6)\n",
    "\n",
    "# Calculate R-square\n",
    "rsq_6 <- \n",
    "  R2(lm_predictions_6, test_set$resale_price_new)\n",
    "\n",
    "cat(\"RMSE on test set is: \", rmse_6, \"\\n\")\n",
    "cat(\"R-squared on test set is: \",rsq_6)"
   ]
  },
  {
   "cell_type": "code",
   "execution_count": 239,
   "id": "9953c73e",
   "metadata": {},
   "outputs": [
    {
     "data": {
      "text/plain": [
       "\n",
       "Call:\n",
       "lm(formula = resale_price_new ~ retail_price + days_since_launch + \n",
       "    rating + parts_count + minifigures_count + lifecycle_duration + \n",
       "    is_starwars, data = train_set)\n",
       "\n",
       "Residuals:\n",
       "    Min      1Q  Median      3Q     Max \n",
       "-650.42  -66.40  -11.40   43.41  891.86 \n",
       "\n",
       "Coefficients:\n",
       "                     Estimate Std. Error t value Pr(>|t|)    \n",
       "(Intercept)        -7.516e+02  8.146e+01  -9.226  < 2e-16 ***\n",
       "retail_price        1.598e+00  3.684e-01   4.338 1.69e-05 ***\n",
       "days_since_launch   3.392e-02  2.748e-03  12.342  < 2e-16 ***\n",
       "rating              1.742e+02  2.072e+01   8.410 3.00e-16 ***\n",
       "parts_count         7.286e-02  4.178e-02   1.744 0.081653 .  \n",
       "minifigures_count   7.801e+00  2.225e+00   3.506 0.000488 ***\n",
       "lifecycle_duration -1.243e-01  2.450e-02  -5.074 5.19e-07 ***\n",
       "is_starwars1        1.790e+01  1.357e+01   1.319 0.187605    \n",
       "---\n",
       "Signif. codes:  0 '***' 0.001 '**' 0.01 '*' 0.05 '.' 0.1 ' ' 1\n",
       "\n",
       "Residual standard error: 136 on 600 degrees of freedom\n",
       "Multiple R-squared:  0.6284,\tAdjusted R-squared:  0.6241 \n",
       "F-statistic:   145 on 7 and 600 DF,  p-value: < 2.2e-16\n"
      ]
     },
     "metadata": {},
     "output_type": "display_data"
    }
   ],
   "source": [
    "# Train the Linear Regression model adding a variable \"is_starwars\"\n",
    "lm_model_7 <- \n",
    "  lm(resale_price_new ~ retail_price + days_since_launch +\n",
    "                        rating + parts_count + \n",
    "                        minifigures_count + lifecycle_duration +\n",
    "                        is_starwars, \n",
    "                        data = train_set)\n",
    "\n",
    "summary(lm_model_7)"
   ]
  },
  {
   "cell_type": "code",
   "execution_count": 240,
   "id": "58adce08",
   "metadata": {},
   "outputs": [
    {
     "name": "stdout",
     "output_type": "stream",
     "text": [
      "RMSE on test set is:  124.3363 \n",
      "R-squared on test set is:  0.4687981"
     ]
    }
   ],
   "source": [
    "# Predict price using this model\n",
    "lm_predictions_7 <- \n",
    "  predict(lm_model_7,test_set)\n",
    "\n",
    "# Calculate RMSE\n",
    "rmse_7 <- \n",
    "  rmse(test_set$resale_price_new, lm_predictions_7)\n",
    "\n",
    "# Calculate R-square\n",
    "rsq_7 <- \n",
    "  R2(lm_predictions_7, test_set$resale_price_new)\n",
    "\n",
    "cat(\"RMSE on test set is: \", rmse_7, \"\\n\")\n",
    "cat(\"R-squared on test set is: \",rsq_7)"
   ]
  },
  {
   "cell_type": "code",
   "execution_count": 243,
   "id": "56cdc87f",
   "metadata": {},
   "outputs": [
    {
     "data": {
      "text/plain": [
       "\n",
       "Call:\n",
       "lm(formula = resale_price_new ~ retail_price + days_since_launch + \n",
       "    rating + lifecycle_duration + minifigures_count + is_from_retired_theme, \n",
       "    data = train_set)\n",
       "\n",
       "Residuals:\n",
       "    Min      1Q  Median      3Q     Max \n",
       "-729.21  -67.13  -14.27   44.92  884.85 \n",
       "\n",
       "Coefficients:\n",
       "                         Estimate Std. Error t value Pr(>|t|)    \n",
       "(Intercept)            -783.88221   77.21448 -10.152  < 2e-16 ***\n",
       "retail_price              2.18943    0.12145  18.028  < 2e-16 ***\n",
       "days_since_launch         0.03432    0.00248  13.841  < 2e-16 ***\n",
       "rating                  187.69911   20.37253   9.213  < 2e-16 ***\n",
       "lifecycle_duration       -0.12079    0.02385  -5.065 5.43e-07 ***\n",
       "minifigures_count         7.54914    2.21386   3.410 0.000693 ***\n",
       "is_from_retired_theme1  -41.07108   13.47993  -3.047 0.002414 ** \n",
       "---\n",
       "Signif. codes:  0 '***' 0.001 '**' 0.01 '*' 0.05 '.' 0.1 ' ' 1\n",
       "\n",
       "Residual standard error: 135.4 on 601 degrees of freedom\n",
       "Multiple R-squared:  0.6313,\tAdjusted R-squared:  0.6276 \n",
       "F-statistic: 171.5 on 6 and 601 DF,  p-value: < 2.2e-16\n"
      ]
     },
     "metadata": {},
     "output_type": "display_data"
    }
   ],
   "source": [
    "# Train Linear Regression model adding \"is_from_retired_theme\"\n",
    "lm_model_8 <- \n",
    "  lm(resale_price_new ~ retail_price + days_since_launch +\n",
    "                        rating + lifecycle_duration + minifigures_count + \n",
    "                     is_from_retired_theme, \n",
    "                        data = train_set)\n",
    "\n",
    "summary(lm_model_8)"
   ]
  },
  {
   "cell_type": "code",
   "execution_count": 244,
   "id": "682eac2d",
   "metadata": {},
   "outputs": [
    {
     "name": "stdout",
     "output_type": "stream",
     "text": [
      "RMSE on test set is:  123.0159 \n",
      "R-squared on test set is:  0.4830497"
     ]
    }
   ],
   "source": [
    "# Predict price using this model on test set\n",
    "lm_predictions_8 <- \n",
    "  predict(lm_model_8, test_set)\n",
    "\n",
    "# Calculate RMSE\n",
    "final_lm_rmse_8 <- \n",
    "  rmse(test_set$resale_price_new, lm_predictions_8)\n",
    "\n",
    "# Calculate R-square\n",
    "final_lm_rsq_8 <- \n",
    "  R2(lm_predictions_8, test_set$resale_price_new)\n",
    "\n",
    "cat(\"RMSE on test set is: \", final_lm_rmse_8, \"\\n\")\n",
    "cat(\"R-squared on test set is: \",final_lm_rsq_8 )"
   ]
  },
  {
   "cell_type": "code",
   "execution_count": 245,
   "id": "c5ff02fb",
   "metadata": {},
   "outputs": [
    {
     "data": {
      "text/plain": [
       "\n",
       "Call:\n",
       "lm(formula = resale_price_new ~ retail_price + days_since_launch + \n",
       "    rating + lifecycle_duration + is_from_retired_theme, data = train_set)\n",
       "\n",
       "Residuals:\n",
       "    Min      1Q  Median      3Q     Max \n",
       "-835.01  -70.47  -13.32   42.94  854.11 \n",
       "\n",
       "Coefficients:\n",
       "                         Estimate Std. Error t value Pr(>|t|)    \n",
       "(Intercept)            -8.150e+02  7.735e+01 -10.537  < 2e-16 ***\n",
       "retail_price            2.319e+00  1.163e-01  19.934  < 2e-16 ***\n",
       "days_since_launch       3.411e-02  2.501e-03  13.640  < 2e-16 ***\n",
       "rating                  2.019e+02  2.012e+01  10.033  < 2e-16 ***\n",
       "lifecycle_duration     -1.216e-01  2.406e-02  -5.053 5.77e-07 ***\n",
       "is_from_retired_theme1 -4.259e+01  1.359e+01  -3.134  0.00181 ** \n",
       "---\n",
       "Signif. codes:  0 '***' 0.001 '**' 0.01 '*' 0.05 '.' 0.1 ' ' 1\n",
       "\n",
       "Residual standard error: 136.6 on 602 degrees of freedom\n",
       "Multiple R-squared:  0.6242,\tAdjusted R-squared:  0.6211 \n",
       "F-statistic:   200 on 5 and 602 DF,  p-value: < 2.2e-16\n"
      ]
     },
     "metadata": {},
     "output_type": "display_data"
    }
   ],
   "source": [
    "final_lm_model <- \n",
    "  lm(resale_price_new ~ retail_price + \n",
    "                        days_since_launch + rating +\n",
    "                        lifecycle_duration + \n",
    "                        is_from_retired_theme,\n",
    "                        data = train_set)\n",
    "\n",
    "summary(final_lm_model)"
   ]
  },
  {
   "cell_type": "code",
   "execution_count": 246,
   "id": "a6e920a6",
   "metadata": {},
   "outputs": [
    {
     "name": "stdout",
     "output_type": "stream",
     "text": [
      "RMSE on test set is:  121.1514 \n",
      "R-squared on test set is:  0.4904034 \n"
     ]
    }
   ],
   "source": [
    "# Predict price using final model on test set\n",
    "lm_predictions <- \n",
    "  predict(final_lm_model, test_set)\n",
    "\n",
    "# Calculate RMSE\n",
    "final_lm_rmse <- \n",
    "  rmse(test_set$resale_price_new, lm_predictions)\n",
    "\n",
    "# Calculate R-square\n",
    "final_lm_rsq <- \n",
    "  R2(lm_predictions, test_set$resale_price_new)\n",
    "\n",
    "cat(\"RMSE on test set is: \", final_lm_rmse, \"\\n\")\n",
    "cat(\"R-squared on test set is: \",final_lm_rsq, \"\\n\" )"
   ]
  },
  {
   "cell_type": "code",
   "execution_count": 247,
   "id": "f479a902",
   "metadata": {},
   "outputs": [],
   "source": [
    "lm_toal_test_predictions <- \n",
    "  predict(final_lm_model, theme_data_clean)\n",
    "\n",
    "lm_total_actual_predict_data <-\n",
    "  data.frame(actual = theme_data_clean$resale_price_new,\n",
    "             predicted = lm_toal_test_predictions)"
   ]
  },
  {
   "cell_type": "code",
   "execution_count": 267,
   "id": "0d4cc4bf",
   "metadata": {},
   "outputs": [
    {
     "data": {
      "image/png": "[encoded data removed]",
      "text/plain": [
       "plot without title"
      ]
     },
     "metadata": {
      "image/png": {
       "height": 600,
       "width": 840
      }
     },
     "output_type": "display_data"
    }
   ],
   "source": [
    "lm_actual_predicted_plot <- \n",
    "  lm_total_actual_predict_data %>%\n",
    "  ggplot(aes(x = actual, y = predicted)) +\n",
    "  geom_point(shape = 3, color = \"purple4\", size = 2) +\n",
    "  labs(\n",
    "    x = \"Actual Price (USD)\",\n",
    "    y = \"Predicted Price (USD)\",\n",
    "    title = \"Actual Price vs Predicted Price\\n(Linear Regression Model on Original Data)\"\n",
    "  ) +\n",
    "  geom_abline(intercept = 0, slope = 1, linetype = \"dashed\", color = \"black\", linewidth = 1) +\n",
    "  theme_minimal() +\n",
    "  theme(\n",
    "    plot.title = element_text(size = 26, hjust = 0.5, face = \"bold\"),\n",
    "    axis.title = element_text(size =24),\n",
    "    axis.text = element_text(size = 24),\n",
    "    panel.grid.major = element_blank(),\n",
    "    panel.grid.minor = element_blank(),\n",
    "    panel.grid.minor.y = element_blank(),\n",
    "    axis.ticks = element_line(linewidth = 1),\n",
    "    panel.border = element_rect(colour = \"black\", fill = NA, linewidth = 1),\n",
    "    axis.line = element_line(colour = \"black\", linewidth = 0.5))\n",
    "\n",
    "lm_actual_predicted_plot"
   ]
  },
  {
   "cell_type": "code",
   "execution_count": 268,
   "id": "074f34df",
   "metadata": {},
   "outputs": [],
   "source": [
    "# Save the plot above\n",
    "ggsave(\"lm_actual_predicted_plot.jpg\", plot = lm_actual_predicted_plot, width = 13, height = 9, units = \"in\", dpi = 300)"
   ]
  },
  {
   "cell_type": "markdown",
   "id": "acbdf3ee",
   "metadata": {},
   "source": [
    "### Build Linear Regression on Logarithmic Data"
   ]
  },
  {
   "cell_type": "code",
   "execution_count": 249,
   "id": "ea182b16",
   "metadata": {},
   "outputs": [
    {
     "data": {
      "text/plain": [
       "\n",
       "Call:\n",
       "lm(formula = resale_price_new ~ retail_price + days_since_launch + \n",
       "    parts_count + rating, data = train_set_log)\n",
       "\n",
       "Residuals:\n",
       "     Min       1Q   Median       3Q      Max \n",
       "-1.22998 -0.30606  0.01991  0.29384  1.77798 \n",
       "\n",
       "Coefficients:\n",
       "                  Estimate Std. Error t value Pr(>|t|)    \n",
       "(Intercept)       -7.05290    0.32872 -21.455   <2e-16 ***\n",
       "retail_price       0.67731    0.07891   8.583   <2e-16 ***\n",
       "days_since_launch  0.78196    0.02917  26.806   <2e-16 ***\n",
       "parts_count        0.05660    0.07678   0.737    0.461    \n",
       "rating             0.66374    0.07239   9.170   <2e-16 ***\n",
       "---\n",
       "Signif. codes:  0 '***' 0.001 '**' 0.01 '*' 0.05 '.' 0.1 ' ' 1\n",
       "\n",
       "Residual standard error: 0.4445 on 603 degrees of freedom\n",
       "Multiple R-squared:  0.8186,\tAdjusted R-squared:  0.8174 \n",
       "F-statistic: 680.4 on 4 and 603 DF,  p-value: < 2.2e-16\n"
      ]
     },
     "metadata": {},
     "output_type": "display_data"
    }
   ],
   "source": [
    "# Train Linear Regression using these base four data\n",
    "log_lm_model_4 <- \n",
    "  lm(resale_price_new ~ retail_price + days_since_launch + \n",
    "                        parts_count + rating ,\n",
    "                        data = train_set_log)\n",
    "\n",
    "summary(log_lm_model_4)"
   ]
  },
  {
   "cell_type": "code",
   "execution_count": 250,
   "id": "acae13dc",
   "metadata": {},
   "outputs": [
    {
     "name": "stdout",
     "output_type": "stream",
     "text": [
      "RMSE on test set is:  115.2868 \n",
      "R-squared on test set is:  0.5325953"
     ]
    }
   ],
   "source": [
    "# Predict price using this model on test set\n",
    "log_lm_predictions_4 <- \n",
    "    predict(log_lm_model_4, test_set_log) %>%\n",
    "    exp()\n",
    "\n",
    "# Calculate RMSE\n",
    "log_lm_rmse_4 <- \n",
    "  rmse(exp(test_set_log$resale_price_new), log_lm_predictions_4)\n",
    "\n",
    "# Calculate R-square\n",
    "log_lm_rsq_4 <- \n",
    "  R2(log_lm_predictions_4, exp(test_set_log$resale_price_new))\n",
    "\n",
    "cat(\"RMSE on test set is: \", log_lm_rmse_4, \"\\n\")\n",
    "cat(\"R-squared on test set is: \",log_lm_rsq_4 )"
   ]
  },
  {
   "cell_type": "code",
   "execution_count": 251,
   "id": "378abbc0",
   "metadata": {},
   "outputs": [
    {
     "data": {
      "text/html": [
       "''"
      ],
      "text/latex": [
       "''"
      ],
      "text/markdown": [
       "''"
      ],
      "text/plain": [
       "[1] \"\""
      ]
     },
     "metadata": {},
     "output_type": "display_data"
    },
    {
     "data": {
      "text/plain": [
       "\n",
       "Call:\n",
       "lm(formula = resale_price_new ~ retail_price + days_since_launch + \n",
       "    rating + parts_count + minifigures_count, data = train_set_log)\n",
       "\n",
       "Residuals:\n",
       "     Min       1Q   Median       3Q      Max \n",
       "-1.20228 -0.30603  0.00804  0.28956  1.77252 \n",
       "\n",
       "Coefficients:\n",
       "                  Estimate Std. Error t value Pr(>|t|)    \n",
       "(Intercept)       -7.05582    0.32846 -21.482  < 2e-16 ***\n",
       "retail_price       0.64603    0.08190   7.888 1.45e-14 ***\n",
       "days_since_launch  0.77964    0.02919  26.706  < 2e-16 ***\n",
       "rating             0.65639    0.07251   9.052  < 2e-16 ***\n",
       "parts_count        0.06801    0.07714   0.882    0.378    \n",
       "minifigures_count  0.06456    0.04569   1.413    0.158    \n",
       "---\n",
       "Signif. codes:  0 '***' 0.001 '**' 0.01 '*' 0.05 '.' 0.1 ' ' 1\n",
       "\n",
       "Residual standard error: 0.4441 on 602 degrees of freedom\n",
       "Multiple R-squared:  0.8192,\tAdjusted R-squared:  0.8177 \n",
       "F-statistic: 545.6 on 5 and 602 DF,  p-value: < 2.2e-16\n"
      ]
     },
     "metadata": {},
     "output_type": "display_data"
    }
   ],
   "source": [
    "# Train Linear Regression adding lifecycle_duration\n",
    "log_lm_model_5 <- \n",
    "  lm(resale_price_new ~ retail_price + days_since_launch + rating +\n",
    "                        parts_count + minifigures_count,\n",
    "                        data = train_set_log)\n",
    "\"\"\n",
    "summary(log_lm_model_5)"
   ]
  },
  {
   "cell_type": "code",
   "execution_count": 252,
   "id": "8f5383b8",
   "metadata": {},
   "outputs": [
    {
     "name": "stdout",
     "output_type": "stream",
     "text": [
      "RMSE on test set is:  116.0763 \n",
      "R-squared on test set is:  0.5264034"
     ]
    }
   ],
   "source": [
    "# Predict price on test set using this model\n",
    "log_lm_predictions_5 <- \n",
    "    predict(log_lm_model_5, test_set_log) %>%\n",
    "    exp()\n",
    "\n",
    "# Calculate RMSE\n",
    "log_lm_rmse_5 <- \n",
    "  rmse(exp(test_set_log$resale_price_new), log_lm_predictions_5)\n",
    "\n",
    "# Calculate R-square\n",
    "log_lm_rsq_5 <- \n",
    "  R2(log_lm_predictions_5, exp(test_set_log$resale_price_new))\n",
    "\n",
    "cat(\"RMSE on test set is: \", log_lm_rmse_5, \"\\n\")\n",
    "cat(\"R-squared on test set is: \",log_lm_rsq_5 )"
   ]
  },
  {
   "cell_type": "code",
   "execution_count": 253,
   "id": "94c6a932",
   "metadata": {},
   "outputs": [
    {
     "data": {
      "text/plain": [
       "\n",
       "Call:\n",
       "lm(formula = resale_price_new ~ retail_price + days_since_launch + \n",
       "    parts_count + rating + minifigures_count + lifecycle_duration, \n",
       "    data = train_set_log)\n",
       "\n",
       "Residuals:\n",
       "     Min       1Q   Median       3Q      Max \n",
       "-1.13743 -0.30704  0.00582  0.28487  1.72303 \n",
       "\n",
       "Coefficients:\n",
       "                   Estimate Std. Error t value Pr(>|t|)    \n",
       "(Intercept)        -6.31054    0.36470 -17.303  < 2e-16 ***\n",
       "retail_price        0.64932    0.08067   8.050 4.46e-15 ***\n",
       "days_since_launch   0.79878    0.02908  27.472  < 2e-16 ***\n",
       "parts_count         0.08727    0.07610   1.147    0.252    \n",
       "rating              0.66987    0.07148   9.371  < 2e-16 ***\n",
       "minifigures_count   0.04608    0.04519   1.020    0.308    \n",
       "lifecycle_duration -0.16788    0.03793  -4.426 1.14e-05 ***\n",
       "---\n",
       "Signif. codes:  0 '***' 0.001 '**' 0.01 '*' 0.05 '.' 0.1 ' ' 1\n",
       "\n",
       "Residual standard error: 0.4374 on 601 degrees of freedom\n",
       "Multiple R-squared:  0.8249,\tAdjusted R-squared:  0.8232 \n",
       "F-statistic:   472 on 6 and 601 DF,  p-value: < 2.2e-16\n"
      ]
     },
     "metadata": {},
     "output_type": "display_data"
    }
   ],
   "source": [
    "# Train Linear Regression adding minifigures count\n",
    "log_lm_model_6 <- \n",
    "  lm(resale_price_new ~ retail_price + days_since_launch + parts_count +\n",
    "                        rating + minifigures_count + lifecycle_duration,\n",
    "                        data = train_set_log)\n",
    "\n",
    "summary(log_lm_model_6)"
   ]
  },
  {
   "cell_type": "code",
   "execution_count": 254,
   "id": "af2fcacd",
   "metadata": {},
   "outputs": [
    {
     "name": "stdout",
     "output_type": "stream",
     "text": [
      "RMSE on test set is:  112.7937 \n",
      "R-squared on test set is:  0.5510987"
     ]
    }
   ],
   "source": [
    "# Predict price using this model on test set\n",
    "log_lm_predictions_6 <- \n",
    "    predict(log_lm_model_6, test_set_log) %>%\n",
    "    exp()\n",
    "\n",
    "# Calculate RMSE\n",
    "log_lm_rmse_6 <- \n",
    "  rmse(exp(test_set_log$resale_price_new), log_lm_predictions_6)\n",
    "\n",
    "# Calculate R-square\n",
    "log_lm_rsq_6 <- \n",
    "  R2(log_lm_predictions_6, exp(test_set_log$resale_price_new))\n",
    "\n",
    "cat(\"RMSE on test set is: \", log_lm_rmse_6, \"\\n\")\n",
    "cat(\"R-squared on test set is: \",log_lm_rsq_6 )"
   ]
  },
  {
   "cell_type": "code",
   "execution_count": 255,
   "id": "9dc2062e",
   "metadata": {},
   "outputs": [
    {
     "data": {
      "text/plain": [
       "\n",
       "Call:\n",
       "lm(formula = resale_price_new ~ retail_price + days_since_launch + \n",
       "    parts_count + rating + minifigures_count + lifecycle_duration + \n",
       "    is_starwars, data = train_set_log)\n",
       "\n",
       "Residuals:\n",
       "     Min       1Q   Median       3Q      Max \n",
       "-1.17845 -0.30625  0.01303  0.28233  1.69724 \n",
       "\n",
       "Coefficients:\n",
       "                   Estimate Std. Error t value Pr(>|t|)    \n",
       "(Intercept)        -5.95246    0.39112 -15.219  < 2e-16 ***\n",
       "retail_price        0.66319    0.08052   8.236 1.12e-15 ***\n",
       "days_since_launch   0.76275    0.03243  23.518  < 2e-16 ***\n",
       "parts_count         0.08375    0.07579   1.105 0.269618    \n",
       "rating              0.63744    0.07239   8.806  < 2e-16 ***\n",
       "minifigures_count   0.03905    0.04509   0.866 0.386893    \n",
       "lifecycle_duration -0.14967    0.03849  -3.889 0.000112 ***\n",
       "is_starwars1       -0.10552    0.04279  -2.466 0.013944 *  \n",
       "---\n",
       "Signif. codes:  0 '***' 0.001 '**' 0.01 '*' 0.05 '.' 0.1 ' ' 1\n",
       "\n",
       "Residual standard error: 0.4356 on 600 degrees of freedom\n",
       "Multiple R-squared:  0.8267,\tAdjusted R-squared:  0.8247 \n",
       "F-statistic: 408.9 on 7 and 600 DF,  p-value: < 2.2e-16\n"
      ]
     },
     "metadata": {},
     "output_type": "display_data"
    }
   ],
   "source": [
    "# Train Linear Regression model adding is from star wars\n",
    "log_lm_model_7 <- \n",
    "  lm(resale_price_new ~ retail_price + days_since_launch +\n",
    "                        parts_count + rating + \n",
    "                        minifigures_count + lifecycle_duration +\n",
    "                        is_starwars,\n",
    "                        data = train_set_log)\n",
    "\n",
    "summary(log_lm_model_7)"
   ]
  },
  {
   "cell_type": "code",
   "execution_count": 256,
   "id": "02015142",
   "metadata": {},
   "outputs": [
    {
     "name": "stdout",
     "output_type": "stream",
     "text": [
      "RMSE on test set is:  115.0411 \n",
      "R-squared on test set is:  0.5344288"
     ]
    }
   ],
   "source": [
    "# Predict price using this model on test set\n",
    "log_lm_predictions_7 <- \n",
    "    predict(log_lm_model_7, test_set_log) %>%\n",
    "    exp()\n",
    "\n",
    "# Calculate RMSE\n",
    "log_lm_rmse_7 <- \n",
    "  rmse(exp(test_set_log$resale_price_new), log_lm_predictions_7)\n",
    "\n",
    "# Calculate R-square\n",
    "log_lm_rsq_7 <- \n",
    "  R2(log_lm_predictions_7, exp(test_set_log$resale_price_new))\n",
    "\n",
    "cat(\"RMSE on test set is: \", log_lm_rmse_7, \"\\n\")\n",
    "cat(\"R-squared on test set is: \",log_lm_rsq_7 )"
   ]
  },
  {
   "cell_type": "code",
   "execution_count": 257,
   "id": "f1872d8b",
   "metadata": {},
   "outputs": [
    {
     "data": {
      "text/plain": [
       "\n",
       "Call:\n",
       "lm(formula = resale_price_new ~ retail_price + days_since_launch + \n",
       "    parts_count + rating + minifigures_count + lifecycle_duration + \n",
       "    is_starwars + is_from_retired_theme, data = train_set_log)\n",
       "\n",
       "Residuals:\n",
       "     Min       1Q   Median       3Q      Max \n",
       "-1.13022 -0.30995  0.00255  0.28783  1.74724 \n",
       "\n",
       "Coefficients:\n",
       "                       Estimate Std. Error t value Pr(>|t|)    \n",
       "(Intercept)            -5.94339    0.38964 -15.253  < 2e-16 ***\n",
       "retail_price            0.65127    0.08037   8.103 3.02e-15 ***\n",
       "days_since_launch       0.76092    0.03232  23.545  < 2e-16 ***\n",
       "parts_count             0.09562    0.07567   1.264 0.206842    \n",
       "rating                  0.65079    0.07233   8.998  < 2e-16 ***\n",
       "minifigures_count       0.02957    0.04510   0.656 0.512342    \n",
       "lifecycle_duration     -0.14493    0.03839  -3.775 0.000176 ***\n",
       "is_starwars1           -0.19388    0.05661  -3.425 0.000657 ***\n",
       "is_from_retired_theme1 -0.13543    0.05709  -2.372 0.017997 *  \n",
       "---\n",
       "Signif. codes:  0 '***' 0.001 '**' 0.01 '*' 0.05 '.' 0.1 ' ' 1\n",
       "\n",
       "Residual standard error: 0.4339 on 599 degrees of freedom\n",
       "Multiple R-squared:  0.8283,\tAdjusted R-squared:  0.826 \n",
       "F-statistic: 361.2 on 8 and 599 DF,  p-value: < 2.2e-16\n"
      ]
     },
     "metadata": {},
     "output_type": "display_data"
    }
   ],
   "source": [
    "# Train Linear Regression model adding is from retired theme\n",
    "log_lm_model_8 <- \n",
    "  lm(resale_price_new ~ retail_price + days_since_launch + \n",
    "                        parts_count + rating +\n",
    "                        minifigures_count +  lifecycle_duration +\n",
    "                        is_starwars + is_from_retired_theme,\n",
    "                        data = train_set_log)\n",
    "\n",
    "summary(log_lm_model_8)"
   ]
  },
  {
   "cell_type": "code",
   "execution_count": 258,
   "id": "adf5974f",
   "metadata": {},
   "outputs": [
    {
     "name": "stdout",
     "output_type": "stream",
     "text": [
      "RMSE on test set is:  114.771 \n",
      "R-squared on test set is:  0.5385408"
     ]
    }
   ],
   "source": [
    "# Predict price on test set\n",
    "log_lm_predictions_8 <- \n",
    "    predict(log_lm_model_8, test_set_log) %>%\n",
    "    exp()\n",
    "\n",
    "# Calculate RMSE\n",
    "log_lm_rmse_8 <- \n",
    "  rmse(exp(test_set_log$resale_price_new), log_lm_predictions_8)\n",
    "\n",
    "# Calculate R-square\n",
    "log_lm_rsq_8 <- \n",
    "  R2(log_lm_predictions_8, exp( test_set_log$resale_price_new))\n",
    "\n",
    "cat(\"RMSE on test set is: \", log_lm_rmse_8, \"\\n\")\n",
    "cat(\"R-squared on test set is: \",log_lm_rsq_8 )"
   ]
  },
  {
   "cell_type": "code",
   "execution_count": 259,
   "id": "85bddcdd",
   "metadata": {},
   "outputs": [
    {
     "data": {
      "text/plain": [
       "\n",
       "Call:\n",
       "lm(formula = resale_price_new ~ retail_price + rating + days_since_launch + \n",
       "    lifecycle_duration, data = train_set_log)\n",
       "\n",
       "Residuals:\n",
       "     Min       1Q   Median       3Q      Max \n",
       "-1.17576 -0.31011  0.00619  0.29064  1.74253 \n",
       "\n",
       "Coefficients:\n",
       "                   Estimate Std. Error t value Pr(>|t|)    \n",
       "(Intercept)        -6.18103    0.34851 -17.736  < 2e-16 ***\n",
       "retail_price        0.74941    0.02330  32.167  < 2e-16 ***\n",
       "rating              0.68784    0.07029   9.785  < 2e-16 ***\n",
       "days_since_launch   0.80072    0.02901  27.602  < 2e-16 ***\n",
       "lifecycle_duration -0.16880    0.03769  -4.479 8.98e-06 ***\n",
       "---\n",
       "Signif. codes:  0 '***' 0.001 '**' 0.01 '*' 0.05 '.' 0.1 ' ' 1\n",
       "\n",
       "Residual standard error: 0.4375 on 603 degrees of freedom\n",
       "Multiple R-squared:  0.8243,\tAdjusted R-squared:  0.8231 \n",
       "F-statistic: 707.3 on 4 and 603 DF,  p-value: < 2.2e-16\n"
      ]
     },
     "metadata": {},
     "output_type": "display_data"
    }
   ],
   "source": [
    "# Train Linear Regression model adding is from retired theme\n",
    "log_lm_model_final <- \n",
    "  lm(resale_price_new ~ retail_price + rating + \n",
    "                        days_since_launch + lifecycle_duration,\n",
    "                        data = train_set_log)\n",
    "\n",
    "summary(log_lm_model_final)"
   ]
  },
  {
   "cell_type": "code",
   "execution_count": 260,
   "id": "740f2dde",
   "metadata": {},
   "outputs": [
    {
     "name": "stdout",
     "output_type": "stream",
     "text": [
      "RMSE on test set is:  112.2909 \n",
      "R-squared on test set is:  0.555253 \n",
      "Correlation coefficient on test set is:  0.745153"
     ]
    }
   ],
   "source": [
    "# Predict price on test set\n",
    "log_lm_predictions <- \n",
    "    predict(log_lm_model_final, test_set_log) %>%\n",
    "    exp()\n",
    "\n",
    "# Calculate RMSE\n",
    "log_lm_rmse <- \n",
    "  rmse(exp(test_set_log$resale_price_new), log_lm_predictions)\n",
    "\n",
    "# Calculate R-square\n",
    "log_lm_rsq <- \n",
    "  R2(log_lm_predictions, exp(test_set_log$resale_price_new))\n",
    "\n",
    "# Calculate Correlation Coefficient\n",
    "log_lm_r <-\n",
    "  cor(log_lm_predictions, exp(test_set_log$resale_price_new))\n",
    "\n",
    "cat(\"RMSE on test set is: \", log_lm_rmse, \"\\n\")\n",
    "cat(\"R-squared on test set is: \",log_lm_rsq, \"\\n\" )\n",
    "cat(\"Correlation coefficient on test set is: \",log_lm_r )"
   ]
  },
  {
   "cell_type": "code",
   "execution_count": 261,
   "id": "d7f8967d",
   "metadata": {},
   "outputs": [],
   "source": [
    "# Predict price using the final model\n",
    "log_lm_toal_test_predictions <- \n",
    "  predict(log_lm_model_final, theme_data_log_clean) %>%\n",
    "  exp()\n",
    "\n",
    "log_lm_total_actual_predict_data <-\n",
    "  data.frame(actual = exp(theme_data_log_clean$resale_price_new),\n",
    "             predicted = log_lm_toal_test_predictions)"
   ]
  },
  {
   "cell_type": "code",
   "execution_count": 262,
   "id": "0b1d20b6",
   "metadata": {},
   "outputs": [
    {
     "data": {
      "text/plain": [
       "     actual          predicted       \n",
       " Min.   :   9.65   Min.   :   5.735  \n",
       " 1st Qu.:  52.26   1st Qu.:  55.905  \n",
       " Median : 115.73   Median : 110.303  \n",
       " Mean   : 182.98   Mean   : 167.211  \n",
       " 3rd Qu.: 235.16   3rd Qu.: 214.421  \n",
       " Max.   :2165.01   Max.   :1776.632  "
      ]
     },
     "metadata": {},
     "output_type": "display_data"
    }
   ],
   "source": [
    "# Check the statistics of actual and predicted price\n",
    "summary(log_lm_total_actual_predict_data)"
   ]
  },
  {
   "cell_type": "code",
   "execution_count": 269,
   "id": "d3bb9e0b",
   "metadata": {},
   "outputs": [
    {
     "data": {
      "image/png": "[encoded data removed]",
      "text/plain": [
       "plot without title"
      ]
     },
     "metadata": {
      "image/png": {
       "height": 600,
       "width": 840
      }
     },
     "output_type": "display_data"
    }
   ],
   "source": [
    "# Create a scatter plot for actual and predicted price\n",
    "log_lm_actual_predicted_plot <- \n",
    "  log_lm_total_actual_predict_data %>%\n",
    "  ggplot(aes(x = actual, y = predicted)) +\n",
    "  geom_point(shape = 3, color = \"purple4\", size = 2) +\n",
    "  labs(\n",
    "    x = \"Actual Price (USD)\",\n",
    "    y = \"Predicted Price (USD)\",\n",
    "    title = \"Actual Price vs Predicted Price\\n(Linear Regression Model on Logarithmic Data)\"\n",
    "  ) +\n",
    "  geom_abline(intercept = 0, slope = 1, linetype = \"dashed\", color = \"black\", linewidth = 1) + \n",
    "  theme_minimal() +\n",
    "  theme(\n",
    "    plot.title = element_text(size = 26, hjust = 0.5, face = \"bold\"),\n",
    "    axis.title = element_text(size =24),\n",
    "    axis.text = element_text(size = 24),\n",
    "    panel.grid.major = element_blank(),\n",
    "    panel.grid.minor = element_blank(),\n",
    "    panel.grid.minor.y = element_blank(),\n",
    "    axis.ticks = element_line(linewidth = 1),\n",
    "    panel.border = element_rect(colour = \"black\", fill = NA, linewidth = 1),\n",
    "    axis.line = element_line(colour = \"black\", linewidth = 0.5))\n",
    "\n",
    "log_lm_actual_predicted_plot"
   ]
  },
  {
   "cell_type": "code",
   "execution_count": 272,
   "id": "ce428cc5",
   "metadata": {},
   "outputs": [],
   "source": [
    "# Save the plot above\n",
    "ggsave(\"log_lm_actual_predicted_plot.jpg\", plot = log_lm_actual_predicted_plot, width = 13, height = 9, units = \"in\", dpi = 300)"
   ]
  },
  {
   "cell_type": "code",
   "execution_count": null,
   "id": "9355d21e",
   "metadata": {},
   "outputs": [],
   "source": []
  }
 ],
 "metadata": {
  "kernelspec": {
   "display_name": "R",
   "language": "R",
   "name": "ir"
  },
  "language_info": {
   "codemirror_mode": "r",
   "file_extension": ".r",
   "mimetype": "text/x-r-source",
   "name": "R",
   "pygments_lexer": "r",
   "version": "4.3.1"
  }
 },
 "nbformat": 4,
 "nbformat_minor": 5
}
