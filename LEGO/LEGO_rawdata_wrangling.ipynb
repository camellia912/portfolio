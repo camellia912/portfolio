{
 "cells": [
  {
   "cell_type": "code",
   "execution_count": 1,
   "id": "9c2ef8ee",
   "metadata": {},
   "outputs": [],
   "source": [
    "# install.packages(\"tidyverse\")\n",
    "Sys.setenv(LANGUAGE = \"en\")"
   ]
  },
  {
   "cell_type": "markdown",
   "id": "af5b7cfa",
   "metadata": {},
   "source": [
    "### Data processing of LEGO product datasets"
   ]
  },
  {
   "cell_type": "code",
   "execution_count": 2,
   "id": "62e8227d",
   "metadata": {},
   "outputs": [
    {
     "name": "stderr",
     "output_type": "stream",
     "text": [
      "── \u001b[1mAttaching core tidyverse packages\u001b[22m ──────────────────────────────────────────────────────────────── tidyverse 2.0.0 ──\n",
      "\u001b[32m✔\u001b[39m \u001b[34mdplyr    \u001b[39m 1.1.2     \u001b[32m✔\u001b[39m \u001b[34mreadr    \u001b[39m 2.1.4\n",
      "\u001b[32m✔\u001b[39m \u001b[34mforcats  \u001b[39m 1.0.0     \u001b[32m✔\u001b[39m \u001b[34mstringr  \u001b[39m 1.5.0\n",
      "\u001b[32m✔\u001b[39m \u001b[34mggplot2  \u001b[39m 3.4.3     \u001b[32m✔\u001b[39m \u001b[34mtibble   \u001b[39m 3.2.1\n",
      "\u001b[32m✔\u001b[39m \u001b[34mlubridate\u001b[39m 1.9.2     \u001b[32m✔\u001b[39m \u001b[34mtidyr    \u001b[39m 1.3.0\n",
      "\u001b[32m✔\u001b[39m \u001b[34mpurrr    \u001b[39m 1.0.1     \n",
      "── \u001b[1mConflicts\u001b[22m ────────────────────────────────────────────────────────────────────────────────── tidyverse_conflicts() ──\n",
      "\u001b[31m✖\u001b[39m \u001b[34mdplyr\u001b[39m::\u001b[32mfilter()\u001b[39m masks \u001b[34mstats\u001b[39m::filter()\n",
      "\u001b[31m✖\u001b[39m \u001b[34mdplyr\u001b[39m::\u001b[32mlag()\u001b[39m    masks \u001b[34mstats\u001b[39m::lag()\n",
      "\u001b[36mℹ\u001b[39m Use the conflicted package (\u001b[3m\u001b[34m<http://conflicted.r-lib.org/>\u001b[39m\u001b[23m) to force all conflicts to become errors\n",
      "Warning message:\n",
      "\"package 'reshape2' was built under R version 4.3.2\"\n",
      "\n",
      "Attaching package: 'reshape2'\n",
      "\n",
      "\n",
      "The following object is masked from 'package:tidyr':\n",
      "\n",
      "    smiths\n",
      "\n",
      "\n",
      "Warning message:\n",
      "\"package 'patchwork' was built under R version 4.3.2\"\n"
     ]
    }
   ],
   "source": [
    "# Load libraries\n",
    "library(tidyverse)\n",
    "library(reshape2)\n",
    "library(lubridate)\n",
    "library(patchwork)\n",
    "options(repr.plot.width = 10, repr.plot.height = 8)\n",
    "Sys.setenv(LANGUAGE = \"en\")"
   ]
  },
  {
   "cell_type": "code",
   "execution_count": 3,
   "id": "7d8473be",
   "metadata": {},
   "outputs": [
    {
     "name": "stderr",
     "output_type": "stream",
     "text": [
      "\u001b[1mRows: \u001b[22m\u001b[34m263\u001b[39m \u001b[1mColumns: \u001b[22m\u001b[34m4\u001b[39m\n",
      "\u001b[36m──\u001b[39m \u001b[1mColumn specification\u001b[22m \u001b[36m────────────────────────────────────────────────────────────────────────────────────────────────\u001b[39m\n",
      "\u001b[1mDelimiter:\u001b[22m \",\"\n",
      "\u001b[31mchr\u001b[39m (2): name, rgb\n",
      "\u001b[32mdbl\u001b[39m (1): id\n",
      "\u001b[33mlgl\u001b[39m (1): is_trans\n",
      "\n",
      "\u001b[36mℹ\u001b[39m Use `spec()` to retrieve the full column specification for this data.\n",
      "\u001b[36mℹ\u001b[39m Specify the column types or set `show_col_types = FALSE` to quiet this message.\n"
     ]
    },
    {
     "name": "stdout",
     "output_type": "stream",
     "text": [
      "Rows: 263\n",
      "Columns: 4\n",
      "$ id       \u001b[3m\u001b[90m<dbl>\u001b[39m\u001b[23m -1, 0, 1, 2, 3, 4, 5, 6, 7, 8, 9, 10, 11, 12, 13, 14, 15, 17,…\n",
      "$ name     \u001b[3m\u001b[90m<chr>\u001b[39m\u001b[23m \"[Unknown]\", \"Black\", \"Blue\", \"Green\", \"Dark Turquoise\", \"Red…\n",
      "$ rgb      \u001b[3m\u001b[90m<chr>\u001b[39m\u001b[23m \"0033B2\", \"05131D\", \"0055BF\", \"237841\", \"008F9B\", \"C91A09\", \"…\n",
      "$ is_trans \u001b[3m\u001b[90m<lgl>\u001b[39m\u001b[23m FALSE, FALSE, FALSE, FALSE, FALSE, FALSE, FALSE, FALSE, FALSE…\n"
     ]
    }
   ],
   "source": [
    "# Read color dataset\n",
    "colors_data <-\n",
    "  \"colors.csv\" %>%\n",
    "   read_csv() %>%\n",
    "   glimpse()"
   ]
  },
  {
   "cell_type": "code",
   "execution_count": 4,
   "id": "cb1c8ab5",
   "metadata": {},
   "outputs": [
    {
     "data": {
      "text/html": [
       "<style>\n",
       ".dl-inline {width: auto; margin:0; padding: 0}\n",
       ".dl-inline>dt, .dl-inline>dd {float: none; width: auto; display: inline-block}\n",
       ".dl-inline>dt::after {content: \":\\0020\"; padding-right: .5ex}\n",
       ".dl-inline>dt:not(:first-of-type) {padding-left: .5ex}\n",
       "</style><dl class=dl-inline><dt>id</dt><dd>0</dd><dt>name</dt><dd>0</dd><dt>rgb</dt><dd>0</dd><dt>is_trans</dt><dd>0</dd></dl>\n"
      ],
      "text/latex": [
       "\\begin{description*}\n",
       "\\item[id] 0\n",
       "\\item[name] 0\n",
       "\\item[rgb] 0\n",
       "\\item[is\\textbackslash{}\\_trans] 0\n",
       "\\end{description*}\n"
      ],
      "text/markdown": [
       "id\n",
       ":   0name\n",
       ":   0rgb\n",
       ":   0is_trans\n",
       ":   0\n",
       "\n"
      ],
      "text/plain": [
       "      id     name      rgb is_trans \n",
       "       0        0        0        0 "
      ]
     },
     "metadata": {},
     "output_type": "display_data"
    },
    {
     "data": {
      "text/html": [
       "FALSE"
      ],
      "text/latex": [
       "FALSE"
      ],
      "text/markdown": [
       "FALSE"
      ],
      "text/plain": [
       "[1] FALSE"
      ]
     },
     "metadata": {},
     "output_type": "display_data"
    }
   ],
   "source": [
    "# Check missing values and any duplicates\n",
    "colors_data %>%\n",
    "  is.na() %>%\n",
    "  colSums()\n",
    "\n",
    "colors_data %>%\n",
    "  duplicated() %>%\n",
    "  any()"
   ]
  },
  {
   "cell_type": "code",
   "execution_count": 5,
   "id": "158416fc",
   "metadata": {},
   "outputs": [],
   "source": [
    "# Rename variables for clarity and easier understanding\n",
    "# Remove variable we do not need\n",
    "colors_data <-\n",
    "  colors_data %>%\n",
    "  rename(color_name = name, color_id = id) %>%\n",
    "  select(-is_trans)"
   ]
  },
  {
   "cell_type": "code",
   "execution_count": 6,
   "id": "d6ef62f9",
   "metadata": {},
   "outputs": [
    {
     "data": {
      "text/html": [
       "<style>\n",
       ".dl-inline {width: auto; margin:0; padding: 0}\n",
       ".dl-inline>dt, .dl-inline>dd {float: none; width: auto; display: inline-block}\n",
       ".dl-inline>dt::after {content: \":\\0020\"; padding-right: .5ex}\n",
       ".dl-inline>dt:not(:first-of-type) {padding-left: .5ex}\n",
       "</style><dl class=dl-inline><dt>color_id</dt><dd>0</dd><dt>color_name</dt><dd>0</dd><dt>rgb</dt><dd>0</dd></dl>\n"
      ],
      "text/latex": [
       "\\begin{description*}\n",
       "\\item[color\\textbackslash{}\\_id] 0\n",
       "\\item[color\\textbackslash{}\\_name] 0\n",
       "\\item[rgb] 0\n",
       "\\end{description*}\n"
      ],
      "text/markdown": [
       "color_id\n",
       ":   0color_name\n",
       ":   0rgb\n",
       ":   0\n",
       "\n"
      ],
      "text/plain": [
       "  color_id color_name        rgb \n",
       "         0          0          0 "
      ]
     },
     "metadata": {},
     "output_type": "display_data"
    },
    {
     "data": {
      "text/html": [
       "FALSE"
      ],
      "text/latex": [
       "FALSE"
      ],
      "text/markdown": [
       "FALSE"
      ],
      "text/plain": [
       "[1] FALSE"
      ]
     },
     "metadata": {},
     "output_type": "display_data"
    }
   ],
   "source": [
    "# Check missing values and any duplicates again\n",
    "colors_data %>%\n",
    "  is.na() %>%\n",
    "  colSums()\n",
    "\n",
    "colors_data %>%\n",
    "  duplicated() %>%\n",
    "  any()"
   ]
  },
  {
   "cell_type": "code",
   "execution_count": 7,
   "id": "5d9202f2",
   "metadata": {},
   "outputs": [
    {
     "data": {
      "text/html": [
       "263"
      ],
      "text/latex": [
       "263"
      ],
      "text/markdown": [
       "263"
      ],
      "text/plain": [
       "[1] 263"
      ]
     },
     "metadata": {},
     "output_type": "display_data"
    }
   ],
   "source": [
    "# Check unique colors\n",
    "colors_data$color_id %>%\n",
    "   unique() %>%\n",
    "   length()"
   ]
  },
  {
   "cell_type": "code",
   "execution_count": 8,
   "id": "5c08bf4b",
   "metadata": {},
   "outputs": [
    {
     "name": "stderr",
     "output_type": "stream",
     "text": [
      "\u001b[1mRows: \u001b[22m\u001b[34m21993\u001b[39m \u001b[1mColumns: \u001b[22m\u001b[34m6\u001b[39m\n",
      "\u001b[36m──\u001b[39m \u001b[1mColumn specification\u001b[22m \u001b[36m────────────────────────────────────────────────────────────────────────────────────────────────\u001b[39m\n",
      "\u001b[1mDelimiter:\u001b[22m \",\"\n",
      "\u001b[31mchr\u001b[39m (3): set_num, name, img_url\n",
      "\u001b[32mdbl\u001b[39m (3): year, theme_id, num_parts\n",
      "\n",
      "\u001b[36mℹ\u001b[39m Use `spec()` to retrieve the full column specification for this data.\n",
      "\u001b[36mℹ\u001b[39m Specify the column types or set `show_col_types = FALSE` to quiet this message.\n"
     ]
    },
    {
     "name": "stdout",
     "output_type": "stream",
     "text": [
      "Rows: 21,993\n",
      "Columns: 6\n",
      "$ set_num   \u001b[3m\u001b[90m<chr>\u001b[39m\u001b[23m \"001-1\", \"0011-2\", \"0011-3\", \"0012-1\", \"0013-1\", \"0014-1\", \"…\n",
      "$ name      \u001b[3m\u001b[90m<chr>\u001b[39m\u001b[23m \"Gears\", \"Town Mini-Figures\", \"Castle 2 for 1 Bonus Offer\", …\n",
      "$ year      \u001b[3m\u001b[90m<dbl>\u001b[39m\u001b[23m 1965, 1979, 1987, 1979, 1979, 1979, 1979, 1979, 1965, 2013, …\n",
      "$ theme_id  \u001b[3m\u001b[90m<dbl>\u001b[39m\u001b[23m 1, 67, 199, 143, 143, 143, 143, 189, 1, 497, 366, 366, 366, …\n",
      "$ num_parts \u001b[3m\u001b[90m<dbl>\u001b[39m\u001b[23m 43, 12, 0, 12, 12, 2, 18, 15, 3, 4, 403, 35, 0, 0, 57, 18, 7…\n",
      "$ img_url   \u001b[3m\u001b[90m<chr>\u001b[39m\u001b[23m \"https://cdn.rebrickable.com/media/sets/001-1.jpg\", \"https:/…\n"
     ]
    }
   ],
   "source": [
    "# Read sets dataset\n",
    "sets_data <-\n",
    "  \"sets.csv\" %>%\n",
    "   read_csv() %>%\n",
    "   glimpse()"
   ]
  },
  {
   "cell_type": "code",
   "execution_count": 9,
   "id": "e76d8f90",
   "metadata": {},
   "outputs": [
    {
     "data": {
      "text/html": [
       "<style>\n",
       ".dl-inline {width: auto; margin:0; padding: 0}\n",
       ".dl-inline>dt, .dl-inline>dd {float: none; width: auto; display: inline-block}\n",
       ".dl-inline>dt::after {content: \":\\0020\"; padding-right: .5ex}\n",
       ".dl-inline>dt:not(:first-of-type) {padding-left: .5ex}\n",
       "</style><dl class=dl-inline><dt>set_num</dt><dd>0</dd><dt>name</dt><dd>0</dd><dt>year</dt><dd>0</dd><dt>theme_id</dt><dd>0</dd><dt>num_parts</dt><dd>0</dd><dt>img_url</dt><dd>0</dd></dl>\n"
      ],
      "text/latex": [
       "\\begin{description*}\n",
       "\\item[set\\textbackslash{}\\_num] 0\n",
       "\\item[name] 0\n",
       "\\item[year] 0\n",
       "\\item[theme\\textbackslash{}\\_id] 0\n",
       "\\item[num\\textbackslash{}\\_parts] 0\n",
       "\\item[img\\textbackslash{}\\_url] 0\n",
       "\\end{description*}\n"
      ],
      "text/markdown": [
       "set_num\n",
       ":   0name\n",
       ":   0year\n",
       ":   0theme_id\n",
       ":   0num_parts\n",
       ":   0img_url\n",
       ":   0\n",
       "\n"
      ],
      "text/plain": [
       "  set_num      name      year  theme_id num_parts   img_url \n",
       "        0         0         0         0         0         0 "
      ]
     },
     "metadata": {},
     "output_type": "display_data"
    },
    {
     "data": {
      "text/html": [
       "FALSE"
      ],
      "text/latex": [
       "FALSE"
      ],
      "text/markdown": [
       "FALSE"
      ],
      "text/plain": [
       "[1] FALSE"
      ]
     },
     "metadata": {},
     "output_type": "display_data"
    }
   ],
   "source": [
    "# Check missing values and duplicates\n",
    "sets_data %>%\n",
    "  is.na() %>%\n",
    "  colSums()\n",
    "\n",
    "sets_data %>%\n",
    "   duplicated() %>%\n",
    "   any()"
   ]
  },
  {
   "cell_type": "code",
   "execution_count": 10,
   "id": "aaab5ab6",
   "metadata": {},
   "outputs": [],
   "source": [
    "# Rename variables for clarity and easier understanding\n",
    "# Remove variable we do not need\n",
    "sets_data <-\n",
    "  sets_data %>%\n",
    "  rename(set_id = set_num,\n",
    "         set_name = name, \n",
    "         parts_count = num_parts) %>%\n",
    "  select(-img_url) "
   ]
  },
  {
   "cell_type": "code",
   "execution_count": 11,
   "id": "89e2fbe6",
   "metadata": {},
   "outputs": [
    {
     "data": {
      "text/html": [
       "<style>\n",
       ".dl-inline {width: auto; margin:0; padding: 0}\n",
       ".dl-inline>dt, .dl-inline>dd {float: none; width: auto; display: inline-block}\n",
       ".dl-inline>dt::after {content: \":\\0020\"; padding-right: .5ex}\n",
       ".dl-inline>dt:not(:first-of-type) {padding-left: .5ex}\n",
       "</style><dl class=dl-inline><dt>set_id</dt><dd>0</dd><dt>set_name</dt><dd>0</dd><dt>year</dt><dd>0</dd><dt>theme_id</dt><dd>0</dd><dt>parts_count</dt><dd>0</dd></dl>\n"
      ],
      "text/latex": [
       "\\begin{description*}\n",
       "\\item[set\\textbackslash{}\\_id] 0\n",
       "\\item[set\\textbackslash{}\\_name] 0\n",
       "\\item[year] 0\n",
       "\\item[theme\\textbackslash{}\\_id] 0\n",
       "\\item[parts\\textbackslash{}\\_count] 0\n",
       "\\end{description*}\n"
      ],
      "text/markdown": [
       "set_id\n",
       ":   0set_name\n",
       ":   0year\n",
       ":   0theme_id\n",
       ":   0parts_count\n",
       ":   0\n",
       "\n"
      ],
      "text/plain": [
       "     set_id    set_name        year    theme_id parts_count \n",
       "          0           0           0           0           0 "
      ]
     },
     "metadata": {},
     "output_type": "display_data"
    },
    {
     "data": {
      "text/html": [
       "FALSE"
      ],
      "text/latex": [
       "FALSE"
      ],
      "text/markdown": [
       "FALSE"
      ],
      "text/plain": [
       "[1] FALSE"
      ]
     },
     "metadata": {},
     "output_type": "display_data"
    }
   ],
   "source": [
    "# Check missing values and any duplicates again\n",
    "sets_data %>%\n",
    "  is.na() %>%\n",
    "  colSums()\n",
    "\n",
    "sets_data %>%\n",
    "  duplicated() %>%\n",
    "  any()"
   ]
  },
  {
   "cell_type": "code",
   "execution_count": 12,
   "id": "f42ac3c9",
   "metadata": {},
   "outputs": [
    {
     "data": {
      "text/html": [
       "<style>\n",
       ".list-inline {list-style: none; margin:0; padding: 0}\n",
       ".list-inline>li {display: inline-block}\n",
       ".list-inline>li:not(:last-child)::after {content: \"\\00b7\"; padding: 0 .5ex}\n",
       "</style>\n",
       "<ol class=list-inline><li>1949</li><li>1950</li><li>1953</li><li>1954</li><li>1955</li><li>1956</li><li>1957</li><li>1958</li><li>1959</li><li>1960</li><li>1961</li><li>1962</li><li>1963</li><li>1964</li><li>1965</li><li>1966</li><li>1967</li><li>1968</li><li>1969</li><li>1970</li><li>1971</li><li>1972</li><li>1973</li><li>1974</li><li>1975</li><li>1976</li><li>1977</li><li>1978</li><li>1979</li><li>1980</li><li>1981</li><li>1982</li><li>1983</li><li>1984</li><li>1985</li><li>1986</li><li>1987</li><li>1988</li><li>1989</li><li>1990</li><li>1991</li><li>1992</li><li>1993</li><li>1994</li><li>1995</li><li>1996</li><li>1997</li><li>1998</li><li>1999</li><li>2000</li><li>2001</li><li>2002</li><li>2003</li><li>2004</li><li>2005</li><li>2006</li><li>2007</li><li>2008</li><li>2009</li><li>2010</li><li>2011</li><li>2012</li><li>2013</li><li>2014</li><li>2015</li><li>2016</li><li>2017</li><li>2018</li><li>2019</li><li>2020</li><li>2021</li><li>2022</li><li>2023</li><li>2024</li></ol>\n"
      ],
      "text/latex": [
       "\\begin{enumerate*}\n",
       "\\item 1949\n",
       "\\item 1950\n",
       "\\item 1953\n",
       "\\item 1954\n",
       "\\item 1955\n",
       "\\item 1956\n",
       "\\item 1957\n",
       "\\item 1958\n",
       "\\item 1959\n",
       "\\item 1960\n",
       "\\item 1961\n",
       "\\item 1962\n",
       "\\item 1963\n",
       "\\item 1964\n",
       "\\item 1965\n",
       "\\item 1966\n",
       "\\item 1967\n",
       "\\item 1968\n",
       "\\item 1969\n",
       "\\item 1970\n",
       "\\item 1971\n",
       "\\item 1972\n",
       "\\item 1973\n",
       "\\item 1974\n",
       "\\item 1975\n",
       "\\item 1976\n",
       "\\item 1977\n",
       "\\item 1978\n",
       "\\item 1979\n",
       "\\item 1980\n",
       "\\item 1981\n",
       "\\item 1982\n",
       "\\item 1983\n",
       "\\item 1984\n",
       "\\item 1985\n",
       "\\item 1986\n",
       "\\item 1987\n",
       "\\item 1988\n",
       "\\item 1989\n",
       "\\item 1990\n",
       "\\item 1991\n",
       "\\item 1992\n",
       "\\item 1993\n",
       "\\item 1994\n",
       "\\item 1995\n",
       "\\item 1996\n",
       "\\item 1997\n",
       "\\item 1998\n",
       "\\item 1999\n",
       "\\item 2000\n",
       "\\item 2001\n",
       "\\item 2002\n",
       "\\item 2003\n",
       "\\item 2004\n",
       "\\item 2005\n",
       "\\item 2006\n",
       "\\item 2007\n",
       "\\item 2008\n",
       "\\item 2009\n",
       "\\item 2010\n",
       "\\item 2011\n",
       "\\item 2012\n",
       "\\item 2013\n",
       "\\item 2014\n",
       "\\item 2015\n",
       "\\item 2016\n",
       "\\item 2017\n",
       "\\item 2018\n",
       "\\item 2019\n",
       "\\item 2020\n",
       "\\item 2021\n",
       "\\item 2022\n",
       "\\item 2023\n",
       "\\item 2024\n",
       "\\end{enumerate*}\n"
      ],
      "text/markdown": [
       "1. 1949\n",
       "2. 1950\n",
       "3. 1953\n",
       "4. 1954\n",
       "5. 1955\n",
       "6. 1956\n",
       "7. 1957\n",
       "8. 1958\n",
       "9. 1959\n",
       "10. 1960\n",
       "11. 1961\n",
       "12. 1962\n",
       "13. 1963\n",
       "14. 1964\n",
       "15. 1965\n",
       "16. 1966\n",
       "17. 1967\n",
       "18. 1968\n",
       "19. 1969\n",
       "20. 1970\n",
       "21. 1971\n",
       "22. 1972\n",
       "23. 1973\n",
       "24. 1974\n",
       "25. 1975\n",
       "26. 1976\n",
       "27. 1977\n",
       "28. 1978\n",
       "29. 1979\n",
       "30. 1980\n",
       "31. 1981\n",
       "32. 1982\n",
       "33. 1983\n",
       "34. 1984\n",
       "35. 1985\n",
       "36. 1986\n",
       "37. 1987\n",
       "38. 1988\n",
       "39. 1989\n",
       "40. 1990\n",
       "41. 1991\n",
       "42. 1992\n",
       "43. 1993\n",
       "44. 1994\n",
       "45. 1995\n",
       "46. 1996\n",
       "47. 1997\n",
       "48. 1998\n",
       "49. 1999\n",
       "50. 2000\n",
       "51. 2001\n",
       "52. 2002\n",
       "53. 2003\n",
       "54. 2004\n",
       "55. 2005\n",
       "56. 2006\n",
       "57. 2007\n",
       "58. 2008\n",
       "59. 2009\n",
       "60. 2010\n",
       "61. 2011\n",
       "62. 2012\n",
       "63. 2013\n",
       "64. 2014\n",
       "65. 2015\n",
       "66. 2016\n",
       "67. 2017\n",
       "68. 2018\n",
       "69. 2019\n",
       "70. 2020\n",
       "71. 2021\n",
       "72. 2022\n",
       "73. 2023\n",
       "74. 2024\n",
       "\n",
       "\n"
      ],
      "text/plain": [
       " [1] 1949 1950 1953 1954 1955 1956 1957 1958 1959 1960 1961 1962 1963 1964 1965\n",
       "[16] 1966 1967 1968 1969 1970 1971 1972 1973 1974 1975 1976 1977 1978 1979 1980\n",
       "[31] 1981 1982 1983 1984 1985 1986 1987 1988 1989 1990 1991 1992 1993 1994 1995\n",
       "[46] 1996 1997 1998 1999 2000 2001 2002 2003 2004 2005 2006 2007 2008 2009 2010\n",
       "[61] 2011 2012 2013 2014 2015 2016 2017 2018 2019 2020 2021 2022 2023 2024"
      ]
     },
     "metadata": {},
     "output_type": "display_data"
    }
   ],
   "source": [
    "# Check unique years\n",
    "sets_data$year %>% \n",
    "  unique() %>%\n",
    "  sort()"
   ]
  },
  {
   "cell_type": "code",
   "execution_count": 13,
   "id": "6d139e2e",
   "metadata": {},
   "outputs": [
    {
     "data": {
      "text/html": [
       "21993"
      ],
      "text/latex": [
       "21993"
      ],
      "text/markdown": [
       "21993"
      ],
      "text/plain": [
       "[1] 21993"
      ]
     },
     "metadata": {},
     "output_type": "display_data"
    }
   ],
   "source": [
    "# Check the number of unique set_id\n",
    "sets_data$set_id %>%\n",
    "   unique() %>%\n",
    "   length()\n",
    "\n",
    "# Select the year of interests\n",
    "sets_data <-\n",
    "  sets_data %>%\n",
    "  filter(year != 1949, year != 1950, year!= 2023, year != 2024 )"
   ]
  },
  {
   "cell_type": "code",
   "execution_count": 14,
   "id": "d5344644",
   "metadata": {
    "scrolled": true
   },
   "outputs": [
    {
     "name": "stderr",
     "output_type": "stream",
     "text": [
      "\u001b[1mRows: \u001b[22m\u001b[34m468\u001b[39m \u001b[1mColumns: \u001b[22m\u001b[34m3\u001b[39m\n",
      "\u001b[36m──\u001b[39m \u001b[1mColumn specification\u001b[22m \u001b[36m────────────────────────────────────────────────────────────────────────────────────────────────\u001b[39m\n",
      "\u001b[1mDelimiter:\u001b[22m \",\"\n",
      "\u001b[31mchr\u001b[39m (1): name\n",
      "\u001b[32mdbl\u001b[39m (2): id, parent_id\n",
      "\n",
      "\u001b[36mℹ\u001b[39m Use `spec()` to retrieve the full column specification for this data.\n",
      "\u001b[36mℹ\u001b[39m Specify the column types or set `show_col_types = FALSE` to quiet this message.\n"
     ]
    },
    {
     "name": "stdout",
     "output_type": "stream",
     "text": [
      "Rows: 468\n",
      "Columns: 3\n",
      "$ id        \u001b[3m\u001b[90m<dbl>\u001b[39m\u001b[23m 1, 3, 4, 16, 17, 18, 19, 20, 21, 22, 23, 34, 35, 50, 51, 52,…\n",
      "$ name      \u001b[3m\u001b[90m<chr>\u001b[39m\u001b[23m \"Technic\", \"Competition\", \"Expert Builder\", \"RoboRiders\", \"S…\n",
      "$ parent_id \u001b[3m\u001b[90m<dbl>\u001b[39m\u001b[23m NA, 1, 1, 1, 1, 1, 1, 1, 1, NA, 22, NA, 34, NA, 50, NA, 52, …\n"
     ]
    }
   ],
   "source": [
    "# Read theme dataset\n",
    "themes_data <-\n",
    "  \"themes.csv\" %>%\n",
    "   read_csv() %>%\n",
    "   glimpse()"
   ]
  },
  {
   "cell_type": "code",
   "execution_count": 15,
   "id": "a942d91d",
   "metadata": {},
   "outputs": [
    {
     "data": {
      "text/html": [
       "<style>\n",
       ".dl-inline {width: auto; margin:0; padding: 0}\n",
       ".dl-inline>dt, .dl-inline>dd {float: none; width: auto; display: inline-block}\n",
       ".dl-inline>dt::after {content: \":\\0020\"; padding-right: .5ex}\n",
       ".dl-inline>dt:not(:first-of-type) {padding-left: .5ex}\n",
       "</style><dl class=dl-inline><dt>id</dt><dd>0</dd><dt>name</dt><dd>0</dd><dt>parent_id</dt><dd>145</dd></dl>\n"
      ],
      "text/latex": [
       "\\begin{description*}\n",
       "\\item[id] 0\n",
       "\\item[name] 0\n",
       "\\item[parent\\textbackslash{}\\_id] 145\n",
       "\\end{description*}\n"
      ],
      "text/markdown": [
       "id\n",
       ":   0name\n",
       ":   0parent_id\n",
       ":   145\n",
       "\n"
      ],
      "text/plain": [
       "       id      name parent_id \n",
       "        0         0       145 "
      ]
     },
     "metadata": {},
     "output_type": "display_data"
    },
    {
     "data": {
      "text/html": [
       "FALSE"
      ],
      "text/latex": [
       "FALSE"
      ],
      "text/markdown": [
       "FALSE"
      ],
      "text/plain": [
       "[1] FALSE"
      ]
     },
     "metadata": {},
     "output_type": "display_data"
    }
   ],
   "source": [
    "# Check missing values and duplicates\n",
    "themes_data %>%\n",
    "  is.na() %>%\n",
    "  colSums()\n",
    "\n",
    "themes_data %>%\n",
    "   duplicated() %>%\n",
    "   any()"
   ]
  },
  {
   "cell_type": "code",
   "execution_count": 16,
   "id": "9f07dc6a",
   "metadata": {},
   "outputs": [],
   "source": [
    "# Rename variables for easier understanding and select variables needed\n",
    "# Remove variable we do not need\n",
    "themes_data <-\n",
    "  themes_data %>%\n",
    "  rename(theme_name = name, theme_id = id)"
   ]
  },
  {
   "cell_type": "code",
   "execution_count": 17,
   "id": "3a67eaa4",
   "metadata": {},
   "outputs": [
    {
     "data": {
      "text/html": [
       "<style>\n",
       ".dl-inline {width: auto; margin:0; padding: 0}\n",
       ".dl-inline>dt, .dl-inline>dd {float: none; width: auto; display: inline-block}\n",
       ".dl-inline>dt::after {content: \":\\0020\"; padding-right: .5ex}\n",
       ".dl-inline>dt:not(:first-of-type) {padding-left: .5ex}\n",
       "</style><dl class=dl-inline><dt>theme_id</dt><dd>0</dd><dt>theme_name</dt><dd>0</dd><dt>parent_id</dt><dd>145</dd></dl>\n"
      ],
      "text/latex": [
       "\\begin{description*}\n",
       "\\item[theme\\textbackslash{}\\_id] 0\n",
       "\\item[theme\\textbackslash{}\\_name] 0\n",
       "\\item[parent\\textbackslash{}\\_id] 145\n",
       "\\end{description*}\n"
      ],
      "text/markdown": [
       "theme_id\n",
       ":   0theme_name\n",
       ":   0parent_id\n",
       ":   145\n",
       "\n"
      ],
      "text/plain": [
       "  theme_id theme_name  parent_id \n",
       "         0          0        145 "
      ]
     },
     "metadata": {},
     "output_type": "display_data"
    },
    {
     "data": {
      "text/html": [
       "FALSE"
      ],
      "text/latex": [
       "FALSE"
      ],
      "text/markdown": [
       "FALSE"
      ],
      "text/plain": [
       "[1] FALSE"
      ]
     },
     "metadata": {},
     "output_type": "display_data"
    }
   ],
   "source": [
    "# Check missing values and duplicates again\n",
    "themes_data %>%\n",
    "  is.na() %>%\n",
    "  colSums()\n",
    "\n",
    "themes_data %>%\n",
    "   duplicated() %>%\n",
    "   any()"
   ]
  },
  {
   "cell_type": "code",
   "execution_count": 18,
   "id": "f69e866b",
   "metadata": {},
   "outputs": [
    {
     "data": {
      "text/html": [
       "468"
      ],
      "text/latex": [
       "468"
      ],
      "text/markdown": [
       "468"
      ],
      "text/plain": [
       "[1] 468"
      ]
     },
     "metadata": {},
     "output_type": "display_data"
    }
   ],
   "source": [
    "# Check the number of unique theme_id\n",
    "themes_data$theme_id %>%\n",
    "  unique() %>%\n",
    "  length()"
   ]
  },
  {
   "cell_type": "code",
   "execution_count": 19,
   "id": "2e84676d",
   "metadata": {},
   "outputs": [
    {
     "name": "stderr",
     "output_type": "stream",
     "text": [
      "\u001b[1mRows: \u001b[22m\u001b[34m1183968\u001b[39m \u001b[1mColumns: \u001b[22m\u001b[34m6\u001b[39m\n",
      "\u001b[36m──\u001b[39m \u001b[1mColumn specification\u001b[22m \u001b[36m────────────────────────────────────────────────────────────────────────────────────────────────\u001b[39m\n",
      "\u001b[1mDelimiter:\u001b[22m \",\"\n",
      "\u001b[31mchr\u001b[39m (2): part_num, img_url\n",
      "\u001b[32mdbl\u001b[39m (3): inventory_id, color_id, quantity\n",
      "\u001b[33mlgl\u001b[39m (1): is_spare\n",
      "\n",
      "\u001b[36mℹ\u001b[39m Use `spec()` to retrieve the full column specification for this data.\n",
      "\u001b[36mℹ\u001b[39m Specify the column types or set `show_col_types = FALSE` to quiet this message.\n"
     ]
    },
    {
     "name": "stdout",
     "output_type": "stream",
     "text": [
      "Rows: 1,183,968\n",
      "Columns: 6\n",
      "$ inventory_id \u001b[3m\u001b[90m<dbl>\u001b[39m\u001b[23m 1, 1, 1, 1, 1, 3, 3, 3, 3, 3, 3, 3, 3, 3, 3, 3, 3, 3, 3, …\n",
      "$ part_num     \u001b[3m\u001b[90m<chr>\u001b[39m\u001b[23m \"48379c04\", \"48395\", \"stickerupn0077\", \"upn0342\", \"upn035…\n",
      "$ color_id     \u001b[3m\u001b[90m<dbl>\u001b[39m\u001b[23m 72, 7, 9999, 0, 25, 47, 29, 2, 15, 15, 15, 29, 15, 15, 29…\n",
      "$ quantity     \u001b[3m\u001b[90m<dbl>\u001b[39m\u001b[23m 1, 1, 1, 1, 1, 1, 1, 1, 1, 2, 1, 4, 1, 1, 1, 5, 2, 3, 1, …\n",
      "$ is_spare     \u001b[3m\u001b[90m<lgl>\u001b[39m\u001b[23m FALSE, FALSE, FALSE, FALSE, FALSE, FALSE, FALSE, FALSE, F…\n",
      "$ img_url      \u001b[3m\u001b[90m<chr>\u001b[39m\u001b[23m \"https://cdn.rebrickable.com/media/parts/photos/1/48379c0…\n"
     ]
    }
   ],
   "source": [
    "# Read inventory parts dataset\n",
    "inventory_parts_data <-\n",
    "  \"inventory_parts.csv\" %>%\n",
    "   read_csv() %>%\n",
    "   glimpse()"
   ]
  },
  {
   "cell_type": "code",
   "execution_count": 20,
   "id": "2a2dd192",
   "metadata": {},
   "outputs": [
    {
     "data": {
      "text/html": [
       "<style>\n",
       ".dl-inline {width: auto; margin:0; padding: 0}\n",
       ".dl-inline>dt, .dl-inline>dd {float: none; width: auto; display: inline-block}\n",
       ".dl-inline>dt::after {content: \":\\0020\"; padding-right: .5ex}\n",
       ".dl-inline>dt:not(:first-of-type) {padding-left: .5ex}\n",
       "</style><dl class=dl-inline><dt>inventory_id</dt><dd>0</dd><dt>part_num</dt><dd>0</dd><dt>color_id</dt><dd>0</dd><dt>quantity</dt><dd>0</dd><dt>is_spare</dt><dd>0</dd><dt>img_url</dt><dd>8250</dd></dl>\n"
      ],
      "text/latex": [
       "\\begin{description*}\n",
       "\\item[inventory\\textbackslash{}\\_id] 0\n",
       "\\item[part\\textbackslash{}\\_num] 0\n",
       "\\item[color\\textbackslash{}\\_id] 0\n",
       "\\item[quantity] 0\n",
       "\\item[is\\textbackslash{}\\_spare] 0\n",
       "\\item[img\\textbackslash{}\\_url] 8250\n",
       "\\end{description*}\n"
      ],
      "text/markdown": [
       "inventory_id\n",
       ":   0part_num\n",
       ":   0color_id\n",
       ":   0quantity\n",
       ":   0is_spare\n",
       ":   0img_url\n",
       ":   8250\n",
       "\n"
      ],
      "text/plain": [
       "inventory_id     part_num     color_id     quantity     is_spare      img_url \n",
       "           0            0            0            0            0         8250 "
      ]
     },
     "metadata": {},
     "output_type": "display_data"
    },
    {
     "data": {
      "text/html": [
       "FALSE"
      ],
      "text/latex": [
       "FALSE"
      ],
      "text/markdown": [
       "FALSE"
      ],
      "text/plain": [
       "[1] FALSE"
      ]
     },
     "metadata": {},
     "output_type": "display_data"
    }
   ],
   "source": [
    "# Check missing values and duplicates\n",
    "inventory_parts_data %>%\n",
    "  is.na() %>%\n",
    "  colSums()\n",
    "\n",
    "inventory_parts_data %>%\n",
    "  duplicated() %>%\n",
    "  any()"
   ]
  },
  {
   "cell_type": "code",
   "execution_count": 21,
   "id": "291197a0",
   "metadata": {},
   "outputs": [
    {
     "name": "stdout",
     "output_type": "stream",
     "text": [
      "Rows: 1,183,968\n",
      "Columns: 6\n",
      "$ inventory_id \u001b[3m\u001b[90m<dbl>\u001b[39m\u001b[23m 1, 1, 1, 1, 1, 3, 3, 3, 3, 3, 3, 3, 3, 3, 3, 3, 3, 3, 3, …\n",
      "$ parts_id     \u001b[3m\u001b[90m<chr>\u001b[39m\u001b[23m \"48379c04\", \"48395\", \"stickerupn0077\", \"upn0342\", \"upn035…\n",
      "$ color_id     \u001b[3m\u001b[90m<dbl>\u001b[39m\u001b[23m 72, 7, 9999, 0, 25, 47, 29, 2, 15, 15, 15, 29, 15, 15, 29…\n",
      "$ quantity     \u001b[3m\u001b[90m<dbl>\u001b[39m\u001b[23m 1, 1, 1, 1, 1, 1, 1, 1, 1, 2, 1, 4, 1, 1, 1, 5, 2, 3, 1, …\n",
      "$ is_spare     \u001b[3m\u001b[90m<lgl>\u001b[39m\u001b[23m FALSE, FALSE, FALSE, FALSE, FALSE, FALSE, FALSE, FALSE, F…\n",
      "$ img_url      \u001b[3m\u001b[90m<chr>\u001b[39m\u001b[23m \"https://cdn.rebrickable.com/media/parts/photos/1/48379c0…\n"
     ]
    }
   ],
   "source": [
    "# Rename variables for clarity and select required variables\n",
    "inventory_parts_data <-\n",
    "  inventory_parts_data %>%\n",
    "  rename(parts_id = part_num) %>%\n",
    "  glimpse()"
   ]
  },
  {
   "cell_type": "code",
   "execution_count": 22,
   "id": "a160a424",
   "metadata": {},
   "outputs": [],
   "source": [
    "# Remove variables we do not need\n",
    "inventory_parts_data <-\n",
    "  inventory_parts_data %>%\n",
    "  select(-img_url)"
   ]
  },
  {
   "cell_type": "code",
   "execution_count": 23,
   "id": "b5f883b1",
   "metadata": {},
   "outputs": [
    {
     "data": {
      "text/html": [
       "<style>\n",
       ".dl-inline {width: auto; margin:0; padding: 0}\n",
       ".dl-inline>dt, .dl-inline>dd {float: none; width: auto; display: inline-block}\n",
       ".dl-inline>dt::after {content: \":\\0020\"; padding-right: .5ex}\n",
       ".dl-inline>dt:not(:first-of-type) {padding-left: .5ex}\n",
       "</style><dl class=dl-inline><dt>inventory_id</dt><dd>0</dd><dt>parts_id</dt><dd>0</dd><dt>color_id</dt><dd>0</dd><dt>quantity</dt><dd>0</dd><dt>is_spare</dt><dd>0</dd></dl>\n"
      ],
      "text/latex": [
       "\\begin{description*}\n",
       "\\item[inventory\\textbackslash{}\\_id] 0\n",
       "\\item[parts\\textbackslash{}\\_id] 0\n",
       "\\item[color\\textbackslash{}\\_id] 0\n",
       "\\item[quantity] 0\n",
       "\\item[is\\textbackslash{}\\_spare] 0\n",
       "\\end{description*}\n"
      ],
      "text/markdown": [
       "inventory_id\n",
       ":   0parts_id\n",
       ":   0color_id\n",
       ":   0quantity\n",
       ":   0is_spare\n",
       ":   0\n",
       "\n"
      ],
      "text/plain": [
       "inventory_id     parts_id     color_id     quantity     is_spare \n",
       "           0            0            0            0            0 "
      ]
     },
     "metadata": {},
     "output_type": "display_data"
    },
    {
     "data": {
      "text/html": [
       "FALSE"
      ],
      "text/latex": [
       "FALSE"
      ],
      "text/markdown": [
       "FALSE"
      ],
      "text/plain": [
       "[1] FALSE"
      ]
     },
     "metadata": {},
     "output_type": "display_data"
    }
   ],
   "source": [
    "# Check missing values and duplicates again\n",
    "inventory_parts_data %>%\n",
    "  is.na() %>%\n",
    "  colSums()\n",
    "\n",
    "inventory_parts_data %>%\n",
    "  duplicated() %>%\n",
    "  any()"
   ]
  },
  {
   "cell_type": "code",
   "execution_count": 24,
   "id": "dc834cb6",
   "metadata": {},
   "outputs": [
    {
     "name": "stderr",
     "output_type": "stream",
     "text": [
      "\u001b[1mRows: \u001b[22m\u001b[34m37422\u001b[39m \u001b[1mColumns: \u001b[22m\u001b[34m3\u001b[39m\n",
      "\u001b[36m──\u001b[39m \u001b[1mColumn specification\u001b[22m \u001b[36m────────────────────────────────────────────────────────────────────────────────────────────────\u001b[39m\n",
      "\u001b[1mDelimiter:\u001b[22m \",\"\n",
      "\u001b[31mchr\u001b[39m (1): set_num\n",
      "\u001b[32mdbl\u001b[39m (2): id, version\n",
      "\n",
      "\u001b[36mℹ\u001b[39m Use `spec()` to retrieve the full column specification for this data.\n",
      "\u001b[36mℹ\u001b[39m Specify the column types or set `show_col_types = FALSE` to quiet this message.\n"
     ]
    },
    {
     "name": "stdout",
     "output_type": "stream",
     "text": [
      "Rows: 37,422\n",
      "Columns: 3\n",
      "$ id      \u001b[3m\u001b[90m<dbl>\u001b[39m\u001b[23m 1, 3, 4, 15, 16, 17, 19, 21, 22, 25, 26, 27, 28, 30, 31, 33, 3…\n",
      "$ version \u001b[3m\u001b[90m<dbl>\u001b[39m\u001b[23m 1, 1, 1, 1, 1, 1, 1, 1, 1, 1, 1, 1, 1, 1, 1, 1, 1, 1, 1, 1, 1,…\n",
      "$ set_num \u001b[3m\u001b[90m<chr>\u001b[39m\u001b[23m \"7922-1\", \"3931-1\", \"6942-1\", \"5158-1\", \"903-1\", \"850950-1\", \"…\n"
     ]
    }
   ],
   "source": [
    "# Read inventory data\n",
    "inventories_data <-\n",
    "  \"inventories.csv\" %>%\n",
    "   read_csv() %>%\n",
    "   glimpse()"
   ]
  },
  {
   "cell_type": "code",
   "execution_count": 25,
   "id": "54ab893f",
   "metadata": {},
   "outputs": [
    {
     "data": {
      "text/html": [
       "<style>\n",
       ".dl-inline {width: auto; margin:0; padding: 0}\n",
       ".dl-inline>dt, .dl-inline>dd {float: none; width: auto; display: inline-block}\n",
       ".dl-inline>dt::after {content: \":\\0020\"; padding-right: .5ex}\n",
       ".dl-inline>dt:not(:first-of-type) {padding-left: .5ex}\n",
       "</style><dl class=dl-inline><dt>id</dt><dd>0</dd><dt>version</dt><dd>0</dd><dt>set_num</dt><dd>0</dd></dl>\n"
      ],
      "text/latex": [
       "\\begin{description*}\n",
       "\\item[id] 0\n",
       "\\item[version] 0\n",
       "\\item[set\\textbackslash{}\\_num] 0\n",
       "\\end{description*}\n"
      ],
      "text/markdown": [
       "id\n",
       ":   0version\n",
       ":   0set_num\n",
       ":   0\n",
       "\n"
      ],
      "text/plain": [
       "     id version set_num \n",
       "      0       0       0 "
      ]
     },
     "metadata": {},
     "output_type": "display_data"
    },
    {
     "data": {
      "text/html": [
       "FALSE"
      ],
      "text/latex": [
       "FALSE"
      ],
      "text/markdown": [
       "FALSE"
      ],
      "text/plain": [
       "[1] FALSE"
      ]
     },
     "metadata": {},
     "output_type": "display_data"
    }
   ],
   "source": [
    "# Check missing values and duplicates\n",
    "inventories_data %>%\n",
    "  is.na() %>%\n",
    "  colSums()\n",
    "\n",
    "inventories_data %>%\n",
    "  duplicated() %>%\n",
    "  any()"
   ]
  },
  {
   "cell_type": "code",
   "execution_count": 26,
   "id": "af7bdabf",
   "metadata": {},
   "outputs": [],
   "source": [
    "# Rename variables for clarity and easier understanding\n",
    "inventories_data <-\n",
    "  inventories_data %>%\n",
    "  rename(inventory_id = id,\n",
    "         set_id = set_num)"
   ]
  },
  {
   "cell_type": "code",
   "execution_count": 27,
   "id": "91954cd7",
   "metadata": {},
   "outputs": [
    {
     "data": {
      "text/html": [
       "<style>\n",
       ".dl-inline {width: auto; margin:0; padding: 0}\n",
       ".dl-inline>dt, .dl-inline>dd {float: none; width: auto; display: inline-block}\n",
       ".dl-inline>dt::after {content: \":\\0020\"; padding-right: .5ex}\n",
       ".dl-inline>dt:not(:first-of-type) {padding-left: .5ex}\n",
       "</style><dl class=dl-inline><dt>inventory_id</dt><dd>0</dd><dt>version</dt><dd>0</dd><dt>set_id</dt><dd>0</dd></dl>\n"
      ],
      "text/latex": [
       "\\begin{description*}\n",
       "\\item[inventory\\textbackslash{}\\_id] 0\n",
       "\\item[version] 0\n",
       "\\item[set\\textbackslash{}\\_id] 0\n",
       "\\end{description*}\n"
      ],
      "text/markdown": [
       "inventory_id\n",
       ":   0version\n",
       ":   0set_id\n",
       ":   0\n",
       "\n"
      ],
      "text/plain": [
       "inventory_id      version       set_id \n",
       "           0            0            0 "
      ]
     },
     "metadata": {},
     "output_type": "display_data"
    },
    {
     "data": {
      "text/html": [
       "FALSE"
      ],
      "text/latex": [
       "FALSE"
      ],
      "text/markdown": [
       "FALSE"
      ],
      "text/plain": [
       "[1] FALSE"
      ]
     },
     "metadata": {},
     "output_type": "display_data"
    }
   ],
   "source": [
    "# Check missing values and duplicates again\n",
    "inventories_data %>%\n",
    "  is.na() %>%\n",
    "  colSums()\n",
    "\n",
    "inventories_data %>%\n",
    "  duplicated() %>%\n",
    "  any()"
   ]
  },
  {
   "cell_type": "code",
   "execution_count": 28,
   "id": "e01c17d0",
   "metadata": {},
   "outputs": [
    {
     "name": "stdout",
     "output_type": "stream",
     "text": [
      "Rows: 20,981\n",
      "Columns: 7\n",
      "$ theme_id    \u001b[3m\u001b[90m<dbl>\u001b[39m\u001b[23m 1, 1, 1, 1, 1, 1, 1, 1, 1, 1, 1, 1, 1, 1, 1, 1, 1, 1, 1, 1…\n",
      "$ theme_name  \u001b[3m\u001b[90m<chr>\u001b[39m\u001b[23m \"Technic\", \"Technic\", \"Technic\", \"Technic\", \"Technic\", \"Te…\n",
      "$ parent_id   \u001b[3m\u001b[90m<dbl>\u001b[39m\u001b[23m NA, NA, NA, NA, NA, NA, NA, NA, NA, NA, NA, NA, NA, NA, NA…\n",
      "$ set_id      \u001b[3m\u001b[90m<chr>\u001b[39m\u001b[23m \"001-1\", \"002-1\", \"1030-1\", \"1038-1\", \"1039-1\", \"1237-1\", …\n",
      "$ set_name    \u001b[3m\u001b[90m<chr>\u001b[39m\u001b[23m \"Gears\", \"4.5V Samsonite Gears Motor Set\", \"TECHNIC I: Sim…\n",
      "$ year        \u001b[3m\u001b[90m<dbl>\u001b[39m\u001b[23m 1965, 1965, 1985, 1985, 1986, 2001, 1999, 1999, 1999, 1999…\n",
      "$ parts_count \u001b[3m\u001b[90m<dbl>\u001b[39m\u001b[23m 43, 3, 210, 120, 39, 56, 30, 29, 28, 26, 28, 103, 98, 64, …\n"
     ]
    }
   ],
   "source": [
    "# Left join datasets to obtain color information over years\n",
    "product_data <- \n",
    "  themes_data %>%\n",
    "  left_join(sets_data, by = \"theme_id\") %>%\n",
    "  glimpse()"
   ]
  },
  {
   "cell_type": "code",
   "execution_count": 29,
   "id": "a05b4797",
   "metadata": {},
   "outputs": [
    {
     "data": {
      "text/html": [
       "<style>\n",
       ".dl-inline {width: auto; margin:0; padding: 0}\n",
       ".dl-inline>dt, .dl-inline>dd {float: none; width: auto; display: inline-block}\n",
       ".dl-inline>dt::after {content: \":\\0020\"; padding-right: .5ex}\n",
       ".dl-inline>dt:not(:first-of-type) {padding-left: .5ex}\n",
       "</style><dl class=dl-inline><dt>theme_id</dt><dd>0</dd><dt>theme_name</dt><dd>0</dd><dt>parent_id</dt><dd>9553</dd><dt>set_id</dt><dd>14</dd><dt>set_name</dt><dd>14</dd><dt>year</dt><dd>14</dd><dt>parts_count</dt><dd>14</dd></dl>\n"
      ],
      "text/latex": [
       "\\begin{description*}\n",
       "\\item[theme\\textbackslash{}\\_id] 0\n",
       "\\item[theme\\textbackslash{}\\_name] 0\n",
       "\\item[parent\\textbackslash{}\\_id] 9553\n",
       "\\item[set\\textbackslash{}\\_id] 14\n",
       "\\item[set\\textbackslash{}\\_name] 14\n",
       "\\item[year] 14\n",
       "\\item[parts\\textbackslash{}\\_count] 14\n",
       "\\end{description*}\n"
      ],
      "text/markdown": [
       "theme_id\n",
       ":   0theme_name\n",
       ":   0parent_id\n",
       ":   9553set_id\n",
       ":   14set_name\n",
       ":   14year\n",
       ":   14parts_count\n",
       ":   14\n",
       "\n"
      ],
      "text/plain": [
       "   theme_id  theme_name   parent_id      set_id    set_name        year \n",
       "          0           0        9553          14          14          14 \n",
       "parts_count \n",
       "         14 "
      ]
     },
     "metadata": {},
     "output_type": "display_data"
    },
    {
     "data": {
      "text/html": [
       "FALSE"
      ],
      "text/latex": [
       "FALSE"
      ],
      "text/markdown": [
       "FALSE"
      ],
      "text/plain": [
       "[1] FALSE"
      ]
     },
     "metadata": {},
     "output_type": "display_data"
    }
   ],
   "source": [
    "# Check missing values and duplicates\n",
    "product_data %>%\n",
    "  is.na() %>%\n",
    "  colSums()\n",
    "\n",
    "product_data %>%\n",
    "  duplicated() %>%\n",
    "  any()"
   ]
  },
  {
   "cell_type": "code",
   "execution_count": 30,
   "id": "bb0a5a69",
   "metadata": {},
   "outputs": [],
   "source": [
    "# Fill the missing value of parent-id with 0, which means no parent theme\n",
    "product_data$parent_id[is.na(product_data$parent_id)] <- 0"
   ]
  },
  {
   "cell_type": "code",
   "execution_count": 31,
   "id": "ad9f0d6d",
   "metadata": {},
   "outputs": [],
   "source": [
    "# Remove missing values\n",
    "product_data <- \n",
    "  product_data %>%\n",
    "  na.omit()"
   ]
  },
  {
   "cell_type": "code",
   "execution_count": 32,
   "id": "2158ee6b",
   "metadata": {},
   "outputs": [
    {
     "data": {
      "text/html": [
       "<style>\n",
       ".dl-inline {width: auto; margin:0; padding: 0}\n",
       ".dl-inline>dt, .dl-inline>dd {float: none; width: auto; display: inline-block}\n",
       ".dl-inline>dt::after {content: \":\\0020\"; padding-right: .5ex}\n",
       ".dl-inline>dt:not(:first-of-type) {padding-left: .5ex}\n",
       "</style><dl class=dl-inline><dt>theme_id</dt><dd>0</dd><dt>theme_name</dt><dd>0</dd><dt>parent_id</dt><dd>0</dd><dt>set_id</dt><dd>0</dd><dt>set_name</dt><dd>0</dd><dt>year</dt><dd>0</dd><dt>parts_count</dt><dd>0</dd></dl>\n"
      ],
      "text/latex": [
       "\\begin{description*}\n",
       "\\item[theme\\textbackslash{}\\_id] 0\n",
       "\\item[theme\\textbackslash{}\\_name] 0\n",
       "\\item[parent\\textbackslash{}\\_id] 0\n",
       "\\item[set\\textbackslash{}\\_id] 0\n",
       "\\item[set\\textbackslash{}\\_name] 0\n",
       "\\item[year] 0\n",
       "\\item[parts\\textbackslash{}\\_count] 0\n",
       "\\end{description*}\n"
      ],
      "text/markdown": [
       "theme_id\n",
       ":   0theme_name\n",
       ":   0parent_id\n",
       ":   0set_id\n",
       ":   0set_name\n",
       ":   0year\n",
       ":   0parts_count\n",
       ":   0\n",
       "\n"
      ],
      "text/plain": [
       "   theme_id  theme_name   parent_id      set_id    set_name        year \n",
       "          0           0           0           0           0           0 \n",
       "parts_count \n",
       "          0 "
      ]
     },
     "metadata": {},
     "output_type": "display_data"
    },
    {
     "data": {
      "text/html": [
       "FALSE"
      ],
      "text/latex": [
       "FALSE"
      ],
      "text/markdown": [
       "FALSE"
      ],
      "text/plain": [
       "[1] FALSE"
      ]
     },
     "metadata": {},
     "output_type": "display_data"
    }
   ],
   "source": [
    "# Check missing values and duplicates\n",
    "product_data %>%\n",
    "  is.na() %>%\n",
    "  colSums()\n",
    "\n",
    "product_data %>%\n",
    "  duplicated() %>%\n",
    "  any()"
   ]
  },
  {
   "cell_type": "code",
   "execution_count": 33,
   "id": "09a207cd",
   "metadata": {},
   "outputs": [
    {
     "name": "stdout",
     "output_type": "stream",
     "text": [
      "Rows: 20,967\n",
      "Columns: 7\n",
      "$ theme_id    \u001b[3m\u001b[90m<dbl>\u001b[39m\u001b[23m 1, 1, 1, 1, 1, 1, 1, 1, 1, 1, 1, 1, 1, 1, 1, 1, 1, 1, 1, 1…\n",
      "$ theme_name  \u001b[3m\u001b[90m<chr>\u001b[39m\u001b[23m \"Technic\", \"Technic\", \"Technic\", \"Technic\", \"Technic\", \"Te…\n",
      "$ parent_id   \u001b[3m\u001b[90m<dbl>\u001b[39m\u001b[23m 0, 0, 0, 0, 0, 0, 0, 0, 0, 0, 0, 0, 0, 0, 0, 0, 0, 0, 0, 0…\n",
      "$ set_id      \u001b[3m\u001b[90m<chr>\u001b[39m\u001b[23m \"001-1\", \"002-1\", \"1030-1\", \"1038-1\", \"1039-1\", \"1237-1\", …\n",
      "$ set_name    \u001b[3m\u001b[90m<chr>\u001b[39m\u001b[23m \"Gears\", \"4.5V Samsonite Gears Motor Set\", \"TECHNIC I: Sim…\n",
      "$ year        \u001b[3m\u001b[90m<dbl>\u001b[39m\u001b[23m 1965, 1965, 1985, 1985, 1986, 2001, 1999, 1999, 1999, 1999…\n",
      "$ parts_count \u001b[3m\u001b[90m<dbl>\u001b[39m\u001b[23m 43, 3, 210, 120, 39, 56, 30, 29, 28, 26, 28, 103, 98, 64, …\n"
     ]
    }
   ],
   "source": [
    "# To have a look at the dataset\n",
    "product_data %>% glimpse()"
   ]
  },
  {
   "cell_type": "code",
   "execution_count": 34,
   "id": "79589d1e",
   "metadata": {},
   "outputs": [],
   "source": [
    "# Save the dataset\n",
    "write.csv(product_data, file = \"product_data.csv\", row.names = FALSE)"
   ]
  },
  {
   "cell_type": "code",
   "execution_count": 35,
   "id": "6f2a3122",
   "metadata": {},
   "outputs": [
    {
     "name": "stdout",
     "output_type": "stream",
     "text": [
      "Rows: 1,039,223\n",
      "Columns: 13\n",
      "$ set_id       \u001b[3m\u001b[90m<chr>\u001b[39m\u001b[23m \"001-1\", \"001-1\", \"001-1\", \"001-1\", \"001-1\", \"001-1\", \"00…\n",
      "$ set_name     \u001b[3m\u001b[90m<chr>\u001b[39m\u001b[23m \"Gears\", \"Gears\", \"Gears\", \"Gears\", \"Gears\", \"Gears\", \"Ge…\n",
      "$ year         \u001b[3m\u001b[90m<dbl>\u001b[39m\u001b[23m 1965, 1965, 1965, 1965, 1965, 1965, 1965, 1965, 1965, 196…\n",
      "$ theme_id     \u001b[3m\u001b[90m<dbl>\u001b[39m\u001b[23m 1, 1, 1, 1, 1, 1, 1, 1, 1, 1, 1, 1, 67, 199, 143, 143, 14…\n",
      "$ parts_count  \u001b[3m\u001b[90m<dbl>\u001b[39m\u001b[23m 43, 43, 43, 43, 43, 43, 43, 43, 43, 43, 43, 43, 12, 0, 12…\n",
      "$ inventory_id \u001b[3m\u001b[90m<dbl>\u001b[39m\u001b[23m 24696, 24696, 24696, 24696, 24696, 24696, 24696, 24696, 2…\n",
      "$ version      \u001b[3m\u001b[90m<dbl>\u001b[39m\u001b[23m 1, 1, 1, 1, 1, 1, 1, 1, 1, 1, 1, 1, 1, 1, 1, 1, 1, 2, 1, …\n",
      "$ parts_id     \u001b[3m\u001b[90m<chr>\u001b[39m\u001b[23m \"132a\", \"3020\", \"3062c\", \"3404bc01\", \"36\", \"7039\", \"7049b…\n",
      "$ color_id     \u001b[3m\u001b[90m<dbl>\u001b[39m\u001b[23m 7, 15, 15, 15, 7, 4, 15, 4, 15, 14, 1, 4, NA, NA, 0, 0, 0…\n",
      "$ quantity     \u001b[3m\u001b[90m<dbl>\u001b[39m\u001b[23m 4, 4, 1, 4, 4, 6, 4, 4, 4, 4, 1, 3, NA, NA, 2, 2, 2, 2, 3…\n",
      "$ is_spare     \u001b[3m\u001b[90m<lgl>\u001b[39m\u001b[23m FALSE, FALSE, FALSE, FALSE, FALSE, FALSE, FALSE, FALSE, F…\n",
      "$ color_name   \u001b[3m\u001b[90m<chr>\u001b[39m\u001b[23m \"Light Gray\", \"White\", \"White\", \"White\", \"Light Gray\", \"R…\n",
      "$ rgb          \u001b[3m\u001b[90m<chr>\u001b[39m\u001b[23m \"9BA19D\", \"FFFFFF\", \"FFFFFF\", \"FFFFFF\", \"9BA19D\", \"C91A09…\n"
     ]
    }
   ],
   "source": [
    "# Left join datasets to obtain color information over years\n",
    "color_data <- \n",
    "  sets_data %>%\n",
    "  left_join(inventories_data, by = \"set_id\") %>%\n",
    "  left_join(inventory_parts_data, by = \"inventory_id\") %>%\n",
    "  left_join(colors_data, by = \"color_id\") %>%\n",
    "  glimpse()"
   ]
  },
  {
   "cell_type": "code",
   "execution_count": 36,
   "id": "b8bdff0c",
   "metadata": {},
   "outputs": [
    {
     "data": {
      "text/html": [
       "<style>\n",
       ".dl-inline {width: auto; margin:0; padding: 0}\n",
       ".dl-inline>dt, .dl-inline>dd {float: none; width: auto; display: inline-block}\n",
       ".dl-inline>dt::after {content: \":\\0020\"; padding-right: .5ex}\n",
       ".dl-inline>dt:not(:first-of-type) {padding-left: .5ex}\n",
       "</style><dl class=dl-inline><dt>set_id</dt><dd>0</dd><dt>set_name</dt><dd>0</dd><dt>year</dt><dd>0</dd><dt>theme_id</dt><dd>0</dd><dt>parts_count</dt><dd>0</dd><dt>inventory_id</dt><dd>0</dd><dt>version</dt><dd>0</dd><dt>parts_id</dt><dd>4641</dd><dt>color_id</dt><dd>4641</dd><dt>quantity</dt><dd>4641</dd><dt>is_spare</dt><dd>4641</dd><dt>color_name</dt><dd>4641</dd><dt>rgb</dt><dd>4641</dd></dl>\n"
      ],
      "text/latex": [
       "\\begin{description*}\n",
       "\\item[set\\textbackslash{}\\_id] 0\n",
       "\\item[set\\textbackslash{}\\_name] 0\n",
       "\\item[year] 0\n",
       "\\item[theme\\textbackslash{}\\_id] 0\n",
       "\\item[parts\\textbackslash{}\\_count] 0\n",
       "\\item[inventory\\textbackslash{}\\_id] 0\n",
       "\\item[version] 0\n",
       "\\item[parts\\textbackslash{}\\_id] 4641\n",
       "\\item[color\\textbackslash{}\\_id] 4641\n",
       "\\item[quantity] 4641\n",
       "\\item[is\\textbackslash{}\\_spare] 4641\n",
       "\\item[color\\textbackslash{}\\_name] 4641\n",
       "\\item[rgb] 4641\n",
       "\\end{description*}\n"
      ],
      "text/markdown": [
       "set_id\n",
       ":   0set_name\n",
       ":   0year\n",
       ":   0theme_id\n",
       ":   0parts_count\n",
       ":   0inventory_id\n",
       ":   0version\n",
       ":   0parts_id\n",
       ":   4641color_id\n",
       ":   4641quantity\n",
       ":   4641is_spare\n",
       ":   4641color_name\n",
       ":   4641rgb\n",
       ":   4641\n",
       "\n"
      ],
      "text/plain": [
       "      set_id     set_name         year     theme_id  parts_count inventory_id \n",
       "           0            0            0            0            0            0 \n",
       "     version     parts_id     color_id     quantity     is_spare   color_name \n",
       "           0         4641         4641         4641         4641         4641 \n",
       "         rgb \n",
       "        4641 "
      ]
     },
     "metadata": {},
     "output_type": "display_data"
    },
    {
     "data": {
      "text/html": [
       "FALSE"
      ],
      "text/latex": [
       "FALSE"
      ],
      "text/markdown": [
       "FALSE"
      ],
      "text/plain": [
       "[1] FALSE"
      ]
     },
     "metadata": {},
     "output_type": "display_data"
    }
   ],
   "source": [
    "# Check missing values and duplicates\n",
    "color_data %>%\n",
    "  is.na() %>%\n",
    "  colSums()\n",
    "\n",
    "color_data %>%\n",
    "  duplicated() %>%\n",
    "  any()"
   ]
  },
  {
   "cell_type": "code",
   "execution_count": 37,
   "id": "57f36a0a",
   "metadata": {},
   "outputs": [
    {
     "name": "stdout",
     "output_type": "stream",
     "text": [
      "[1] \"Each inventory_id corresponds to only one version\"\n"
     ]
    }
   ],
   "source": [
    "# Check how many different versions each inventory_id corresponds to\n",
    "inventory_version_counts <- \n",
    "  color_data %>%\n",
    "  group_by(inventory_id) %>%\n",
    "  summarise(number_of_versions = n_distinct(version))\n",
    "\n",
    "any_multiple_versions <- \n",
    "  any(inventory_version_counts$number_of_versions > 1)\n",
    "\n",
    "# print the result\n",
    "if(any_multiple_versions) {\n",
    "  print(\"There are multiple versions corresponding to inventory_id\")\n",
    "} else {\n",
    "  print(\"Each inventory_id corresponds to only one version\")\n",
    "}"
   ]
  },
  {
   "cell_type": "code",
   "execution_count": 38,
   "id": "e6e223f7",
   "metadata": {},
   "outputs": [
    {
     "data": {
      "text/html": [
       "217"
      ],
      "text/latex": [
       "217"
      ],
      "text/markdown": [
       "217"
      ],
      "text/plain": [
       "[1] 217"
      ]
     },
     "metadata": {},
     "output_type": "display_data"
    }
   ],
   "source": [
    "# Check number of unique colors\n",
    "n_distinct(color_data$rgb)"
   ]
  },
  {
   "cell_type": "code",
   "execution_count": 39,
   "id": "67e4ffcf",
   "metadata": {},
   "outputs": [],
   "source": [
    "# Remove missing values\n",
    "color_data <-\n",
    "  color_data %>%\n",
    "  na.omit()"
   ]
  },
  {
   "cell_type": "code",
   "execution_count": 40,
   "id": "1124f713",
   "metadata": {},
   "outputs": [
    {
     "data": {
      "text/html": [
       "246"
      ],
      "text/latex": [
       "246"
      ],
      "text/markdown": [
       "246"
      ],
      "text/plain": [
       "[1] 246"
      ]
     },
     "metadata": {},
     "output_type": "display_data"
    }
   ],
   "source": [
    "# Check number of unique colors again\n",
    "n_distinct(color_data$color_id)"
   ]
  },
  {
   "cell_type": "code",
   "execution_count": 41,
   "id": "2c5e7afe",
   "metadata": {},
   "outputs": [
    {
     "data": {
      "text/html": [
       "<style>\n",
       ".dl-inline {width: auto; margin:0; padding: 0}\n",
       ".dl-inline>dt, .dl-inline>dd {float: none; width: auto; display: inline-block}\n",
       ".dl-inline>dt::after {content: \":\\0020\"; padding-right: .5ex}\n",
       ".dl-inline>dt:not(:first-of-type) {padding-left: .5ex}\n",
       "</style><dl class=dl-inline><dt>set_id</dt><dd>0</dd><dt>set_name</dt><dd>0</dd><dt>year</dt><dd>0</dd><dt>theme_id</dt><dd>0</dd><dt>parts_count</dt><dd>0</dd><dt>inventory_id</dt><dd>0</dd><dt>version</dt><dd>0</dd><dt>parts_id</dt><dd>0</dd><dt>color_id</dt><dd>0</dd><dt>quantity</dt><dd>0</dd><dt>is_spare</dt><dd>0</dd><dt>color_name</dt><dd>0</dd><dt>rgb</dt><dd>0</dd></dl>\n"
      ],
      "text/latex": [
       "\\begin{description*}\n",
       "\\item[set\\textbackslash{}\\_id] 0\n",
       "\\item[set\\textbackslash{}\\_name] 0\n",
       "\\item[year] 0\n",
       "\\item[theme\\textbackslash{}\\_id] 0\n",
       "\\item[parts\\textbackslash{}\\_count] 0\n",
       "\\item[inventory\\textbackslash{}\\_id] 0\n",
       "\\item[version] 0\n",
       "\\item[parts\\textbackslash{}\\_id] 0\n",
       "\\item[color\\textbackslash{}\\_id] 0\n",
       "\\item[quantity] 0\n",
       "\\item[is\\textbackslash{}\\_spare] 0\n",
       "\\item[color\\textbackslash{}\\_name] 0\n",
       "\\item[rgb] 0\n",
       "\\end{description*}\n"
      ],
      "text/markdown": [
       "set_id\n",
       ":   0set_name\n",
       ":   0year\n",
       ":   0theme_id\n",
       ":   0parts_count\n",
       ":   0inventory_id\n",
       ":   0version\n",
       ":   0parts_id\n",
       ":   0color_id\n",
       ":   0quantity\n",
       ":   0is_spare\n",
       ":   0color_name\n",
       ":   0rgb\n",
       ":   0\n",
       "\n"
      ],
      "text/plain": [
       "      set_id     set_name         year     theme_id  parts_count inventory_id \n",
       "           0            0            0            0            0            0 \n",
       "     version     parts_id     color_id     quantity     is_spare   color_name \n",
       "           0            0            0            0            0            0 \n",
       "         rgb \n",
       "           0 "
      ]
     },
     "metadata": {},
     "output_type": "display_data"
    },
    {
     "data": {
      "text/html": [
       "FALSE"
      ],
      "text/latex": [
       "FALSE"
      ],
      "text/markdown": [
       "FALSE"
      ],
      "text/plain": [
       "[1] FALSE"
      ]
     },
     "metadata": {},
     "output_type": "display_data"
    }
   ],
   "source": [
    "# Check missing values and duplicates again\n",
    "color_data %>%\n",
    "  is.na() %>%\n",
    "  colSums()\n",
    "\n",
    "color_data %>%\n",
    "  duplicated() %>%\n",
    "  any()"
   ]
  },
  {
   "cell_type": "code",
   "execution_count": 42,
   "id": "0883e155",
   "metadata": {},
   "outputs": [
    {
     "name": "stderr",
     "output_type": "stream",
     "text": [
      "\u001b[1m\u001b[22m`summarise()` has grouped output by 'year'. You can override using the `.groups` argument.\n"
     ]
    },
    {
     "data": {
      "text/html": [
       "<table class=\"dataframe\">\n",
       "<caption>A grouped_df: 2381 × 5</caption>\n",
       "<thead>\n",
       "\t<tr><th scope=col>year</th><th scope=col>rgb</th><th scope=col>parts_count</th><th scope=col>color_id</th><th scope=col>color_name</th></tr>\n",
       "\t<tr><th scope=col>&lt;dbl&gt;</th><th scope=col>&lt;chr&gt;</th><th scope=col>&lt;dbl&gt;</th><th scope=col>&lt;dbl&gt;</th><th scope=col>&lt;chr&gt;</th></tr>\n",
       "</thead>\n",
       "<tbody>\n",
       "\t<tr><td>1953</td><td>0055BF</td><td>  2</td><td>   1</td><td>Blue                </td></tr>\n",
       "\t<tr><td>1953</td><td>237841</td><td> 26</td><td>   2</td><td>Green               </td></tr>\n",
       "\t<tr><td>1953</td><td>C91A09</td><td> 26</td><td>   4</td><td>Red                 </td></tr>\n",
       "\t<tr><td>1953</td><td>F2CD37</td><td> 26</td><td>  14</td><td>Yellow              </td></tr>\n",
       "\t<tr><td>1953</td><td>FFFFFF</td><td> 26</td><td>  15</td><td>White               </td></tr>\n",
       "\t<tr><td>1954</td><td>0055BF</td><td> 18</td><td>   1</td><td>Blue                </td></tr>\n",
       "\t<tr><td>1954</td><td>237841</td><td>  6</td><td>   2</td><td>Green               </td></tr>\n",
       "\t<tr><td>1954</td><td>9BA19D</td><td>  1</td><td>   7</td><td>Light Gray          </td></tr>\n",
       "\t<tr><td>1954</td><td>C91A09</td><td> 70</td><td>   4</td><td>Red                 </td></tr>\n",
       "\t<tr><td>1954</td><td>F2CD37</td><td> 18</td><td>  14</td><td>Yellow              </td></tr>\n",
       "\t<tr><td>1954</td><td>FCFCFC</td><td>  2</td><td>  47</td><td>Trans-Clear         </td></tr>\n",
       "\t<tr><td>1954</td><td>FFFFFF</td><td> 63</td><td>  15</td><td>White               </td></tr>\n",
       "\t<tr><td>1955</td><td>0055BF</td><td>193</td><td>   1</td><td>Blue                </td></tr>\n",
       "\t<tr><td>1955</td><td>05131D</td><td>  1</td><td>9999</td><td>[No Color/Any Color]</td></tr>\n",
       "\t<tr><td>1955</td><td>237841</td><td>  6</td><td>   2</td><td>Green               </td></tr>\n",
       "\t<tr><td>1955</td><td>C91A09</td><td>298</td><td>   4</td><td>Red                 </td></tr>\n",
       "\t<tr><td>1955</td><td>F2CD37</td><td>188</td><td>  14</td><td>Yellow              </td></tr>\n",
       "\t<tr><td>1955</td><td>FCFCFC</td><td> 43</td><td>  47</td><td>Trans-Clear         </td></tr>\n",
       "\t<tr><td>1955</td><td>FFFFFF</td><td>448</td><td>  15</td><td>White               </td></tr>\n",
       "\t<tr><td>1956</td><td>0055BF</td><td>  6</td><td>   1</td><td>Blue                </td></tr>\n",
       "\t<tr><td>1956</td><td>05131D</td><td>  7</td><td>9999</td><td>[No Color/Any Color]</td></tr>\n",
       "\t<tr><td>1956</td><td>C91A09</td><td>147</td><td>   4</td><td>Red                 </td></tr>\n",
       "\t<tr><td>1956</td><td>F2CD37</td><td>  6</td><td>  14</td><td>Yellow              </td></tr>\n",
       "\t<tr><td>1956</td><td>FCFCFC</td><td> 19</td><td>  47</td><td>Trans-Clear         </td></tr>\n",
       "\t<tr><td>1956</td><td>FFFFFF</td><td>254</td><td>  15</td><td>White               </td></tr>\n",
       "\t<tr><td>1957</td><td>0055BF</td><td> 88</td><td>   1</td><td>Blue                </td></tr>\n",
       "\t<tr><td>1957</td><td>05131D</td><td>  5</td><td>9999</td><td>[No Color/Any Color]</td></tr>\n",
       "\t<tr><td>1957</td><td>237841</td><td> 14</td><td>   2</td><td>Green               </td></tr>\n",
       "\t<tr><td>1957</td><td>6e8aa6</td><td>  1</td><td>1131</td><td>HO Sand Blue        </td></tr>\n",
       "\t<tr><td>1957</td><td>965336</td><td>  1</td><td>1119</td><td>HO Light Brown      </td></tr>\n",
       "\t<tr><td>⋮</td><td>⋮</td><td>⋮</td><td>⋮</td><td>⋮</td></tr>\n",
       "\t<tr><td>2022</td><td>ADC3C0</td><td> 1230</td><td> 323</td><td>Light Aqua          </td></tr>\n",
       "\t<tr><td>2022</td><td>AEEFEC</td><td> 2493</td><td>  41</td><td>Trans-Light Blue    </td></tr>\n",
       "\t<tr><td>2022</td><td>BBA53D</td><td>   16</td><td> 334</td><td>Chrome Gold         </td></tr>\n",
       "\t<tr><td>2022</td><td>BBE90B</td><td> 3235</td><td>  27</td><td>Lime                </td></tr>\n",
       "\t<tr><td>2022</td><td>C870A0</td><td> 1463</td><td>   5</td><td>Dark Pink           </td></tr>\n",
       "\t<tr><td>2022</td><td>C91A09</td><td>16017</td><td>   4</td><td>Red                 </td></tr>\n",
       "\t<tr><td>2022</td><td>CCA373</td><td>    8</td><td>1089</td><td>Warm Tan            </td></tr>\n",
       "\t<tr><td>2022</td><td>CE1D9B</td><td>    7</td><td>1054</td><td>Trans-Dark Pink Opal</td></tr>\n",
       "\t<tr><td>2022</td><td>D09168</td><td>  751</td><td>  92</td><td>Nougat              </td></tr>\n",
       "\t<tr><td>2022</td><td>D9D9D9</td><td>   70</td><td>1000</td><td>Glow in Dark White  </td></tr>\n",
       "\t<tr><td>2022</td><td>D9E4A7</td><td>  223</td><td>  35</td><td>Trans-Bright Green  </td></tr>\n",
       "\t<tr><td>2022</td><td>DBAC34</td><td>  482</td><td>  82</td><td>Metallic Gold       </td></tr>\n",
       "\t<tr><td>2022</td><td>DF6695</td><td>  620</td><td>  45</td><td>Trans-Dark Pink     </td></tr>\n",
       "\t<tr><td>2022</td><td>DFEEA5</td><td>  424</td><td> 158</td><td>Yellowish Green     </td></tr>\n",
       "\t<tr><td>2022</td><td>E1D5ED</td><td> 1122</td><td>  31</td><td>Lavender            </td></tr>\n",
       "\t<tr><td>2022</td><td>E4ADC8</td><td> 1547</td><td>  29</td><td>Bright Pink         </td></tr>\n",
       "\t<tr><td>2022</td><td>E4CD9E</td><td>14102</td><td>  19</td><td>Tan                 </td></tr>\n",
       "\t<tr><td>2022</td><td>EBD800</td><td>  587</td><td>1062</td><td>Vibrant Yellow      </td></tr>\n",
       "\t<tr><td>2022</td><td>F08F1C</td><td> 1161</td><td> 182</td><td>Trans-Orange        </td></tr>\n",
       "\t<tr><td>2022</td><td>F2CD37</td><td> 9056</td><td>  14</td><td>Yellow              </td></tr>\n",
       "\t<tr><td>2022</td><td>F5CD2F</td><td>  654</td><td>  46</td><td>Trans-Yellow        </td></tr>\n",
       "\t<tr><td>2022</td><td>F6D7B3</td><td> 1175</td><td>  78</td><td>Light Nougat        </td></tr>\n",
       "\t<tr><td>2022</td><td>F8BB3D</td><td> 3212</td><td> 191</td><td>Bright Light Orange </td></tr>\n",
       "\t<tr><td>2022</td><td>F8F184</td><td>  172</td><td>  42</td><td>Trans-Neon Green    </td></tr>\n",
       "\t<tr><td>2022</td><td>FCFCFC</td><td> 2911</td><td>  47</td><td>Trans-Clear         </td></tr>\n",
       "\t<tr><td>2022</td><td>FE8A18</td><td> 4541</td><td>  25</td><td>Orange              </td></tr>\n",
       "\t<tr><td>2022</td><td>FF698F</td><td> 1194</td><td>1050</td><td>Coral               </td></tr>\n",
       "\t<tr><td>2022</td><td>FF800D</td><td>   18</td><td>  57</td><td>Trans-Neon Orange   </td></tr>\n",
       "\t<tr><td>2022</td><td>FFF03A</td><td> 1427</td><td> 226</td><td>Bright Light Yellow </td></tr>\n",
       "\t<tr><td>2022</td><td>FFFFFF</td><td>29982</td><td>  15</td><td>White               </td></tr>\n",
       "</tbody>\n",
       "</table>\n"
      ],
      "text/latex": [
       "A grouped\\_df: 2381 × 5\n",
       "\\begin{tabular}{lllll}\n",
       " year & rgb & parts\\_count & color\\_id & color\\_name\\\\\n",
       " <dbl> & <chr> & <dbl> & <dbl> & <chr>\\\\\n",
       "\\hline\n",
       "\t 1953 & 0055BF &   2 &    1 & Blue                \\\\\n",
       "\t 1953 & 237841 &  26 &    2 & Green               \\\\\n",
       "\t 1953 & C91A09 &  26 &    4 & Red                 \\\\\n",
       "\t 1953 & F2CD37 &  26 &   14 & Yellow              \\\\\n",
       "\t 1953 & FFFFFF &  26 &   15 & White               \\\\\n",
       "\t 1954 & 0055BF &  18 &    1 & Blue                \\\\\n",
       "\t 1954 & 237841 &   6 &    2 & Green               \\\\\n",
       "\t 1954 & 9BA19D &   1 &    7 & Light Gray          \\\\\n",
       "\t 1954 & C91A09 &  70 &    4 & Red                 \\\\\n",
       "\t 1954 & F2CD37 &  18 &   14 & Yellow              \\\\\n",
       "\t 1954 & FCFCFC &   2 &   47 & Trans-Clear         \\\\\n",
       "\t 1954 & FFFFFF &  63 &   15 & White               \\\\\n",
       "\t 1955 & 0055BF & 193 &    1 & Blue                \\\\\n",
       "\t 1955 & 05131D &   1 & 9999 & {[}No Color/Any Color{]}\\\\\n",
       "\t 1955 & 237841 &   6 &    2 & Green               \\\\\n",
       "\t 1955 & C91A09 & 298 &    4 & Red                 \\\\\n",
       "\t 1955 & F2CD37 & 188 &   14 & Yellow              \\\\\n",
       "\t 1955 & FCFCFC &  43 &   47 & Trans-Clear         \\\\\n",
       "\t 1955 & FFFFFF & 448 &   15 & White               \\\\\n",
       "\t 1956 & 0055BF &   6 &    1 & Blue                \\\\\n",
       "\t 1956 & 05131D &   7 & 9999 & {[}No Color/Any Color{]}\\\\\n",
       "\t 1956 & C91A09 & 147 &    4 & Red                 \\\\\n",
       "\t 1956 & F2CD37 &   6 &   14 & Yellow              \\\\\n",
       "\t 1956 & FCFCFC &  19 &   47 & Trans-Clear         \\\\\n",
       "\t 1956 & FFFFFF & 254 &   15 & White               \\\\\n",
       "\t 1957 & 0055BF &  88 &    1 & Blue                \\\\\n",
       "\t 1957 & 05131D &   5 & 9999 & {[}No Color/Any Color{]}\\\\\n",
       "\t 1957 & 237841 &  14 &    2 & Green               \\\\\n",
       "\t 1957 & 6e8aa6 &   1 & 1131 & HO Sand Blue        \\\\\n",
       "\t 1957 & 965336 &   1 & 1119 & HO Light Brown      \\\\\n",
       "\t ⋮ & ⋮ & ⋮ & ⋮ & ⋮\\\\\n",
       "\t 2022 & ADC3C0 &  1230 &  323 & Light Aqua          \\\\\n",
       "\t 2022 & AEEFEC &  2493 &   41 & Trans-Light Blue    \\\\\n",
       "\t 2022 & BBA53D &    16 &  334 & Chrome Gold         \\\\\n",
       "\t 2022 & BBE90B &  3235 &   27 & Lime                \\\\\n",
       "\t 2022 & C870A0 &  1463 &    5 & Dark Pink           \\\\\n",
       "\t 2022 & C91A09 & 16017 &    4 & Red                 \\\\\n",
       "\t 2022 & CCA373 &     8 & 1089 & Warm Tan            \\\\\n",
       "\t 2022 & CE1D9B &     7 & 1054 & Trans-Dark Pink Opal\\\\\n",
       "\t 2022 & D09168 &   751 &   92 & Nougat              \\\\\n",
       "\t 2022 & D9D9D9 &    70 & 1000 & Glow in Dark White  \\\\\n",
       "\t 2022 & D9E4A7 &   223 &   35 & Trans-Bright Green  \\\\\n",
       "\t 2022 & DBAC34 &   482 &   82 & Metallic Gold       \\\\\n",
       "\t 2022 & DF6695 &   620 &   45 & Trans-Dark Pink     \\\\\n",
       "\t 2022 & DFEEA5 &   424 &  158 & Yellowish Green     \\\\\n",
       "\t 2022 & E1D5ED &  1122 &   31 & Lavender            \\\\\n",
       "\t 2022 & E4ADC8 &  1547 &   29 & Bright Pink         \\\\\n",
       "\t 2022 & E4CD9E & 14102 &   19 & Tan                 \\\\\n",
       "\t 2022 & EBD800 &   587 & 1062 & Vibrant Yellow      \\\\\n",
       "\t 2022 & F08F1C &  1161 &  182 & Trans-Orange        \\\\\n",
       "\t 2022 & F2CD37 &  9056 &   14 & Yellow              \\\\\n",
       "\t 2022 & F5CD2F &   654 &   46 & Trans-Yellow        \\\\\n",
       "\t 2022 & F6D7B3 &  1175 &   78 & Light Nougat        \\\\\n",
       "\t 2022 & F8BB3D &  3212 &  191 & Bright Light Orange \\\\\n",
       "\t 2022 & F8F184 &   172 &   42 & Trans-Neon Green    \\\\\n",
       "\t 2022 & FCFCFC &  2911 &   47 & Trans-Clear         \\\\\n",
       "\t 2022 & FE8A18 &  4541 &   25 & Orange              \\\\\n",
       "\t 2022 & FF698F &  1194 & 1050 & Coral               \\\\\n",
       "\t 2022 & FF800D &    18 &   57 & Trans-Neon Orange   \\\\\n",
       "\t 2022 & FFF03A &  1427 &  226 & Bright Light Yellow \\\\\n",
       "\t 2022 & FFFFFF & 29982 &   15 & White               \\\\\n",
       "\\end{tabular}\n"
      ],
      "text/markdown": [
       "\n",
       "A grouped_df: 2381 × 5\n",
       "\n",
       "| year &lt;dbl&gt; | rgb &lt;chr&gt; | parts_count &lt;dbl&gt; | color_id &lt;dbl&gt; | color_name &lt;chr&gt; |\n",
       "|---|---|---|---|---|\n",
       "| 1953 | 0055BF |   2 |    1 | Blue                 |\n",
       "| 1953 | 237841 |  26 |    2 | Green                |\n",
       "| 1953 | C91A09 |  26 |    4 | Red                  |\n",
       "| 1953 | F2CD37 |  26 |   14 | Yellow               |\n",
       "| 1953 | FFFFFF |  26 |   15 | White                |\n",
       "| 1954 | 0055BF |  18 |    1 | Blue                 |\n",
       "| 1954 | 237841 |   6 |    2 | Green                |\n",
       "| 1954 | 9BA19D |   1 |    7 | Light Gray           |\n",
       "| 1954 | C91A09 |  70 |    4 | Red                  |\n",
       "| 1954 | F2CD37 |  18 |   14 | Yellow               |\n",
       "| 1954 | FCFCFC |   2 |   47 | Trans-Clear          |\n",
       "| 1954 | FFFFFF |  63 |   15 | White                |\n",
       "| 1955 | 0055BF | 193 |    1 | Blue                 |\n",
       "| 1955 | 05131D |   1 | 9999 | [No Color/Any Color] |\n",
       "| 1955 | 237841 |   6 |    2 | Green                |\n",
       "| 1955 | C91A09 | 298 |    4 | Red                  |\n",
       "| 1955 | F2CD37 | 188 |   14 | Yellow               |\n",
       "| 1955 | FCFCFC |  43 |   47 | Trans-Clear          |\n",
       "| 1955 | FFFFFF | 448 |   15 | White                |\n",
       "| 1956 | 0055BF |   6 |    1 | Blue                 |\n",
       "| 1956 | 05131D |   7 | 9999 | [No Color/Any Color] |\n",
       "| 1956 | C91A09 | 147 |    4 | Red                  |\n",
       "| 1956 | F2CD37 |   6 |   14 | Yellow               |\n",
       "| 1956 | FCFCFC |  19 |   47 | Trans-Clear          |\n",
       "| 1956 | FFFFFF | 254 |   15 | White                |\n",
       "| 1957 | 0055BF |  88 |    1 | Blue                 |\n",
       "| 1957 | 05131D |   5 | 9999 | [No Color/Any Color] |\n",
       "| 1957 | 237841 |  14 |    2 | Green                |\n",
       "| 1957 | 6e8aa6 |   1 | 1131 | HO Sand Blue         |\n",
       "| 1957 | 965336 |   1 | 1119 | HO Light Brown       |\n",
       "| ⋮ | ⋮ | ⋮ | ⋮ | ⋮ |\n",
       "| 2022 | ADC3C0 |  1230 |  323 | Light Aqua           |\n",
       "| 2022 | AEEFEC |  2493 |   41 | Trans-Light Blue     |\n",
       "| 2022 | BBA53D |    16 |  334 | Chrome Gold          |\n",
       "| 2022 | BBE90B |  3235 |   27 | Lime                 |\n",
       "| 2022 | C870A0 |  1463 |    5 | Dark Pink            |\n",
       "| 2022 | C91A09 | 16017 |    4 | Red                  |\n",
       "| 2022 | CCA373 |     8 | 1089 | Warm Tan             |\n",
       "| 2022 | CE1D9B |     7 | 1054 | Trans-Dark Pink Opal |\n",
       "| 2022 | D09168 |   751 |   92 | Nougat               |\n",
       "| 2022 | D9D9D9 |    70 | 1000 | Glow in Dark White   |\n",
       "| 2022 | D9E4A7 |   223 |   35 | Trans-Bright Green   |\n",
       "| 2022 | DBAC34 |   482 |   82 | Metallic Gold        |\n",
       "| 2022 | DF6695 |   620 |   45 | Trans-Dark Pink      |\n",
       "| 2022 | DFEEA5 |   424 |  158 | Yellowish Green      |\n",
       "| 2022 | E1D5ED |  1122 |   31 | Lavender             |\n",
       "| 2022 | E4ADC8 |  1547 |   29 | Bright Pink          |\n",
       "| 2022 | E4CD9E | 14102 |   19 | Tan                  |\n",
       "| 2022 | EBD800 |   587 | 1062 | Vibrant Yellow       |\n",
       "| 2022 | F08F1C |  1161 |  182 | Trans-Orange         |\n",
       "| 2022 | F2CD37 |  9056 |   14 | Yellow               |\n",
       "| 2022 | F5CD2F |   654 |   46 | Trans-Yellow         |\n",
       "| 2022 | F6D7B3 |  1175 |   78 | Light Nougat         |\n",
       "| 2022 | F8BB3D |  3212 |  191 | Bright Light Orange  |\n",
       "| 2022 | F8F184 |   172 |   42 | Trans-Neon Green     |\n",
       "| 2022 | FCFCFC |  2911 |   47 | Trans-Clear          |\n",
       "| 2022 | FE8A18 |  4541 |   25 | Orange               |\n",
       "| 2022 | FF698F |  1194 | 1050 | Coral                |\n",
       "| 2022 | FF800D |    18 |   57 | Trans-Neon Orange    |\n",
       "| 2022 | FFF03A |  1427 |  226 | Bright Light Yellow  |\n",
       "| 2022 | FFFFFF | 29982 |   15 | White                |\n",
       "\n"
      ],
      "text/plain": [
       "     year rgb    parts_count color_id color_name          \n",
       "1    1953 0055BF   2            1     Blue                \n",
       "2    1953 237841  26            2     Green               \n",
       "3    1953 C91A09  26            4     Red                 \n",
       "4    1953 F2CD37  26           14     Yellow              \n",
       "5    1953 FFFFFF  26           15     White               \n",
       "6    1954 0055BF  18            1     Blue                \n",
       "7    1954 237841   6            2     Green               \n",
       "8    1954 9BA19D   1            7     Light Gray          \n",
       "9    1954 C91A09  70            4     Red                 \n",
       "10   1954 F2CD37  18           14     Yellow              \n",
       "11   1954 FCFCFC   2           47     Trans-Clear         \n",
       "12   1954 FFFFFF  63           15     White               \n",
       "13   1955 0055BF 193            1     Blue                \n",
       "14   1955 05131D   1         9999     [No Color/Any Color]\n",
       "15   1955 237841   6            2     Green               \n",
       "16   1955 C91A09 298            4     Red                 \n",
       "17   1955 F2CD37 188           14     Yellow              \n",
       "18   1955 FCFCFC  43           47     Trans-Clear         \n",
       "19   1955 FFFFFF 448           15     White               \n",
       "20   1956 0055BF   6            1     Blue                \n",
       "21   1956 05131D   7         9999     [No Color/Any Color]\n",
       "22   1956 C91A09 147            4     Red                 \n",
       "23   1956 F2CD37   6           14     Yellow              \n",
       "24   1956 FCFCFC  19           47     Trans-Clear         \n",
       "25   1956 FFFFFF 254           15     White               \n",
       "26   1957 0055BF  88            1     Blue                \n",
       "27   1957 05131D   5         9999     [No Color/Any Color]\n",
       "28   1957 237841  14            2     Green               \n",
       "29   1957 6e8aa6   1         1131     HO Sand Blue        \n",
       "30   1957 965336   1         1119     HO Light Brown      \n",
       "⋮    ⋮    ⋮      ⋮           ⋮        ⋮                   \n",
       "2352 2022 ADC3C0  1230        323     Light Aqua          \n",
       "2353 2022 AEEFEC  2493         41     Trans-Light Blue    \n",
       "2354 2022 BBA53D    16        334     Chrome Gold         \n",
       "2355 2022 BBE90B  3235         27     Lime                \n",
       "2356 2022 C870A0  1463          5     Dark Pink           \n",
       "2357 2022 C91A09 16017          4     Red                 \n",
       "2358 2022 CCA373     8       1089     Warm Tan            \n",
       "2359 2022 CE1D9B     7       1054     Trans-Dark Pink Opal\n",
       "2360 2022 D09168   751         92     Nougat              \n",
       "2361 2022 D9D9D9    70       1000     Glow in Dark White  \n",
       "2362 2022 D9E4A7   223         35     Trans-Bright Green  \n",
       "2363 2022 DBAC34   482         82     Metallic Gold       \n",
       "2364 2022 DF6695   620         45     Trans-Dark Pink     \n",
       "2365 2022 DFEEA5   424        158     Yellowish Green     \n",
       "2366 2022 E1D5ED  1122         31     Lavender            \n",
       "2367 2022 E4ADC8  1547         29     Bright Pink         \n",
       "2368 2022 E4CD9E 14102         19     Tan                 \n",
       "2369 2022 EBD800   587       1062     Vibrant Yellow      \n",
       "2370 2022 F08F1C  1161        182     Trans-Orange        \n",
       "2371 2022 F2CD37  9056         14     Yellow              \n",
       "2372 2022 F5CD2F   654         46     Trans-Yellow        \n",
       "2373 2022 F6D7B3  1175         78     Light Nougat        \n",
       "2374 2022 F8BB3D  3212        191     Bright Light Orange \n",
       "2375 2022 F8F184   172         42     Trans-Neon Green    \n",
       "2376 2022 FCFCFC  2911         47     Trans-Clear         \n",
       "2377 2022 FE8A18  4541         25     Orange              \n",
       "2378 2022 FF698F  1194       1050     Coral               \n",
       "2379 2022 FF800D    18         57     Trans-Neon Orange   \n",
       "2380 2022 FFF03A  1427        226     Bright Light Yellow \n",
       "2381 2022 FFFFFF 29982         15     White               "
      ]
     },
     "metadata": {},
     "output_type": "display_data"
    }
   ],
   "source": [
    "# Calculate the total quantity for each year and RGB value\n",
    "overview_color_data <-\n",
    "  color_data %>%\n",
    "  group_by(year, rgb) %>%\n",
    "  summarise(parts_count = sum(quantity), \n",
    "            color_id = first(color_id), \n",
    "            color_name = first(color_name))\n",
    "\n",
    "\n",
    "overview_color_data"
   ]
  },
  {
   "cell_type": "code",
   "execution_count": 43,
   "id": "8c385e0a",
   "metadata": {},
   "outputs": [],
   "source": [
    "# Introduce variables for further analysis\n",
    "overview_color_data <- \n",
    "  overview_color_data %>%\n",
    "  mutate(color_name = case_when(\n",
    "    color_name %in% c(\"[No Color/Any Color]\") ~ \"Black\",  # Change [No Color/Any Color] to black\n",
    "    color_name == \"[Unknown]\" ~ \"other\",  # Change [Unknown] to other\n",
    "    TRUE ~ color_name  # Keep other values as they are\n",
    "  ))"
   ]
  },
  {
   "cell_type": "code",
   "execution_count": 44,
   "id": "ce0740ce",
   "metadata": {},
   "outputs": [
    {
     "name": "stdout",
     "output_type": "stream",
     "text": [
      "Rows: 2,381\n",
      "Columns: 5\n",
      "Groups: year [70]\n",
      "$ year        \u001b[3m\u001b[90m<dbl>\u001b[39m\u001b[23m 1953, 1953, 1953, 1953, 1953, 1954, 1954, 1954, 1954, 1954…\n",
      "$ rgb         \u001b[3m\u001b[90m<chr>\u001b[39m\u001b[23m \"0055BF\", \"237841\", \"C91A09\", \"F2CD37\", \"FFFFFF\", \"0055BF\"…\n",
      "$ parts_count \u001b[3m\u001b[90m<dbl>\u001b[39m\u001b[23m 2, 26, 26, 26, 26, 18, 6, 1, 70, 18, 2, 63, 193, 1, 6, 298…\n",
      "$ color_id    \u001b[3m\u001b[90m<dbl>\u001b[39m\u001b[23m 1, 2, 4, 14, 15, 1, 2, 7, 4, 14, 47, 15, 1, 9999, 2, 4, 14…\n",
      "$ color_name  \u001b[3m\u001b[90m<chr>\u001b[39m\u001b[23m \"Blue\", \"Green\", \"Red\", \"Yellow\", \"White\", \"Blue\", \"Green\"…\n"
     ]
    }
   ],
   "source": [
    "# Check the result\n",
    "overview_color_data %>% \n",
    "  glimpse()"
   ]
  },
  {
   "cell_type": "code",
   "execution_count": 45,
   "id": "26a870b6",
   "metadata": {},
   "outputs": [],
   "source": [
    "# Save the dataset\n",
    "write.csv(overview_color_data, file = \"colour_data.csv\", row.names = FALSE)"
   ]
  },
  {
   "cell_type": "markdown",
   "id": "5c7eb66e",
   "metadata": {},
   "source": [
    "### Data processing of LEGO market dataset"
   ]
  },
  {
   "cell_type": "code",
   "execution_count": 46,
   "id": "50851805",
   "metadata": {},
   "outputs": [
    {
     "name": "stderr",
     "output_type": "stream",
     "text": [
      "\u001b[1mRows: \u001b[22m\u001b[34m14936\u001b[39m \u001b[1mColumns: \u001b[22m\u001b[34m17\u001b[39m\n",
      "\u001b[36m──\u001b[39m \u001b[1mColumn specification\u001b[22m \u001b[36m────────────────────────────────────────────────────────────────────────────────────────────────\u001b[39m\n",
      "\u001b[1mDelimiter:\u001b[22m \",\"\n",
      "\u001b[31mchr\u001b[39m (8): Set_ID, Name, Theme, Theme_Group, Subtheme, Category, Packaging, Av...\n",
      "\u001b[32mdbl\u001b[39m (9): Year, Num_Instructions, Pieces, Minifigures, Owned, Rating, USD_MSR...\n",
      "\n",
      "\u001b[36mℹ\u001b[39m Use `spec()` to retrieve the full column specification for this data.\n",
      "\u001b[36mℹ\u001b[39m Specify the column types or set `show_col_types = FALSE` to quiet this message.\n"
     ]
    }
   ],
   "source": [
    "# Read LEGO market data: rating data\n",
    "rating_data <-\n",
    "  \"kaggle_sets.csv\" %>%\n",
    "  read_csv()"
   ]
  },
  {
   "cell_type": "code",
   "execution_count": 47,
   "id": "761fa977",
   "metadata": {},
   "outputs": [],
   "source": [
    "# Rename variables for clarity and select variables of interests\n",
    "rating_data <-\n",
    "  rating_data %>%\n",
    "    rename(set_id = Set_ID,\n",
    "           set_name = Name,\n",
    "           year = Year,\n",
    "           theme_name = Theme,\n",
    "           theme_group = Theme_Group,\n",
    "           parts_count = Pieces,\n",
    "           minifigures_count = Minifigures,\n",
    "           rating = Rating,\n",
    "           retail_price = USD_MSRP,\n",
    "           resale_price = Current_Price) %>%\n",
    "  select(year, set_id, set_name, theme_name, theme_group, \n",
    "         parts_count, minifigures_count, rating, \n",
    "         retail_price, resale_price)"
   ]
  },
  {
   "cell_type": "code",
   "execution_count": 48,
   "id": "a03bcd64",
   "metadata": {},
   "outputs": [
    {
     "name": "stdout",
     "output_type": "stream",
     "text": [
      "Rows: 14,936\n",
      "Columns: 10\n",
      "$ year              \u001b[3m\u001b[90m<dbl>\u001b[39m\u001b[23m 1975, 1975, 1975, 1975, 1975, 1975, 1975, 1975, 1975…\n",
      "$ set_id            \u001b[3m\u001b[90m<chr>\u001b[39m\u001b[23m \"75-1\", \"77-1\", \"077-1\", \"78-1\", \"78-3\", \"133-1\", \"1…\n",
      "$ set_name          \u001b[3m\u001b[90m<chr>\u001b[39m\u001b[23m \"PreSchool Set\", \"PreSchool Set\", \"Pre-School Set\", …\n",
      "$ theme_name        \u001b[3m\u001b[90m<chr>\u001b[39m\u001b[23m \"PreSchool\", \"PreSchool\", \"Duplo\", \"PreSchool\", \"Sam…\n",
      "$ theme_group       \u001b[3m\u001b[90m<chr>\u001b[39m\u001b[23m \"Pre-school\", \"Pre-school\", \"Pre-school\", \"Pre-schoo…\n",
      "$ parts_count       \u001b[3m\u001b[90m<dbl>\u001b[39m\u001b[23m 16, 20, 21, 32, 330, 87, 86, 83, 82, 293, 369, 526, …\n",
      "$ minifigures_count \u001b[3m\u001b[90m<dbl>\u001b[39m\u001b[23m NA, NA, NA, NA, NA, NA, NA, NA, NA, 5, NA, NA, NA, N…\n",
      "$ rating            \u001b[3m\u001b[90m<dbl>\u001b[39m\u001b[23m 0.0, 0.0, 0.0, 0.0, 0.0, 0.0, 0.0, 0.0, 0.0, 0.0, 0.…\n",
      "$ retail_price      \u001b[3m\u001b[90m<dbl>\u001b[39m\u001b[23m NA, NA, NA, NA, NA, NA, NA, NA, NA, NA, NA, NA, NA, …\n",
      "$ resale_price      \u001b[3m\u001b[90m<dbl>\u001b[39m\u001b[23m NA, NA, NA, NA, NA, NA, NA, NA, NA, NA, NA, NA, NA, …\n"
     ]
    }
   ],
   "source": [
    "# Have a look at the data\n",
    "rating_data %>% \n",
    "  glimpse()"
   ]
  },
  {
   "cell_type": "code",
   "execution_count": 49,
   "id": "87f52b31",
   "metadata": {},
   "outputs": [
    {
     "name": "stderr",
     "output_type": "stream",
     "text": [
      "\u001b[1mRows: \u001b[22m\u001b[34m19195\u001b[39m \u001b[1mColumns: \u001b[22m\u001b[34m14\u001b[39m\n",
      "\u001b[36m──\u001b[39m \u001b[1mColumn specification\u001b[22m \u001b[36m────────────────────────────────────────────────────────────────────────────────────────────────\u001b[39m\n",
      "\u001b[1mDelimiter:\u001b[22m \",\"\n",
      "\u001b[31mchr\u001b[39m (6): Number, Theme, Subtheme, Set name, Launch date, Exit date\n",
      "\u001b[32mdbl\u001b[39m (8): Year, Pieces, RRP (GBP), RRP (USD), RRP (CAD), RRP (EUR), Value new...\n",
      "\n",
      "\u001b[36mℹ\u001b[39m Use `spec()` to retrieve the full column specification for this data.\n",
      "\u001b[36mℹ\u001b[39m Specify the column types or set `show_col_types = FALSE` to quiet this message.\n"
     ]
    }
   ],
   "source": [
    "# Read LEGO market data: price data\n",
    "price_data <-\n",
    "  \"brickset_sets.csv\" %>%\n",
    "  read_csv()"
   ]
  },
  {
   "cell_type": "code",
   "execution_count": 50,
   "id": "47bb9b96",
   "metadata": {},
   "outputs": [
    {
     "name": "stdout",
     "output_type": "stream",
     "text": [
      "Rows: 19,195\n",
      "Columns: 14\n",
      "$ Number             \u001b[3m\u001b[90m<chr>\u001b[39m\u001b[23m \"700_1_4-1\", \"700_3_4-1\", \"700_B-1\", \"700_F-1\", \"70…\n",
      "$ Theme              \u001b[3m\u001b[90m<chr>\u001b[39m\u001b[23m \"System\", \"System\", \"System\", \"System\", \"System\", \"…\n",
      "$ Subtheme           \u001b[3m\u001b[90m<chr>\u001b[39m\u001b[23m \"Supplemental\", \"Supplemental\", \"Supplemental\", \"Su…\n",
      "$ Year               \u001b[3m\u001b[90m<dbl>\u001b[39m\u001b[23m 1953, 1953, 1953, 1953, 1954, 1954, 1954, 1954, 195…\n",
      "$ `Set name`         \u001b[3m\u001b[90m<chr>\u001b[39m\u001b[23m \"Individual 1 x 2 Bricks\", \"Individual 2 x 3 Bricks…\n",
      "$ Pieces             \u001b[3m\u001b[90m<dbl>\u001b[39m\u001b[23m NA, NA, NA, NA, NA, NA, NA, NA, NA, NA, NA, NA, NA,…\n",
      "$ `RRP (GBP)`        \u001b[3m\u001b[90m<dbl>\u001b[39m\u001b[23m NA, NA, NA, NA, NA, NA, NA, NA, NA, NA, NA, NA, NA,…\n",
      "$ `RRP (USD)`        \u001b[3m\u001b[90m<dbl>\u001b[39m\u001b[23m NA, NA, NA, NA, NA, NA, NA, NA, NA, NA, NA, NA, NA,…\n",
      "$ `RRP (CAD)`        \u001b[3m\u001b[90m<dbl>\u001b[39m\u001b[23m NA, NA, NA, NA, NA, NA, NA, NA, NA, NA, NA, NA, NA,…\n",
      "$ `RRP (EUR)`        \u001b[3m\u001b[90m<dbl>\u001b[39m\u001b[23m NA, NA, NA, NA, NA, NA, NA, NA, NA, NA, NA, NA, NA,…\n",
      "$ `Value new (USD)`  \u001b[3m\u001b[90m<dbl>\u001b[39m\u001b[23m NA, NA, NA, NA, NA, NA, NA, NA, NA, NA, NA, NA, NA,…\n",
      "$ `Value used (USD)` \u001b[3m\u001b[90m<dbl>\u001b[39m\u001b[23m NA, NA, NA, NA, NA, NA, NA, NA, NA, NA, NA, NA, NA,…\n",
      "$ `Launch date`      \u001b[3m\u001b[90m<chr>\u001b[39m\u001b[23m NA, NA, NA, NA, NA, NA, NA, NA, NA, NA, NA, NA, NA,…\n",
      "$ `Exit date`        \u001b[3m\u001b[90m<chr>\u001b[39m\u001b[23m NA, NA, NA, NA, NA, NA, NA, NA, NA, NA, NA, NA, NA,…\n"
     ]
    },
    {
     "data": {
      "text/plain": [
       "    Number             Theme             Subtheme              Year     \n",
       " Length:19195       Length:19195       Length:19195       Min.   :1953  \n",
       " Class :character   Class :character   Class :character   1st Qu.:2000  \n",
       " Mode  :character   Mode  :character   Mode  :character   Median :2011  \n",
       "                                                          Mean   :2006  \n",
       "                                                          3rd Qu.:2017  \n",
       "                                                          Max.   :2022  \n",
       "                                                                        \n",
       "   Set name             Pieces          RRP (GBP)        RRP (USD)     \n",
       " Length:19195       Min.   :    0.0   Min.   :  0.00   Min.   :  0.00  \n",
       " Class :character   1st Qu.:   22.0   1st Qu.:  5.99   1st Qu.:  6.00  \n",
       " Mode  :character   Median :   67.0   Median : 14.99   Median : 15.00  \n",
       "                    Mean   :  220.9   Mean   : 27.44   Mean   : 30.61  \n",
       "                    3rd Qu.:  235.0   3rd Qu.: 29.99   3rd Qu.: 34.99  \n",
       "                    Max.   :11695.0   Max.   :734.99   Max.   :849.99  \n",
       "                    NA's   :4059      NA's   :10302    NA's   :7871    \n",
       "   RRP (CAD)         RRP (EUR)      Value new (USD)   Value used (USD)  \n",
       " Min.   :   2.49   Min.   :  0.01   Min.   :   0.00   Min.   :   0.040  \n",
       " 1st Qu.:  13.99   1st Qu.:  9.99   1st Qu.:  12.13   1st Qu.:   7.095  \n",
       " Median :  24.99   Median : 19.99   Median :  32.69   Median :  17.760  \n",
       " Mean   :  49.14   Mean   : 40.50   Mean   : 101.88   Mean   :  44.832  \n",
       " 3rd Qu.:  49.99   3rd Qu.: 48.73   3rd Qu.:  90.00   3rd Qu.:  47.100  \n",
       " Max.   :1049.99   Max.   :849.99   Max.   :9000.00   Max.   :1835.450  \n",
       " NA's   :13190     NA's   :14712    NA's   :6612      NA's   :7736      \n",
       " Launch date         Exit date        \n",
       " Length:19195       Length:19195      \n",
       " Class :character   Class :character  \n",
       " Mode  :character   Mode  :character  \n",
       "                                      \n",
       "                                      \n",
       "                                      \n",
       "                                      "
      ]
     },
     "metadata": {},
     "output_type": "display_data"
    },
    {
     "data": {
      "text/html": [
       "<style>\n",
       ".dl-inline {width: auto; margin:0; padding: 0}\n",
       ".dl-inline>dt, .dl-inline>dd {float: none; width: auto; display: inline-block}\n",
       ".dl-inline>dt::after {content: \":\\0020\"; padding-right: .5ex}\n",
       ".dl-inline>dt:not(:first-of-type) {padding-left: .5ex}\n",
       "</style><dl class=dl-inline><dt>Number</dt><dd>0</dd><dt>Theme</dt><dd>0</dd><dt>Subtheme</dt><dd>3548</dd><dt>Year</dt><dd>0</dd><dt>Set name</dt><dd>0</dd><dt>Pieces</dt><dd>4059</dd><dt>RRP (GBP)</dt><dd>10302</dd><dt>RRP (USD)</dt><dd>7871</dd><dt>RRP (CAD)</dt><dd>13190</dd><dt>RRP (EUR)</dt><dd>14712</dd><dt>Value new (USD)</dt><dd>6612</dd><dt>Value used (USD)</dt><dd>7736</dd><dt>Launch date</dt><dd>12193</dd><dt>Exit date</dt><dd>12193</dd></dl>\n"
      ],
      "text/latex": [
       "\\begin{description*}\n",
       "\\item[Number] 0\n",
       "\\item[Theme] 0\n",
       "\\item[Subtheme] 3548\n",
       "\\item[Year] 0\n",
       "\\item[Set name] 0\n",
       "\\item[Pieces] 4059\n",
       "\\item[RRP (GBP)] 10302\n",
       "\\item[RRP (USD)] 7871\n",
       "\\item[RRP (CAD)] 13190\n",
       "\\item[RRP (EUR)] 14712\n",
       "\\item[Value new (USD)] 6612\n",
       "\\item[Value used (USD)] 7736\n",
       "\\item[Launch date] 12193\n",
       "\\item[Exit date] 12193\n",
       "\\end{description*}\n"
      ],
      "text/markdown": [
       "Number\n",
       ":   0Theme\n",
       ":   0Subtheme\n",
       ":   3548Year\n",
       ":   0Set name\n",
       ":   0Pieces\n",
       ":   4059RRP (GBP)\n",
       ":   10302RRP (USD)\n",
       ":   7871RRP (CAD)\n",
       ":   13190RRP (EUR)\n",
       ":   14712Value new (USD)\n",
       ":   6612Value used (USD)\n",
       ":   7736Launch date\n",
       ":   12193Exit date\n",
       ":   12193\n",
       "\n"
      ],
      "text/plain": [
       "          Number            Theme         Subtheme             Year \n",
       "               0                0             3548                0 \n",
       "        Set name           Pieces        RRP (GBP)        RRP (USD) \n",
       "               0             4059            10302             7871 \n",
       "       RRP (CAD)        RRP (EUR)  Value new (USD) Value used (USD) \n",
       "           13190            14712             6612             7736 \n",
       "     Launch date        Exit date \n",
       "           12193            12193 "
      ]
     },
     "metadata": {},
     "output_type": "display_data"
    },
    {
     "data": {
      "text/html": [
       "FALSE"
      ],
      "text/latex": [
       "FALSE"
      ],
      "text/markdown": [
       "FALSE"
      ],
      "text/plain": [
       "[1] FALSE"
      ]
     },
     "metadata": {},
     "output_type": "display_data"
    }
   ],
   "source": [
    "# Have a glimpse at the dataset\n",
    "price_data %>% \n",
    "  glimpse()\n",
    "# Check the statistics of price data\n",
    "price_data %>%\n",
    "  summary()\n",
    "# Check missing values\n",
    "price_data %>%\n",
    "  is.na() %>%\n",
    "  colSums()\n",
    "# Check any duplicates in the dataset\n",
    "price_data %>%\n",
    "  duplicated() %>%\n",
    "  any()"
   ]
  },
  {
   "cell_type": "code",
   "execution_count": 51,
   "id": "c232d518",
   "metadata": {},
   "outputs": [],
   "source": [
    "# Rename variables for clarity and select variables of interests\n",
    "price_data <- \n",
    "  price_data %>% \n",
    "  rename(set_id = Number,\n",
    "         theme_name = Theme,\n",
    "         year = Year,\n",
    "         set_name = `Set name`,\n",
    "         parts_count = Pieces,\n",
    "         retail_price = `RRP (USD)`,\n",
    "         resale_price_used = `Value used (USD)`,\n",
    "         resale_price_new = `Value new (USD)`,\n",
    "         launch_date = `Launch date`,\n",
    "         exit_date = `Exit date`) %>%\n",
    "  select(year, set_id, set_name, theme_name, parts_count,\n",
    "         retail_price, resale_price_used, resale_price_new,\n",
    "         launch_date, exit_date)"
   ]
  },
  {
   "cell_type": "code",
   "execution_count": 52,
   "id": "3227ad0d",
   "metadata": {},
   "outputs": [
    {
     "name": "stdout",
     "output_type": "stream",
     "text": [
      "Rows: 19,195\n",
      "Columns: 10\n",
      "$ year              \u001b[3m\u001b[90m<dbl>\u001b[39m\u001b[23m 1953, 1953, 1953, 1953, 1954, 1954, 1954, 1954, 1954…\n",
      "$ set_id            \u001b[3m\u001b[90m<chr>\u001b[39m\u001b[23m \"700_1_4-1\", \"700_3_4-1\", \"700_B-1\", \"700_F-1\", \"700…\n",
      "$ set_name          \u001b[3m\u001b[90m<chr>\u001b[39m\u001b[23m \"Individual 1 x 2 Bricks\", \"Individual 2 x 3 Bricks\"…\n",
      "$ theme_name        \u001b[3m\u001b[90m<chr>\u001b[39m\u001b[23m \"System\", \"System\", \"System\", \"System\", \"System\", \"S…\n",
      "$ parts_count       \u001b[3m\u001b[90m<dbl>\u001b[39m\u001b[23m NA, NA, NA, NA, NA, NA, NA, NA, NA, NA, NA, NA, NA, …\n",
      "$ retail_price      \u001b[3m\u001b[90m<dbl>\u001b[39m\u001b[23m NA, NA, NA, NA, NA, NA, NA, NA, NA, NA, NA, NA, NA, …\n",
      "$ resale_price_used \u001b[3m\u001b[90m<dbl>\u001b[39m\u001b[23m NA, NA, NA, NA, NA, NA, NA, NA, NA, NA, NA, NA, NA, …\n",
      "$ resale_price_new  \u001b[3m\u001b[90m<dbl>\u001b[39m\u001b[23m NA, NA, NA, NA, NA, NA, NA, NA, NA, NA, NA, NA, NA, …\n",
      "$ launch_date       \u001b[3m\u001b[90m<chr>\u001b[39m\u001b[23m NA, NA, NA, NA, NA, NA, NA, NA, NA, NA, NA, NA, NA, …\n",
      "$ exit_date         \u001b[3m\u001b[90m<chr>\u001b[39m\u001b[23m NA, NA, NA, NA, NA, NA, NA, NA, NA, NA, NA, NA, NA, …\n"
     ]
    }
   ],
   "source": [
    "# have a look at the dataset\n",
    "price_data %>%\n",
    "  glimpse()"
   ]
  },
  {
   "cell_type": "code",
   "execution_count": 53,
   "id": "2485e53d",
   "metadata": {},
   "outputs": [],
   "source": [
    "# Create a join data that preparing for joining, selecting variables of interests\n",
    "join_data <-\n",
    "  rating_data %>% \n",
    "  select(set_id, rating, minifigures_count, rating)"
   ]
  },
  {
   "cell_type": "code",
   "execution_count": 54,
   "id": "2b069f77",
   "metadata": {},
   "outputs": [
    {
     "data": {
      "text/html": [
       "<table class=\"dataframe\">\n",
       "<caption>A tibble: 14936 × 3</caption>\n",
       "<thead>\n",
       "\t<tr><th scope=col>set_id</th><th scope=col>rating</th><th scope=col>minifigures_count</th></tr>\n",
       "\t<tr><th scope=col>&lt;chr&gt;</th><th scope=col>&lt;dbl&gt;</th><th scope=col>&lt;dbl&gt;</th></tr>\n",
       "</thead>\n",
       "<tbody>\n",
       "\t<tr><td>75-1 </td><td>0.0</td><td>NA</td></tr>\n",
       "\t<tr><td>77-1 </td><td>0.0</td><td>NA</td></tr>\n",
       "\t<tr><td>077-1</td><td>0.0</td><td>NA</td></tr>\n",
       "\t<tr><td>78-1 </td><td>0.0</td><td>NA</td></tr>\n",
       "\t<tr><td>78-3 </td><td>0.0</td><td>NA</td></tr>\n",
       "\t<tr><td>133-1</td><td>0.0</td><td>NA</td></tr>\n",
       "\t<tr><td>134-1</td><td>0.0</td><td>NA</td></tr>\n",
       "\t<tr><td>136-1</td><td>0.0</td><td>NA</td></tr>\n",
       "\t<tr><td>137-2</td><td>0.0</td><td>NA</td></tr>\n",
       "\t<tr><td>148-1</td><td>0.0</td><td> 5</td></tr>\n",
       "\t<tr><td>182-1</td><td>0.0</td><td>NA</td></tr>\n",
       "\t<tr><td>190-1</td><td>0.0</td><td>NA</td></tr>\n",
       "\t<tr><td>195-1</td><td>0.0</td><td>NA</td></tr>\n",
       "\t<tr><td>222-1</td><td>0.0</td><td>NA</td></tr>\n",
       "\t<tr><td>253-2</td><td>0.0</td><td>NA</td></tr>\n",
       "\t<tr><td>254-1</td><td>0.0</td><td>NA</td></tr>\n",
       "\t<tr><td>255-2</td><td>0.0</td><td>NA</td></tr>\n",
       "\t<tr><td>362-1</td><td>0.0</td><td> 2</td></tr>\n",
       "\t<tr><td>363-1</td><td>4.2</td><td> 7</td></tr>\n",
       "\t<tr><td>364-1</td><td>0.0</td><td> 7</td></tr>\n",
       "\t<tr><td>365-1</td><td>0.0</td><td> 8</td></tr>\n",
       "\t<tr><td>367-1</td><td>3.7</td><td>NA</td></tr>\n",
       "\t<tr><td>390-2</td><td>3.9</td><td>NA</td></tr>\n",
       "\t<tr><td>391-1</td><td>4.3</td><td>NA</td></tr>\n",
       "\t<tr><td>392-1</td><td>0.0</td><td>NA</td></tr>\n",
       "\t<tr><td>430-1</td><td>4.0</td><td>NA</td></tr>\n",
       "\t<tr><td>480-1</td><td>0.0</td><td>NA</td></tr>\n",
       "\t<tr><td>490-1</td><td>0.0</td><td>NA</td></tr>\n",
       "\t<tr><td>516-1</td><td>0.0</td><td>NA</td></tr>\n",
       "\t<tr><td>517-1</td><td>0.0</td><td>NA</td></tr>\n",
       "\t<tr><td>⋮</td><td>⋮</td><td>⋮</td></tr>\n",
       "\t<tr><td>80110-1 </td><td>0</td><td>NA</td></tr>\n",
       "\t<tr><td>80111-1 </td><td>0</td><td>18</td></tr>\n",
       "\t<tr><td>112323-1</td><td>0</td><td> 2</td></tr>\n",
       "\t<tr><td>112324-1</td><td>0</td><td>NA</td></tr>\n",
       "\t<tr><td>122326-1</td><td>0</td><td>NA</td></tr>\n",
       "\t<tr><td>122327-1</td><td>0</td><td>NA</td></tr>\n",
       "\t<tr><td>122328-1</td><td>0</td><td> 1</td></tr>\n",
       "\t<tr><td>122329-1</td><td>0</td><td>NA</td></tr>\n",
       "\t<tr><td>212325-1</td><td>0</td><td>NA</td></tr>\n",
       "\t<tr><td>212326-1</td><td>0</td><td>NA</td></tr>\n",
       "\t<tr><td>212327-1</td><td>0</td><td>NA</td></tr>\n",
       "\t<tr><td>242316-1</td><td>0</td><td> 1</td></tr>\n",
       "\t<tr><td>242317-1</td><td>0</td><td> 1</td></tr>\n",
       "\t<tr><td>562301-1</td><td>0</td><td>NA</td></tr>\n",
       "\t<tr><td>562302-1</td><td>0</td><td>NA</td></tr>\n",
       "\t<tr><td>562303-1</td><td>0</td><td>NA</td></tr>\n",
       "\t<tr><td>662302-1</td><td>0</td><td> 2</td></tr>\n",
       "\t<tr><td>662303-1</td><td>0</td><td>NA</td></tr>\n",
       "\t<tr><td>662309-1</td><td>0</td><td> 1</td></tr>\n",
       "\t<tr><td>682303-1</td><td>0</td><td> 1</td></tr>\n",
       "\t<tr><td>682304-1</td><td>0</td><td> 1</td></tr>\n",
       "\t<tr><td>854234-1</td><td>0</td><td>NA</td></tr>\n",
       "\t<tr><td>854236-1</td><td>0</td><td>NA</td></tr>\n",
       "\t<tr><td>854240-1</td><td>0</td><td>NA</td></tr>\n",
       "\t<tr><td>854241-1</td><td>0</td><td>NA</td></tr>\n",
       "\t<tr><td>854242-1</td><td>0</td><td>NA</td></tr>\n",
       "\t<tr><td>854243-1</td><td>0</td><td>NA</td></tr>\n",
       "\t<tr><td>854244-1</td><td>0</td><td>NA</td></tr>\n",
       "\t<tr><td>854245-1</td><td>0</td><td>NA</td></tr>\n",
       "\t<tr><td>854246-1</td><td>0</td><td>NA</td></tr>\n",
       "</tbody>\n",
       "</table>\n"
      ],
      "text/latex": [
       "A tibble: 14936 × 3\n",
       "\\begin{tabular}{lll}\n",
       " set\\_id & rating & minifigures\\_count\\\\\n",
       " <chr> & <dbl> & <dbl>\\\\\n",
       "\\hline\n",
       "\t 75-1  & 0.0 & NA\\\\\n",
       "\t 77-1  & 0.0 & NA\\\\\n",
       "\t 077-1 & 0.0 & NA\\\\\n",
       "\t 78-1  & 0.0 & NA\\\\\n",
       "\t 78-3  & 0.0 & NA\\\\\n",
       "\t 133-1 & 0.0 & NA\\\\\n",
       "\t 134-1 & 0.0 & NA\\\\\n",
       "\t 136-1 & 0.0 & NA\\\\\n",
       "\t 137-2 & 0.0 & NA\\\\\n",
       "\t 148-1 & 0.0 &  5\\\\\n",
       "\t 182-1 & 0.0 & NA\\\\\n",
       "\t 190-1 & 0.0 & NA\\\\\n",
       "\t 195-1 & 0.0 & NA\\\\\n",
       "\t 222-1 & 0.0 & NA\\\\\n",
       "\t 253-2 & 0.0 & NA\\\\\n",
       "\t 254-1 & 0.0 & NA\\\\\n",
       "\t 255-2 & 0.0 & NA\\\\\n",
       "\t 362-1 & 0.0 &  2\\\\\n",
       "\t 363-1 & 4.2 &  7\\\\\n",
       "\t 364-1 & 0.0 &  7\\\\\n",
       "\t 365-1 & 0.0 &  8\\\\\n",
       "\t 367-1 & 3.7 & NA\\\\\n",
       "\t 390-2 & 3.9 & NA\\\\\n",
       "\t 391-1 & 4.3 & NA\\\\\n",
       "\t 392-1 & 0.0 & NA\\\\\n",
       "\t 430-1 & 4.0 & NA\\\\\n",
       "\t 480-1 & 0.0 & NA\\\\\n",
       "\t 490-1 & 0.0 & NA\\\\\n",
       "\t 516-1 & 0.0 & NA\\\\\n",
       "\t 517-1 & 0.0 & NA\\\\\n",
       "\t ⋮ & ⋮ & ⋮\\\\\n",
       "\t 80110-1  & 0 & NA\\\\\n",
       "\t 80111-1  & 0 & 18\\\\\n",
       "\t 112323-1 & 0 &  2\\\\\n",
       "\t 112324-1 & 0 & NA\\\\\n",
       "\t 122326-1 & 0 & NA\\\\\n",
       "\t 122327-1 & 0 & NA\\\\\n",
       "\t 122328-1 & 0 &  1\\\\\n",
       "\t 122329-1 & 0 & NA\\\\\n",
       "\t 212325-1 & 0 & NA\\\\\n",
       "\t 212326-1 & 0 & NA\\\\\n",
       "\t 212327-1 & 0 & NA\\\\\n",
       "\t 242316-1 & 0 &  1\\\\\n",
       "\t 242317-1 & 0 &  1\\\\\n",
       "\t 562301-1 & 0 & NA\\\\\n",
       "\t 562302-1 & 0 & NA\\\\\n",
       "\t 562303-1 & 0 & NA\\\\\n",
       "\t 662302-1 & 0 &  2\\\\\n",
       "\t 662303-1 & 0 & NA\\\\\n",
       "\t 662309-1 & 0 &  1\\\\\n",
       "\t 682303-1 & 0 &  1\\\\\n",
       "\t 682304-1 & 0 &  1\\\\\n",
       "\t 854234-1 & 0 & NA\\\\\n",
       "\t 854236-1 & 0 & NA\\\\\n",
       "\t 854240-1 & 0 & NA\\\\\n",
       "\t 854241-1 & 0 & NA\\\\\n",
       "\t 854242-1 & 0 & NA\\\\\n",
       "\t 854243-1 & 0 & NA\\\\\n",
       "\t 854244-1 & 0 & NA\\\\\n",
       "\t 854245-1 & 0 & NA\\\\\n",
       "\t 854246-1 & 0 & NA\\\\\n",
       "\\end{tabular}\n"
      ],
      "text/markdown": [
       "\n",
       "A tibble: 14936 × 3\n",
       "\n",
       "| set_id &lt;chr&gt; | rating &lt;dbl&gt; | minifigures_count &lt;dbl&gt; |\n",
       "|---|---|---|\n",
       "| 75-1  | 0.0 | NA |\n",
       "| 77-1  | 0.0 | NA |\n",
       "| 077-1 | 0.0 | NA |\n",
       "| 78-1  | 0.0 | NA |\n",
       "| 78-3  | 0.0 | NA |\n",
       "| 133-1 | 0.0 | NA |\n",
       "| 134-1 | 0.0 | NA |\n",
       "| 136-1 | 0.0 | NA |\n",
       "| 137-2 | 0.0 | NA |\n",
       "| 148-1 | 0.0 |  5 |\n",
       "| 182-1 | 0.0 | NA |\n",
       "| 190-1 | 0.0 | NA |\n",
       "| 195-1 | 0.0 | NA |\n",
       "| 222-1 | 0.0 | NA |\n",
       "| 253-2 | 0.0 | NA |\n",
       "| 254-1 | 0.0 | NA |\n",
       "| 255-2 | 0.0 | NA |\n",
       "| 362-1 | 0.0 |  2 |\n",
       "| 363-1 | 4.2 |  7 |\n",
       "| 364-1 | 0.0 |  7 |\n",
       "| 365-1 | 0.0 |  8 |\n",
       "| 367-1 | 3.7 | NA |\n",
       "| 390-2 | 3.9 | NA |\n",
       "| 391-1 | 4.3 | NA |\n",
       "| 392-1 | 0.0 | NA |\n",
       "| 430-1 | 4.0 | NA |\n",
       "| 480-1 | 0.0 | NA |\n",
       "| 490-1 | 0.0 | NA |\n",
       "| 516-1 | 0.0 | NA |\n",
       "| 517-1 | 0.0 | NA |\n",
       "| ⋮ | ⋮ | ⋮ |\n",
       "| 80110-1  | 0 | NA |\n",
       "| 80111-1  | 0 | 18 |\n",
       "| 112323-1 | 0 |  2 |\n",
       "| 112324-1 | 0 | NA |\n",
       "| 122326-1 | 0 | NA |\n",
       "| 122327-1 | 0 | NA |\n",
       "| 122328-1 | 0 |  1 |\n",
       "| 122329-1 | 0 | NA |\n",
       "| 212325-1 | 0 | NA |\n",
       "| 212326-1 | 0 | NA |\n",
       "| 212327-1 | 0 | NA |\n",
       "| 242316-1 | 0 |  1 |\n",
       "| 242317-1 | 0 |  1 |\n",
       "| 562301-1 | 0 | NA |\n",
       "| 562302-1 | 0 | NA |\n",
       "| 562303-1 | 0 | NA |\n",
       "| 662302-1 | 0 |  2 |\n",
       "| 662303-1 | 0 | NA |\n",
       "| 662309-1 | 0 |  1 |\n",
       "| 682303-1 | 0 |  1 |\n",
       "| 682304-1 | 0 |  1 |\n",
       "| 854234-1 | 0 | NA |\n",
       "| 854236-1 | 0 | NA |\n",
       "| 854240-1 | 0 | NA |\n",
       "| 854241-1 | 0 | NA |\n",
       "| 854242-1 | 0 | NA |\n",
       "| 854243-1 | 0 | NA |\n",
       "| 854244-1 | 0 | NA |\n",
       "| 854245-1 | 0 | NA |\n",
       "| 854246-1 | 0 | NA |\n",
       "\n"
      ],
      "text/plain": [
       "      set_id   rating minifigures_count\n",
       "1     75-1     0.0    NA               \n",
       "2     77-1     0.0    NA               \n",
       "3     077-1    0.0    NA               \n",
       "4     78-1     0.0    NA               \n",
       "5     78-3     0.0    NA               \n",
       "6     133-1    0.0    NA               \n",
       "7     134-1    0.0    NA               \n",
       "8     136-1    0.0    NA               \n",
       "9     137-2    0.0    NA               \n",
       "10    148-1    0.0     5               \n",
       "11    182-1    0.0    NA               \n",
       "12    190-1    0.0    NA               \n",
       "13    195-1    0.0    NA               \n",
       "14    222-1    0.0    NA               \n",
       "15    253-2    0.0    NA               \n",
       "16    254-1    0.0    NA               \n",
       "17    255-2    0.0    NA               \n",
       "18    362-1    0.0     2               \n",
       "19    363-1    4.2     7               \n",
       "20    364-1    0.0     7               \n",
       "21    365-1    0.0     8               \n",
       "22    367-1    3.7    NA               \n",
       "23    390-2    3.9    NA               \n",
       "24    391-1    4.3    NA               \n",
       "25    392-1    0.0    NA               \n",
       "26    430-1    4.0    NA               \n",
       "27    480-1    0.0    NA               \n",
       "28    490-1    0.0    NA               \n",
       "29    516-1    0.0    NA               \n",
       "30    517-1    0.0    NA               \n",
       "⋮     ⋮        ⋮      ⋮                \n",
       "14907 80110-1  0      NA               \n",
       "14908 80111-1  0      18               \n",
       "14909 112323-1 0       2               \n",
       "14910 112324-1 0      NA               \n",
       "14911 122326-1 0      NA               \n",
       "14912 122327-1 0      NA               \n",
       "14913 122328-1 0       1               \n",
       "14914 122329-1 0      NA               \n",
       "14915 212325-1 0      NA               \n",
       "14916 212326-1 0      NA               \n",
       "14917 212327-1 0      NA               \n",
       "14918 242316-1 0       1               \n",
       "14919 242317-1 0       1               \n",
       "14920 562301-1 0      NA               \n",
       "14921 562302-1 0      NA               \n",
       "14922 562303-1 0      NA               \n",
       "14923 662302-1 0       2               \n",
       "14924 662303-1 0      NA               \n",
       "14925 662309-1 0       1               \n",
       "14926 682303-1 0       1               \n",
       "14927 682304-1 0       1               \n",
       "14928 854234-1 0      NA               \n",
       "14929 854236-1 0      NA               \n",
       "14930 854240-1 0      NA               \n",
       "14931 854241-1 0      NA               \n",
       "14932 854242-1 0      NA               \n",
       "14933 854243-1 0      NA               \n",
       "14934 854244-1 0      NA               \n",
       "14935 854245-1 0      NA               \n",
       "14936 854246-1 0      NA               "
      ]
     },
     "metadata": {},
     "output_type": "display_data"
    }
   ],
   "source": [
    "# Have a look at the dataset\n",
    "join_data"
   ]
  },
  {
   "cell_type": "code",
   "execution_count": 55,
   "id": "1fa7a432",
   "metadata": {},
   "outputs": [
    {
     "name": "stdout",
     "output_type": "stream",
     "text": [
      "Rows: 19,195\n",
      "Columns: 12\n",
      "$ year              \u001b[3m\u001b[90m<dbl>\u001b[39m\u001b[23m 1953, 1953, 1953, 1953, 1954, 1954, 1954, 1954, 1954…\n",
      "$ set_id            \u001b[3m\u001b[90m<chr>\u001b[39m\u001b[23m \"700_1_4-1\", \"700_3_4-1\", \"700_B-1\", \"700_F-1\", \"700…\n",
      "$ set_name          \u001b[3m\u001b[90m<chr>\u001b[39m\u001b[23m \"Individual 1 x 2 Bricks\", \"Individual 2 x 3 Bricks\"…\n",
      "$ theme_name        \u001b[3m\u001b[90m<chr>\u001b[39m\u001b[23m \"System\", \"System\", \"System\", \"System\", \"System\", \"S…\n",
      "$ parts_count       \u001b[3m\u001b[90m<dbl>\u001b[39m\u001b[23m NA, NA, NA, NA, NA, NA, NA, NA, NA, NA, NA, NA, NA, …\n",
      "$ retail_price      \u001b[3m\u001b[90m<dbl>\u001b[39m\u001b[23m NA, NA, NA, NA, NA, NA, NA, NA, NA, NA, NA, NA, NA, …\n",
      "$ resale_price_used \u001b[3m\u001b[90m<dbl>\u001b[39m\u001b[23m NA, NA, NA, NA, NA, NA, NA, NA, NA, NA, NA, NA, NA, …\n",
      "$ resale_price_new  \u001b[3m\u001b[90m<dbl>\u001b[39m\u001b[23m NA, NA, NA, NA, NA, NA, NA, NA, NA, NA, NA, NA, NA, …\n",
      "$ launch_date       \u001b[3m\u001b[90m<chr>\u001b[39m\u001b[23m NA, NA, NA, NA, NA, NA, NA, NA, NA, NA, NA, NA, NA, …\n",
      "$ exit_date         \u001b[3m\u001b[90m<chr>\u001b[39m\u001b[23m NA, NA, NA, NA, NA, NA, NA, NA, NA, NA, NA, NA, NA, …\n",
      "$ rating            \u001b[3m\u001b[90m<dbl>\u001b[39m\u001b[23m NA, NA, NA, NA, NA, NA, NA, NA, NA, NA, NA, NA, NA, …\n",
      "$ minifigures_count \u001b[3m\u001b[90m<dbl>\u001b[39m\u001b[23m NA, NA, NA, NA, NA, NA, NA, NA, NA, NA, NA, NA, NA, …\n"
     ]
    },
    {
     "data": {
      "text/html": [
       "<style>\n",
       ".dl-inline {width: auto; margin:0; padding: 0}\n",
       ".dl-inline>dt, .dl-inline>dd {float: none; width: auto; display: inline-block}\n",
       ".dl-inline>dt::after {content: \":\\0020\"; padding-right: .5ex}\n",
       ".dl-inline>dt:not(:first-of-type) {padding-left: .5ex}\n",
       "</style><dl class=dl-inline><dt>year</dt><dd>0</dd><dt>set_id</dt><dd>0</dd><dt>set_name</dt><dd>0</dd><dt>theme_name</dt><dd>0</dd><dt>parts_count</dt><dd>4059</dd><dt>retail_price</dt><dd>7871</dd><dt>resale_price_used</dt><dd>7736</dd><dt>resale_price_new</dt><dd>6612</dd><dt>launch_date</dt><dd>12193</dd><dt>exit_date</dt><dd>12193</dd><dt>rating</dt><dd>4773</dd><dt>minifigures_count</dt><dd>11690</dd></dl>\n"
      ],
      "text/latex": [
       "\\begin{description*}\n",
       "\\item[year] 0\n",
       "\\item[set\\textbackslash{}\\_id] 0\n",
       "\\item[set\\textbackslash{}\\_name] 0\n",
       "\\item[theme\\textbackslash{}\\_name] 0\n",
       "\\item[parts\\textbackslash{}\\_count] 4059\n",
       "\\item[retail\\textbackslash{}\\_price] 7871\n",
       "\\item[resale\\textbackslash{}\\_price\\textbackslash{}\\_used] 7736\n",
       "\\item[resale\\textbackslash{}\\_price\\textbackslash{}\\_new] 6612\n",
       "\\item[launch\\textbackslash{}\\_date] 12193\n",
       "\\item[exit\\textbackslash{}\\_date] 12193\n",
       "\\item[rating] 4773\n",
       "\\item[minifigures\\textbackslash{}\\_count] 11690\n",
       "\\end{description*}\n"
      ],
      "text/markdown": [
       "year\n",
       ":   0set_id\n",
       ":   0set_name\n",
       ":   0theme_name\n",
       ":   0parts_count\n",
       ":   4059retail_price\n",
       ":   7871resale_price_used\n",
       ":   7736resale_price_new\n",
       ":   6612launch_date\n",
       ":   12193exit_date\n",
       ":   12193rating\n",
       ":   4773minifigures_count\n",
       ":   11690\n",
       "\n"
      ],
      "text/plain": [
       "             year            set_id          set_name        theme_name \n",
       "                0                 0                 0                 0 \n",
       "      parts_count      retail_price resale_price_used  resale_price_new \n",
       "             4059              7871              7736              6612 \n",
       "      launch_date         exit_date            rating minifigures_count \n",
       "            12193             12193              4773             11690 "
      ]
     },
     "metadata": {},
     "output_type": "display_data"
    },
    {
     "data": {
      "text/html": [
       "FALSE"
      ],
      "text/latex": [
       "FALSE"
      ],
      "text/markdown": [
       "FALSE"
      ],
      "text/plain": [
       "[1] FALSE"
      ]
     },
     "metadata": {},
     "output_type": "display_data"
    }
   ],
   "source": [
    "# Join price dataset and join dataset\n",
    "total_data <- \n",
    "  left_join(price_data, join_data, by = \"set_id\") %>%\n",
    "  glimpse()\n",
    "\n",
    "# Check missing values\n",
    "total_data %>%\n",
    "  is.na() %>%\n",
    "  colSums()\n",
    "\n",
    "# Check any duplicates in the dataset\n",
    "total_data %>%\n",
    "  duplicated() %>%\n",
    "  any()"
   ]
  },
  {
   "cell_type": "code",
   "execution_count": 56,
   "id": "2219f313",
   "metadata": {},
   "outputs": [
    {
     "data": {
      "text/html": [
       "<table class=\"dataframe\">\n",
       "<caption>A tibble: 6537 × 12</caption>\n",
       "<thead>\n",
       "\t<tr><th scope=col>year</th><th scope=col>set_id</th><th scope=col>set_name</th><th scope=col>theme_name</th><th scope=col>parts_count</th><th scope=col>retail_price</th><th scope=col>resale_price_used</th><th scope=col>resale_price_new</th><th scope=col>launch_date</th><th scope=col>exit_date</th><th scope=col>rating</th><th scope=col>minifigures_count</th></tr>\n",
       "\t<tr><th scope=col>&lt;dbl&gt;</th><th scope=col>&lt;chr&gt;</th><th scope=col>&lt;chr&gt;</th><th scope=col>&lt;chr&gt;</th><th scope=col>&lt;dbl&gt;</th><th scope=col>&lt;dbl&gt;</th><th scope=col>&lt;dbl&gt;</th><th scope=col>&lt;dbl&gt;</th><th scope=col>&lt;date&gt;</th><th scope=col>&lt;date&gt;</th><th scope=col>&lt;dbl&gt;</th><th scope=col>&lt;dbl&gt;</th></tr>\n",
       "</thead>\n",
       "<tbody>\n",
       "\t<tr><td>1996</td><td>1796-1</td><td>Freestyle Bucket           </td><td>Freestyle    </td><td>641</td><td> 20.00</td><td> 30.00</td><td>    NA</td><td>1996-06-01</td><td>2000-09-30</td><td>0.0</td><td>NA</td></tr>\n",
       "\t<tr><td>1996</td><td>1815-1</td><td>Paradisa Lifeguard         </td><td>Town         </td><td> 36</td><td>    NA</td><td> 41.24</td><td>107.70</td><td>1996-01-01</td><td>1997-12-31</td><td>0.0</td><td> 2</td></tr>\n",
       "\t<tr><td>1996</td><td>1817-1</td><td>Sea Plane with Hut and Boat</td><td>Town         </td><td>135</td><td> 15.00</td><td> 32.74</td><td> 29.75</td><td>1996-03-01</td><td>2001-12-31</td><td>0.0</td><td> 3</td></tr>\n",
       "\t<tr><td>1996</td><td>4559-1</td><td>Cargo Railway              </td><td>Trains       </td><td>842</td><td>130.00</td><td>216.43</td><td>762.15</td><td>1996-07-01</td><td>1999-01-30</td><td>4.3</td><td> 7</td></tr>\n",
       "\t<tr><td>1996</td><td>4565-1</td><td>Freight and Crane Railway  </td><td>Trains       </td><td>914</td><td>140.00</td><td>243.55</td><td>589.41</td><td>1996-09-01</td><td>2002-12-31</td><td>4.4</td><td> 3</td></tr>\n",
       "\t<tr><td>1996</td><td>5820-1</td><td>Belville Garden Fun        </td><td>Belville     </td><td> 29</td><td>    NA</td><td>  9.05</td><td> 32.53</td><td>1996-01-01</td><td>1998-12-31</td><td>0.0</td><td> 1</td></tr>\n",
       "\t<tr><td>1996</td><td>5835-1</td><td>Belville Dance Studio      </td><td>Belville     </td><td> 36</td><td>    NA</td><td> 21.54</td><td> 15.00</td><td>1996-08-01</td><td>1998-12-31</td><td>0.0</td><td> 1</td></tr>\n",
       "\t<tr><td>1996</td><td>5875-1</td><td>Belville Hospital Ward     </td><td>Belville     </td><td> 96</td><td>    NA</td><td> 43.78</td><td>120.00</td><td>1996-01-01</td><td>2001-12-31</td><td>0.0</td><td> 4</td></tr>\n",
       "\t<tr><td>1996</td><td>5876-1</td><td>Belville Hospital Ward     </td><td>Belville     </td><td> 96</td><td> 30.00</td><td> 40.88</td><td> 75.00</td><td>1996-08-01</td><td>1998-12-31</td><td>0.0</td><td> 4</td></tr>\n",
       "\t<tr><td>1996</td><td>6024-1</td><td>Bandit Ambush              </td><td>Castle       </td><td> 59</td><td>  6.50</td><td> 78.79</td><td>213.75</td><td>1996-06-01</td><td>1998-12-31</td><td>3.9</td><td> 2</td></tr>\n",
       "\t<tr><td>1996</td><td>6135-1</td><td>Spy Shark                  </td><td>Aquazone     </td><td> 57</td><td>  8.75</td><td> 11.79</td><td> 20.00</td><td>1996-01-01</td><td>1997-12-31</td><td>3.6</td><td> 1</td></tr>\n",
       "\t<tr><td>1996</td><td>6145-1</td><td>Crystal Crawler            </td><td>Aquazone     </td><td> 96</td><td> 12.00</td><td> 17.05</td><td> 94.67</td><td>1996-04-01</td><td>1998-12-31</td><td>3.8</td><td> 1</td></tr>\n",
       "\t<tr><td>1996</td><td>6190-1</td><td>Shark's Crystal Cave       </td><td>Aquazone     </td><td>258</td><td> 50.00</td><td>106.77</td><td>400.00</td><td>1996-07-01</td><td>1997-12-31</td><td>4.4</td><td> 2</td></tr>\n",
       "\t<tr><td>1996</td><td>6244-1</td><td>Armada Sentry              </td><td>Pirates      </td><td> 71</td><td>  8.75</td><td> 45.89</td><td>166.40</td><td>1996-04-01</td><td>1996-12-31</td><td>3.5</td><td> 1</td></tr>\n",
       "\t<tr><td>1996</td><td>6334-1</td><td>Wave Jump Racers           </td><td>Town         </td><td>181</td><td> 20.00</td><td> 32.60</td><td> 61.48</td><td>1996-07-01</td><td>1997-12-31</td><td>4.0</td><td> 4</td></tr>\n",
       "\t<tr><td>1996</td><td>6337-1</td><td>Fast Track Finish          </td><td>Town         </td><td>329</td><td> 40.00</td><td>109.57</td><td>279.53</td><td>1996-07-01</td><td>1997-12-31</td><td>3.9</td><td> 6</td></tr>\n",
       "\t<tr><td>1996</td><td>6491-1</td><td>Rocket Racer               </td><td>Time Cruisers</td><td> 58</td><td>  4.50</td><td>  6.27</td><td> 24.89</td><td>1996-07-01</td><td>1998-12-31</td><td>3.3</td><td> 1</td></tr>\n",
       "\t<tr><td>1996</td><td>6492-1</td><td>Hypno Cruiser              </td><td>Time Cruisers</td><td>152</td><td> 22.00</td><td> 31.83</td><td>157.50</td><td>1996-07-01</td><td>1998-12-31</td><td>3.8</td><td> 2</td></tr>\n",
       "\t<tr><td>1996</td><td>6493-1</td><td>Flying Time Vessel         </td><td>Time Cruisers</td><td>237</td><td> 44.00</td><td> 44.87</td><td>102.83</td><td>1996-07-01</td><td>1998-12-31</td><td>3.9</td><td> 2</td></tr>\n",
       "\t<tr><td>1996</td><td>6518-1</td><td>Baja Buggy                 </td><td>Town         </td><td> 37</td><td>  3.50</td><td>  3.25</td><td> 12.12</td><td>1996-07-01</td><td>1997-12-31</td><td>3.6</td><td> 1</td></tr>\n",
       "\t<tr><td>1996</td><td>6581-1</td><td>Dig 'N' Dump               </td><td>Town         </td><td>127</td><td> 13.25</td><td> 14.56</td><td> 58.69</td><td>1996-07-01</td><td>1997-12-31</td><td>4.1</td><td> 2</td></tr>\n",
       "\t<tr><td>1996</td><td>6598-1</td><td>Metro PD Station           </td><td>Town         </td><td>552</td><td> 66.00</td><td>135.00</td><td>476.62</td><td>1996-01-01</td><td>1997-12-31</td><td>4.2</td><td> 8</td></tr>\n",
       "\t<tr><td>1996</td><td>6615-1</td><td>Eagle Stunt Flyer          </td><td>Town         </td><td> 76</td><td>  8.75</td><td> 11.30</td><td> 40.00</td><td>1996-07-01</td><td>1997-12-31</td><td>4.1</td><td> 1</td></tr>\n",
       "\t<tr><td>1996</td><td>6712-1</td><td>Sheriff's Showdown         </td><td>Western      </td><td> 28</td><td>  4.00</td><td> 16.53</td><td> 51.50</td><td>1996-09-01</td><td>1998-12-31</td><td>3.8</td><td> 2</td></tr>\n",
       "\t<tr><td>1996</td><td>6716-1</td><td>Covered Wagon              </td><td>Western      </td><td> 64</td><td>  8.00</td><td> 42.71</td><td>127.17</td><td>1996-09-01</td><td>1998-12-31</td><td>4.1</td><td> 1</td></tr>\n",
       "\t<tr><td>1996</td><td>6755-1</td><td>Sheriff's Lock-Up          </td><td>Western      </td><td>176</td><td> 25.00</td><td> 68.37</td><td>381.04</td><td>1996-08-01</td><td>1998-12-31</td><td>4.4</td><td> 4</td></tr>\n",
       "\t<tr><td>1996</td><td>6769-1</td><td>Fort Legoredo              </td><td>Western      </td><td>687</td><td> 85.00</td><td>217.35</td><td>705.44</td><td>1996-10-01</td><td>1998-12-31</td><td>4.7</td><td>10</td></tr>\n",
       "\t<tr><td>1996</td><td>6854-1</td><td>Alien Fossilizer           </td><td>Space        </td><td> 53</td><td>  6.00</td><td> 13.36</td><td> 86.18</td><td>1996-04-01</td><td>1996-12-31</td><td>3.5</td><td> 1</td></tr>\n",
       "\t<tr><td>1996</td><td>6856-1</td><td>Planetary Decoder          </td><td>Space        </td><td> 80</td><td>  8.00</td><td> 11.98</td><td> 68.77</td><td>1996-04-01</td><td>1997-12-31</td><td>3.5</td><td> 1</td></tr>\n",
       "\t<tr><td>1996</td><td>6899-1</td><td>Nebula Outpost             </td><td>Space        </td><td>158</td><td> 15.00</td><td> 31.61</td><td>162.29</td><td>1996-04-01</td><td>1997-12-31</td><td>3.9</td><td> 2</td></tr>\n",
       "\t<tr><td>⋮</td><td>⋮</td><td>⋮</td><td>⋮</td><td>⋮</td><td>⋮</td><td>⋮</td><td>⋮</td><td>⋮</td><td>⋮</td><td>⋮</td><td>⋮</td></tr>\n",
       "\t<tr><td>2022</td><td>71402-9 </td><td>Coin Coffer                                         </td><td>Super Mario        </td><td> NA</td><td> 4.99</td><td> 3.29</td><td> 5.48</td><td>2022-01-01</td><td>2022-07-31</td><td>0.0</td><td> 1</td></tr>\n",
       "\t<tr><td>2022</td><td>71402-10</td><td>Para-Biddybud                                       </td><td>Super Mario        </td><td> NA</td><td> 4.99</td><td> 5.00</td><td> 5.01</td><td>2022-01-01</td><td>2022-07-31</td><td>0.0</td><td> 1</td></tr>\n",
       "\t<tr><td>2022</td><td>71402-11</td><td>Character Pack Series 4 - Complete                  </td><td>Super Mario        </td><td>  0</td><td>   NA</td><td>   NA</td><td>   NA</td><td>2022-01-01</td><td>2022-07-31</td><td>0.0</td><td>10</td></tr>\n",
       "\t<tr><td>2022</td><td>71402-12</td><td>Character Pack Series 4 - Sealed Box                </td><td>Super Mario        </td><td> NA</td><td>   NA</td><td>   NA</td><td>   NA</td><td>2022-01-01</td><td>2022-07-31</td><td>0.0</td><td>NA</td></tr>\n",
       "\t<tr><td>2022</td><td>71405-1 </td><td>Fuzzy Flippers                                      </td><td>Super Mario        </td><td>154</td><td>19.99</td><td>13.25</td><td>19.99</td><td>2022-08-01</td><td>2022-12-31</td><td>0.0</td><td> 2</td></tr>\n",
       "\t<tr><td>2022</td><td>71410-0 </td><td>Character Pack Series 5 {Random box}                </td><td>Super Mario        </td><td> NA</td><td> 5.99</td><td>   NA</td><td>   NA</td><td>2022-08-01</td><td>2022-12-31</td><td>0.0</td><td>NA</td></tr>\n",
       "\t<tr><td>2022</td><td>71410-1 </td><td>Red Yoshi                                           </td><td>Super Mario        </td><td> NA</td><td> 5.99</td><td>   NA</td><td> 5.89</td><td>2022-08-01</td><td>2022-12-31</td><td>0.0</td><td>NA</td></tr>\n",
       "\t<tr><td>2022</td><td>71410-2 </td><td>Baby Yoshi                                          </td><td>Super Mario        </td><td> NA</td><td> 5.99</td><td>51.49</td><td>44.12</td><td>2022-08-01</td><td>2022-12-31</td><td>0.0</td><td>NA</td></tr>\n",
       "\t<tr><td>2022</td><td>71410-3 </td><td>Purple Toad                                         </td><td>Super Mario        </td><td> NA</td><td> 5.99</td><td>   NA</td><td>   NA</td><td>2022-08-01</td><td>2022-12-31</td><td>0.0</td><td>NA</td></tr>\n",
       "\t<tr><td>2022</td><td>71410-4 </td><td>Hammer Bro                                          </td><td>Super Mario        </td><td> NA</td><td> 5.99</td><td>   NA</td><td>   NA</td><td>2022-08-01</td><td>2022-12-31</td><td>0.0</td><td>NA</td></tr>\n",
       "\t<tr><td>2022</td><td>71410-5 </td><td>Blue Shy Guy                                        </td><td>Super Mario        </td><td> NA</td><td> 5.99</td><td>   NA</td><td>   NA</td><td>2022-08-01</td><td>2022-12-31</td><td>0.0</td><td>NA</td></tr>\n",
       "\t<tr><td>2022</td><td>71410-6 </td><td>Toady                                               </td><td>Super Mario        </td><td> NA</td><td> 5.99</td><td>   NA</td><td>   NA</td><td>2022-08-01</td><td>2022-12-31</td><td>0.0</td><td>NA</td></tr>\n",
       "\t<tr><td>2022</td><td>71410-7 </td><td>Nabbit                                              </td><td>Super Mario        </td><td> NA</td><td> 5.99</td><td>   NA</td><td>   NA</td><td>2022-08-01</td><td>2022-12-31</td><td>0.0</td><td>NA</td></tr>\n",
       "\t<tr><td>2022</td><td>71410-8 </td><td>Waddlewing                                          </td><td>Super Mario        </td><td> NA</td><td> 5.99</td><td>   NA</td><td>   NA</td><td>2022-08-01</td><td>2022-12-31</td><td>0.0</td><td>NA</td></tr>\n",
       "\t<tr><td>2022</td><td>71410-9 </td><td>Character Pack Series 5 - Complete                  </td><td>Super Mario        </td><td>  0</td><td>   NA</td><td>   NA</td><td>   NA</td><td>2022-08-01</td><td>2022-12-31</td><td>0.0</td><td> 8</td></tr>\n",
       "\t<tr><td>2022</td><td>71410-10</td><td>Character Pack Series 5 - Sealed Box                </td><td>Super Mario        </td><td> NA</td><td> 5.99</td><td>   NA</td><td>   NA</td><td>2022-08-01</td><td>2022-12-31</td><td>0.0</td><td>NA</td></tr>\n",
       "\t<tr><td>2022</td><td>71764-1 </td><td>Ninja Training Centre                               </td><td>Ninjago            </td><td>524</td><td>39.99</td><td>   NA</td><td>32.07</td><td>2022-03-01</td><td>2022-12-31</td><td>3.7</td><td> 3</td></tr>\n",
       "\t<tr><td>2022</td><td>75321-1 </td><td>The Razor Crest Microfighter                        </td><td>Star Wars          </td><td> 98</td><td> 9.99</td><td> 7.23</td><td>10.19</td><td>2022-01-01</td><td>2022-12-31</td><td>3.6</td><td> 1</td></tr>\n",
       "\t<tr><td>2022</td><td>75340-1 </td><td>LEGO Star Wars Advent Calendar                      </td><td>Star Wars          </td><td>329</td><td>44.99</td><td>22.42</td><td>29.06</td><td>2022-09-01</td><td>2022-12-31</td><td>3.8</td><td> 8</td></tr>\n",
       "\t<tr><td>2022</td><td>76202-1 </td><td>Wolverine Mech Armor                                </td><td>Marvel Super Heroes</td><td>141</td><td> 9.99</td><td> 6.33</td><td> 9.17</td><td>2022-04-01</td><td>2022-12-31</td><td>3.8</td><td> 1</td></tr>\n",
       "\t<tr><td>2022</td><td>76203-1 </td><td>Iron Man Mech Armor                                 </td><td>Marvel Super Heroes</td><td>130</td><td> 9.99</td><td> 9.15</td><td>10.15</td><td>2022-04-01</td><td>2022-12-31</td><td>3.4</td><td> 1</td></tr>\n",
       "\t<tr><td>2022</td><td>76204-1 </td><td>Black Panther Mech Armor                            </td><td>Marvel Super Heroes</td><td>124</td><td> 9.99</td><td> 5.45</td><td> 7.26</td><td>2022-04-01</td><td>2022-12-31</td><td>3.5</td><td> 1</td></tr>\n",
       "\t<tr><td>2022</td><td>76205-1 </td><td>Gargantos Showdown                                  </td><td>Marvel Super Heroes</td><td>264</td><td>29.99</td><td>18.35</td><td>24.28</td><td>2022-01-01</td><td>2022-12-31</td><td>4.1</td><td> 3</td></tr>\n",
       "\t<tr><td>2022</td><td>76219-1 </td><td><span style=white-space:pre-wrap>Spider-Man &amp; Green Goblin Mech Battle               </span></td><td>Marvel Super Heroes</td><td>296</td><td>19.99</td><td>12.04</td><td>19.32</td><td>2022-04-01</td><td>2022-12-31</td><td>0.0</td><td> 2</td></tr>\n",
       "\t<tr><td>2022</td><td>76231-1 </td><td>Guardians of the Galaxy Advent Calendar             </td><td>Marvel Super Heroes</td><td>268</td><td>44.99</td><td>21.65</td><td>32.41</td><td>2022-09-01</td><td>2022-12-31</td><td>3.7</td><td> 6</td></tr>\n",
       "\t<tr><td>2022</td><td>76396-1 </td><td>Hogwarts Moment: Divination Class                   </td><td>Harry Potter       </td><td>297</td><td>29.99</td><td>19.79</td><td>28.34</td><td>2022-03-01</td><td>2022-12-31</td><td>3.9</td><td> 3</td></tr>\n",
       "\t<tr><td>2022</td><td>76397-1 </td><td>Hogwarts Moment: Defence Against the Dark Arts Class</td><td>Harry Potter       </td><td>257</td><td>29.99</td><td>22.27</td><td>29.18</td><td>2022-03-01</td><td>2022-12-31</td><td>3.7</td><td> 4</td></tr>\n",
       "\t<tr><td>2022</td><td>76403-1 </td><td>The Ministry of Magic                               </td><td>Harry Potter       </td><td>990</td><td>99.99</td><td>55.00</td><td>65.41</td><td>2022-06-01</td><td>2022-12-31</td><td>4.1</td><td>10</td></tr>\n",
       "\t<tr><td>2022</td><td>76404-1 </td><td>LEGO Harry Potter Advent Calendar                   </td><td>Harry Potter       </td><td>334</td><td>44.99</td><td>15.00</td><td>22.43</td><td>2022-09-01</td><td>2022-12-31</td><td>3.5</td><td> 8</td></tr>\n",
       "\t<tr><td>2022</td><td>80031-1 </td><td>Mei's Dragon Car                                    </td><td>Monkie Kid         </td><td>456</td><td>49.99</td><td>   NA</td><td>55.32</td><td>2022-01-01</td><td>2022-12-31</td><td> NA</td><td>NA</td></tr>\n",
       "</tbody>\n",
       "</table>\n"
      ],
      "text/latex": [
       "A tibble: 6537 × 12\n",
       "\\begin{tabular}{llllllllllll}\n",
       " year & set\\_id & set\\_name & theme\\_name & parts\\_count & retail\\_price & resale\\_price\\_used & resale\\_price\\_new & launch\\_date & exit\\_date & rating & minifigures\\_count\\\\\n",
       " <dbl> & <chr> & <chr> & <chr> & <dbl> & <dbl> & <dbl> & <dbl> & <date> & <date> & <dbl> & <dbl>\\\\\n",
       "\\hline\n",
       "\t 1996 & 1796-1 & Freestyle Bucket            & Freestyle     & 641 &  20.00 &  30.00 &     NA & 1996-06-01 & 2000-09-30 & 0.0 & NA\\\\\n",
       "\t 1996 & 1815-1 & Paradisa Lifeguard          & Town          &  36 &     NA &  41.24 & 107.70 & 1996-01-01 & 1997-12-31 & 0.0 &  2\\\\\n",
       "\t 1996 & 1817-1 & Sea Plane with Hut and Boat & Town          & 135 &  15.00 &  32.74 &  29.75 & 1996-03-01 & 2001-12-31 & 0.0 &  3\\\\\n",
       "\t 1996 & 4559-1 & Cargo Railway               & Trains        & 842 & 130.00 & 216.43 & 762.15 & 1996-07-01 & 1999-01-30 & 4.3 &  7\\\\\n",
       "\t 1996 & 4565-1 & Freight and Crane Railway   & Trains        & 914 & 140.00 & 243.55 & 589.41 & 1996-09-01 & 2002-12-31 & 4.4 &  3\\\\\n",
       "\t 1996 & 5820-1 & Belville Garden Fun         & Belville      &  29 &     NA &   9.05 &  32.53 & 1996-01-01 & 1998-12-31 & 0.0 &  1\\\\\n",
       "\t 1996 & 5835-1 & Belville Dance Studio       & Belville      &  36 &     NA &  21.54 &  15.00 & 1996-08-01 & 1998-12-31 & 0.0 &  1\\\\\n",
       "\t 1996 & 5875-1 & Belville Hospital Ward      & Belville      &  96 &     NA &  43.78 & 120.00 & 1996-01-01 & 2001-12-31 & 0.0 &  4\\\\\n",
       "\t 1996 & 5876-1 & Belville Hospital Ward      & Belville      &  96 &  30.00 &  40.88 &  75.00 & 1996-08-01 & 1998-12-31 & 0.0 &  4\\\\\n",
       "\t 1996 & 6024-1 & Bandit Ambush               & Castle        &  59 &   6.50 &  78.79 & 213.75 & 1996-06-01 & 1998-12-31 & 3.9 &  2\\\\\n",
       "\t 1996 & 6135-1 & Spy Shark                   & Aquazone      &  57 &   8.75 &  11.79 &  20.00 & 1996-01-01 & 1997-12-31 & 3.6 &  1\\\\\n",
       "\t 1996 & 6145-1 & Crystal Crawler             & Aquazone      &  96 &  12.00 &  17.05 &  94.67 & 1996-04-01 & 1998-12-31 & 3.8 &  1\\\\\n",
       "\t 1996 & 6190-1 & Shark's Crystal Cave        & Aquazone      & 258 &  50.00 & 106.77 & 400.00 & 1996-07-01 & 1997-12-31 & 4.4 &  2\\\\\n",
       "\t 1996 & 6244-1 & Armada Sentry               & Pirates       &  71 &   8.75 &  45.89 & 166.40 & 1996-04-01 & 1996-12-31 & 3.5 &  1\\\\\n",
       "\t 1996 & 6334-1 & Wave Jump Racers            & Town          & 181 &  20.00 &  32.60 &  61.48 & 1996-07-01 & 1997-12-31 & 4.0 &  4\\\\\n",
       "\t 1996 & 6337-1 & Fast Track Finish           & Town          & 329 &  40.00 & 109.57 & 279.53 & 1996-07-01 & 1997-12-31 & 3.9 &  6\\\\\n",
       "\t 1996 & 6491-1 & Rocket Racer                & Time Cruisers &  58 &   4.50 &   6.27 &  24.89 & 1996-07-01 & 1998-12-31 & 3.3 &  1\\\\\n",
       "\t 1996 & 6492-1 & Hypno Cruiser               & Time Cruisers & 152 &  22.00 &  31.83 & 157.50 & 1996-07-01 & 1998-12-31 & 3.8 &  2\\\\\n",
       "\t 1996 & 6493-1 & Flying Time Vessel          & Time Cruisers & 237 &  44.00 &  44.87 & 102.83 & 1996-07-01 & 1998-12-31 & 3.9 &  2\\\\\n",
       "\t 1996 & 6518-1 & Baja Buggy                  & Town          &  37 &   3.50 &   3.25 &  12.12 & 1996-07-01 & 1997-12-31 & 3.6 &  1\\\\\n",
       "\t 1996 & 6581-1 & Dig 'N' Dump                & Town          & 127 &  13.25 &  14.56 &  58.69 & 1996-07-01 & 1997-12-31 & 4.1 &  2\\\\\n",
       "\t 1996 & 6598-1 & Metro PD Station            & Town          & 552 &  66.00 & 135.00 & 476.62 & 1996-01-01 & 1997-12-31 & 4.2 &  8\\\\\n",
       "\t 1996 & 6615-1 & Eagle Stunt Flyer           & Town          &  76 &   8.75 &  11.30 &  40.00 & 1996-07-01 & 1997-12-31 & 4.1 &  1\\\\\n",
       "\t 1996 & 6712-1 & Sheriff's Showdown          & Western       &  28 &   4.00 &  16.53 &  51.50 & 1996-09-01 & 1998-12-31 & 3.8 &  2\\\\\n",
       "\t 1996 & 6716-1 & Covered Wagon               & Western       &  64 &   8.00 &  42.71 & 127.17 & 1996-09-01 & 1998-12-31 & 4.1 &  1\\\\\n",
       "\t 1996 & 6755-1 & Sheriff's Lock-Up           & Western       & 176 &  25.00 &  68.37 & 381.04 & 1996-08-01 & 1998-12-31 & 4.4 &  4\\\\\n",
       "\t 1996 & 6769-1 & Fort Legoredo               & Western       & 687 &  85.00 & 217.35 & 705.44 & 1996-10-01 & 1998-12-31 & 4.7 & 10\\\\\n",
       "\t 1996 & 6854-1 & Alien Fossilizer            & Space         &  53 &   6.00 &  13.36 &  86.18 & 1996-04-01 & 1996-12-31 & 3.5 &  1\\\\\n",
       "\t 1996 & 6856-1 & Planetary Decoder           & Space         &  80 &   8.00 &  11.98 &  68.77 & 1996-04-01 & 1997-12-31 & 3.5 &  1\\\\\n",
       "\t 1996 & 6899-1 & Nebula Outpost              & Space         & 158 &  15.00 &  31.61 & 162.29 & 1996-04-01 & 1997-12-31 & 3.9 &  2\\\\\n",
       "\t ⋮ & ⋮ & ⋮ & ⋮ & ⋮ & ⋮ & ⋮ & ⋮ & ⋮ & ⋮ & ⋮ & ⋮\\\\\n",
       "\t 2022 & 71402-9  & Coin Coffer                                          & Super Mario         &  NA &  4.99 &  3.29 &  5.48 & 2022-01-01 & 2022-07-31 & 0.0 &  1\\\\\n",
       "\t 2022 & 71402-10 & Para-Biddybud                                        & Super Mario         &  NA &  4.99 &  5.00 &  5.01 & 2022-01-01 & 2022-07-31 & 0.0 &  1\\\\\n",
       "\t 2022 & 71402-11 & Character Pack Series 4 - Complete                   & Super Mario         &   0 &    NA &    NA &    NA & 2022-01-01 & 2022-07-31 & 0.0 & 10\\\\\n",
       "\t 2022 & 71402-12 & Character Pack Series 4 - Sealed Box                 & Super Mario         &  NA &    NA &    NA &    NA & 2022-01-01 & 2022-07-31 & 0.0 & NA\\\\\n",
       "\t 2022 & 71405-1  & Fuzzy Flippers                                       & Super Mario         & 154 & 19.99 & 13.25 & 19.99 & 2022-08-01 & 2022-12-31 & 0.0 &  2\\\\\n",
       "\t 2022 & 71410-0  & Character Pack Series 5 \\{Random box\\}                 & Super Mario         &  NA &  5.99 &    NA &    NA & 2022-08-01 & 2022-12-31 & 0.0 & NA\\\\\n",
       "\t 2022 & 71410-1  & Red Yoshi                                            & Super Mario         &  NA &  5.99 &    NA &  5.89 & 2022-08-01 & 2022-12-31 & 0.0 & NA\\\\\n",
       "\t 2022 & 71410-2  & Baby Yoshi                                           & Super Mario         &  NA &  5.99 & 51.49 & 44.12 & 2022-08-01 & 2022-12-31 & 0.0 & NA\\\\\n",
       "\t 2022 & 71410-3  & Purple Toad                                          & Super Mario         &  NA &  5.99 &    NA &    NA & 2022-08-01 & 2022-12-31 & 0.0 & NA\\\\\n",
       "\t 2022 & 71410-4  & Hammer Bro                                           & Super Mario         &  NA &  5.99 &    NA &    NA & 2022-08-01 & 2022-12-31 & 0.0 & NA\\\\\n",
       "\t 2022 & 71410-5  & Blue Shy Guy                                         & Super Mario         &  NA &  5.99 &    NA &    NA & 2022-08-01 & 2022-12-31 & 0.0 & NA\\\\\n",
       "\t 2022 & 71410-6  & Toady                                                & Super Mario         &  NA &  5.99 &    NA &    NA & 2022-08-01 & 2022-12-31 & 0.0 & NA\\\\\n",
       "\t 2022 & 71410-7  & Nabbit                                               & Super Mario         &  NA &  5.99 &    NA &    NA & 2022-08-01 & 2022-12-31 & 0.0 & NA\\\\\n",
       "\t 2022 & 71410-8  & Waddlewing                                           & Super Mario         &  NA &  5.99 &    NA &    NA & 2022-08-01 & 2022-12-31 & 0.0 & NA\\\\\n",
       "\t 2022 & 71410-9  & Character Pack Series 5 - Complete                   & Super Mario         &   0 &    NA &    NA &    NA & 2022-08-01 & 2022-12-31 & 0.0 &  8\\\\\n",
       "\t 2022 & 71410-10 & Character Pack Series 5 - Sealed Box                 & Super Mario         &  NA &  5.99 &    NA &    NA & 2022-08-01 & 2022-12-31 & 0.0 & NA\\\\\n",
       "\t 2022 & 71764-1  & Ninja Training Centre                                & Ninjago             & 524 & 39.99 &    NA & 32.07 & 2022-03-01 & 2022-12-31 & 3.7 &  3\\\\\n",
       "\t 2022 & 75321-1  & The Razor Crest Microfighter                         & Star Wars           &  98 &  9.99 &  7.23 & 10.19 & 2022-01-01 & 2022-12-31 & 3.6 &  1\\\\\n",
       "\t 2022 & 75340-1  & LEGO Star Wars Advent Calendar                       & Star Wars           & 329 & 44.99 & 22.42 & 29.06 & 2022-09-01 & 2022-12-31 & 3.8 &  8\\\\\n",
       "\t 2022 & 76202-1  & Wolverine Mech Armor                                 & Marvel Super Heroes & 141 &  9.99 &  6.33 &  9.17 & 2022-04-01 & 2022-12-31 & 3.8 &  1\\\\\n",
       "\t 2022 & 76203-1  & Iron Man Mech Armor                                  & Marvel Super Heroes & 130 &  9.99 &  9.15 & 10.15 & 2022-04-01 & 2022-12-31 & 3.4 &  1\\\\\n",
       "\t 2022 & 76204-1  & Black Panther Mech Armor                             & Marvel Super Heroes & 124 &  9.99 &  5.45 &  7.26 & 2022-04-01 & 2022-12-31 & 3.5 &  1\\\\\n",
       "\t 2022 & 76205-1  & Gargantos Showdown                                   & Marvel Super Heroes & 264 & 29.99 & 18.35 & 24.28 & 2022-01-01 & 2022-12-31 & 4.1 &  3\\\\\n",
       "\t 2022 & 76219-1  & Spider-Man \\& Green Goblin Mech Battle                & Marvel Super Heroes & 296 & 19.99 & 12.04 & 19.32 & 2022-04-01 & 2022-12-31 & 0.0 &  2\\\\\n",
       "\t 2022 & 76231-1  & Guardians of the Galaxy Advent Calendar              & Marvel Super Heroes & 268 & 44.99 & 21.65 & 32.41 & 2022-09-01 & 2022-12-31 & 3.7 &  6\\\\\n",
       "\t 2022 & 76396-1  & Hogwarts Moment: Divination Class                    & Harry Potter        & 297 & 29.99 & 19.79 & 28.34 & 2022-03-01 & 2022-12-31 & 3.9 &  3\\\\\n",
       "\t 2022 & 76397-1  & Hogwarts Moment: Defence Against the Dark Arts Class & Harry Potter        & 257 & 29.99 & 22.27 & 29.18 & 2022-03-01 & 2022-12-31 & 3.7 &  4\\\\\n",
       "\t 2022 & 76403-1  & The Ministry of Magic                                & Harry Potter        & 990 & 99.99 & 55.00 & 65.41 & 2022-06-01 & 2022-12-31 & 4.1 & 10\\\\\n",
       "\t 2022 & 76404-1  & LEGO Harry Potter Advent Calendar                    & Harry Potter        & 334 & 44.99 & 15.00 & 22.43 & 2022-09-01 & 2022-12-31 & 3.5 &  8\\\\\n",
       "\t 2022 & 80031-1  & Mei's Dragon Car                                     & Monkie Kid          & 456 & 49.99 &    NA & 55.32 & 2022-01-01 & 2022-12-31 &  NA & NA\\\\\n",
       "\\end{tabular}\n"
      ],
      "text/markdown": [
       "\n",
       "A tibble: 6537 × 12\n",
       "\n",
       "| year &lt;dbl&gt; | set_id &lt;chr&gt; | set_name &lt;chr&gt; | theme_name &lt;chr&gt; | parts_count &lt;dbl&gt; | retail_price &lt;dbl&gt; | resale_price_used &lt;dbl&gt; | resale_price_new &lt;dbl&gt; | launch_date &lt;date&gt; | exit_date &lt;date&gt; | rating &lt;dbl&gt; | minifigures_count &lt;dbl&gt; |\n",
       "|---|---|---|---|---|---|---|---|---|---|---|---|\n",
       "| 1996 | 1796-1 | Freestyle Bucket            | Freestyle     | 641 |  20.00 |  30.00 |     NA | 1996-06-01 | 2000-09-30 | 0.0 | NA |\n",
       "| 1996 | 1815-1 | Paradisa Lifeguard          | Town          |  36 |     NA |  41.24 | 107.70 | 1996-01-01 | 1997-12-31 | 0.0 |  2 |\n",
       "| 1996 | 1817-1 | Sea Plane with Hut and Boat | Town          | 135 |  15.00 |  32.74 |  29.75 | 1996-03-01 | 2001-12-31 | 0.0 |  3 |\n",
       "| 1996 | 4559-1 | Cargo Railway               | Trains        | 842 | 130.00 | 216.43 | 762.15 | 1996-07-01 | 1999-01-30 | 4.3 |  7 |\n",
       "| 1996 | 4565-1 | Freight and Crane Railway   | Trains        | 914 | 140.00 | 243.55 | 589.41 | 1996-09-01 | 2002-12-31 | 4.4 |  3 |\n",
       "| 1996 | 5820-1 | Belville Garden Fun         | Belville      |  29 |     NA |   9.05 |  32.53 | 1996-01-01 | 1998-12-31 | 0.0 |  1 |\n",
       "| 1996 | 5835-1 | Belville Dance Studio       | Belville      |  36 |     NA |  21.54 |  15.00 | 1996-08-01 | 1998-12-31 | 0.0 |  1 |\n",
       "| 1996 | 5875-1 | Belville Hospital Ward      | Belville      |  96 |     NA |  43.78 | 120.00 | 1996-01-01 | 2001-12-31 | 0.0 |  4 |\n",
       "| 1996 | 5876-1 | Belville Hospital Ward      | Belville      |  96 |  30.00 |  40.88 |  75.00 | 1996-08-01 | 1998-12-31 | 0.0 |  4 |\n",
       "| 1996 | 6024-1 | Bandit Ambush               | Castle        |  59 |   6.50 |  78.79 | 213.75 | 1996-06-01 | 1998-12-31 | 3.9 |  2 |\n",
       "| 1996 | 6135-1 | Spy Shark                   | Aquazone      |  57 |   8.75 |  11.79 |  20.00 | 1996-01-01 | 1997-12-31 | 3.6 |  1 |\n",
       "| 1996 | 6145-1 | Crystal Crawler             | Aquazone      |  96 |  12.00 |  17.05 |  94.67 | 1996-04-01 | 1998-12-31 | 3.8 |  1 |\n",
       "| 1996 | 6190-1 | Shark's Crystal Cave        | Aquazone      | 258 |  50.00 | 106.77 | 400.00 | 1996-07-01 | 1997-12-31 | 4.4 |  2 |\n",
       "| 1996 | 6244-1 | Armada Sentry               | Pirates       |  71 |   8.75 |  45.89 | 166.40 | 1996-04-01 | 1996-12-31 | 3.5 |  1 |\n",
       "| 1996 | 6334-1 | Wave Jump Racers            | Town          | 181 |  20.00 |  32.60 |  61.48 | 1996-07-01 | 1997-12-31 | 4.0 |  4 |\n",
       "| 1996 | 6337-1 | Fast Track Finish           | Town          | 329 |  40.00 | 109.57 | 279.53 | 1996-07-01 | 1997-12-31 | 3.9 |  6 |\n",
       "| 1996 | 6491-1 | Rocket Racer                | Time Cruisers |  58 |   4.50 |   6.27 |  24.89 | 1996-07-01 | 1998-12-31 | 3.3 |  1 |\n",
       "| 1996 | 6492-1 | Hypno Cruiser               | Time Cruisers | 152 |  22.00 |  31.83 | 157.50 | 1996-07-01 | 1998-12-31 | 3.8 |  2 |\n",
       "| 1996 | 6493-1 | Flying Time Vessel          | Time Cruisers | 237 |  44.00 |  44.87 | 102.83 | 1996-07-01 | 1998-12-31 | 3.9 |  2 |\n",
       "| 1996 | 6518-1 | Baja Buggy                  | Town          |  37 |   3.50 |   3.25 |  12.12 | 1996-07-01 | 1997-12-31 | 3.6 |  1 |\n",
       "| 1996 | 6581-1 | Dig 'N' Dump                | Town          | 127 |  13.25 |  14.56 |  58.69 | 1996-07-01 | 1997-12-31 | 4.1 |  2 |\n",
       "| 1996 | 6598-1 | Metro PD Station            | Town          | 552 |  66.00 | 135.00 | 476.62 | 1996-01-01 | 1997-12-31 | 4.2 |  8 |\n",
       "| 1996 | 6615-1 | Eagle Stunt Flyer           | Town          |  76 |   8.75 |  11.30 |  40.00 | 1996-07-01 | 1997-12-31 | 4.1 |  1 |\n",
       "| 1996 | 6712-1 | Sheriff's Showdown          | Western       |  28 |   4.00 |  16.53 |  51.50 | 1996-09-01 | 1998-12-31 | 3.8 |  2 |\n",
       "| 1996 | 6716-1 | Covered Wagon               | Western       |  64 |   8.00 |  42.71 | 127.17 | 1996-09-01 | 1998-12-31 | 4.1 |  1 |\n",
       "| 1996 | 6755-1 | Sheriff's Lock-Up           | Western       | 176 |  25.00 |  68.37 | 381.04 | 1996-08-01 | 1998-12-31 | 4.4 |  4 |\n",
       "| 1996 | 6769-1 | Fort Legoredo               | Western       | 687 |  85.00 | 217.35 | 705.44 | 1996-10-01 | 1998-12-31 | 4.7 | 10 |\n",
       "| 1996 | 6854-1 | Alien Fossilizer            | Space         |  53 |   6.00 |  13.36 |  86.18 | 1996-04-01 | 1996-12-31 | 3.5 |  1 |\n",
       "| 1996 | 6856-1 | Planetary Decoder           | Space         |  80 |   8.00 |  11.98 |  68.77 | 1996-04-01 | 1997-12-31 | 3.5 |  1 |\n",
       "| 1996 | 6899-1 | Nebula Outpost              | Space         | 158 |  15.00 |  31.61 | 162.29 | 1996-04-01 | 1997-12-31 | 3.9 |  2 |\n",
       "| ⋮ | ⋮ | ⋮ | ⋮ | ⋮ | ⋮ | ⋮ | ⋮ | ⋮ | ⋮ | ⋮ | ⋮ |\n",
       "| 2022 | 71402-9  | Coin Coffer                                          | Super Mario         |  NA |  4.99 |  3.29 |  5.48 | 2022-01-01 | 2022-07-31 | 0.0 |  1 |\n",
       "| 2022 | 71402-10 | Para-Biddybud                                        | Super Mario         |  NA |  4.99 |  5.00 |  5.01 | 2022-01-01 | 2022-07-31 | 0.0 |  1 |\n",
       "| 2022 | 71402-11 | Character Pack Series 4 - Complete                   | Super Mario         |   0 |    NA |    NA |    NA | 2022-01-01 | 2022-07-31 | 0.0 | 10 |\n",
       "| 2022 | 71402-12 | Character Pack Series 4 - Sealed Box                 | Super Mario         |  NA |    NA |    NA |    NA | 2022-01-01 | 2022-07-31 | 0.0 | NA |\n",
       "| 2022 | 71405-1  | Fuzzy Flippers                                       | Super Mario         | 154 | 19.99 | 13.25 | 19.99 | 2022-08-01 | 2022-12-31 | 0.0 |  2 |\n",
       "| 2022 | 71410-0  | Character Pack Series 5 {Random box}                 | Super Mario         |  NA |  5.99 |    NA |    NA | 2022-08-01 | 2022-12-31 | 0.0 | NA |\n",
       "| 2022 | 71410-1  | Red Yoshi                                            | Super Mario         |  NA |  5.99 |    NA |  5.89 | 2022-08-01 | 2022-12-31 | 0.0 | NA |\n",
       "| 2022 | 71410-2  | Baby Yoshi                                           | Super Mario         |  NA |  5.99 | 51.49 | 44.12 | 2022-08-01 | 2022-12-31 | 0.0 | NA |\n",
       "| 2022 | 71410-3  | Purple Toad                                          | Super Mario         |  NA |  5.99 |    NA |    NA | 2022-08-01 | 2022-12-31 | 0.0 | NA |\n",
       "| 2022 | 71410-4  | Hammer Bro                                           | Super Mario         |  NA |  5.99 |    NA |    NA | 2022-08-01 | 2022-12-31 | 0.0 | NA |\n",
       "| 2022 | 71410-5  | Blue Shy Guy                                         | Super Mario         |  NA |  5.99 |    NA |    NA | 2022-08-01 | 2022-12-31 | 0.0 | NA |\n",
       "| 2022 | 71410-6  | Toady                                                | Super Mario         |  NA |  5.99 |    NA |    NA | 2022-08-01 | 2022-12-31 | 0.0 | NA |\n",
       "| 2022 | 71410-7  | Nabbit                                               | Super Mario         |  NA |  5.99 |    NA |    NA | 2022-08-01 | 2022-12-31 | 0.0 | NA |\n",
       "| 2022 | 71410-8  | Waddlewing                                           | Super Mario         |  NA |  5.99 |    NA |    NA | 2022-08-01 | 2022-12-31 | 0.0 | NA |\n",
       "| 2022 | 71410-9  | Character Pack Series 5 - Complete                   | Super Mario         |   0 |    NA |    NA |    NA | 2022-08-01 | 2022-12-31 | 0.0 |  8 |\n",
       "| 2022 | 71410-10 | Character Pack Series 5 - Sealed Box                 | Super Mario         |  NA |  5.99 |    NA |    NA | 2022-08-01 | 2022-12-31 | 0.0 | NA |\n",
       "| 2022 | 71764-1  | Ninja Training Centre                                | Ninjago             | 524 | 39.99 |    NA | 32.07 | 2022-03-01 | 2022-12-31 | 3.7 |  3 |\n",
       "| 2022 | 75321-1  | The Razor Crest Microfighter                         | Star Wars           |  98 |  9.99 |  7.23 | 10.19 | 2022-01-01 | 2022-12-31 | 3.6 |  1 |\n",
       "| 2022 | 75340-1  | LEGO Star Wars Advent Calendar                       | Star Wars           | 329 | 44.99 | 22.42 | 29.06 | 2022-09-01 | 2022-12-31 | 3.8 |  8 |\n",
       "| 2022 | 76202-1  | Wolverine Mech Armor                                 | Marvel Super Heroes | 141 |  9.99 |  6.33 |  9.17 | 2022-04-01 | 2022-12-31 | 3.8 |  1 |\n",
       "| 2022 | 76203-1  | Iron Man Mech Armor                                  | Marvel Super Heroes | 130 |  9.99 |  9.15 | 10.15 | 2022-04-01 | 2022-12-31 | 3.4 |  1 |\n",
       "| 2022 | 76204-1  | Black Panther Mech Armor                             | Marvel Super Heroes | 124 |  9.99 |  5.45 |  7.26 | 2022-04-01 | 2022-12-31 | 3.5 |  1 |\n",
       "| 2022 | 76205-1  | Gargantos Showdown                                   | Marvel Super Heroes | 264 | 29.99 | 18.35 | 24.28 | 2022-01-01 | 2022-12-31 | 4.1 |  3 |\n",
       "| 2022 | 76219-1  | Spider-Man &amp; Green Goblin Mech Battle                | Marvel Super Heroes | 296 | 19.99 | 12.04 | 19.32 | 2022-04-01 | 2022-12-31 | 0.0 |  2 |\n",
       "| 2022 | 76231-1  | Guardians of the Galaxy Advent Calendar              | Marvel Super Heroes | 268 | 44.99 | 21.65 | 32.41 | 2022-09-01 | 2022-12-31 | 3.7 |  6 |\n",
       "| 2022 | 76396-1  | Hogwarts Moment: Divination Class                    | Harry Potter        | 297 | 29.99 | 19.79 | 28.34 | 2022-03-01 | 2022-12-31 | 3.9 |  3 |\n",
       "| 2022 | 76397-1  | Hogwarts Moment: Defence Against the Dark Arts Class | Harry Potter        | 257 | 29.99 | 22.27 | 29.18 | 2022-03-01 | 2022-12-31 | 3.7 |  4 |\n",
       "| 2022 | 76403-1  | The Ministry of Magic                                | Harry Potter        | 990 | 99.99 | 55.00 | 65.41 | 2022-06-01 | 2022-12-31 | 4.1 | 10 |\n",
       "| 2022 | 76404-1  | LEGO Harry Potter Advent Calendar                    | Harry Potter        | 334 | 44.99 | 15.00 | 22.43 | 2022-09-01 | 2022-12-31 | 3.5 |  8 |\n",
       "| 2022 | 80031-1  | Mei's Dragon Car                                     | Monkie Kid          | 456 | 49.99 |    NA | 55.32 | 2022-01-01 | 2022-12-31 |  NA | NA |\n",
       "\n"
      ],
      "text/plain": [
       "     year set_id   set_name                                            \n",
       "1    1996 1796-1   Freestyle Bucket                                    \n",
       "2    1996 1815-1   Paradisa Lifeguard                                  \n",
       "3    1996 1817-1   Sea Plane with Hut and Boat                         \n",
       "4    1996 4559-1   Cargo Railway                                       \n",
       "5    1996 4565-1   Freight and Crane Railway                           \n",
       "6    1996 5820-1   Belville Garden Fun                                 \n",
       "7    1996 5835-1   Belville Dance Studio                               \n",
       "8    1996 5875-1   Belville Hospital Ward                              \n",
       "9    1996 5876-1   Belville Hospital Ward                              \n",
       "10   1996 6024-1   Bandit Ambush                                       \n",
       "11   1996 6135-1   Spy Shark                                           \n",
       "12   1996 6145-1   Crystal Crawler                                     \n",
       "13   1996 6190-1   Shark's Crystal Cave                                \n",
       "14   1996 6244-1   Armada Sentry                                       \n",
       "15   1996 6334-1   Wave Jump Racers                                    \n",
       "16   1996 6337-1   Fast Track Finish                                   \n",
       "17   1996 6491-1   Rocket Racer                                        \n",
       "18   1996 6492-1   Hypno Cruiser                                       \n",
       "19   1996 6493-1   Flying Time Vessel                                  \n",
       "20   1996 6518-1   Baja Buggy                                          \n",
       "21   1996 6581-1   Dig 'N' Dump                                        \n",
       "22   1996 6598-1   Metro PD Station                                    \n",
       "23   1996 6615-1   Eagle Stunt Flyer                                   \n",
       "24   1996 6712-1   Sheriff's Showdown                                  \n",
       "25   1996 6716-1   Covered Wagon                                       \n",
       "26   1996 6755-1   Sheriff's Lock-Up                                   \n",
       "27   1996 6769-1   Fort Legoredo                                       \n",
       "28   1996 6854-1   Alien Fossilizer                                    \n",
       "29   1996 6856-1   Planetary Decoder                                   \n",
       "30   1996 6899-1   Nebula Outpost                                      \n",
       "⋮    ⋮    ⋮        ⋮                                                   \n",
       "6508 2022 71402-9  Coin Coffer                                         \n",
       "6509 2022 71402-10 Para-Biddybud                                       \n",
       "6510 2022 71402-11 Character Pack Series 4 - Complete                  \n",
       "6511 2022 71402-12 Character Pack Series 4 - Sealed Box                \n",
       "6512 2022 71405-1  Fuzzy Flippers                                      \n",
       "6513 2022 71410-0  Character Pack Series 5 {Random box}                \n",
       "6514 2022 71410-1  Red Yoshi                                           \n",
       "6515 2022 71410-2  Baby Yoshi                                          \n",
       "6516 2022 71410-3  Purple Toad                                         \n",
       "6517 2022 71410-4  Hammer Bro                                          \n",
       "6518 2022 71410-5  Blue Shy Guy                                        \n",
       "6519 2022 71410-6  Toady                                               \n",
       "6520 2022 71410-7  Nabbit                                              \n",
       "6521 2022 71410-8  Waddlewing                                          \n",
       "6522 2022 71410-9  Character Pack Series 5 - Complete                  \n",
       "6523 2022 71410-10 Character Pack Series 5 - Sealed Box                \n",
       "6524 2022 71764-1  Ninja Training Centre                               \n",
       "6525 2022 75321-1  The Razor Crest Microfighter                        \n",
       "6526 2022 75340-1  LEGO Star Wars Advent Calendar                      \n",
       "6527 2022 76202-1  Wolverine Mech Armor                                \n",
       "6528 2022 76203-1  Iron Man Mech Armor                                 \n",
       "6529 2022 76204-1  Black Panther Mech Armor                            \n",
       "6530 2022 76205-1  Gargantos Showdown                                  \n",
       "6531 2022 76219-1  Spider-Man & Green Goblin Mech Battle               \n",
       "6532 2022 76231-1  Guardians of the Galaxy Advent Calendar             \n",
       "6533 2022 76396-1  Hogwarts Moment: Divination Class                   \n",
       "6534 2022 76397-1  Hogwarts Moment: Defence Against the Dark Arts Class\n",
       "6535 2022 76403-1  The Ministry of Magic                               \n",
       "6536 2022 76404-1  LEGO Harry Potter Advent Calendar                   \n",
       "6537 2022 80031-1  Mei's Dragon Car                                    \n",
       "     theme_name          parts_count retail_price resale_price_used\n",
       "1    Freestyle           641          20.00        30.00           \n",
       "2    Town                 36             NA        41.24           \n",
       "3    Town                135          15.00        32.74           \n",
       "4    Trains              842         130.00       216.43           \n",
       "5    Trains              914         140.00       243.55           \n",
       "6    Belville             29             NA         9.05           \n",
       "7    Belville             36             NA        21.54           \n",
       "8    Belville             96             NA        43.78           \n",
       "9    Belville             96          30.00        40.88           \n",
       "10   Castle               59           6.50        78.79           \n",
       "11   Aquazone             57           8.75        11.79           \n",
       "12   Aquazone             96          12.00        17.05           \n",
       "13   Aquazone            258          50.00       106.77           \n",
       "14   Pirates              71           8.75        45.89           \n",
       "15   Town                181          20.00        32.60           \n",
       "16   Town                329          40.00       109.57           \n",
       "17   Time Cruisers        58           4.50         6.27           \n",
       "18   Time Cruisers       152          22.00        31.83           \n",
       "19   Time Cruisers       237          44.00        44.87           \n",
       "20   Town                 37           3.50         3.25           \n",
       "21   Town                127          13.25        14.56           \n",
       "22   Town                552          66.00       135.00           \n",
       "23   Town                 76           8.75        11.30           \n",
       "24   Western              28           4.00        16.53           \n",
       "25   Western              64           8.00        42.71           \n",
       "26   Western             176          25.00        68.37           \n",
       "27   Western             687          85.00       217.35           \n",
       "28   Space                53           6.00        13.36           \n",
       "29   Space                80           8.00        11.98           \n",
       "30   Space               158          15.00        31.61           \n",
       "⋮    ⋮                   ⋮           ⋮            ⋮                \n",
       "6508 Super Mario          NA          4.99         3.29            \n",
       "6509 Super Mario          NA          4.99         5.00            \n",
       "6510 Super Mario           0            NA           NA            \n",
       "6511 Super Mario          NA            NA           NA            \n",
       "6512 Super Mario         154         19.99        13.25            \n",
       "6513 Super Mario          NA          5.99           NA            \n",
       "6514 Super Mario          NA          5.99           NA            \n",
       "6515 Super Mario          NA          5.99        51.49            \n",
       "6516 Super Mario          NA          5.99           NA            \n",
       "6517 Super Mario          NA          5.99           NA            \n",
       "6518 Super Mario          NA          5.99           NA            \n",
       "6519 Super Mario          NA          5.99           NA            \n",
       "6520 Super Mario          NA          5.99           NA            \n",
       "6521 Super Mario          NA          5.99           NA            \n",
       "6522 Super Mario           0            NA           NA            \n",
       "6523 Super Mario          NA          5.99           NA            \n",
       "6524 Ninjago             524         39.99           NA            \n",
       "6525 Star Wars            98          9.99         7.23            \n",
       "6526 Star Wars           329         44.99        22.42            \n",
       "6527 Marvel Super Heroes 141          9.99         6.33            \n",
       "6528 Marvel Super Heroes 130          9.99         9.15            \n",
       "6529 Marvel Super Heroes 124          9.99         5.45            \n",
       "6530 Marvel Super Heroes 264         29.99        18.35            \n",
       "6531 Marvel Super Heroes 296         19.99        12.04            \n",
       "6532 Marvel Super Heroes 268         44.99        21.65            \n",
       "6533 Harry Potter        297         29.99        19.79            \n",
       "6534 Harry Potter        257         29.99        22.27            \n",
       "6535 Harry Potter        990         99.99        55.00            \n",
       "6536 Harry Potter        334         44.99        15.00            \n",
       "6537 Monkie Kid          456         49.99           NA            \n",
       "     resale_price_new launch_date exit_date  rating minifigures_count\n",
       "1        NA           1996-06-01  2000-09-30 0.0    NA               \n",
       "2    107.70           1996-01-01  1997-12-31 0.0     2               \n",
       "3     29.75           1996-03-01  2001-12-31 0.0     3               \n",
       "4    762.15           1996-07-01  1999-01-30 4.3     7               \n",
       "5    589.41           1996-09-01  2002-12-31 4.4     3               \n",
       "6     32.53           1996-01-01  1998-12-31 0.0     1               \n",
       "7     15.00           1996-08-01  1998-12-31 0.0     1               \n",
       "8    120.00           1996-01-01  2001-12-31 0.0     4               \n",
       "9     75.00           1996-08-01  1998-12-31 0.0     4               \n",
       "10   213.75           1996-06-01  1998-12-31 3.9     2               \n",
       "11    20.00           1996-01-01  1997-12-31 3.6     1               \n",
       "12    94.67           1996-04-01  1998-12-31 3.8     1               \n",
       "13   400.00           1996-07-01  1997-12-31 4.4     2               \n",
       "14   166.40           1996-04-01  1996-12-31 3.5     1               \n",
       "15    61.48           1996-07-01  1997-12-31 4.0     4               \n",
       "16   279.53           1996-07-01  1997-12-31 3.9     6               \n",
       "17    24.89           1996-07-01  1998-12-31 3.3     1               \n",
       "18   157.50           1996-07-01  1998-12-31 3.8     2               \n",
       "19   102.83           1996-07-01  1998-12-31 3.9     2               \n",
       "20    12.12           1996-07-01  1997-12-31 3.6     1               \n",
       "21    58.69           1996-07-01  1997-12-31 4.1     2               \n",
       "22   476.62           1996-01-01  1997-12-31 4.2     8               \n",
       "23    40.00           1996-07-01  1997-12-31 4.1     1               \n",
       "24    51.50           1996-09-01  1998-12-31 3.8     2               \n",
       "25   127.17           1996-09-01  1998-12-31 4.1     1               \n",
       "26   381.04           1996-08-01  1998-12-31 4.4     4               \n",
       "27   705.44           1996-10-01  1998-12-31 4.7    10               \n",
       "28    86.18           1996-04-01  1996-12-31 3.5     1               \n",
       "29    68.77           1996-04-01  1997-12-31 3.5     1               \n",
       "30   162.29           1996-04-01  1997-12-31 3.9     2               \n",
       "⋮    ⋮                ⋮           ⋮          ⋮      ⋮                \n",
       "6508  5.48            2022-01-01  2022-07-31 0.0     1               \n",
       "6509  5.01            2022-01-01  2022-07-31 0.0     1               \n",
       "6510    NA            2022-01-01  2022-07-31 0.0    10               \n",
       "6511    NA            2022-01-01  2022-07-31 0.0    NA               \n",
       "6512 19.99            2022-08-01  2022-12-31 0.0     2               \n",
       "6513    NA            2022-08-01  2022-12-31 0.0    NA               \n",
       "6514  5.89            2022-08-01  2022-12-31 0.0    NA               \n",
       "6515 44.12            2022-08-01  2022-12-31 0.0    NA               \n",
       "6516    NA            2022-08-01  2022-12-31 0.0    NA               \n",
       "6517    NA            2022-08-01  2022-12-31 0.0    NA               \n",
       "6518    NA            2022-08-01  2022-12-31 0.0    NA               \n",
       "6519    NA            2022-08-01  2022-12-31 0.0    NA               \n",
       "6520    NA            2022-08-01  2022-12-31 0.0    NA               \n",
       "6521    NA            2022-08-01  2022-12-31 0.0    NA               \n",
       "6522    NA            2022-08-01  2022-12-31 0.0     8               \n",
       "6523    NA            2022-08-01  2022-12-31 0.0    NA               \n",
       "6524 32.07            2022-03-01  2022-12-31 3.7     3               \n",
       "6525 10.19            2022-01-01  2022-12-31 3.6     1               \n",
       "6526 29.06            2022-09-01  2022-12-31 3.8     8               \n",
       "6527  9.17            2022-04-01  2022-12-31 3.8     1               \n",
       "6528 10.15            2022-04-01  2022-12-31 3.4     1               \n",
       "6529  7.26            2022-04-01  2022-12-31 3.5     1               \n",
       "6530 24.28            2022-01-01  2022-12-31 4.1     3               \n",
       "6531 19.32            2022-04-01  2022-12-31 0.0     2               \n",
       "6532 32.41            2022-09-01  2022-12-31 3.7     6               \n",
       "6533 28.34            2022-03-01  2022-12-31 3.9     3               \n",
       "6534 29.18            2022-03-01  2022-12-31 3.7     4               \n",
       "6535 65.41            2022-06-01  2022-12-31 4.1    10               \n",
       "6536 22.43            2022-09-01  2022-12-31 3.5     8               \n",
       "6537 55.32            2022-01-01  2022-12-31  NA    NA               "
      ]
     },
     "metadata": {},
     "output_type": "display_data"
    }
   ],
   "source": [
    "# Transfer these variables to date format\n",
    "total_data$launch_date <- dmy(total_data$launch_date)\n",
    "total_data$exit_date <- dmy(total_data$exit_date)\n",
    "\n",
    "# Filter data with date ealier than or equal to \"31/12/2022\"\n",
    "total_data <- \n",
    "  total_data %>% \n",
    "  filter(exit_date <= dmy(\"31/12/2022\"),\n",
    "         )\n",
    "\n",
    "# Check the result\n",
    "total_data"
   ]
  },
  {
   "cell_type": "code",
   "execution_count": 57,
   "id": "65f34959",
   "metadata": {},
   "outputs": [],
   "source": [
    "# Filter out the retail price, and resale price with 0, which are regarded as missing values\n",
    "total_data <-\n",
    "  total_data %>%\n",
    "  filter(retail_price != 0,\n",
    "         resale_price_used != 0,\n",
    "         resale_price_new != 0,\n",
    "         resale_price_new >= resale_price_used) %>%\n",
    "  mutate(used_set_profit = round(resale_price_used - retail_price, 2),\n",
    "         new_set_profit = round(resale_price_new - retail_price, 2))"
   ]
  },
  {
   "cell_type": "code",
   "execution_count": 58,
   "id": "632de8b0",
   "metadata": {},
   "outputs": [
    {
     "data": {
      "text/html": [
       "<table class=\"dataframe\">\n",
       "<caption>A tibble: 5211 × 14</caption>\n",
       "<thead>\n",
       "\t<tr><th scope=col>year</th><th scope=col>set_id</th><th scope=col>set_name</th><th scope=col>theme_name</th><th scope=col>parts_count</th><th scope=col>retail_price</th><th scope=col>resale_price_used</th><th scope=col>resale_price_new</th><th scope=col>launch_date</th><th scope=col>exit_date</th><th scope=col>rating</th><th scope=col>minifigures_count</th><th scope=col>used_set_profit</th><th scope=col>new_set_profit</th></tr>\n",
       "\t<tr><th scope=col>&lt;dbl&gt;</th><th scope=col>&lt;chr&gt;</th><th scope=col>&lt;chr&gt;</th><th scope=col>&lt;chr&gt;</th><th scope=col>&lt;dbl&gt;</th><th scope=col>&lt;dbl&gt;</th><th scope=col>&lt;dbl&gt;</th><th scope=col>&lt;dbl&gt;</th><th scope=col>&lt;date&gt;</th><th scope=col>&lt;date&gt;</th><th scope=col>&lt;dbl&gt;</th><th scope=col>&lt;dbl&gt;</th><th scope=col>&lt;dbl&gt;</th><th scope=col>&lt;dbl&gt;</th></tr>\n",
       "</thead>\n",
       "<tbody>\n",
       "\t<tr><td>1996</td><td>4559-1</td><td>Cargo Railway            </td><td>Trains       </td><td>842</td><td>130.00</td><td>216.43</td><td>762.15</td><td>1996-07-01</td><td>1999-01-30</td><td>4.3</td><td> 7</td><td> 86.43</td><td>632.15</td></tr>\n",
       "\t<tr><td>1996</td><td>4565-1</td><td>Freight and Crane Railway</td><td>Trains       </td><td>914</td><td>140.00</td><td>243.55</td><td>589.41</td><td>1996-09-01</td><td>2002-12-31</td><td>4.4</td><td> 3</td><td>103.55</td><td>449.41</td></tr>\n",
       "\t<tr><td>1996</td><td>5876-1</td><td>Belville Hospital Ward   </td><td>Belville     </td><td> 96</td><td> 30.00</td><td> 40.88</td><td> 75.00</td><td>1996-08-01</td><td>1998-12-31</td><td>0.0</td><td> 4</td><td> 10.88</td><td> 45.00</td></tr>\n",
       "\t<tr><td>1996</td><td>6024-1</td><td>Bandit Ambush            </td><td>Castle       </td><td> 59</td><td>  6.50</td><td> 78.79</td><td>213.75</td><td>1996-06-01</td><td>1998-12-31</td><td>3.9</td><td> 2</td><td> 72.29</td><td>207.25</td></tr>\n",
       "\t<tr><td>1996</td><td>6135-1</td><td>Spy Shark                </td><td>Aquazone     </td><td> 57</td><td>  8.75</td><td> 11.79</td><td> 20.00</td><td>1996-01-01</td><td>1997-12-31</td><td>3.6</td><td> 1</td><td>  3.04</td><td> 11.25</td></tr>\n",
       "\t<tr><td>1996</td><td>6145-1</td><td>Crystal Crawler          </td><td>Aquazone     </td><td> 96</td><td> 12.00</td><td> 17.05</td><td> 94.67</td><td>1996-04-01</td><td>1998-12-31</td><td>3.8</td><td> 1</td><td>  5.05</td><td> 82.67</td></tr>\n",
       "\t<tr><td>1996</td><td>6190-1</td><td>Shark's Crystal Cave     </td><td>Aquazone     </td><td>258</td><td> 50.00</td><td>106.77</td><td>400.00</td><td>1996-07-01</td><td>1997-12-31</td><td>4.4</td><td> 2</td><td> 56.77</td><td>350.00</td></tr>\n",
       "\t<tr><td>1996</td><td>6244-1</td><td>Armada Sentry            </td><td>Pirates      </td><td> 71</td><td>  8.75</td><td> 45.89</td><td>166.40</td><td>1996-04-01</td><td>1996-12-31</td><td>3.5</td><td> 1</td><td> 37.14</td><td>157.65</td></tr>\n",
       "\t<tr><td>1996</td><td>6334-1</td><td>Wave Jump Racers         </td><td>Town         </td><td>181</td><td> 20.00</td><td> 32.60</td><td> 61.48</td><td>1996-07-01</td><td>1997-12-31</td><td>4.0</td><td> 4</td><td> 12.60</td><td> 41.48</td></tr>\n",
       "\t<tr><td>1996</td><td>6337-1</td><td>Fast Track Finish        </td><td>Town         </td><td>329</td><td> 40.00</td><td>109.57</td><td>279.53</td><td>1996-07-01</td><td>1997-12-31</td><td>3.9</td><td> 6</td><td> 69.57</td><td>239.53</td></tr>\n",
       "\t<tr><td>1996</td><td>6491-1</td><td>Rocket Racer             </td><td>Time Cruisers</td><td> 58</td><td>  4.50</td><td>  6.27</td><td> 24.89</td><td>1996-07-01</td><td>1998-12-31</td><td>3.3</td><td> 1</td><td>  1.77</td><td> 20.39</td></tr>\n",
       "\t<tr><td>1996</td><td>6492-1</td><td>Hypno Cruiser            </td><td>Time Cruisers</td><td>152</td><td> 22.00</td><td> 31.83</td><td>157.50</td><td>1996-07-01</td><td>1998-12-31</td><td>3.8</td><td> 2</td><td>  9.83</td><td>135.50</td></tr>\n",
       "\t<tr><td>1996</td><td>6493-1</td><td>Flying Time Vessel       </td><td>Time Cruisers</td><td>237</td><td> 44.00</td><td> 44.87</td><td>102.83</td><td>1996-07-01</td><td>1998-12-31</td><td>3.9</td><td> 2</td><td>  0.87</td><td> 58.83</td></tr>\n",
       "\t<tr><td>1996</td><td>6518-1</td><td>Baja Buggy               </td><td>Town         </td><td> 37</td><td>  3.50</td><td>  3.25</td><td> 12.12</td><td>1996-07-01</td><td>1997-12-31</td><td>3.6</td><td> 1</td><td> -0.25</td><td>  8.62</td></tr>\n",
       "\t<tr><td>1996</td><td>6581-1</td><td>Dig 'N' Dump             </td><td>Town         </td><td>127</td><td> 13.25</td><td> 14.56</td><td> 58.69</td><td>1996-07-01</td><td>1997-12-31</td><td>4.1</td><td> 2</td><td>  1.31</td><td> 45.44</td></tr>\n",
       "\t<tr><td>1996</td><td>6598-1</td><td>Metro PD Station         </td><td>Town         </td><td>552</td><td> 66.00</td><td>135.00</td><td>476.62</td><td>1996-01-01</td><td>1997-12-31</td><td>4.2</td><td> 8</td><td> 69.00</td><td>410.62</td></tr>\n",
       "\t<tr><td>1996</td><td>6615-1</td><td>Eagle Stunt Flyer        </td><td>Town         </td><td> 76</td><td>  8.75</td><td> 11.30</td><td> 40.00</td><td>1996-07-01</td><td>1997-12-31</td><td>4.1</td><td> 1</td><td>  2.55</td><td> 31.25</td></tr>\n",
       "\t<tr><td>1996</td><td>6712-1</td><td>Sheriff's Showdown       </td><td>Western      </td><td> 28</td><td>  4.00</td><td> 16.53</td><td> 51.50</td><td>1996-09-01</td><td>1998-12-31</td><td>3.8</td><td> 2</td><td> 12.53</td><td> 47.50</td></tr>\n",
       "\t<tr><td>1996</td><td>6716-1</td><td>Covered Wagon            </td><td>Western      </td><td> 64</td><td>  8.00</td><td> 42.71</td><td>127.17</td><td>1996-09-01</td><td>1998-12-31</td><td>4.1</td><td> 1</td><td> 34.71</td><td>119.17</td></tr>\n",
       "\t<tr><td>1996</td><td>6755-1</td><td>Sheriff's Lock-Up        </td><td>Western      </td><td>176</td><td> 25.00</td><td> 68.37</td><td>381.04</td><td>1996-08-01</td><td>1998-12-31</td><td>4.4</td><td> 4</td><td> 43.37</td><td>356.04</td></tr>\n",
       "\t<tr><td>1996</td><td>6769-1</td><td>Fort Legoredo            </td><td>Western      </td><td>687</td><td> 85.00</td><td>217.35</td><td>705.44</td><td>1996-10-01</td><td>1998-12-31</td><td>4.7</td><td>10</td><td>132.35</td><td>620.44</td></tr>\n",
       "\t<tr><td>1996</td><td>6854-1</td><td>Alien Fossilizer         </td><td>Space        </td><td> 53</td><td>  6.00</td><td> 13.36</td><td> 86.18</td><td>1996-04-01</td><td>1996-12-31</td><td>3.5</td><td> 1</td><td>  7.36</td><td> 80.18</td></tr>\n",
       "\t<tr><td>1996</td><td>6856-1</td><td>Planetary Decoder        </td><td>Space        </td><td> 80</td><td>  8.00</td><td> 11.98</td><td> 68.77</td><td>1996-04-01</td><td>1997-12-31</td><td>3.5</td><td> 1</td><td>  3.98</td><td> 60.77</td></tr>\n",
       "\t<tr><td>1996</td><td>6899-1</td><td>Nebula Outpost           </td><td>Space        </td><td>158</td><td> 15.00</td><td> 31.61</td><td>162.29</td><td>1996-04-01</td><td>1997-12-31</td><td>3.9</td><td> 2</td><td> 16.61</td><td>147.29</td></tr>\n",
       "\t<tr><td>1996</td><td>6938-1</td><td>Scorpion Detector        </td><td>Space        </td><td>196</td><td> 24.00</td><td> 37.25</td><td>154.00</td><td>1996-04-01</td><td>1996-12-31</td><td>4.2</td><td> 2</td><td> 13.25</td><td>130.00</td></tr>\n",
       "\t<tr><td>1996</td><td>6958-1</td><td>Android Base             </td><td>Space        </td><td>267</td><td> 40.00</td><td> 87.24</td><td>315.00</td><td>1996-01-01</td><td>1997-12-31</td><td>4.1</td><td> 3</td><td> 47.24</td><td>275.00</td></tr>\n",
       "\t<tr><td>1996</td><td>6982-1</td><td>Explorien Starship       </td><td>Space        </td><td>662</td><td> 80.00</td><td>113.88</td><td>341.83</td><td>1996-01-01</td><td>1997-12-31</td><td>4.2</td><td> 4</td><td> 33.88</td><td>261.83</td></tr>\n",
       "\t<tr><td>1996</td><td>8207-1</td><td>Dune Duster              </td><td>Technic      </td><td> 86</td><td>  8.00</td><td>  6.57</td><td> 14.75</td><td>1996-01-01</td><td>1998-12-31</td><td>3.4</td><td>NA</td><td> -1.43</td><td>  6.75</td></tr>\n",
       "\t<tr><td>1996</td><td>8244-1</td><td>Convertables             </td><td>Technic      </td><td>275</td><td> 33.00</td><td> 26.78</td><td> 53.39</td><td>1996-01-01</td><td>1998-12-31</td><td>3.3</td><td> 1</td><td> -6.22</td><td> 20.39</td></tr>\n",
       "\t<tr><td>1996</td><td>8408-1</td><td>Desert Ranger            </td><td>Technic      </td><td>289</td><td> 30.00</td><td> 27.99</td><td> 54.67</td><td>1996-08-01</td><td>1998-12-31</td><td>3.5</td><td>NA</td><td> -2.01</td><td> 24.67</td></tr>\n",
       "\t<tr><td>⋮</td><td>⋮</td><td>⋮</td><td>⋮</td><td>⋮</td><td>⋮</td><td>⋮</td><td>⋮</td><td>⋮</td><td>⋮</td><td>⋮</td><td>⋮</td><td>⋮</td><td>⋮</td></tr>\n",
       "\t<tr><td>2022</td><td>71032-10</td><td>Raccoon Costume Fan                                 </td><td>Collectable Minifigures</td><td>  9</td><td> 4.99</td><td> 4.31</td><td> 5.26</td><td>2022-01-01</td><td>2022-04-30</td><td>3.9</td><td> 1</td><td> -0.68</td><td>  0.27</td></tr>\n",
       "\t<tr><td>2022</td><td>71032-11</td><td>Space Creature                                      </td><td>Collectable Minifigures</td><td>  9</td><td> 4.99</td><td> 7.36</td><td> 7.40</td><td>2022-01-01</td><td>2022-04-30</td><td>3.8</td><td> 1</td><td>  2.37</td><td>  2.41</td></tr>\n",
       "\t<tr><td>2022</td><td>71032-12</td><td>Wheelchair Racer                                    </td><td>Collectable Minifigures</td><td> 11</td><td> 4.99</td><td> 3.67</td><td> 3.98</td><td>2022-01-01</td><td>2022-04-30</td><td>4.0</td><td> 1</td><td> -1.32</td><td> -1.01</td></tr>\n",
       "\t<tr><td>2022</td><td>71396-1 </td><td>Bowser Jr.'s Clown Car                              </td><td>Super Mario            </td><td> 84</td><td> 9.99</td><td> 5.33</td><td> 8.15</td><td>2022-01-01</td><td>2022-12-31</td><td>4.0</td><td> 1</td><td> -4.66</td><td> -1.84</td></tr>\n",
       "\t<tr><td>2022</td><td>71397-1 </td><td>Luigi's Mansion Lab and Poltergust                  </td><td>Super Mario            </td><td>179</td><td>29.99</td><td>12.50</td><td>19.64</td><td>2022-01-01</td><td>2022-12-31</td><td>3.5</td><td> 2</td><td>-17.49</td><td>-10.35</td></tr>\n",
       "\t<tr><td>2022</td><td>71398-1 </td><td>Dorrie's Beachfront                                 </td><td>Super Mario            </td><td>229</td><td>29.99</td><td>15.00</td><td>19.05</td><td>2022-01-01</td><td>2022-12-31</td><td>0.0</td><td> 2</td><td>-14.99</td><td>-10.94</td></tr>\n",
       "\t<tr><td>2022</td><td>71399-1 </td><td>Luigi's Mansion Entryway                            </td><td>Super Mario            </td><td>504</td><td>39.99</td><td>25.00</td><td>36.14</td><td>2022-01-01</td><td>2022-12-31</td><td>4.2</td><td> 3</td><td>-14.99</td><td> -3.85</td></tr>\n",
       "\t<tr><td>2022</td><td>71401-1 </td><td>Luigi's Mansion Haunt-and-Seek                      </td><td>Super Mario            </td><td>877</td><td>79.99</td><td>41.00</td><td>67.27</td><td>2022-01-01</td><td>2022-12-31</td><td>0.0</td><td> 4</td><td>-38.99</td><td>-12.72</td></tr>\n",
       "\t<tr><td>2022</td><td>71402-1 </td><td>Freezie                                             </td><td>Super Mario            </td><td> NA</td><td> 4.99</td><td>10.24</td><td>20.94</td><td>2022-01-01</td><td>2022-07-31</td><td>0.0</td><td> 1</td><td>  5.25</td><td> 15.95</td></tr>\n",
       "\t<tr><td>2022</td><td>71402-2 </td><td>Mechakoopa                                          </td><td>Super Mario            </td><td> NA</td><td> 4.99</td><td> 2.99</td><td> 4.14</td><td>2022-01-01</td><td>2022-07-31</td><td>0.0</td><td> 1</td><td> -2.00</td><td> -0.85</td></tr>\n",
       "\t<tr><td>2022</td><td>71402-3 </td><td>Ant Trooper                                         </td><td>Super Mario            </td><td> NA</td><td> 4.99</td><td> 7.99</td><td>12.12</td><td>2022-01-01</td><td>2022-07-31</td><td>0.0</td><td> 1</td><td>  3.00</td><td>  7.13</td></tr>\n",
       "\t<tr><td>2022</td><td>71402-5 </td><td>Scaredy Rat                                         </td><td>Super Mario            </td><td> NA</td><td> 4.99</td><td> 2.28</td><td> 4.58</td><td>2022-01-01</td><td>2022-07-31</td><td>0.0</td><td> 1</td><td> -2.71</td><td> -0.41</td></tr>\n",
       "\t<tr><td>2022</td><td>71402-6 </td><td>Bully                                               </td><td>Super Mario            </td><td> NA</td><td> 4.99</td><td> 3.94</td><td> 5.39</td><td>2022-01-01</td><td>2022-07-31</td><td>0.0</td><td> 1</td><td> -1.05</td><td>  0.40</td></tr>\n",
       "\t<tr><td>2022</td><td>71402-7 </td><td>Baby Penguin                                        </td><td>Super Mario            </td><td> NA</td><td> 4.99</td><td> 3.42</td><td> 5.49</td><td>2022-01-01</td><td>2022-07-31</td><td>0.0</td><td> 1</td><td> -1.57</td><td>  0.50</td></tr>\n",
       "\t<tr><td>2022</td><td>71402-8 </td><td>Stingby                                             </td><td>Super Mario            </td><td> NA</td><td> 4.99</td><td> 3.20</td><td> 4.55</td><td>2022-01-01</td><td>2022-07-31</td><td>0.0</td><td> 1</td><td> -1.79</td><td> -0.44</td></tr>\n",
       "\t<tr><td>2022</td><td>71402-9 </td><td>Coin Coffer                                         </td><td>Super Mario            </td><td> NA</td><td> 4.99</td><td> 3.29</td><td> 5.48</td><td>2022-01-01</td><td>2022-07-31</td><td>0.0</td><td> 1</td><td> -1.70</td><td>  0.49</td></tr>\n",
       "\t<tr><td>2022</td><td>71402-10</td><td>Para-Biddybud                                       </td><td>Super Mario            </td><td> NA</td><td> 4.99</td><td> 5.00</td><td> 5.01</td><td>2022-01-01</td><td>2022-07-31</td><td>0.0</td><td> 1</td><td>  0.01</td><td>  0.02</td></tr>\n",
       "\t<tr><td>2022</td><td>71405-1 </td><td>Fuzzy Flippers                                      </td><td>Super Mario            </td><td>154</td><td>19.99</td><td>13.25</td><td>19.99</td><td>2022-08-01</td><td>2022-12-31</td><td>0.0</td><td> 2</td><td> -6.74</td><td>  0.00</td></tr>\n",
       "\t<tr><td>2022</td><td>75321-1 </td><td>The Razor Crest Microfighter                        </td><td>Star Wars              </td><td> 98</td><td> 9.99</td><td> 7.23</td><td>10.19</td><td>2022-01-01</td><td>2022-12-31</td><td>3.6</td><td> 1</td><td> -2.76</td><td>  0.20</td></tr>\n",
       "\t<tr><td>2022</td><td>75340-1 </td><td>LEGO Star Wars Advent Calendar                      </td><td>Star Wars              </td><td>329</td><td>44.99</td><td>22.42</td><td>29.06</td><td>2022-09-01</td><td>2022-12-31</td><td>3.8</td><td> 8</td><td>-22.57</td><td>-15.93</td></tr>\n",
       "\t<tr><td>2022</td><td>76202-1 </td><td>Wolverine Mech Armor                                </td><td>Marvel Super Heroes    </td><td>141</td><td> 9.99</td><td> 6.33</td><td> 9.17</td><td>2022-04-01</td><td>2022-12-31</td><td>3.8</td><td> 1</td><td> -3.66</td><td> -0.82</td></tr>\n",
       "\t<tr><td>2022</td><td>76203-1 </td><td>Iron Man Mech Armor                                 </td><td>Marvel Super Heroes    </td><td>130</td><td> 9.99</td><td> 9.15</td><td>10.15</td><td>2022-04-01</td><td>2022-12-31</td><td>3.4</td><td> 1</td><td> -0.84</td><td>  0.16</td></tr>\n",
       "\t<tr><td>2022</td><td>76204-1 </td><td>Black Panther Mech Armor                            </td><td>Marvel Super Heroes    </td><td>124</td><td> 9.99</td><td> 5.45</td><td> 7.26</td><td>2022-04-01</td><td>2022-12-31</td><td>3.5</td><td> 1</td><td> -4.54</td><td> -2.73</td></tr>\n",
       "\t<tr><td>2022</td><td>76205-1 </td><td>Gargantos Showdown                                  </td><td>Marvel Super Heroes    </td><td>264</td><td>29.99</td><td>18.35</td><td>24.28</td><td>2022-01-01</td><td>2022-12-31</td><td>4.1</td><td> 3</td><td>-11.64</td><td> -5.71</td></tr>\n",
       "\t<tr><td>2022</td><td>76219-1 </td><td><span style=white-space:pre-wrap>Spider-Man &amp; Green Goblin Mech Battle               </span></td><td><span style=white-space:pre-wrap>Marvel Super Heroes    </span></td><td>296</td><td>19.99</td><td>12.04</td><td>19.32</td><td>2022-04-01</td><td>2022-12-31</td><td>0.0</td><td> 2</td><td> -7.95</td><td> -0.67</td></tr>\n",
       "\t<tr><td>2022</td><td>76231-1 </td><td>Guardians of the Galaxy Advent Calendar             </td><td>Marvel Super Heroes    </td><td>268</td><td>44.99</td><td>21.65</td><td>32.41</td><td>2022-09-01</td><td>2022-12-31</td><td>3.7</td><td> 6</td><td>-23.34</td><td>-12.58</td></tr>\n",
       "\t<tr><td>2022</td><td>76396-1 </td><td>Hogwarts Moment: Divination Class                   </td><td>Harry Potter           </td><td>297</td><td>29.99</td><td>19.79</td><td>28.34</td><td>2022-03-01</td><td>2022-12-31</td><td>3.9</td><td> 3</td><td>-10.20</td><td> -1.65</td></tr>\n",
       "\t<tr><td>2022</td><td>76397-1 </td><td>Hogwarts Moment: Defence Against the Dark Arts Class</td><td>Harry Potter           </td><td>257</td><td>29.99</td><td>22.27</td><td>29.18</td><td>2022-03-01</td><td>2022-12-31</td><td>3.7</td><td> 4</td><td> -7.72</td><td> -0.81</td></tr>\n",
       "\t<tr><td>2022</td><td>76403-1 </td><td>The Ministry of Magic                               </td><td>Harry Potter           </td><td>990</td><td>99.99</td><td>55.00</td><td>65.41</td><td>2022-06-01</td><td>2022-12-31</td><td>4.1</td><td>10</td><td>-44.99</td><td>-34.58</td></tr>\n",
       "\t<tr><td>2022</td><td>76404-1 </td><td>LEGO Harry Potter Advent Calendar                   </td><td>Harry Potter           </td><td>334</td><td>44.99</td><td>15.00</td><td>22.43</td><td>2022-09-01</td><td>2022-12-31</td><td>3.5</td><td> 8</td><td>-29.99</td><td>-22.56</td></tr>\n",
       "</tbody>\n",
       "</table>\n"
      ],
      "text/latex": [
       "A tibble: 5211 × 14\n",
       "\\begin{tabular}{llllllllllllll}\n",
       " year & set\\_id & set\\_name & theme\\_name & parts\\_count & retail\\_price & resale\\_price\\_used & resale\\_price\\_new & launch\\_date & exit\\_date & rating & minifigures\\_count & used\\_set\\_profit & new\\_set\\_profit\\\\\n",
       " <dbl> & <chr> & <chr> & <chr> & <dbl> & <dbl> & <dbl> & <dbl> & <date> & <date> & <dbl> & <dbl> & <dbl> & <dbl>\\\\\n",
       "\\hline\n",
       "\t 1996 & 4559-1 & Cargo Railway             & Trains        & 842 & 130.00 & 216.43 & 762.15 & 1996-07-01 & 1999-01-30 & 4.3 &  7 &  86.43 & 632.15\\\\\n",
       "\t 1996 & 4565-1 & Freight and Crane Railway & Trains        & 914 & 140.00 & 243.55 & 589.41 & 1996-09-01 & 2002-12-31 & 4.4 &  3 & 103.55 & 449.41\\\\\n",
       "\t 1996 & 5876-1 & Belville Hospital Ward    & Belville      &  96 &  30.00 &  40.88 &  75.00 & 1996-08-01 & 1998-12-31 & 0.0 &  4 &  10.88 &  45.00\\\\\n",
       "\t 1996 & 6024-1 & Bandit Ambush             & Castle        &  59 &   6.50 &  78.79 & 213.75 & 1996-06-01 & 1998-12-31 & 3.9 &  2 &  72.29 & 207.25\\\\\n",
       "\t 1996 & 6135-1 & Spy Shark                 & Aquazone      &  57 &   8.75 &  11.79 &  20.00 & 1996-01-01 & 1997-12-31 & 3.6 &  1 &   3.04 &  11.25\\\\\n",
       "\t 1996 & 6145-1 & Crystal Crawler           & Aquazone      &  96 &  12.00 &  17.05 &  94.67 & 1996-04-01 & 1998-12-31 & 3.8 &  1 &   5.05 &  82.67\\\\\n",
       "\t 1996 & 6190-1 & Shark's Crystal Cave      & Aquazone      & 258 &  50.00 & 106.77 & 400.00 & 1996-07-01 & 1997-12-31 & 4.4 &  2 &  56.77 & 350.00\\\\\n",
       "\t 1996 & 6244-1 & Armada Sentry             & Pirates       &  71 &   8.75 &  45.89 & 166.40 & 1996-04-01 & 1996-12-31 & 3.5 &  1 &  37.14 & 157.65\\\\\n",
       "\t 1996 & 6334-1 & Wave Jump Racers          & Town          & 181 &  20.00 &  32.60 &  61.48 & 1996-07-01 & 1997-12-31 & 4.0 &  4 &  12.60 &  41.48\\\\\n",
       "\t 1996 & 6337-1 & Fast Track Finish         & Town          & 329 &  40.00 & 109.57 & 279.53 & 1996-07-01 & 1997-12-31 & 3.9 &  6 &  69.57 & 239.53\\\\\n",
       "\t 1996 & 6491-1 & Rocket Racer              & Time Cruisers &  58 &   4.50 &   6.27 &  24.89 & 1996-07-01 & 1998-12-31 & 3.3 &  1 &   1.77 &  20.39\\\\\n",
       "\t 1996 & 6492-1 & Hypno Cruiser             & Time Cruisers & 152 &  22.00 &  31.83 & 157.50 & 1996-07-01 & 1998-12-31 & 3.8 &  2 &   9.83 & 135.50\\\\\n",
       "\t 1996 & 6493-1 & Flying Time Vessel        & Time Cruisers & 237 &  44.00 &  44.87 & 102.83 & 1996-07-01 & 1998-12-31 & 3.9 &  2 &   0.87 &  58.83\\\\\n",
       "\t 1996 & 6518-1 & Baja Buggy                & Town          &  37 &   3.50 &   3.25 &  12.12 & 1996-07-01 & 1997-12-31 & 3.6 &  1 &  -0.25 &   8.62\\\\\n",
       "\t 1996 & 6581-1 & Dig 'N' Dump              & Town          & 127 &  13.25 &  14.56 &  58.69 & 1996-07-01 & 1997-12-31 & 4.1 &  2 &   1.31 &  45.44\\\\\n",
       "\t 1996 & 6598-1 & Metro PD Station          & Town          & 552 &  66.00 & 135.00 & 476.62 & 1996-01-01 & 1997-12-31 & 4.2 &  8 &  69.00 & 410.62\\\\\n",
       "\t 1996 & 6615-1 & Eagle Stunt Flyer         & Town          &  76 &   8.75 &  11.30 &  40.00 & 1996-07-01 & 1997-12-31 & 4.1 &  1 &   2.55 &  31.25\\\\\n",
       "\t 1996 & 6712-1 & Sheriff's Showdown        & Western       &  28 &   4.00 &  16.53 &  51.50 & 1996-09-01 & 1998-12-31 & 3.8 &  2 &  12.53 &  47.50\\\\\n",
       "\t 1996 & 6716-1 & Covered Wagon             & Western       &  64 &   8.00 &  42.71 & 127.17 & 1996-09-01 & 1998-12-31 & 4.1 &  1 &  34.71 & 119.17\\\\\n",
       "\t 1996 & 6755-1 & Sheriff's Lock-Up         & Western       & 176 &  25.00 &  68.37 & 381.04 & 1996-08-01 & 1998-12-31 & 4.4 &  4 &  43.37 & 356.04\\\\\n",
       "\t 1996 & 6769-1 & Fort Legoredo             & Western       & 687 &  85.00 & 217.35 & 705.44 & 1996-10-01 & 1998-12-31 & 4.7 & 10 & 132.35 & 620.44\\\\\n",
       "\t 1996 & 6854-1 & Alien Fossilizer          & Space         &  53 &   6.00 &  13.36 &  86.18 & 1996-04-01 & 1996-12-31 & 3.5 &  1 &   7.36 &  80.18\\\\\n",
       "\t 1996 & 6856-1 & Planetary Decoder         & Space         &  80 &   8.00 &  11.98 &  68.77 & 1996-04-01 & 1997-12-31 & 3.5 &  1 &   3.98 &  60.77\\\\\n",
       "\t 1996 & 6899-1 & Nebula Outpost            & Space         & 158 &  15.00 &  31.61 & 162.29 & 1996-04-01 & 1997-12-31 & 3.9 &  2 &  16.61 & 147.29\\\\\n",
       "\t 1996 & 6938-1 & Scorpion Detector         & Space         & 196 &  24.00 &  37.25 & 154.00 & 1996-04-01 & 1996-12-31 & 4.2 &  2 &  13.25 & 130.00\\\\\n",
       "\t 1996 & 6958-1 & Android Base              & Space         & 267 &  40.00 &  87.24 & 315.00 & 1996-01-01 & 1997-12-31 & 4.1 &  3 &  47.24 & 275.00\\\\\n",
       "\t 1996 & 6982-1 & Explorien Starship        & Space         & 662 &  80.00 & 113.88 & 341.83 & 1996-01-01 & 1997-12-31 & 4.2 &  4 &  33.88 & 261.83\\\\\n",
       "\t 1996 & 8207-1 & Dune Duster               & Technic       &  86 &   8.00 &   6.57 &  14.75 & 1996-01-01 & 1998-12-31 & 3.4 & NA &  -1.43 &   6.75\\\\\n",
       "\t 1996 & 8244-1 & Convertables              & Technic       & 275 &  33.00 &  26.78 &  53.39 & 1996-01-01 & 1998-12-31 & 3.3 &  1 &  -6.22 &  20.39\\\\\n",
       "\t 1996 & 8408-1 & Desert Ranger             & Technic       & 289 &  30.00 &  27.99 &  54.67 & 1996-08-01 & 1998-12-31 & 3.5 & NA &  -2.01 &  24.67\\\\\n",
       "\t ⋮ & ⋮ & ⋮ & ⋮ & ⋮ & ⋮ & ⋮ & ⋮ & ⋮ & ⋮ & ⋮ & ⋮ & ⋮ & ⋮\\\\\n",
       "\t 2022 & 71032-10 & Raccoon Costume Fan                                  & Collectable Minifigures &   9 &  4.99 &  4.31 &  5.26 & 2022-01-01 & 2022-04-30 & 3.9 &  1 &  -0.68 &   0.27\\\\\n",
       "\t 2022 & 71032-11 & Space Creature                                       & Collectable Minifigures &   9 &  4.99 &  7.36 &  7.40 & 2022-01-01 & 2022-04-30 & 3.8 &  1 &   2.37 &   2.41\\\\\n",
       "\t 2022 & 71032-12 & Wheelchair Racer                                     & Collectable Minifigures &  11 &  4.99 &  3.67 &  3.98 & 2022-01-01 & 2022-04-30 & 4.0 &  1 &  -1.32 &  -1.01\\\\\n",
       "\t 2022 & 71396-1  & Bowser Jr.'s Clown Car                               & Super Mario             &  84 &  9.99 &  5.33 &  8.15 & 2022-01-01 & 2022-12-31 & 4.0 &  1 &  -4.66 &  -1.84\\\\\n",
       "\t 2022 & 71397-1  & Luigi's Mansion Lab and Poltergust                   & Super Mario             & 179 & 29.99 & 12.50 & 19.64 & 2022-01-01 & 2022-12-31 & 3.5 &  2 & -17.49 & -10.35\\\\\n",
       "\t 2022 & 71398-1  & Dorrie's Beachfront                                  & Super Mario             & 229 & 29.99 & 15.00 & 19.05 & 2022-01-01 & 2022-12-31 & 0.0 &  2 & -14.99 & -10.94\\\\\n",
       "\t 2022 & 71399-1  & Luigi's Mansion Entryway                             & Super Mario             & 504 & 39.99 & 25.00 & 36.14 & 2022-01-01 & 2022-12-31 & 4.2 &  3 & -14.99 &  -3.85\\\\\n",
       "\t 2022 & 71401-1  & Luigi's Mansion Haunt-and-Seek                       & Super Mario             & 877 & 79.99 & 41.00 & 67.27 & 2022-01-01 & 2022-12-31 & 0.0 &  4 & -38.99 & -12.72\\\\\n",
       "\t 2022 & 71402-1  & Freezie                                              & Super Mario             &  NA &  4.99 & 10.24 & 20.94 & 2022-01-01 & 2022-07-31 & 0.0 &  1 &   5.25 &  15.95\\\\\n",
       "\t 2022 & 71402-2  & Mechakoopa                                           & Super Mario             &  NA &  4.99 &  2.99 &  4.14 & 2022-01-01 & 2022-07-31 & 0.0 &  1 &  -2.00 &  -0.85\\\\\n",
       "\t 2022 & 71402-3  & Ant Trooper                                          & Super Mario             &  NA &  4.99 &  7.99 & 12.12 & 2022-01-01 & 2022-07-31 & 0.0 &  1 &   3.00 &   7.13\\\\\n",
       "\t 2022 & 71402-5  & Scaredy Rat                                          & Super Mario             &  NA &  4.99 &  2.28 &  4.58 & 2022-01-01 & 2022-07-31 & 0.0 &  1 &  -2.71 &  -0.41\\\\\n",
       "\t 2022 & 71402-6  & Bully                                                & Super Mario             &  NA &  4.99 &  3.94 &  5.39 & 2022-01-01 & 2022-07-31 & 0.0 &  1 &  -1.05 &   0.40\\\\\n",
       "\t 2022 & 71402-7  & Baby Penguin                                         & Super Mario             &  NA &  4.99 &  3.42 &  5.49 & 2022-01-01 & 2022-07-31 & 0.0 &  1 &  -1.57 &   0.50\\\\\n",
       "\t 2022 & 71402-8  & Stingby                                              & Super Mario             &  NA &  4.99 &  3.20 &  4.55 & 2022-01-01 & 2022-07-31 & 0.0 &  1 &  -1.79 &  -0.44\\\\\n",
       "\t 2022 & 71402-9  & Coin Coffer                                          & Super Mario             &  NA &  4.99 &  3.29 &  5.48 & 2022-01-01 & 2022-07-31 & 0.0 &  1 &  -1.70 &   0.49\\\\\n",
       "\t 2022 & 71402-10 & Para-Biddybud                                        & Super Mario             &  NA &  4.99 &  5.00 &  5.01 & 2022-01-01 & 2022-07-31 & 0.0 &  1 &   0.01 &   0.02\\\\\n",
       "\t 2022 & 71405-1  & Fuzzy Flippers                                       & Super Mario             & 154 & 19.99 & 13.25 & 19.99 & 2022-08-01 & 2022-12-31 & 0.0 &  2 &  -6.74 &   0.00\\\\\n",
       "\t 2022 & 75321-1  & The Razor Crest Microfighter                         & Star Wars               &  98 &  9.99 &  7.23 & 10.19 & 2022-01-01 & 2022-12-31 & 3.6 &  1 &  -2.76 &   0.20\\\\\n",
       "\t 2022 & 75340-1  & LEGO Star Wars Advent Calendar                       & Star Wars               & 329 & 44.99 & 22.42 & 29.06 & 2022-09-01 & 2022-12-31 & 3.8 &  8 & -22.57 & -15.93\\\\\n",
       "\t 2022 & 76202-1  & Wolverine Mech Armor                                 & Marvel Super Heroes     & 141 &  9.99 &  6.33 &  9.17 & 2022-04-01 & 2022-12-31 & 3.8 &  1 &  -3.66 &  -0.82\\\\\n",
       "\t 2022 & 76203-1  & Iron Man Mech Armor                                  & Marvel Super Heroes     & 130 &  9.99 &  9.15 & 10.15 & 2022-04-01 & 2022-12-31 & 3.4 &  1 &  -0.84 &   0.16\\\\\n",
       "\t 2022 & 76204-1  & Black Panther Mech Armor                             & Marvel Super Heroes     & 124 &  9.99 &  5.45 &  7.26 & 2022-04-01 & 2022-12-31 & 3.5 &  1 &  -4.54 &  -2.73\\\\\n",
       "\t 2022 & 76205-1  & Gargantos Showdown                                   & Marvel Super Heroes     & 264 & 29.99 & 18.35 & 24.28 & 2022-01-01 & 2022-12-31 & 4.1 &  3 & -11.64 &  -5.71\\\\\n",
       "\t 2022 & 76219-1  & Spider-Man \\& Green Goblin Mech Battle                & Marvel Super Heroes     & 296 & 19.99 & 12.04 & 19.32 & 2022-04-01 & 2022-12-31 & 0.0 &  2 &  -7.95 &  -0.67\\\\\n",
       "\t 2022 & 76231-1  & Guardians of the Galaxy Advent Calendar              & Marvel Super Heroes     & 268 & 44.99 & 21.65 & 32.41 & 2022-09-01 & 2022-12-31 & 3.7 &  6 & -23.34 & -12.58\\\\\n",
       "\t 2022 & 76396-1  & Hogwarts Moment: Divination Class                    & Harry Potter            & 297 & 29.99 & 19.79 & 28.34 & 2022-03-01 & 2022-12-31 & 3.9 &  3 & -10.20 &  -1.65\\\\\n",
       "\t 2022 & 76397-1  & Hogwarts Moment: Defence Against the Dark Arts Class & Harry Potter            & 257 & 29.99 & 22.27 & 29.18 & 2022-03-01 & 2022-12-31 & 3.7 &  4 &  -7.72 &  -0.81\\\\\n",
       "\t 2022 & 76403-1  & The Ministry of Magic                                & Harry Potter            & 990 & 99.99 & 55.00 & 65.41 & 2022-06-01 & 2022-12-31 & 4.1 & 10 & -44.99 & -34.58\\\\\n",
       "\t 2022 & 76404-1  & LEGO Harry Potter Advent Calendar                    & Harry Potter            & 334 & 44.99 & 15.00 & 22.43 & 2022-09-01 & 2022-12-31 & 3.5 &  8 & -29.99 & -22.56\\\\\n",
       "\\end{tabular}\n"
      ],
      "text/markdown": [
       "\n",
       "A tibble: 5211 × 14\n",
       "\n",
       "| year &lt;dbl&gt; | set_id &lt;chr&gt; | set_name &lt;chr&gt; | theme_name &lt;chr&gt; | parts_count &lt;dbl&gt; | retail_price &lt;dbl&gt; | resale_price_used &lt;dbl&gt; | resale_price_new &lt;dbl&gt; | launch_date &lt;date&gt; | exit_date &lt;date&gt; | rating &lt;dbl&gt; | minifigures_count &lt;dbl&gt; | used_set_profit &lt;dbl&gt; | new_set_profit &lt;dbl&gt; |\n",
       "|---|---|---|---|---|---|---|---|---|---|---|---|---|---|\n",
       "| 1996 | 4559-1 | Cargo Railway             | Trains        | 842 | 130.00 | 216.43 | 762.15 | 1996-07-01 | 1999-01-30 | 4.3 |  7 |  86.43 | 632.15 |\n",
       "| 1996 | 4565-1 | Freight and Crane Railway | Trains        | 914 | 140.00 | 243.55 | 589.41 | 1996-09-01 | 2002-12-31 | 4.4 |  3 | 103.55 | 449.41 |\n",
       "| 1996 | 5876-1 | Belville Hospital Ward    | Belville      |  96 |  30.00 |  40.88 |  75.00 | 1996-08-01 | 1998-12-31 | 0.0 |  4 |  10.88 |  45.00 |\n",
       "| 1996 | 6024-1 | Bandit Ambush             | Castle        |  59 |   6.50 |  78.79 | 213.75 | 1996-06-01 | 1998-12-31 | 3.9 |  2 |  72.29 | 207.25 |\n",
       "| 1996 | 6135-1 | Spy Shark                 | Aquazone      |  57 |   8.75 |  11.79 |  20.00 | 1996-01-01 | 1997-12-31 | 3.6 |  1 |   3.04 |  11.25 |\n",
       "| 1996 | 6145-1 | Crystal Crawler           | Aquazone      |  96 |  12.00 |  17.05 |  94.67 | 1996-04-01 | 1998-12-31 | 3.8 |  1 |   5.05 |  82.67 |\n",
       "| 1996 | 6190-1 | Shark's Crystal Cave      | Aquazone      | 258 |  50.00 | 106.77 | 400.00 | 1996-07-01 | 1997-12-31 | 4.4 |  2 |  56.77 | 350.00 |\n",
       "| 1996 | 6244-1 | Armada Sentry             | Pirates       |  71 |   8.75 |  45.89 | 166.40 | 1996-04-01 | 1996-12-31 | 3.5 |  1 |  37.14 | 157.65 |\n",
       "| 1996 | 6334-1 | Wave Jump Racers          | Town          | 181 |  20.00 |  32.60 |  61.48 | 1996-07-01 | 1997-12-31 | 4.0 |  4 |  12.60 |  41.48 |\n",
       "| 1996 | 6337-1 | Fast Track Finish         | Town          | 329 |  40.00 | 109.57 | 279.53 | 1996-07-01 | 1997-12-31 | 3.9 |  6 |  69.57 | 239.53 |\n",
       "| 1996 | 6491-1 | Rocket Racer              | Time Cruisers |  58 |   4.50 |   6.27 |  24.89 | 1996-07-01 | 1998-12-31 | 3.3 |  1 |   1.77 |  20.39 |\n",
       "| 1996 | 6492-1 | Hypno Cruiser             | Time Cruisers | 152 |  22.00 |  31.83 | 157.50 | 1996-07-01 | 1998-12-31 | 3.8 |  2 |   9.83 | 135.50 |\n",
       "| 1996 | 6493-1 | Flying Time Vessel        | Time Cruisers | 237 |  44.00 |  44.87 | 102.83 | 1996-07-01 | 1998-12-31 | 3.9 |  2 |   0.87 |  58.83 |\n",
       "| 1996 | 6518-1 | Baja Buggy                | Town          |  37 |   3.50 |   3.25 |  12.12 | 1996-07-01 | 1997-12-31 | 3.6 |  1 |  -0.25 |   8.62 |\n",
       "| 1996 | 6581-1 | Dig 'N' Dump              | Town          | 127 |  13.25 |  14.56 |  58.69 | 1996-07-01 | 1997-12-31 | 4.1 |  2 |   1.31 |  45.44 |\n",
       "| 1996 | 6598-1 | Metro PD Station          | Town          | 552 |  66.00 | 135.00 | 476.62 | 1996-01-01 | 1997-12-31 | 4.2 |  8 |  69.00 | 410.62 |\n",
       "| 1996 | 6615-1 | Eagle Stunt Flyer         | Town          |  76 |   8.75 |  11.30 |  40.00 | 1996-07-01 | 1997-12-31 | 4.1 |  1 |   2.55 |  31.25 |\n",
       "| 1996 | 6712-1 | Sheriff's Showdown        | Western       |  28 |   4.00 |  16.53 |  51.50 | 1996-09-01 | 1998-12-31 | 3.8 |  2 |  12.53 |  47.50 |\n",
       "| 1996 | 6716-1 | Covered Wagon             | Western       |  64 |   8.00 |  42.71 | 127.17 | 1996-09-01 | 1998-12-31 | 4.1 |  1 |  34.71 | 119.17 |\n",
       "| 1996 | 6755-1 | Sheriff's Lock-Up         | Western       | 176 |  25.00 |  68.37 | 381.04 | 1996-08-01 | 1998-12-31 | 4.4 |  4 |  43.37 | 356.04 |\n",
       "| 1996 | 6769-1 | Fort Legoredo             | Western       | 687 |  85.00 | 217.35 | 705.44 | 1996-10-01 | 1998-12-31 | 4.7 | 10 | 132.35 | 620.44 |\n",
       "| 1996 | 6854-1 | Alien Fossilizer          | Space         |  53 |   6.00 |  13.36 |  86.18 | 1996-04-01 | 1996-12-31 | 3.5 |  1 |   7.36 |  80.18 |\n",
       "| 1996 | 6856-1 | Planetary Decoder         | Space         |  80 |   8.00 |  11.98 |  68.77 | 1996-04-01 | 1997-12-31 | 3.5 |  1 |   3.98 |  60.77 |\n",
       "| 1996 | 6899-1 | Nebula Outpost            | Space         | 158 |  15.00 |  31.61 | 162.29 | 1996-04-01 | 1997-12-31 | 3.9 |  2 |  16.61 | 147.29 |\n",
       "| 1996 | 6938-1 | Scorpion Detector         | Space         | 196 |  24.00 |  37.25 | 154.00 | 1996-04-01 | 1996-12-31 | 4.2 |  2 |  13.25 | 130.00 |\n",
       "| 1996 | 6958-1 | Android Base              | Space         | 267 |  40.00 |  87.24 | 315.00 | 1996-01-01 | 1997-12-31 | 4.1 |  3 |  47.24 | 275.00 |\n",
       "| 1996 | 6982-1 | Explorien Starship        | Space         | 662 |  80.00 | 113.88 | 341.83 | 1996-01-01 | 1997-12-31 | 4.2 |  4 |  33.88 | 261.83 |\n",
       "| 1996 | 8207-1 | Dune Duster               | Technic       |  86 |   8.00 |   6.57 |  14.75 | 1996-01-01 | 1998-12-31 | 3.4 | NA |  -1.43 |   6.75 |\n",
       "| 1996 | 8244-1 | Convertables              | Technic       | 275 |  33.00 |  26.78 |  53.39 | 1996-01-01 | 1998-12-31 | 3.3 |  1 |  -6.22 |  20.39 |\n",
       "| 1996 | 8408-1 | Desert Ranger             | Technic       | 289 |  30.00 |  27.99 |  54.67 | 1996-08-01 | 1998-12-31 | 3.5 | NA |  -2.01 |  24.67 |\n",
       "| ⋮ | ⋮ | ⋮ | ⋮ | ⋮ | ⋮ | ⋮ | ⋮ | ⋮ | ⋮ | ⋮ | ⋮ | ⋮ | ⋮ |\n",
       "| 2022 | 71032-10 | Raccoon Costume Fan                                  | Collectable Minifigures |   9 |  4.99 |  4.31 |  5.26 | 2022-01-01 | 2022-04-30 | 3.9 |  1 |  -0.68 |   0.27 |\n",
       "| 2022 | 71032-11 | Space Creature                                       | Collectable Minifigures |   9 |  4.99 |  7.36 |  7.40 | 2022-01-01 | 2022-04-30 | 3.8 |  1 |   2.37 |   2.41 |\n",
       "| 2022 | 71032-12 | Wheelchair Racer                                     | Collectable Minifigures |  11 |  4.99 |  3.67 |  3.98 | 2022-01-01 | 2022-04-30 | 4.0 |  1 |  -1.32 |  -1.01 |\n",
       "| 2022 | 71396-1  | Bowser Jr.'s Clown Car                               | Super Mario             |  84 |  9.99 |  5.33 |  8.15 | 2022-01-01 | 2022-12-31 | 4.0 |  1 |  -4.66 |  -1.84 |\n",
       "| 2022 | 71397-1  | Luigi's Mansion Lab and Poltergust                   | Super Mario             | 179 | 29.99 | 12.50 | 19.64 | 2022-01-01 | 2022-12-31 | 3.5 |  2 | -17.49 | -10.35 |\n",
       "| 2022 | 71398-1  | Dorrie's Beachfront                                  | Super Mario             | 229 | 29.99 | 15.00 | 19.05 | 2022-01-01 | 2022-12-31 | 0.0 |  2 | -14.99 | -10.94 |\n",
       "| 2022 | 71399-1  | Luigi's Mansion Entryway                             | Super Mario             | 504 | 39.99 | 25.00 | 36.14 | 2022-01-01 | 2022-12-31 | 4.2 |  3 | -14.99 |  -3.85 |\n",
       "| 2022 | 71401-1  | Luigi's Mansion Haunt-and-Seek                       | Super Mario             | 877 | 79.99 | 41.00 | 67.27 | 2022-01-01 | 2022-12-31 | 0.0 |  4 | -38.99 | -12.72 |\n",
       "| 2022 | 71402-1  | Freezie                                              | Super Mario             |  NA |  4.99 | 10.24 | 20.94 | 2022-01-01 | 2022-07-31 | 0.0 |  1 |   5.25 |  15.95 |\n",
       "| 2022 | 71402-2  | Mechakoopa                                           | Super Mario             |  NA |  4.99 |  2.99 |  4.14 | 2022-01-01 | 2022-07-31 | 0.0 |  1 |  -2.00 |  -0.85 |\n",
       "| 2022 | 71402-3  | Ant Trooper                                          | Super Mario             |  NA |  4.99 |  7.99 | 12.12 | 2022-01-01 | 2022-07-31 | 0.0 |  1 |   3.00 |   7.13 |\n",
       "| 2022 | 71402-5  | Scaredy Rat                                          | Super Mario             |  NA |  4.99 |  2.28 |  4.58 | 2022-01-01 | 2022-07-31 | 0.0 |  1 |  -2.71 |  -0.41 |\n",
       "| 2022 | 71402-6  | Bully                                                | Super Mario             |  NA |  4.99 |  3.94 |  5.39 | 2022-01-01 | 2022-07-31 | 0.0 |  1 |  -1.05 |   0.40 |\n",
       "| 2022 | 71402-7  | Baby Penguin                                         | Super Mario             |  NA |  4.99 |  3.42 |  5.49 | 2022-01-01 | 2022-07-31 | 0.0 |  1 |  -1.57 |   0.50 |\n",
       "| 2022 | 71402-8  | Stingby                                              | Super Mario             |  NA |  4.99 |  3.20 |  4.55 | 2022-01-01 | 2022-07-31 | 0.0 |  1 |  -1.79 |  -0.44 |\n",
       "| 2022 | 71402-9  | Coin Coffer                                          | Super Mario             |  NA |  4.99 |  3.29 |  5.48 | 2022-01-01 | 2022-07-31 | 0.0 |  1 |  -1.70 |   0.49 |\n",
       "| 2022 | 71402-10 | Para-Biddybud                                        | Super Mario             |  NA |  4.99 |  5.00 |  5.01 | 2022-01-01 | 2022-07-31 | 0.0 |  1 |   0.01 |   0.02 |\n",
       "| 2022 | 71405-1  | Fuzzy Flippers                                       | Super Mario             | 154 | 19.99 | 13.25 | 19.99 | 2022-08-01 | 2022-12-31 | 0.0 |  2 |  -6.74 |   0.00 |\n",
       "| 2022 | 75321-1  | The Razor Crest Microfighter                         | Star Wars               |  98 |  9.99 |  7.23 | 10.19 | 2022-01-01 | 2022-12-31 | 3.6 |  1 |  -2.76 |   0.20 |\n",
       "| 2022 | 75340-1  | LEGO Star Wars Advent Calendar                       | Star Wars               | 329 | 44.99 | 22.42 | 29.06 | 2022-09-01 | 2022-12-31 | 3.8 |  8 | -22.57 | -15.93 |\n",
       "| 2022 | 76202-1  | Wolverine Mech Armor                                 | Marvel Super Heroes     | 141 |  9.99 |  6.33 |  9.17 | 2022-04-01 | 2022-12-31 | 3.8 |  1 |  -3.66 |  -0.82 |\n",
       "| 2022 | 76203-1  | Iron Man Mech Armor                                  | Marvel Super Heroes     | 130 |  9.99 |  9.15 | 10.15 | 2022-04-01 | 2022-12-31 | 3.4 |  1 |  -0.84 |   0.16 |\n",
       "| 2022 | 76204-1  | Black Panther Mech Armor                             | Marvel Super Heroes     | 124 |  9.99 |  5.45 |  7.26 | 2022-04-01 | 2022-12-31 | 3.5 |  1 |  -4.54 |  -2.73 |\n",
       "| 2022 | 76205-1  | Gargantos Showdown                                   | Marvel Super Heroes     | 264 | 29.99 | 18.35 | 24.28 | 2022-01-01 | 2022-12-31 | 4.1 |  3 | -11.64 |  -5.71 |\n",
       "| 2022 | 76219-1  | Spider-Man &amp; Green Goblin Mech Battle                | Marvel Super Heroes     | 296 | 19.99 | 12.04 | 19.32 | 2022-04-01 | 2022-12-31 | 0.0 |  2 |  -7.95 |  -0.67 |\n",
       "| 2022 | 76231-1  | Guardians of the Galaxy Advent Calendar              | Marvel Super Heroes     | 268 | 44.99 | 21.65 | 32.41 | 2022-09-01 | 2022-12-31 | 3.7 |  6 | -23.34 | -12.58 |\n",
       "| 2022 | 76396-1  | Hogwarts Moment: Divination Class                    | Harry Potter            | 297 | 29.99 | 19.79 | 28.34 | 2022-03-01 | 2022-12-31 | 3.9 |  3 | -10.20 |  -1.65 |\n",
       "| 2022 | 76397-1  | Hogwarts Moment: Defence Against the Dark Arts Class | Harry Potter            | 257 | 29.99 | 22.27 | 29.18 | 2022-03-01 | 2022-12-31 | 3.7 |  4 |  -7.72 |  -0.81 |\n",
       "| 2022 | 76403-1  | The Ministry of Magic                                | Harry Potter            | 990 | 99.99 | 55.00 | 65.41 | 2022-06-01 | 2022-12-31 | 4.1 | 10 | -44.99 | -34.58 |\n",
       "| 2022 | 76404-1  | LEGO Harry Potter Advent Calendar                    | Harry Potter            | 334 | 44.99 | 15.00 | 22.43 | 2022-09-01 | 2022-12-31 | 3.5 |  8 | -29.99 | -22.56 |\n",
       "\n"
      ],
      "text/plain": [
       "     year set_id   set_name                                            \n",
       "1    1996 4559-1   Cargo Railway                                       \n",
       "2    1996 4565-1   Freight and Crane Railway                           \n",
       "3    1996 5876-1   Belville Hospital Ward                              \n",
       "4    1996 6024-1   Bandit Ambush                                       \n",
       "5    1996 6135-1   Spy Shark                                           \n",
       "6    1996 6145-1   Crystal Crawler                                     \n",
       "7    1996 6190-1   Shark's Crystal Cave                                \n",
       "8    1996 6244-1   Armada Sentry                                       \n",
       "9    1996 6334-1   Wave Jump Racers                                    \n",
       "10   1996 6337-1   Fast Track Finish                                   \n",
       "11   1996 6491-1   Rocket Racer                                        \n",
       "12   1996 6492-1   Hypno Cruiser                                       \n",
       "13   1996 6493-1   Flying Time Vessel                                  \n",
       "14   1996 6518-1   Baja Buggy                                          \n",
       "15   1996 6581-1   Dig 'N' Dump                                        \n",
       "16   1996 6598-1   Metro PD Station                                    \n",
       "17   1996 6615-1   Eagle Stunt Flyer                                   \n",
       "18   1996 6712-1   Sheriff's Showdown                                  \n",
       "19   1996 6716-1   Covered Wagon                                       \n",
       "20   1996 6755-1   Sheriff's Lock-Up                                   \n",
       "21   1996 6769-1   Fort Legoredo                                       \n",
       "22   1996 6854-1   Alien Fossilizer                                    \n",
       "23   1996 6856-1   Planetary Decoder                                   \n",
       "24   1996 6899-1   Nebula Outpost                                      \n",
       "25   1996 6938-1   Scorpion Detector                                   \n",
       "26   1996 6958-1   Android Base                                        \n",
       "27   1996 6982-1   Explorien Starship                                  \n",
       "28   1996 8207-1   Dune Duster                                         \n",
       "29   1996 8244-1   Convertables                                        \n",
       "30   1996 8408-1   Desert Ranger                                       \n",
       "⋮    ⋮    ⋮        ⋮                                                   \n",
       "5182 2022 71032-10 Raccoon Costume Fan                                 \n",
       "5183 2022 71032-11 Space Creature                                      \n",
       "5184 2022 71032-12 Wheelchair Racer                                    \n",
       "5185 2022 71396-1  Bowser Jr.'s Clown Car                              \n",
       "5186 2022 71397-1  Luigi's Mansion Lab and Poltergust                  \n",
       "5187 2022 71398-1  Dorrie's Beachfront                                 \n",
       "5188 2022 71399-1  Luigi's Mansion Entryway                            \n",
       "5189 2022 71401-1  Luigi's Mansion Haunt-and-Seek                      \n",
       "5190 2022 71402-1  Freezie                                             \n",
       "5191 2022 71402-2  Mechakoopa                                          \n",
       "5192 2022 71402-3  Ant Trooper                                         \n",
       "5193 2022 71402-5  Scaredy Rat                                         \n",
       "5194 2022 71402-6  Bully                                               \n",
       "5195 2022 71402-7  Baby Penguin                                        \n",
       "5196 2022 71402-8  Stingby                                             \n",
       "5197 2022 71402-9  Coin Coffer                                         \n",
       "5198 2022 71402-10 Para-Biddybud                                       \n",
       "5199 2022 71405-1  Fuzzy Flippers                                      \n",
       "5200 2022 75321-1  The Razor Crest Microfighter                        \n",
       "5201 2022 75340-1  LEGO Star Wars Advent Calendar                      \n",
       "5202 2022 76202-1  Wolverine Mech Armor                                \n",
       "5203 2022 76203-1  Iron Man Mech Armor                                 \n",
       "5204 2022 76204-1  Black Panther Mech Armor                            \n",
       "5205 2022 76205-1  Gargantos Showdown                                  \n",
       "5206 2022 76219-1  Spider-Man & Green Goblin Mech Battle               \n",
       "5207 2022 76231-1  Guardians of the Galaxy Advent Calendar             \n",
       "5208 2022 76396-1  Hogwarts Moment: Divination Class                   \n",
       "5209 2022 76397-1  Hogwarts Moment: Defence Against the Dark Arts Class\n",
       "5210 2022 76403-1  The Ministry of Magic                               \n",
       "5211 2022 76404-1  LEGO Harry Potter Advent Calendar                   \n",
       "     theme_name              parts_count retail_price resale_price_used\n",
       "1    Trains                  842         130.00       216.43           \n",
       "2    Trains                  914         140.00       243.55           \n",
       "3    Belville                 96          30.00        40.88           \n",
       "4    Castle                   59           6.50        78.79           \n",
       "5    Aquazone                 57           8.75        11.79           \n",
       "6    Aquazone                 96          12.00        17.05           \n",
       "7    Aquazone                258          50.00       106.77           \n",
       "8    Pirates                  71           8.75        45.89           \n",
       "9    Town                    181          20.00        32.60           \n",
       "10   Town                    329          40.00       109.57           \n",
       "11   Time Cruisers            58           4.50         6.27           \n",
       "12   Time Cruisers           152          22.00        31.83           \n",
       "13   Time Cruisers           237          44.00        44.87           \n",
       "14   Town                     37           3.50         3.25           \n",
       "15   Town                    127          13.25        14.56           \n",
       "16   Town                    552          66.00       135.00           \n",
       "17   Town                     76           8.75        11.30           \n",
       "18   Western                  28           4.00        16.53           \n",
       "19   Western                  64           8.00        42.71           \n",
       "20   Western                 176          25.00        68.37           \n",
       "21   Western                 687          85.00       217.35           \n",
       "22   Space                    53           6.00        13.36           \n",
       "23   Space                    80           8.00        11.98           \n",
       "24   Space                   158          15.00        31.61           \n",
       "25   Space                   196          24.00        37.25           \n",
       "26   Space                   267          40.00        87.24           \n",
       "27   Space                   662          80.00       113.88           \n",
       "28   Technic                  86           8.00         6.57           \n",
       "29   Technic                 275          33.00        26.78           \n",
       "30   Technic                 289          30.00        27.99           \n",
       "⋮    ⋮                       ⋮           ⋮            ⋮                \n",
       "5182 Collectable Minifigures   9          4.99         4.31            \n",
       "5183 Collectable Minifigures   9          4.99         7.36            \n",
       "5184 Collectable Minifigures  11          4.99         3.67            \n",
       "5185 Super Mario              84          9.99         5.33            \n",
       "5186 Super Mario             179         29.99        12.50            \n",
       "5187 Super Mario             229         29.99        15.00            \n",
       "5188 Super Mario             504         39.99        25.00            \n",
       "5189 Super Mario             877         79.99        41.00            \n",
       "5190 Super Mario              NA          4.99        10.24            \n",
       "5191 Super Mario              NA          4.99         2.99            \n",
       "5192 Super Mario              NA          4.99         7.99            \n",
       "5193 Super Mario              NA          4.99         2.28            \n",
       "5194 Super Mario              NA          4.99         3.94            \n",
       "5195 Super Mario              NA          4.99         3.42            \n",
       "5196 Super Mario              NA          4.99         3.20            \n",
       "5197 Super Mario              NA          4.99         3.29            \n",
       "5198 Super Mario              NA          4.99         5.00            \n",
       "5199 Super Mario             154         19.99        13.25            \n",
       "5200 Star Wars                98          9.99         7.23            \n",
       "5201 Star Wars               329         44.99        22.42            \n",
       "5202 Marvel Super Heroes     141          9.99         6.33            \n",
       "5203 Marvel Super Heroes     130          9.99         9.15            \n",
       "5204 Marvel Super Heroes     124          9.99         5.45            \n",
       "5205 Marvel Super Heroes     264         29.99        18.35            \n",
       "5206 Marvel Super Heroes     296         19.99        12.04            \n",
       "5207 Marvel Super Heroes     268         44.99        21.65            \n",
       "5208 Harry Potter            297         29.99        19.79            \n",
       "5209 Harry Potter            257         29.99        22.27            \n",
       "5210 Harry Potter            990         99.99        55.00            \n",
       "5211 Harry Potter            334         44.99        15.00            \n",
       "     resale_price_new launch_date exit_date  rating minifigures_count\n",
       "1    762.15           1996-07-01  1999-01-30 4.3     7               \n",
       "2    589.41           1996-09-01  2002-12-31 4.4     3               \n",
       "3     75.00           1996-08-01  1998-12-31 0.0     4               \n",
       "4    213.75           1996-06-01  1998-12-31 3.9     2               \n",
       "5     20.00           1996-01-01  1997-12-31 3.6     1               \n",
       "6     94.67           1996-04-01  1998-12-31 3.8     1               \n",
       "7    400.00           1996-07-01  1997-12-31 4.4     2               \n",
       "8    166.40           1996-04-01  1996-12-31 3.5     1               \n",
       "9     61.48           1996-07-01  1997-12-31 4.0     4               \n",
       "10   279.53           1996-07-01  1997-12-31 3.9     6               \n",
       "11    24.89           1996-07-01  1998-12-31 3.3     1               \n",
       "12   157.50           1996-07-01  1998-12-31 3.8     2               \n",
       "13   102.83           1996-07-01  1998-12-31 3.9     2               \n",
       "14    12.12           1996-07-01  1997-12-31 3.6     1               \n",
       "15    58.69           1996-07-01  1997-12-31 4.1     2               \n",
       "16   476.62           1996-01-01  1997-12-31 4.2     8               \n",
       "17    40.00           1996-07-01  1997-12-31 4.1     1               \n",
       "18    51.50           1996-09-01  1998-12-31 3.8     2               \n",
       "19   127.17           1996-09-01  1998-12-31 4.1     1               \n",
       "20   381.04           1996-08-01  1998-12-31 4.4     4               \n",
       "21   705.44           1996-10-01  1998-12-31 4.7    10               \n",
       "22    86.18           1996-04-01  1996-12-31 3.5     1               \n",
       "23    68.77           1996-04-01  1997-12-31 3.5     1               \n",
       "24   162.29           1996-04-01  1997-12-31 3.9     2               \n",
       "25   154.00           1996-04-01  1996-12-31 4.2     2               \n",
       "26   315.00           1996-01-01  1997-12-31 4.1     3               \n",
       "27   341.83           1996-01-01  1997-12-31 4.2     4               \n",
       "28    14.75           1996-01-01  1998-12-31 3.4    NA               \n",
       "29    53.39           1996-01-01  1998-12-31 3.3     1               \n",
       "30    54.67           1996-08-01  1998-12-31 3.5    NA               \n",
       "⋮    ⋮                ⋮           ⋮          ⋮      ⋮                \n",
       "5182  5.26            2022-01-01  2022-04-30 3.9     1               \n",
       "5183  7.40            2022-01-01  2022-04-30 3.8     1               \n",
       "5184  3.98            2022-01-01  2022-04-30 4.0     1               \n",
       "5185  8.15            2022-01-01  2022-12-31 4.0     1               \n",
       "5186 19.64            2022-01-01  2022-12-31 3.5     2               \n",
       "5187 19.05            2022-01-01  2022-12-31 0.0     2               \n",
       "5188 36.14            2022-01-01  2022-12-31 4.2     3               \n",
       "5189 67.27            2022-01-01  2022-12-31 0.0     4               \n",
       "5190 20.94            2022-01-01  2022-07-31 0.0     1               \n",
       "5191  4.14            2022-01-01  2022-07-31 0.0     1               \n",
       "5192 12.12            2022-01-01  2022-07-31 0.0     1               \n",
       "5193  4.58            2022-01-01  2022-07-31 0.0     1               \n",
       "5194  5.39            2022-01-01  2022-07-31 0.0     1               \n",
       "5195  5.49            2022-01-01  2022-07-31 0.0     1               \n",
       "5196  4.55            2022-01-01  2022-07-31 0.0     1               \n",
       "5197  5.48            2022-01-01  2022-07-31 0.0     1               \n",
       "5198  5.01            2022-01-01  2022-07-31 0.0     1               \n",
       "5199 19.99            2022-08-01  2022-12-31 0.0     2               \n",
       "5200 10.19            2022-01-01  2022-12-31 3.6     1               \n",
       "5201 29.06            2022-09-01  2022-12-31 3.8     8               \n",
       "5202  9.17            2022-04-01  2022-12-31 3.8     1               \n",
       "5203 10.15            2022-04-01  2022-12-31 3.4     1               \n",
       "5204  7.26            2022-04-01  2022-12-31 3.5     1               \n",
       "5205 24.28            2022-01-01  2022-12-31 4.1     3               \n",
       "5206 19.32            2022-04-01  2022-12-31 0.0     2               \n",
       "5207 32.41            2022-09-01  2022-12-31 3.7     6               \n",
       "5208 28.34            2022-03-01  2022-12-31 3.9     3               \n",
       "5209 29.18            2022-03-01  2022-12-31 3.7     4               \n",
       "5210 65.41            2022-06-01  2022-12-31 4.1    10               \n",
       "5211 22.43            2022-09-01  2022-12-31 3.5     8               \n",
       "     used_set_profit new_set_profit\n",
       "1     86.43          632.15        \n",
       "2    103.55          449.41        \n",
       "3     10.88           45.00        \n",
       "4     72.29          207.25        \n",
       "5      3.04           11.25        \n",
       "6      5.05           82.67        \n",
       "7     56.77          350.00        \n",
       "8     37.14          157.65        \n",
       "9     12.60           41.48        \n",
       "10    69.57          239.53        \n",
       "11     1.77           20.39        \n",
       "12     9.83          135.50        \n",
       "13     0.87           58.83        \n",
       "14    -0.25            8.62        \n",
       "15     1.31           45.44        \n",
       "16    69.00          410.62        \n",
       "17     2.55           31.25        \n",
       "18    12.53           47.50        \n",
       "19    34.71          119.17        \n",
       "20    43.37          356.04        \n",
       "21   132.35          620.44        \n",
       "22     7.36           80.18        \n",
       "23     3.98           60.77        \n",
       "24    16.61          147.29        \n",
       "25    13.25          130.00        \n",
       "26    47.24          275.00        \n",
       "27    33.88          261.83        \n",
       "28    -1.43            6.75        \n",
       "29    -6.22           20.39        \n",
       "30    -2.01           24.67        \n",
       "⋮    ⋮               ⋮             \n",
       "5182  -0.68            0.27        \n",
       "5183   2.37            2.41        \n",
       "5184  -1.32           -1.01        \n",
       "5185  -4.66           -1.84        \n",
       "5186 -17.49          -10.35        \n",
       "5187 -14.99          -10.94        \n",
       "5188 -14.99           -3.85        \n",
       "5189 -38.99          -12.72        \n",
       "5190   5.25           15.95        \n",
       "5191  -2.00           -0.85        \n",
       "5192   3.00            7.13        \n",
       "5193  -2.71           -0.41        \n",
       "5194  -1.05            0.40        \n",
       "5195  -1.57            0.50        \n",
       "5196  -1.79           -0.44        \n",
       "5197  -1.70            0.49        \n",
       "5198   0.01            0.02        \n",
       "5199  -6.74            0.00        \n",
       "5200  -2.76            0.20        \n",
       "5201 -22.57          -15.93        \n",
       "5202  -3.66           -0.82        \n",
       "5203  -0.84            0.16        \n",
       "5204  -4.54           -2.73        \n",
       "5205 -11.64           -5.71        \n",
       "5206  -7.95           -0.67        \n",
       "5207 -23.34          -12.58        \n",
       "5208 -10.20           -1.65        \n",
       "5209  -7.72           -0.81        \n",
       "5210 -44.99          -34.58        \n",
       "5211 -29.99          -22.56        "
      ]
     },
     "metadata": {},
     "output_type": "display_data"
    }
   ],
   "source": [
    "# Check the result\n",
    "total_data"
   ]
  },
  {
   "cell_type": "code",
   "execution_count": 59,
   "id": "74798840",
   "metadata": {},
   "outputs": [],
   "source": [
    "# Modify the theme name to right format\n",
    "total_data <- \n",
    "  total_data %>%\n",
    "  mutate(theme_name = \n",
    "         ifelse(theme_name == \"Avatar The Last Airbender\", \n",
    "                             \"Avatar: The Last Airbender\", \n",
    "                             theme_name))"
   ]
  },
  {
   "cell_type": "code",
   "execution_count": 60,
   "id": "fe6bc142",
   "metadata": {},
   "outputs": [],
   "source": [
    "# Create the market data for the analysis of LEGO market\n",
    "# Select variables of interests\n",
    "market_data <-\n",
    "  total_data %>%\n",
    "  select(year, set_id, theme_name, set_name,\n",
    "         retail_price, rating, \n",
    "         used_set_profit, new_set_profit)"
   ]
  },
  {
   "cell_type": "code",
   "execution_count": 61,
   "id": "6533be3b",
   "metadata": {},
   "outputs": [
    {
     "data": {
      "text/html": [
       "<style>\n",
       ".dl-inline {width: auto; margin:0; padding: 0}\n",
       ".dl-inline>dt, .dl-inline>dd {float: none; width: auto; display: inline-block}\n",
       ".dl-inline>dt::after {content: \":\\0020\"; padding-right: .5ex}\n",
       ".dl-inline>dt:not(:first-of-type) {padding-left: .5ex}\n",
       "</style><dl class=dl-inline><dt>year</dt><dd>0</dd><dt>set_id</dt><dd>0</dd><dt>theme_name</dt><dd>0</dd><dt>set_name</dt><dd>0</dd><dt>retail_price</dt><dd>0</dd><dt>rating</dt><dd>209</dd><dt>used_set_profit</dt><dd>0</dd><dt>new_set_profit</dt><dd>0</dd></dl>\n"
      ],
      "text/latex": [
       "\\begin{description*}\n",
       "\\item[year] 0\n",
       "\\item[set\\textbackslash{}\\_id] 0\n",
       "\\item[theme\\textbackslash{}\\_name] 0\n",
       "\\item[set\\textbackslash{}\\_name] 0\n",
       "\\item[retail\\textbackslash{}\\_price] 0\n",
       "\\item[rating] 209\n",
       "\\item[used\\textbackslash{}\\_set\\textbackslash{}\\_profit] 0\n",
       "\\item[new\\textbackslash{}\\_set\\textbackslash{}\\_profit] 0\n",
       "\\end{description*}\n"
      ],
      "text/markdown": [
       "year\n",
       ":   0set_id\n",
       ":   0theme_name\n",
       ":   0set_name\n",
       ":   0retail_price\n",
       ":   0rating\n",
       ":   209used_set_profit\n",
       ":   0new_set_profit\n",
       ":   0\n",
       "\n"
      ],
      "text/plain": [
       "           year          set_id      theme_name        set_name    retail_price \n",
       "              0               0               0               0               0 \n",
       "         rating used_set_profit  new_set_profit \n",
       "            209               0               0 "
      ]
     },
     "metadata": {},
     "output_type": "display_data"
    },
    {
     "data": {
      "text/html": [
       "FALSE"
      ],
      "text/latex": [
       "FALSE"
      ],
      "text/markdown": [
       "FALSE"
      ],
      "text/plain": [
       "[1] FALSE"
      ]
     },
     "metadata": {},
     "output_type": "display_data"
    }
   ],
   "source": [
    "# Check the missing values\n",
    "market_data %>%\n",
    "  is.na() %>%\n",
    "  colSums()\n",
    "\n",
    "# Check any duplicates\n",
    "market_data %>%\n",
    "  duplicated() %>%\n",
    "  any()"
   ]
  },
  {
   "cell_type": "code",
   "execution_count": 62,
   "id": "2319ec33",
   "metadata": {},
   "outputs": [],
   "source": [
    "# Remove the missing values\n",
    "market_data <- \n",
    "  market_data %>%\n",
    "  na.omit()"
   ]
  },
  {
   "cell_type": "code",
   "execution_count": 63,
   "id": "f69ee622",
   "metadata": {},
   "outputs": [
    {
     "name": "stdout",
     "output_type": "stream",
     "text": [
      "Rows: 5,002\n",
      "Columns: 8\n",
      "$ year            \u001b[3m\u001b[90m<dbl>\u001b[39m\u001b[23m 1996, 1996, 1996, 1996, 1996, 1996, 1996, 1996, 1996, …\n",
      "$ set_id          \u001b[3m\u001b[90m<chr>\u001b[39m\u001b[23m \"4559-1\", \"4565-1\", \"5876-1\", \"6024-1\", \"6135-1\", \"614…\n",
      "$ theme_name      \u001b[3m\u001b[90m<chr>\u001b[39m\u001b[23m \"Trains\", \"Trains\", \"Belville\", \"Castle\", \"Aquazone\", …\n",
      "$ set_name        \u001b[3m\u001b[90m<chr>\u001b[39m\u001b[23m \"Cargo Railway\", \"Freight and Crane Railway\", \"Belvill…\n",
      "$ retail_price    \u001b[3m\u001b[90m<dbl>\u001b[39m\u001b[23m 130.00, 140.00, 30.00, 6.50, 8.75, 12.00, 50.00, 8.75,…\n",
      "$ rating          \u001b[3m\u001b[90m<dbl>\u001b[39m\u001b[23m 4.3, 4.4, 0.0, 3.9, 3.6, 3.8, 4.4, 3.5, 4.0, 3.9, 3.3,…\n",
      "$ used_set_profit \u001b[3m\u001b[90m<dbl>\u001b[39m\u001b[23m 86.43, 103.55, 10.88, 72.29, 3.04, 5.05, 56.77, 37.14,…\n",
      "$ new_set_profit  \u001b[3m\u001b[90m<dbl>\u001b[39m\u001b[23m 632.15, 449.41, 45.00, 207.25, 11.25, 82.67, 350.00, 1…\n"
     ]
    }
   ],
   "source": [
    "# Check the statistics of the data\n",
    "market_data %>%\n",
    "  glimpse()"
   ]
  },
  {
   "cell_type": "code",
   "execution_count": 64,
   "id": "fec69a02",
   "metadata": {},
   "outputs": [],
   "source": [
    "# Save the dataset\n",
    "write.csv(market_data, file = \"market_data.csv\", row.names = FALSE)"
   ]
  },
  {
   "cell_type": "code",
   "execution_count": 65,
   "id": "93ffe8f4",
   "metadata": {},
   "outputs": [],
   "source": [
    "# Create the dataset for price prediction model\n",
    "# Select variables of interest\n",
    "model_data <-\n",
    "  total_data %>%\n",
    "  select(set_id, set_name, theme_name,\n",
    "         parts_count, rating, retail_price, \n",
    "         minifigures_count, resale_price_used, resale_price_new,\n",
    "         launch_date, exit_date)"
   ]
  },
  {
   "cell_type": "code",
   "execution_count": 66,
   "id": "bdfa47f0",
   "metadata": {},
   "outputs": [
    {
     "data": {
      "text/html": [
       "<table class=\"dataframe\">\n",
       "<caption>A tibble: 5211 × 11</caption>\n",
       "<thead>\n",
       "\t<tr><th scope=col>set_id</th><th scope=col>set_name</th><th scope=col>theme_name</th><th scope=col>parts_count</th><th scope=col>rating</th><th scope=col>retail_price</th><th scope=col>minifigures_count</th><th scope=col>resale_price_used</th><th scope=col>resale_price_new</th><th scope=col>launch_date</th><th scope=col>exit_date</th></tr>\n",
       "\t<tr><th scope=col>&lt;chr&gt;</th><th scope=col>&lt;chr&gt;</th><th scope=col>&lt;chr&gt;</th><th scope=col>&lt;dbl&gt;</th><th scope=col>&lt;dbl&gt;</th><th scope=col>&lt;dbl&gt;</th><th scope=col>&lt;dbl&gt;</th><th scope=col>&lt;dbl&gt;</th><th scope=col>&lt;dbl&gt;</th><th scope=col>&lt;date&gt;</th><th scope=col>&lt;date&gt;</th></tr>\n",
       "</thead>\n",
       "<tbody>\n",
       "\t<tr><td>4559-1</td><td>Cargo Railway            </td><td>Trains       </td><td>842</td><td>4.3</td><td>130.00</td><td> 7</td><td>216.43</td><td>762.15</td><td>1996-07-01</td><td>1999-01-30</td></tr>\n",
       "\t<tr><td>4565-1</td><td>Freight and Crane Railway</td><td>Trains       </td><td>914</td><td>4.4</td><td>140.00</td><td> 3</td><td>243.55</td><td>589.41</td><td>1996-09-01</td><td>2002-12-31</td></tr>\n",
       "\t<tr><td>5876-1</td><td>Belville Hospital Ward   </td><td>Belville     </td><td> 96</td><td>0.0</td><td> 30.00</td><td> 4</td><td> 40.88</td><td> 75.00</td><td>1996-08-01</td><td>1998-12-31</td></tr>\n",
       "\t<tr><td>6024-1</td><td>Bandit Ambush            </td><td>Castle       </td><td> 59</td><td>3.9</td><td>  6.50</td><td> 2</td><td> 78.79</td><td>213.75</td><td>1996-06-01</td><td>1998-12-31</td></tr>\n",
       "\t<tr><td>6135-1</td><td>Spy Shark                </td><td>Aquazone     </td><td> 57</td><td>3.6</td><td>  8.75</td><td> 1</td><td> 11.79</td><td> 20.00</td><td>1996-01-01</td><td>1997-12-31</td></tr>\n",
       "\t<tr><td>6145-1</td><td>Crystal Crawler          </td><td>Aquazone     </td><td> 96</td><td>3.8</td><td> 12.00</td><td> 1</td><td> 17.05</td><td> 94.67</td><td>1996-04-01</td><td>1998-12-31</td></tr>\n",
       "\t<tr><td>6190-1</td><td>Shark's Crystal Cave     </td><td>Aquazone     </td><td>258</td><td>4.4</td><td> 50.00</td><td> 2</td><td>106.77</td><td>400.00</td><td>1996-07-01</td><td>1997-12-31</td></tr>\n",
       "\t<tr><td>6244-1</td><td>Armada Sentry            </td><td>Pirates      </td><td> 71</td><td>3.5</td><td>  8.75</td><td> 1</td><td> 45.89</td><td>166.40</td><td>1996-04-01</td><td>1996-12-31</td></tr>\n",
       "\t<tr><td>6334-1</td><td>Wave Jump Racers         </td><td>Town         </td><td>181</td><td>4.0</td><td> 20.00</td><td> 4</td><td> 32.60</td><td> 61.48</td><td>1996-07-01</td><td>1997-12-31</td></tr>\n",
       "\t<tr><td>6337-1</td><td>Fast Track Finish        </td><td>Town         </td><td>329</td><td>3.9</td><td> 40.00</td><td> 6</td><td>109.57</td><td>279.53</td><td>1996-07-01</td><td>1997-12-31</td></tr>\n",
       "\t<tr><td>6491-1</td><td>Rocket Racer             </td><td>Time Cruisers</td><td> 58</td><td>3.3</td><td>  4.50</td><td> 1</td><td>  6.27</td><td> 24.89</td><td>1996-07-01</td><td>1998-12-31</td></tr>\n",
       "\t<tr><td>6492-1</td><td>Hypno Cruiser            </td><td>Time Cruisers</td><td>152</td><td>3.8</td><td> 22.00</td><td> 2</td><td> 31.83</td><td>157.50</td><td>1996-07-01</td><td>1998-12-31</td></tr>\n",
       "\t<tr><td>6493-1</td><td>Flying Time Vessel       </td><td>Time Cruisers</td><td>237</td><td>3.9</td><td> 44.00</td><td> 2</td><td> 44.87</td><td>102.83</td><td>1996-07-01</td><td>1998-12-31</td></tr>\n",
       "\t<tr><td>6518-1</td><td>Baja Buggy               </td><td>Town         </td><td> 37</td><td>3.6</td><td>  3.50</td><td> 1</td><td>  3.25</td><td> 12.12</td><td>1996-07-01</td><td>1997-12-31</td></tr>\n",
       "\t<tr><td>6581-1</td><td>Dig 'N' Dump             </td><td>Town         </td><td>127</td><td>4.1</td><td> 13.25</td><td> 2</td><td> 14.56</td><td> 58.69</td><td>1996-07-01</td><td>1997-12-31</td></tr>\n",
       "\t<tr><td>6598-1</td><td>Metro PD Station         </td><td>Town         </td><td>552</td><td>4.2</td><td> 66.00</td><td> 8</td><td>135.00</td><td>476.62</td><td>1996-01-01</td><td>1997-12-31</td></tr>\n",
       "\t<tr><td>6615-1</td><td>Eagle Stunt Flyer        </td><td>Town         </td><td> 76</td><td>4.1</td><td>  8.75</td><td> 1</td><td> 11.30</td><td> 40.00</td><td>1996-07-01</td><td>1997-12-31</td></tr>\n",
       "\t<tr><td>6712-1</td><td>Sheriff's Showdown       </td><td>Western      </td><td> 28</td><td>3.8</td><td>  4.00</td><td> 2</td><td> 16.53</td><td> 51.50</td><td>1996-09-01</td><td>1998-12-31</td></tr>\n",
       "\t<tr><td>6716-1</td><td>Covered Wagon            </td><td>Western      </td><td> 64</td><td>4.1</td><td>  8.00</td><td> 1</td><td> 42.71</td><td>127.17</td><td>1996-09-01</td><td>1998-12-31</td></tr>\n",
       "\t<tr><td>6755-1</td><td>Sheriff's Lock-Up        </td><td>Western      </td><td>176</td><td>4.4</td><td> 25.00</td><td> 4</td><td> 68.37</td><td>381.04</td><td>1996-08-01</td><td>1998-12-31</td></tr>\n",
       "\t<tr><td>6769-1</td><td>Fort Legoredo            </td><td>Western      </td><td>687</td><td>4.7</td><td> 85.00</td><td>10</td><td>217.35</td><td>705.44</td><td>1996-10-01</td><td>1998-12-31</td></tr>\n",
       "\t<tr><td>6854-1</td><td>Alien Fossilizer         </td><td>Space        </td><td> 53</td><td>3.5</td><td>  6.00</td><td> 1</td><td> 13.36</td><td> 86.18</td><td>1996-04-01</td><td>1996-12-31</td></tr>\n",
       "\t<tr><td>6856-1</td><td>Planetary Decoder        </td><td>Space        </td><td> 80</td><td>3.5</td><td>  8.00</td><td> 1</td><td> 11.98</td><td> 68.77</td><td>1996-04-01</td><td>1997-12-31</td></tr>\n",
       "\t<tr><td>6899-1</td><td>Nebula Outpost           </td><td>Space        </td><td>158</td><td>3.9</td><td> 15.00</td><td> 2</td><td> 31.61</td><td>162.29</td><td>1996-04-01</td><td>1997-12-31</td></tr>\n",
       "\t<tr><td>6938-1</td><td>Scorpion Detector        </td><td>Space        </td><td>196</td><td>4.2</td><td> 24.00</td><td> 2</td><td> 37.25</td><td>154.00</td><td>1996-04-01</td><td>1996-12-31</td></tr>\n",
       "\t<tr><td>6958-1</td><td>Android Base             </td><td>Space        </td><td>267</td><td>4.1</td><td> 40.00</td><td> 3</td><td> 87.24</td><td>315.00</td><td>1996-01-01</td><td>1997-12-31</td></tr>\n",
       "\t<tr><td>6982-1</td><td>Explorien Starship       </td><td>Space        </td><td>662</td><td>4.2</td><td> 80.00</td><td> 4</td><td>113.88</td><td>341.83</td><td>1996-01-01</td><td>1997-12-31</td></tr>\n",
       "\t<tr><td>8207-1</td><td>Dune Duster              </td><td>Technic      </td><td> 86</td><td>3.4</td><td>  8.00</td><td>NA</td><td>  6.57</td><td> 14.75</td><td>1996-01-01</td><td>1998-12-31</td></tr>\n",
       "\t<tr><td>8244-1</td><td>Convertables             </td><td>Technic      </td><td>275</td><td>3.3</td><td> 33.00</td><td> 1</td><td> 26.78</td><td> 53.39</td><td>1996-01-01</td><td>1998-12-31</td></tr>\n",
       "\t<tr><td>8408-1</td><td>Desert Ranger            </td><td>Technic      </td><td>289</td><td>3.5</td><td> 30.00</td><td>NA</td><td> 27.99</td><td> 54.67</td><td>1996-08-01</td><td>1998-12-31</td></tr>\n",
       "\t<tr><td>⋮</td><td>⋮</td><td>⋮</td><td>⋮</td><td>⋮</td><td>⋮</td><td>⋮</td><td>⋮</td><td>⋮</td><td>⋮</td><td>⋮</td></tr>\n",
       "\t<tr><td>71032-10</td><td>Raccoon Costume Fan                                 </td><td>Collectable Minifigures</td><td>  9</td><td>3.9</td><td> 4.99</td><td> 1</td><td> 4.31</td><td> 5.26</td><td>2022-01-01</td><td>2022-04-30</td></tr>\n",
       "\t<tr><td>71032-11</td><td>Space Creature                                      </td><td>Collectable Minifigures</td><td>  9</td><td>3.8</td><td> 4.99</td><td> 1</td><td> 7.36</td><td> 7.40</td><td>2022-01-01</td><td>2022-04-30</td></tr>\n",
       "\t<tr><td>71032-12</td><td>Wheelchair Racer                                    </td><td>Collectable Minifigures</td><td> 11</td><td>4.0</td><td> 4.99</td><td> 1</td><td> 3.67</td><td> 3.98</td><td>2022-01-01</td><td>2022-04-30</td></tr>\n",
       "\t<tr><td>71396-1 </td><td>Bowser Jr.'s Clown Car                              </td><td>Super Mario            </td><td> 84</td><td>4.0</td><td> 9.99</td><td> 1</td><td> 5.33</td><td> 8.15</td><td>2022-01-01</td><td>2022-12-31</td></tr>\n",
       "\t<tr><td>71397-1 </td><td>Luigi's Mansion Lab and Poltergust                  </td><td>Super Mario            </td><td>179</td><td>3.5</td><td>29.99</td><td> 2</td><td>12.50</td><td>19.64</td><td>2022-01-01</td><td>2022-12-31</td></tr>\n",
       "\t<tr><td>71398-1 </td><td>Dorrie's Beachfront                                 </td><td>Super Mario            </td><td>229</td><td>0.0</td><td>29.99</td><td> 2</td><td>15.00</td><td>19.05</td><td>2022-01-01</td><td>2022-12-31</td></tr>\n",
       "\t<tr><td>71399-1 </td><td>Luigi's Mansion Entryway                            </td><td>Super Mario            </td><td>504</td><td>4.2</td><td>39.99</td><td> 3</td><td>25.00</td><td>36.14</td><td>2022-01-01</td><td>2022-12-31</td></tr>\n",
       "\t<tr><td>71401-1 </td><td>Luigi's Mansion Haunt-and-Seek                      </td><td>Super Mario            </td><td>877</td><td>0.0</td><td>79.99</td><td> 4</td><td>41.00</td><td>67.27</td><td>2022-01-01</td><td>2022-12-31</td></tr>\n",
       "\t<tr><td>71402-1 </td><td>Freezie                                             </td><td>Super Mario            </td><td> NA</td><td>0.0</td><td> 4.99</td><td> 1</td><td>10.24</td><td>20.94</td><td>2022-01-01</td><td>2022-07-31</td></tr>\n",
       "\t<tr><td>71402-2 </td><td>Mechakoopa                                          </td><td>Super Mario            </td><td> NA</td><td>0.0</td><td> 4.99</td><td> 1</td><td> 2.99</td><td> 4.14</td><td>2022-01-01</td><td>2022-07-31</td></tr>\n",
       "\t<tr><td>71402-3 </td><td>Ant Trooper                                         </td><td>Super Mario            </td><td> NA</td><td>0.0</td><td> 4.99</td><td> 1</td><td> 7.99</td><td>12.12</td><td>2022-01-01</td><td>2022-07-31</td></tr>\n",
       "\t<tr><td>71402-5 </td><td>Scaredy Rat                                         </td><td>Super Mario            </td><td> NA</td><td>0.0</td><td> 4.99</td><td> 1</td><td> 2.28</td><td> 4.58</td><td>2022-01-01</td><td>2022-07-31</td></tr>\n",
       "\t<tr><td>71402-6 </td><td>Bully                                               </td><td>Super Mario            </td><td> NA</td><td>0.0</td><td> 4.99</td><td> 1</td><td> 3.94</td><td> 5.39</td><td>2022-01-01</td><td>2022-07-31</td></tr>\n",
       "\t<tr><td>71402-7 </td><td>Baby Penguin                                        </td><td>Super Mario            </td><td> NA</td><td>0.0</td><td> 4.99</td><td> 1</td><td> 3.42</td><td> 5.49</td><td>2022-01-01</td><td>2022-07-31</td></tr>\n",
       "\t<tr><td>71402-8 </td><td>Stingby                                             </td><td>Super Mario            </td><td> NA</td><td>0.0</td><td> 4.99</td><td> 1</td><td> 3.20</td><td> 4.55</td><td>2022-01-01</td><td>2022-07-31</td></tr>\n",
       "\t<tr><td>71402-9 </td><td>Coin Coffer                                         </td><td>Super Mario            </td><td> NA</td><td>0.0</td><td> 4.99</td><td> 1</td><td> 3.29</td><td> 5.48</td><td>2022-01-01</td><td>2022-07-31</td></tr>\n",
       "\t<tr><td>71402-10</td><td>Para-Biddybud                                       </td><td>Super Mario            </td><td> NA</td><td>0.0</td><td> 4.99</td><td> 1</td><td> 5.00</td><td> 5.01</td><td>2022-01-01</td><td>2022-07-31</td></tr>\n",
       "\t<tr><td>71405-1 </td><td>Fuzzy Flippers                                      </td><td>Super Mario            </td><td>154</td><td>0.0</td><td>19.99</td><td> 2</td><td>13.25</td><td>19.99</td><td>2022-08-01</td><td>2022-12-31</td></tr>\n",
       "\t<tr><td>75321-1 </td><td>The Razor Crest Microfighter                        </td><td>Star Wars              </td><td> 98</td><td>3.6</td><td> 9.99</td><td> 1</td><td> 7.23</td><td>10.19</td><td>2022-01-01</td><td>2022-12-31</td></tr>\n",
       "\t<tr><td>75340-1 </td><td>LEGO Star Wars Advent Calendar                      </td><td>Star Wars              </td><td>329</td><td>3.8</td><td>44.99</td><td> 8</td><td>22.42</td><td>29.06</td><td>2022-09-01</td><td>2022-12-31</td></tr>\n",
       "\t<tr><td>76202-1 </td><td>Wolverine Mech Armor                                </td><td>Marvel Super Heroes    </td><td>141</td><td>3.8</td><td> 9.99</td><td> 1</td><td> 6.33</td><td> 9.17</td><td>2022-04-01</td><td>2022-12-31</td></tr>\n",
       "\t<tr><td>76203-1 </td><td>Iron Man Mech Armor                                 </td><td>Marvel Super Heroes    </td><td>130</td><td>3.4</td><td> 9.99</td><td> 1</td><td> 9.15</td><td>10.15</td><td>2022-04-01</td><td>2022-12-31</td></tr>\n",
       "\t<tr><td>76204-1 </td><td>Black Panther Mech Armor                            </td><td>Marvel Super Heroes    </td><td>124</td><td>3.5</td><td> 9.99</td><td> 1</td><td> 5.45</td><td> 7.26</td><td>2022-04-01</td><td>2022-12-31</td></tr>\n",
       "\t<tr><td>76205-1 </td><td>Gargantos Showdown                                  </td><td>Marvel Super Heroes    </td><td>264</td><td>4.1</td><td>29.99</td><td> 3</td><td>18.35</td><td>24.28</td><td>2022-01-01</td><td>2022-12-31</td></tr>\n",
       "\t<tr><td>76219-1 </td><td><span style=white-space:pre-wrap>Spider-Man &amp; Green Goblin Mech Battle               </span></td><td><span style=white-space:pre-wrap>Marvel Super Heroes    </span></td><td>296</td><td>0.0</td><td>19.99</td><td> 2</td><td>12.04</td><td>19.32</td><td>2022-04-01</td><td>2022-12-31</td></tr>\n",
       "\t<tr><td>76231-1 </td><td>Guardians of the Galaxy Advent Calendar             </td><td>Marvel Super Heroes    </td><td>268</td><td>3.7</td><td>44.99</td><td> 6</td><td>21.65</td><td>32.41</td><td>2022-09-01</td><td>2022-12-31</td></tr>\n",
       "\t<tr><td>76396-1 </td><td>Hogwarts Moment: Divination Class                   </td><td>Harry Potter           </td><td>297</td><td>3.9</td><td>29.99</td><td> 3</td><td>19.79</td><td>28.34</td><td>2022-03-01</td><td>2022-12-31</td></tr>\n",
       "\t<tr><td>76397-1 </td><td>Hogwarts Moment: Defence Against the Dark Arts Class</td><td>Harry Potter           </td><td>257</td><td>3.7</td><td>29.99</td><td> 4</td><td>22.27</td><td>29.18</td><td>2022-03-01</td><td>2022-12-31</td></tr>\n",
       "\t<tr><td>76403-1 </td><td>The Ministry of Magic                               </td><td>Harry Potter           </td><td>990</td><td>4.1</td><td>99.99</td><td>10</td><td>55.00</td><td>65.41</td><td>2022-06-01</td><td>2022-12-31</td></tr>\n",
       "\t<tr><td>76404-1 </td><td>LEGO Harry Potter Advent Calendar                   </td><td>Harry Potter           </td><td>334</td><td>3.5</td><td>44.99</td><td> 8</td><td>15.00</td><td>22.43</td><td>2022-09-01</td><td>2022-12-31</td></tr>\n",
       "</tbody>\n",
       "</table>\n"
      ],
      "text/latex": [
       "A tibble: 5211 × 11\n",
       "\\begin{tabular}{lllllllllll}\n",
       " set\\_id & set\\_name & theme\\_name & parts\\_count & rating & retail\\_price & minifigures\\_count & resale\\_price\\_used & resale\\_price\\_new & launch\\_date & exit\\_date\\\\\n",
       " <chr> & <chr> & <chr> & <dbl> & <dbl> & <dbl> & <dbl> & <dbl> & <dbl> & <date> & <date>\\\\\n",
       "\\hline\n",
       "\t 4559-1 & Cargo Railway             & Trains        & 842 & 4.3 & 130.00 &  7 & 216.43 & 762.15 & 1996-07-01 & 1999-01-30\\\\\n",
       "\t 4565-1 & Freight and Crane Railway & Trains        & 914 & 4.4 & 140.00 &  3 & 243.55 & 589.41 & 1996-09-01 & 2002-12-31\\\\\n",
       "\t 5876-1 & Belville Hospital Ward    & Belville      &  96 & 0.0 &  30.00 &  4 &  40.88 &  75.00 & 1996-08-01 & 1998-12-31\\\\\n",
       "\t 6024-1 & Bandit Ambush             & Castle        &  59 & 3.9 &   6.50 &  2 &  78.79 & 213.75 & 1996-06-01 & 1998-12-31\\\\\n",
       "\t 6135-1 & Spy Shark                 & Aquazone      &  57 & 3.6 &   8.75 &  1 &  11.79 &  20.00 & 1996-01-01 & 1997-12-31\\\\\n",
       "\t 6145-1 & Crystal Crawler           & Aquazone      &  96 & 3.8 &  12.00 &  1 &  17.05 &  94.67 & 1996-04-01 & 1998-12-31\\\\\n",
       "\t 6190-1 & Shark's Crystal Cave      & Aquazone      & 258 & 4.4 &  50.00 &  2 & 106.77 & 400.00 & 1996-07-01 & 1997-12-31\\\\\n",
       "\t 6244-1 & Armada Sentry             & Pirates       &  71 & 3.5 &   8.75 &  1 &  45.89 & 166.40 & 1996-04-01 & 1996-12-31\\\\\n",
       "\t 6334-1 & Wave Jump Racers          & Town          & 181 & 4.0 &  20.00 &  4 &  32.60 &  61.48 & 1996-07-01 & 1997-12-31\\\\\n",
       "\t 6337-1 & Fast Track Finish         & Town          & 329 & 3.9 &  40.00 &  6 & 109.57 & 279.53 & 1996-07-01 & 1997-12-31\\\\\n",
       "\t 6491-1 & Rocket Racer              & Time Cruisers &  58 & 3.3 &   4.50 &  1 &   6.27 &  24.89 & 1996-07-01 & 1998-12-31\\\\\n",
       "\t 6492-1 & Hypno Cruiser             & Time Cruisers & 152 & 3.8 &  22.00 &  2 &  31.83 & 157.50 & 1996-07-01 & 1998-12-31\\\\\n",
       "\t 6493-1 & Flying Time Vessel        & Time Cruisers & 237 & 3.9 &  44.00 &  2 &  44.87 & 102.83 & 1996-07-01 & 1998-12-31\\\\\n",
       "\t 6518-1 & Baja Buggy                & Town          &  37 & 3.6 &   3.50 &  1 &   3.25 &  12.12 & 1996-07-01 & 1997-12-31\\\\\n",
       "\t 6581-1 & Dig 'N' Dump              & Town          & 127 & 4.1 &  13.25 &  2 &  14.56 &  58.69 & 1996-07-01 & 1997-12-31\\\\\n",
       "\t 6598-1 & Metro PD Station          & Town          & 552 & 4.2 &  66.00 &  8 & 135.00 & 476.62 & 1996-01-01 & 1997-12-31\\\\\n",
       "\t 6615-1 & Eagle Stunt Flyer         & Town          &  76 & 4.1 &   8.75 &  1 &  11.30 &  40.00 & 1996-07-01 & 1997-12-31\\\\\n",
       "\t 6712-1 & Sheriff's Showdown        & Western       &  28 & 3.8 &   4.00 &  2 &  16.53 &  51.50 & 1996-09-01 & 1998-12-31\\\\\n",
       "\t 6716-1 & Covered Wagon             & Western       &  64 & 4.1 &   8.00 &  1 &  42.71 & 127.17 & 1996-09-01 & 1998-12-31\\\\\n",
       "\t 6755-1 & Sheriff's Lock-Up         & Western       & 176 & 4.4 &  25.00 &  4 &  68.37 & 381.04 & 1996-08-01 & 1998-12-31\\\\\n",
       "\t 6769-1 & Fort Legoredo             & Western       & 687 & 4.7 &  85.00 & 10 & 217.35 & 705.44 & 1996-10-01 & 1998-12-31\\\\\n",
       "\t 6854-1 & Alien Fossilizer          & Space         &  53 & 3.5 &   6.00 &  1 &  13.36 &  86.18 & 1996-04-01 & 1996-12-31\\\\\n",
       "\t 6856-1 & Planetary Decoder         & Space         &  80 & 3.5 &   8.00 &  1 &  11.98 &  68.77 & 1996-04-01 & 1997-12-31\\\\\n",
       "\t 6899-1 & Nebula Outpost            & Space         & 158 & 3.9 &  15.00 &  2 &  31.61 & 162.29 & 1996-04-01 & 1997-12-31\\\\\n",
       "\t 6938-1 & Scorpion Detector         & Space         & 196 & 4.2 &  24.00 &  2 &  37.25 & 154.00 & 1996-04-01 & 1996-12-31\\\\\n",
       "\t 6958-1 & Android Base              & Space         & 267 & 4.1 &  40.00 &  3 &  87.24 & 315.00 & 1996-01-01 & 1997-12-31\\\\\n",
       "\t 6982-1 & Explorien Starship        & Space         & 662 & 4.2 &  80.00 &  4 & 113.88 & 341.83 & 1996-01-01 & 1997-12-31\\\\\n",
       "\t 8207-1 & Dune Duster               & Technic       &  86 & 3.4 &   8.00 & NA &   6.57 &  14.75 & 1996-01-01 & 1998-12-31\\\\\n",
       "\t 8244-1 & Convertables              & Technic       & 275 & 3.3 &  33.00 &  1 &  26.78 &  53.39 & 1996-01-01 & 1998-12-31\\\\\n",
       "\t 8408-1 & Desert Ranger             & Technic       & 289 & 3.5 &  30.00 & NA &  27.99 &  54.67 & 1996-08-01 & 1998-12-31\\\\\n",
       "\t ⋮ & ⋮ & ⋮ & ⋮ & ⋮ & ⋮ & ⋮ & ⋮ & ⋮ & ⋮ & ⋮\\\\\n",
       "\t 71032-10 & Raccoon Costume Fan                                  & Collectable Minifigures &   9 & 3.9 &  4.99 &  1 &  4.31 &  5.26 & 2022-01-01 & 2022-04-30\\\\\n",
       "\t 71032-11 & Space Creature                                       & Collectable Minifigures &   9 & 3.8 &  4.99 &  1 &  7.36 &  7.40 & 2022-01-01 & 2022-04-30\\\\\n",
       "\t 71032-12 & Wheelchair Racer                                     & Collectable Minifigures &  11 & 4.0 &  4.99 &  1 &  3.67 &  3.98 & 2022-01-01 & 2022-04-30\\\\\n",
       "\t 71396-1  & Bowser Jr.'s Clown Car                               & Super Mario             &  84 & 4.0 &  9.99 &  1 &  5.33 &  8.15 & 2022-01-01 & 2022-12-31\\\\\n",
       "\t 71397-1  & Luigi's Mansion Lab and Poltergust                   & Super Mario             & 179 & 3.5 & 29.99 &  2 & 12.50 & 19.64 & 2022-01-01 & 2022-12-31\\\\\n",
       "\t 71398-1  & Dorrie's Beachfront                                  & Super Mario             & 229 & 0.0 & 29.99 &  2 & 15.00 & 19.05 & 2022-01-01 & 2022-12-31\\\\\n",
       "\t 71399-1  & Luigi's Mansion Entryway                             & Super Mario             & 504 & 4.2 & 39.99 &  3 & 25.00 & 36.14 & 2022-01-01 & 2022-12-31\\\\\n",
       "\t 71401-1  & Luigi's Mansion Haunt-and-Seek                       & Super Mario             & 877 & 0.0 & 79.99 &  4 & 41.00 & 67.27 & 2022-01-01 & 2022-12-31\\\\\n",
       "\t 71402-1  & Freezie                                              & Super Mario             &  NA & 0.0 &  4.99 &  1 & 10.24 & 20.94 & 2022-01-01 & 2022-07-31\\\\\n",
       "\t 71402-2  & Mechakoopa                                           & Super Mario             &  NA & 0.0 &  4.99 &  1 &  2.99 &  4.14 & 2022-01-01 & 2022-07-31\\\\\n",
       "\t 71402-3  & Ant Trooper                                          & Super Mario             &  NA & 0.0 &  4.99 &  1 &  7.99 & 12.12 & 2022-01-01 & 2022-07-31\\\\\n",
       "\t 71402-5  & Scaredy Rat                                          & Super Mario             &  NA & 0.0 &  4.99 &  1 &  2.28 &  4.58 & 2022-01-01 & 2022-07-31\\\\\n",
       "\t 71402-6  & Bully                                                & Super Mario             &  NA & 0.0 &  4.99 &  1 &  3.94 &  5.39 & 2022-01-01 & 2022-07-31\\\\\n",
       "\t 71402-7  & Baby Penguin                                         & Super Mario             &  NA & 0.0 &  4.99 &  1 &  3.42 &  5.49 & 2022-01-01 & 2022-07-31\\\\\n",
       "\t 71402-8  & Stingby                                              & Super Mario             &  NA & 0.0 &  4.99 &  1 &  3.20 &  4.55 & 2022-01-01 & 2022-07-31\\\\\n",
       "\t 71402-9  & Coin Coffer                                          & Super Mario             &  NA & 0.0 &  4.99 &  1 &  3.29 &  5.48 & 2022-01-01 & 2022-07-31\\\\\n",
       "\t 71402-10 & Para-Biddybud                                        & Super Mario             &  NA & 0.0 &  4.99 &  1 &  5.00 &  5.01 & 2022-01-01 & 2022-07-31\\\\\n",
       "\t 71405-1  & Fuzzy Flippers                                       & Super Mario             & 154 & 0.0 & 19.99 &  2 & 13.25 & 19.99 & 2022-08-01 & 2022-12-31\\\\\n",
       "\t 75321-1  & The Razor Crest Microfighter                         & Star Wars               &  98 & 3.6 &  9.99 &  1 &  7.23 & 10.19 & 2022-01-01 & 2022-12-31\\\\\n",
       "\t 75340-1  & LEGO Star Wars Advent Calendar                       & Star Wars               & 329 & 3.8 & 44.99 &  8 & 22.42 & 29.06 & 2022-09-01 & 2022-12-31\\\\\n",
       "\t 76202-1  & Wolverine Mech Armor                                 & Marvel Super Heroes     & 141 & 3.8 &  9.99 &  1 &  6.33 &  9.17 & 2022-04-01 & 2022-12-31\\\\\n",
       "\t 76203-1  & Iron Man Mech Armor                                  & Marvel Super Heroes     & 130 & 3.4 &  9.99 &  1 &  9.15 & 10.15 & 2022-04-01 & 2022-12-31\\\\\n",
       "\t 76204-1  & Black Panther Mech Armor                             & Marvel Super Heroes     & 124 & 3.5 &  9.99 &  1 &  5.45 &  7.26 & 2022-04-01 & 2022-12-31\\\\\n",
       "\t 76205-1  & Gargantos Showdown                                   & Marvel Super Heroes     & 264 & 4.1 & 29.99 &  3 & 18.35 & 24.28 & 2022-01-01 & 2022-12-31\\\\\n",
       "\t 76219-1  & Spider-Man \\& Green Goblin Mech Battle                & Marvel Super Heroes     & 296 & 0.0 & 19.99 &  2 & 12.04 & 19.32 & 2022-04-01 & 2022-12-31\\\\\n",
       "\t 76231-1  & Guardians of the Galaxy Advent Calendar              & Marvel Super Heroes     & 268 & 3.7 & 44.99 &  6 & 21.65 & 32.41 & 2022-09-01 & 2022-12-31\\\\\n",
       "\t 76396-1  & Hogwarts Moment: Divination Class                    & Harry Potter            & 297 & 3.9 & 29.99 &  3 & 19.79 & 28.34 & 2022-03-01 & 2022-12-31\\\\\n",
       "\t 76397-1  & Hogwarts Moment: Defence Against the Dark Arts Class & Harry Potter            & 257 & 3.7 & 29.99 &  4 & 22.27 & 29.18 & 2022-03-01 & 2022-12-31\\\\\n",
       "\t 76403-1  & The Ministry of Magic                                & Harry Potter            & 990 & 4.1 & 99.99 & 10 & 55.00 & 65.41 & 2022-06-01 & 2022-12-31\\\\\n",
       "\t 76404-1  & LEGO Harry Potter Advent Calendar                    & Harry Potter            & 334 & 3.5 & 44.99 &  8 & 15.00 & 22.43 & 2022-09-01 & 2022-12-31\\\\\n",
       "\\end{tabular}\n"
      ],
      "text/markdown": [
       "\n",
       "A tibble: 5211 × 11\n",
       "\n",
       "| set_id &lt;chr&gt; | set_name &lt;chr&gt; | theme_name &lt;chr&gt; | parts_count &lt;dbl&gt; | rating &lt;dbl&gt; | retail_price &lt;dbl&gt; | minifigures_count &lt;dbl&gt; | resale_price_used &lt;dbl&gt; | resale_price_new &lt;dbl&gt; | launch_date &lt;date&gt; | exit_date &lt;date&gt; |\n",
       "|---|---|---|---|---|---|---|---|---|---|---|\n",
       "| 4559-1 | Cargo Railway             | Trains        | 842 | 4.3 | 130.00 |  7 | 216.43 | 762.15 | 1996-07-01 | 1999-01-30 |\n",
       "| 4565-1 | Freight and Crane Railway | Trains        | 914 | 4.4 | 140.00 |  3 | 243.55 | 589.41 | 1996-09-01 | 2002-12-31 |\n",
       "| 5876-1 | Belville Hospital Ward    | Belville      |  96 | 0.0 |  30.00 |  4 |  40.88 |  75.00 | 1996-08-01 | 1998-12-31 |\n",
       "| 6024-1 | Bandit Ambush             | Castle        |  59 | 3.9 |   6.50 |  2 |  78.79 | 213.75 | 1996-06-01 | 1998-12-31 |\n",
       "| 6135-1 | Spy Shark                 | Aquazone      |  57 | 3.6 |   8.75 |  1 |  11.79 |  20.00 | 1996-01-01 | 1997-12-31 |\n",
       "| 6145-1 | Crystal Crawler           | Aquazone      |  96 | 3.8 |  12.00 |  1 |  17.05 |  94.67 | 1996-04-01 | 1998-12-31 |\n",
       "| 6190-1 | Shark's Crystal Cave      | Aquazone      | 258 | 4.4 |  50.00 |  2 | 106.77 | 400.00 | 1996-07-01 | 1997-12-31 |\n",
       "| 6244-1 | Armada Sentry             | Pirates       |  71 | 3.5 |   8.75 |  1 |  45.89 | 166.40 | 1996-04-01 | 1996-12-31 |\n",
       "| 6334-1 | Wave Jump Racers          | Town          | 181 | 4.0 |  20.00 |  4 |  32.60 |  61.48 | 1996-07-01 | 1997-12-31 |\n",
       "| 6337-1 | Fast Track Finish         | Town          | 329 | 3.9 |  40.00 |  6 | 109.57 | 279.53 | 1996-07-01 | 1997-12-31 |\n",
       "| 6491-1 | Rocket Racer              | Time Cruisers |  58 | 3.3 |   4.50 |  1 |   6.27 |  24.89 | 1996-07-01 | 1998-12-31 |\n",
       "| 6492-1 | Hypno Cruiser             | Time Cruisers | 152 | 3.8 |  22.00 |  2 |  31.83 | 157.50 | 1996-07-01 | 1998-12-31 |\n",
       "| 6493-1 | Flying Time Vessel        | Time Cruisers | 237 | 3.9 |  44.00 |  2 |  44.87 | 102.83 | 1996-07-01 | 1998-12-31 |\n",
       "| 6518-1 | Baja Buggy                | Town          |  37 | 3.6 |   3.50 |  1 |   3.25 |  12.12 | 1996-07-01 | 1997-12-31 |\n",
       "| 6581-1 | Dig 'N' Dump              | Town          | 127 | 4.1 |  13.25 |  2 |  14.56 |  58.69 | 1996-07-01 | 1997-12-31 |\n",
       "| 6598-1 | Metro PD Station          | Town          | 552 | 4.2 |  66.00 |  8 | 135.00 | 476.62 | 1996-01-01 | 1997-12-31 |\n",
       "| 6615-1 | Eagle Stunt Flyer         | Town          |  76 | 4.1 |   8.75 |  1 |  11.30 |  40.00 | 1996-07-01 | 1997-12-31 |\n",
       "| 6712-1 | Sheriff's Showdown        | Western       |  28 | 3.8 |   4.00 |  2 |  16.53 |  51.50 | 1996-09-01 | 1998-12-31 |\n",
       "| 6716-1 | Covered Wagon             | Western       |  64 | 4.1 |   8.00 |  1 |  42.71 | 127.17 | 1996-09-01 | 1998-12-31 |\n",
       "| 6755-1 | Sheriff's Lock-Up         | Western       | 176 | 4.4 |  25.00 |  4 |  68.37 | 381.04 | 1996-08-01 | 1998-12-31 |\n",
       "| 6769-1 | Fort Legoredo             | Western       | 687 | 4.7 |  85.00 | 10 | 217.35 | 705.44 | 1996-10-01 | 1998-12-31 |\n",
       "| 6854-1 | Alien Fossilizer          | Space         |  53 | 3.5 |   6.00 |  1 |  13.36 |  86.18 | 1996-04-01 | 1996-12-31 |\n",
       "| 6856-1 | Planetary Decoder         | Space         |  80 | 3.5 |   8.00 |  1 |  11.98 |  68.77 | 1996-04-01 | 1997-12-31 |\n",
       "| 6899-1 | Nebula Outpost            | Space         | 158 | 3.9 |  15.00 |  2 |  31.61 | 162.29 | 1996-04-01 | 1997-12-31 |\n",
       "| 6938-1 | Scorpion Detector         | Space         | 196 | 4.2 |  24.00 |  2 |  37.25 | 154.00 | 1996-04-01 | 1996-12-31 |\n",
       "| 6958-1 | Android Base              | Space         | 267 | 4.1 |  40.00 |  3 |  87.24 | 315.00 | 1996-01-01 | 1997-12-31 |\n",
       "| 6982-1 | Explorien Starship        | Space         | 662 | 4.2 |  80.00 |  4 | 113.88 | 341.83 | 1996-01-01 | 1997-12-31 |\n",
       "| 8207-1 | Dune Duster               | Technic       |  86 | 3.4 |   8.00 | NA |   6.57 |  14.75 | 1996-01-01 | 1998-12-31 |\n",
       "| 8244-1 | Convertables              | Technic       | 275 | 3.3 |  33.00 |  1 |  26.78 |  53.39 | 1996-01-01 | 1998-12-31 |\n",
       "| 8408-1 | Desert Ranger             | Technic       | 289 | 3.5 |  30.00 | NA |  27.99 |  54.67 | 1996-08-01 | 1998-12-31 |\n",
       "| ⋮ | ⋮ | ⋮ | ⋮ | ⋮ | ⋮ | ⋮ | ⋮ | ⋮ | ⋮ | ⋮ |\n",
       "| 71032-10 | Raccoon Costume Fan                                  | Collectable Minifigures |   9 | 3.9 |  4.99 |  1 |  4.31 |  5.26 | 2022-01-01 | 2022-04-30 |\n",
       "| 71032-11 | Space Creature                                       | Collectable Minifigures |   9 | 3.8 |  4.99 |  1 |  7.36 |  7.40 | 2022-01-01 | 2022-04-30 |\n",
       "| 71032-12 | Wheelchair Racer                                     | Collectable Minifigures |  11 | 4.0 |  4.99 |  1 |  3.67 |  3.98 | 2022-01-01 | 2022-04-30 |\n",
       "| 71396-1  | Bowser Jr.'s Clown Car                               | Super Mario             |  84 | 4.0 |  9.99 |  1 |  5.33 |  8.15 | 2022-01-01 | 2022-12-31 |\n",
       "| 71397-1  | Luigi's Mansion Lab and Poltergust                   | Super Mario             | 179 | 3.5 | 29.99 |  2 | 12.50 | 19.64 | 2022-01-01 | 2022-12-31 |\n",
       "| 71398-1  | Dorrie's Beachfront                                  | Super Mario             | 229 | 0.0 | 29.99 |  2 | 15.00 | 19.05 | 2022-01-01 | 2022-12-31 |\n",
       "| 71399-1  | Luigi's Mansion Entryway                             | Super Mario             | 504 | 4.2 | 39.99 |  3 | 25.00 | 36.14 | 2022-01-01 | 2022-12-31 |\n",
       "| 71401-1  | Luigi's Mansion Haunt-and-Seek                       | Super Mario             | 877 | 0.0 | 79.99 |  4 | 41.00 | 67.27 | 2022-01-01 | 2022-12-31 |\n",
       "| 71402-1  | Freezie                                              | Super Mario             |  NA | 0.0 |  4.99 |  1 | 10.24 | 20.94 | 2022-01-01 | 2022-07-31 |\n",
       "| 71402-2  | Mechakoopa                                           | Super Mario             |  NA | 0.0 |  4.99 |  1 |  2.99 |  4.14 | 2022-01-01 | 2022-07-31 |\n",
       "| 71402-3  | Ant Trooper                                          | Super Mario             |  NA | 0.0 |  4.99 |  1 |  7.99 | 12.12 | 2022-01-01 | 2022-07-31 |\n",
       "| 71402-5  | Scaredy Rat                                          | Super Mario             |  NA | 0.0 |  4.99 |  1 |  2.28 |  4.58 | 2022-01-01 | 2022-07-31 |\n",
       "| 71402-6  | Bully                                                | Super Mario             |  NA | 0.0 |  4.99 |  1 |  3.94 |  5.39 | 2022-01-01 | 2022-07-31 |\n",
       "| 71402-7  | Baby Penguin                                         | Super Mario             |  NA | 0.0 |  4.99 |  1 |  3.42 |  5.49 | 2022-01-01 | 2022-07-31 |\n",
       "| 71402-8  | Stingby                                              | Super Mario             |  NA | 0.0 |  4.99 |  1 |  3.20 |  4.55 | 2022-01-01 | 2022-07-31 |\n",
       "| 71402-9  | Coin Coffer                                          | Super Mario             |  NA | 0.0 |  4.99 |  1 |  3.29 |  5.48 | 2022-01-01 | 2022-07-31 |\n",
       "| 71402-10 | Para-Biddybud                                        | Super Mario             |  NA | 0.0 |  4.99 |  1 |  5.00 |  5.01 | 2022-01-01 | 2022-07-31 |\n",
       "| 71405-1  | Fuzzy Flippers                                       | Super Mario             | 154 | 0.0 | 19.99 |  2 | 13.25 | 19.99 | 2022-08-01 | 2022-12-31 |\n",
       "| 75321-1  | The Razor Crest Microfighter                         | Star Wars               |  98 | 3.6 |  9.99 |  1 |  7.23 | 10.19 | 2022-01-01 | 2022-12-31 |\n",
       "| 75340-1  | LEGO Star Wars Advent Calendar                       | Star Wars               | 329 | 3.8 | 44.99 |  8 | 22.42 | 29.06 | 2022-09-01 | 2022-12-31 |\n",
       "| 76202-1  | Wolverine Mech Armor                                 | Marvel Super Heroes     | 141 | 3.8 |  9.99 |  1 |  6.33 |  9.17 | 2022-04-01 | 2022-12-31 |\n",
       "| 76203-1  | Iron Man Mech Armor                                  | Marvel Super Heroes     | 130 | 3.4 |  9.99 |  1 |  9.15 | 10.15 | 2022-04-01 | 2022-12-31 |\n",
       "| 76204-1  | Black Panther Mech Armor                             | Marvel Super Heroes     | 124 | 3.5 |  9.99 |  1 |  5.45 |  7.26 | 2022-04-01 | 2022-12-31 |\n",
       "| 76205-1  | Gargantos Showdown                                   | Marvel Super Heroes     | 264 | 4.1 | 29.99 |  3 | 18.35 | 24.28 | 2022-01-01 | 2022-12-31 |\n",
       "| 76219-1  | Spider-Man &amp; Green Goblin Mech Battle                | Marvel Super Heroes     | 296 | 0.0 | 19.99 |  2 | 12.04 | 19.32 | 2022-04-01 | 2022-12-31 |\n",
       "| 76231-1  | Guardians of the Galaxy Advent Calendar              | Marvel Super Heroes     | 268 | 3.7 | 44.99 |  6 | 21.65 | 32.41 | 2022-09-01 | 2022-12-31 |\n",
       "| 76396-1  | Hogwarts Moment: Divination Class                    | Harry Potter            | 297 | 3.9 | 29.99 |  3 | 19.79 | 28.34 | 2022-03-01 | 2022-12-31 |\n",
       "| 76397-1  | Hogwarts Moment: Defence Against the Dark Arts Class | Harry Potter            | 257 | 3.7 | 29.99 |  4 | 22.27 | 29.18 | 2022-03-01 | 2022-12-31 |\n",
       "| 76403-1  | The Ministry of Magic                                | Harry Potter            | 990 | 4.1 | 99.99 | 10 | 55.00 | 65.41 | 2022-06-01 | 2022-12-31 |\n",
       "| 76404-1  | LEGO Harry Potter Advent Calendar                    | Harry Potter            | 334 | 3.5 | 44.99 |  8 | 15.00 | 22.43 | 2022-09-01 | 2022-12-31 |\n",
       "\n"
      ],
      "text/plain": [
       "     set_id   set_name                                            \n",
       "1    4559-1   Cargo Railway                                       \n",
       "2    4565-1   Freight and Crane Railway                           \n",
       "3    5876-1   Belville Hospital Ward                              \n",
       "4    6024-1   Bandit Ambush                                       \n",
       "5    6135-1   Spy Shark                                           \n",
       "6    6145-1   Crystal Crawler                                     \n",
       "7    6190-1   Shark's Crystal Cave                                \n",
       "8    6244-1   Armada Sentry                                       \n",
       "9    6334-1   Wave Jump Racers                                    \n",
       "10   6337-1   Fast Track Finish                                   \n",
       "11   6491-1   Rocket Racer                                        \n",
       "12   6492-1   Hypno Cruiser                                       \n",
       "13   6493-1   Flying Time Vessel                                  \n",
       "14   6518-1   Baja Buggy                                          \n",
       "15   6581-1   Dig 'N' Dump                                        \n",
       "16   6598-1   Metro PD Station                                    \n",
       "17   6615-1   Eagle Stunt Flyer                                   \n",
       "18   6712-1   Sheriff's Showdown                                  \n",
       "19   6716-1   Covered Wagon                                       \n",
       "20   6755-1   Sheriff's Lock-Up                                   \n",
       "21   6769-1   Fort Legoredo                                       \n",
       "22   6854-1   Alien Fossilizer                                    \n",
       "23   6856-1   Planetary Decoder                                   \n",
       "24   6899-1   Nebula Outpost                                      \n",
       "25   6938-1   Scorpion Detector                                   \n",
       "26   6958-1   Android Base                                        \n",
       "27   6982-1   Explorien Starship                                  \n",
       "28   8207-1   Dune Duster                                         \n",
       "29   8244-1   Convertables                                        \n",
       "30   8408-1   Desert Ranger                                       \n",
       "⋮    ⋮        ⋮                                                   \n",
       "5182 71032-10 Raccoon Costume Fan                                 \n",
       "5183 71032-11 Space Creature                                      \n",
       "5184 71032-12 Wheelchair Racer                                    \n",
       "5185 71396-1  Bowser Jr.'s Clown Car                              \n",
       "5186 71397-1  Luigi's Mansion Lab and Poltergust                  \n",
       "5187 71398-1  Dorrie's Beachfront                                 \n",
       "5188 71399-1  Luigi's Mansion Entryway                            \n",
       "5189 71401-1  Luigi's Mansion Haunt-and-Seek                      \n",
       "5190 71402-1  Freezie                                             \n",
       "5191 71402-2  Mechakoopa                                          \n",
       "5192 71402-3  Ant Trooper                                         \n",
       "5193 71402-5  Scaredy Rat                                         \n",
       "5194 71402-6  Bully                                               \n",
       "5195 71402-7  Baby Penguin                                        \n",
       "5196 71402-8  Stingby                                             \n",
       "5197 71402-9  Coin Coffer                                         \n",
       "5198 71402-10 Para-Biddybud                                       \n",
       "5199 71405-1  Fuzzy Flippers                                      \n",
       "5200 75321-1  The Razor Crest Microfighter                        \n",
       "5201 75340-1  LEGO Star Wars Advent Calendar                      \n",
       "5202 76202-1  Wolverine Mech Armor                                \n",
       "5203 76203-1  Iron Man Mech Armor                                 \n",
       "5204 76204-1  Black Panther Mech Armor                            \n",
       "5205 76205-1  Gargantos Showdown                                  \n",
       "5206 76219-1  Spider-Man & Green Goblin Mech Battle               \n",
       "5207 76231-1  Guardians of the Galaxy Advent Calendar             \n",
       "5208 76396-1  Hogwarts Moment: Divination Class                   \n",
       "5209 76397-1  Hogwarts Moment: Defence Against the Dark Arts Class\n",
       "5210 76403-1  The Ministry of Magic                               \n",
       "5211 76404-1  LEGO Harry Potter Advent Calendar                   \n",
       "     theme_name              parts_count rating retail_price minifigures_count\n",
       "1    Trains                  842         4.3    130.00        7               \n",
       "2    Trains                  914         4.4    140.00        3               \n",
       "3    Belville                 96         0.0     30.00        4               \n",
       "4    Castle                   59         3.9      6.50        2               \n",
       "5    Aquazone                 57         3.6      8.75        1               \n",
       "6    Aquazone                 96         3.8     12.00        1               \n",
       "7    Aquazone                258         4.4     50.00        2               \n",
       "8    Pirates                  71         3.5      8.75        1               \n",
       "9    Town                    181         4.0     20.00        4               \n",
       "10   Town                    329         3.9     40.00        6               \n",
       "11   Time Cruisers            58         3.3      4.50        1               \n",
       "12   Time Cruisers           152         3.8     22.00        2               \n",
       "13   Time Cruisers           237         3.9     44.00        2               \n",
       "14   Town                     37         3.6      3.50        1               \n",
       "15   Town                    127         4.1     13.25        2               \n",
       "16   Town                    552         4.2     66.00        8               \n",
       "17   Town                     76         4.1      8.75        1               \n",
       "18   Western                  28         3.8      4.00        2               \n",
       "19   Western                  64         4.1      8.00        1               \n",
       "20   Western                 176         4.4     25.00        4               \n",
       "21   Western                 687         4.7     85.00       10               \n",
       "22   Space                    53         3.5      6.00        1               \n",
       "23   Space                    80         3.5      8.00        1               \n",
       "24   Space                   158         3.9     15.00        2               \n",
       "25   Space                   196         4.2     24.00        2               \n",
       "26   Space                   267         4.1     40.00        3               \n",
       "27   Space                   662         4.2     80.00        4               \n",
       "28   Technic                  86         3.4      8.00       NA               \n",
       "29   Technic                 275         3.3     33.00        1               \n",
       "30   Technic                 289         3.5     30.00       NA               \n",
       "⋮    ⋮                       ⋮           ⋮      ⋮            ⋮                \n",
       "5182 Collectable Minifigures   9         3.9     4.99         1               \n",
       "5183 Collectable Minifigures   9         3.8     4.99         1               \n",
       "5184 Collectable Minifigures  11         4.0     4.99         1               \n",
       "5185 Super Mario              84         4.0     9.99         1               \n",
       "5186 Super Mario             179         3.5    29.99         2               \n",
       "5187 Super Mario             229         0.0    29.99         2               \n",
       "5188 Super Mario             504         4.2    39.99         3               \n",
       "5189 Super Mario             877         0.0    79.99         4               \n",
       "5190 Super Mario              NA         0.0     4.99         1               \n",
       "5191 Super Mario              NA         0.0     4.99         1               \n",
       "5192 Super Mario              NA         0.0     4.99         1               \n",
       "5193 Super Mario              NA         0.0     4.99         1               \n",
       "5194 Super Mario              NA         0.0     4.99         1               \n",
       "5195 Super Mario              NA         0.0     4.99         1               \n",
       "5196 Super Mario              NA         0.0     4.99         1               \n",
       "5197 Super Mario              NA         0.0     4.99         1               \n",
       "5198 Super Mario              NA         0.0     4.99         1               \n",
       "5199 Super Mario             154         0.0    19.99         2               \n",
       "5200 Star Wars                98         3.6     9.99         1               \n",
       "5201 Star Wars               329         3.8    44.99         8               \n",
       "5202 Marvel Super Heroes     141         3.8     9.99         1               \n",
       "5203 Marvel Super Heroes     130         3.4     9.99         1               \n",
       "5204 Marvel Super Heroes     124         3.5     9.99         1               \n",
       "5205 Marvel Super Heroes     264         4.1    29.99         3               \n",
       "5206 Marvel Super Heroes     296         0.0    19.99         2               \n",
       "5207 Marvel Super Heroes     268         3.7    44.99         6               \n",
       "5208 Harry Potter            297         3.9    29.99         3               \n",
       "5209 Harry Potter            257         3.7    29.99         4               \n",
       "5210 Harry Potter            990         4.1    99.99        10               \n",
       "5211 Harry Potter            334         3.5    44.99         8               \n",
       "     resale_price_used resale_price_new launch_date exit_date \n",
       "1    216.43            762.15           1996-07-01  1999-01-30\n",
       "2    243.55            589.41           1996-09-01  2002-12-31\n",
       "3     40.88             75.00           1996-08-01  1998-12-31\n",
       "4     78.79            213.75           1996-06-01  1998-12-31\n",
       "5     11.79             20.00           1996-01-01  1997-12-31\n",
       "6     17.05             94.67           1996-04-01  1998-12-31\n",
       "7    106.77            400.00           1996-07-01  1997-12-31\n",
       "8     45.89            166.40           1996-04-01  1996-12-31\n",
       "9     32.60             61.48           1996-07-01  1997-12-31\n",
       "10   109.57            279.53           1996-07-01  1997-12-31\n",
       "11     6.27             24.89           1996-07-01  1998-12-31\n",
       "12    31.83            157.50           1996-07-01  1998-12-31\n",
       "13    44.87            102.83           1996-07-01  1998-12-31\n",
       "14     3.25             12.12           1996-07-01  1997-12-31\n",
       "15    14.56             58.69           1996-07-01  1997-12-31\n",
       "16   135.00            476.62           1996-01-01  1997-12-31\n",
       "17    11.30             40.00           1996-07-01  1997-12-31\n",
       "18    16.53             51.50           1996-09-01  1998-12-31\n",
       "19    42.71            127.17           1996-09-01  1998-12-31\n",
       "20    68.37            381.04           1996-08-01  1998-12-31\n",
       "21   217.35            705.44           1996-10-01  1998-12-31\n",
       "22    13.36             86.18           1996-04-01  1996-12-31\n",
       "23    11.98             68.77           1996-04-01  1997-12-31\n",
       "24    31.61            162.29           1996-04-01  1997-12-31\n",
       "25    37.25            154.00           1996-04-01  1996-12-31\n",
       "26    87.24            315.00           1996-01-01  1997-12-31\n",
       "27   113.88            341.83           1996-01-01  1997-12-31\n",
       "28     6.57             14.75           1996-01-01  1998-12-31\n",
       "29    26.78             53.39           1996-01-01  1998-12-31\n",
       "30    27.99             54.67           1996-08-01  1998-12-31\n",
       "⋮    ⋮                 ⋮                ⋮           ⋮         \n",
       "5182  4.31              5.26            2022-01-01  2022-04-30\n",
       "5183  7.36              7.40            2022-01-01  2022-04-30\n",
       "5184  3.67              3.98            2022-01-01  2022-04-30\n",
       "5185  5.33              8.15            2022-01-01  2022-12-31\n",
       "5186 12.50             19.64            2022-01-01  2022-12-31\n",
       "5187 15.00             19.05            2022-01-01  2022-12-31\n",
       "5188 25.00             36.14            2022-01-01  2022-12-31\n",
       "5189 41.00             67.27            2022-01-01  2022-12-31\n",
       "5190 10.24             20.94            2022-01-01  2022-07-31\n",
       "5191  2.99              4.14            2022-01-01  2022-07-31\n",
       "5192  7.99             12.12            2022-01-01  2022-07-31\n",
       "5193  2.28              4.58            2022-01-01  2022-07-31\n",
       "5194  3.94              5.39            2022-01-01  2022-07-31\n",
       "5195  3.42              5.49            2022-01-01  2022-07-31\n",
       "5196  3.20              4.55            2022-01-01  2022-07-31\n",
       "5197  3.29              5.48            2022-01-01  2022-07-31\n",
       "5198  5.00              5.01            2022-01-01  2022-07-31\n",
       "5199 13.25             19.99            2022-08-01  2022-12-31\n",
       "5200  7.23             10.19            2022-01-01  2022-12-31\n",
       "5201 22.42             29.06            2022-09-01  2022-12-31\n",
       "5202  6.33              9.17            2022-04-01  2022-12-31\n",
       "5203  9.15             10.15            2022-04-01  2022-12-31\n",
       "5204  5.45              7.26            2022-04-01  2022-12-31\n",
       "5205 18.35             24.28            2022-01-01  2022-12-31\n",
       "5206 12.04             19.32            2022-04-01  2022-12-31\n",
       "5207 21.65             32.41            2022-09-01  2022-12-31\n",
       "5208 19.79             28.34            2022-03-01  2022-12-31\n",
       "5209 22.27             29.18            2022-03-01  2022-12-31\n",
       "5210 55.00             65.41            2022-06-01  2022-12-31\n",
       "5211 15.00             22.43            2022-09-01  2022-12-31"
      ]
     },
     "metadata": {},
     "output_type": "display_data"
    }
   ],
   "source": [
    "# Check the dataset\n",
    "model_data"
   ]
  },
  {
   "cell_type": "code",
   "execution_count": 67,
   "id": "34f963f3",
   "metadata": {},
   "outputs": [
    {
     "data": {
      "text/html": [
       "<style>\n",
       ".dl-inline {width: auto; margin:0; padding: 0}\n",
       ".dl-inline>dt, .dl-inline>dd {float: none; width: auto; display: inline-block}\n",
       ".dl-inline>dt::after {content: \":\\0020\"; padding-right: .5ex}\n",
       ".dl-inline>dt:not(:first-of-type) {padding-left: .5ex}\n",
       "</style><dl class=dl-inline><dt>set_id</dt><dd>0</dd><dt>set_name</dt><dd>0</dd><dt>theme_name</dt><dd>0</dd><dt>parts_count</dt><dd>37</dd><dt>rating</dt><dd>209</dd><dt>retail_price</dt><dd>0</dd><dt>minifigures_count</dt><dd>1521</dd><dt>resale_price_used</dt><dd>0</dd><dt>resale_price_new</dt><dd>0</dd><dt>launch_date</dt><dd>0</dd><dt>exit_date</dt><dd>0</dd></dl>\n"
      ],
      "text/latex": [
       "\\begin{description*}\n",
       "\\item[set\\textbackslash{}\\_id] 0\n",
       "\\item[set\\textbackslash{}\\_name] 0\n",
       "\\item[theme\\textbackslash{}\\_name] 0\n",
       "\\item[parts\\textbackslash{}\\_count] 37\n",
       "\\item[rating] 209\n",
       "\\item[retail\\textbackslash{}\\_price] 0\n",
       "\\item[minifigures\\textbackslash{}\\_count] 1521\n",
       "\\item[resale\\textbackslash{}\\_price\\textbackslash{}\\_used] 0\n",
       "\\item[resale\\textbackslash{}\\_price\\textbackslash{}\\_new] 0\n",
       "\\item[launch\\textbackslash{}\\_date] 0\n",
       "\\item[exit\\textbackslash{}\\_date] 0\n",
       "\\end{description*}\n"
      ],
      "text/markdown": [
       "set_id\n",
       ":   0set_name\n",
       ":   0theme_name\n",
       ":   0parts_count\n",
       ":   37rating\n",
       ":   209retail_price\n",
       ":   0minifigures_count\n",
       ":   1521resale_price_used\n",
       ":   0resale_price_new\n",
       ":   0launch_date\n",
       ":   0exit_date\n",
       ":   0\n",
       "\n"
      ],
      "text/plain": [
       "           set_id          set_name        theme_name       parts_count \n",
       "                0                 0                 0                37 \n",
       "           rating      retail_price minifigures_count resale_price_used \n",
       "              209                 0              1521                 0 \n",
       " resale_price_new       launch_date         exit_date \n",
       "                0                 0                 0 "
      ]
     },
     "metadata": {},
     "output_type": "display_data"
    },
    {
     "data": {
      "text/html": [
       "FALSE"
      ],
      "text/latex": [
       "FALSE"
      ],
      "text/markdown": [
       "FALSE"
      ],
      "text/plain": [
       "[1] FALSE"
      ]
     },
     "metadata": {},
     "output_type": "display_data"
    }
   ],
   "source": [
    "# Check missing values\n",
    "model_data %>%\n",
    "  is.na() %>%\n",
    "  colSums()\n",
    "\n",
    "# Check any duplicates in the dataset\n",
    "total_data %>%\n",
    "  duplicated() %>%\n",
    "  any()"
   ]
  },
  {
   "cell_type": "code",
   "execution_count": 68,
   "id": "3e0884d5",
   "metadata": {},
   "outputs": [],
   "source": [
    "# To introduce two variables for price prediction\n",
    "model_data <- \n",
    "  model_data %>%\n",
    "  mutate(\n",
    "    lifecycle_duration =  as.numeric(exit_date - launch_date), \n",
    "    days_since_launch =  as.numeric(dmy(\"31/12/2022\") - launch_date)\n",
    "        )"
   ]
  },
  {
   "cell_type": "code",
   "execution_count": 69,
   "id": "32385847",
   "metadata": {},
   "outputs": [],
   "source": [
    "# Select the variables of interests\n",
    "model_data <-\n",
    "  model_data %>%\n",
    "  select(theme_name,\n",
    "         parts_count, minifigures_count, rating, \n",
    "         retail_price, lifecycle_duration, days_since_launch,\n",
    "         resale_price_used, resale_price_new)"
   ]
  },
  {
   "cell_type": "code",
   "execution_count": 70,
   "id": "58a2946d",
   "metadata": {},
   "outputs": [
    {
     "data": {
      "text/html": [
       "<style>\n",
       ".dl-inline {width: auto; margin:0; padding: 0}\n",
       ".dl-inline>dt, .dl-inline>dd {float: none; width: auto; display: inline-block}\n",
       ".dl-inline>dt::after {content: \":\\0020\"; padding-right: .5ex}\n",
       ".dl-inline>dt:not(:first-of-type) {padding-left: .5ex}\n",
       "</style><dl class=dl-inline><dt>theme_name</dt><dd>0</dd><dt>parts_count</dt><dd>37</dd><dt>minifigures_count</dt><dd>1521</dd><dt>rating</dt><dd>209</dd><dt>retail_price</dt><dd>0</dd><dt>lifecycle_duration</dt><dd>0</dd><dt>days_since_launch</dt><dd>0</dd><dt>resale_price_used</dt><dd>0</dd><dt>resale_price_new</dt><dd>0</dd></dl>\n"
      ],
      "text/latex": [
       "\\begin{description*}\n",
       "\\item[theme\\textbackslash{}\\_name] 0\n",
       "\\item[parts\\textbackslash{}\\_count] 37\n",
       "\\item[minifigures\\textbackslash{}\\_count] 1521\n",
       "\\item[rating] 209\n",
       "\\item[retail\\textbackslash{}\\_price] 0\n",
       "\\item[lifecycle\\textbackslash{}\\_duration] 0\n",
       "\\item[days\\textbackslash{}\\_since\\textbackslash{}\\_launch] 0\n",
       "\\item[resale\\textbackslash{}\\_price\\textbackslash{}\\_used] 0\n",
       "\\item[resale\\textbackslash{}\\_price\\textbackslash{}\\_new] 0\n",
       "\\end{description*}\n"
      ],
      "text/markdown": [
       "theme_name\n",
       ":   0parts_count\n",
       ":   37minifigures_count\n",
       ":   1521rating\n",
       ":   209retail_price\n",
       ":   0lifecycle_duration\n",
       ":   0days_since_launch\n",
       ":   0resale_price_used\n",
       ":   0resale_price_new\n",
       ":   0\n",
       "\n"
      ],
      "text/plain": [
       "        theme_name        parts_count  minifigures_count             rating \n",
       "                 0                 37               1521                209 \n",
       "      retail_price lifecycle_duration  days_since_launch  resale_price_used \n",
       "                 0                  0                  0                  0 \n",
       "  resale_price_new \n",
       "                 0 "
      ]
     },
     "metadata": {},
     "output_type": "display_data"
    },
    {
     "data": {
      "text/html": [
       "FALSE"
      ],
      "text/latex": [
       "FALSE"
      ],
      "text/markdown": [
       "FALSE"
      ],
      "text/plain": [
       "[1] FALSE"
      ]
     },
     "metadata": {},
     "output_type": "display_data"
    }
   ],
   "source": [
    "# Check missing values\n",
    "model_data %>%\n",
    "  is.na() %>%\n",
    "  colSums()\n",
    "\n",
    "# Check any duplicates in the dataset\n",
    "model_data %>%\n",
    "  duplicated() %>%\n",
    "  any()"
   ]
  },
  {
   "cell_type": "code",
   "execution_count": 74,
   "id": "e524d6d3",
   "metadata": {},
   "outputs": [
    {
     "name": "stdout",
     "output_type": "stream",
     "text": [
      "Rows: 3,653\n",
      "Columns: 9\n",
      "$ theme_name         \u001b[3m\u001b[90m<chr>\u001b[39m\u001b[23m \"Trains\", \"Trains\", \"Belville\", \"Castle\", \"Aquazone…\n",
      "$ parts_count        \u001b[3m\u001b[90m<dbl>\u001b[39m\u001b[23m 842, 914, 96, 59, 57, 96, 258, 71, 181, 329, 58, 15…\n",
      "$ minifigures_count  \u001b[3m\u001b[90m<dbl>\u001b[39m\u001b[23m 7, 3, 4, 2, 1, 1, 2, 1, 4, 6, 1, 2, 2, 1, 2, 8, 1, …\n",
      "$ rating             \u001b[3m\u001b[90m<dbl>\u001b[39m\u001b[23m 4.3, 4.4, 0.0, 3.9, 3.6, 3.8, 4.4, 3.5, 4.0, 3.9, 3…\n",
      "$ retail_price       \u001b[3m\u001b[90m<dbl>\u001b[39m\u001b[23m 130.00, 140.00, 30.00, 6.50, 8.75, 12.00, 50.00, 8.…\n",
      "$ lifecycle_duration \u001b[3m\u001b[90m<dbl>\u001b[39m\u001b[23m 943, 2312, 882, 943, 730, 1004, 548, 274, 548, 548,…\n",
      "$ days_since_launch  \u001b[3m\u001b[90m<dbl>\u001b[39m\u001b[23m 9679, 9617, 9648, 9709, 9861, 9770, 9679, 9770, 967…\n",
      "$ resale_price_used  \u001b[3m\u001b[90m<dbl>\u001b[39m\u001b[23m 216.43, 243.55, 40.88, 78.79, 11.79, 17.05, 106.77,…\n",
      "$ resale_price_new   \u001b[3m\u001b[90m<dbl>\u001b[39m\u001b[23m 762.15, 589.41, 75.00, 213.75, 20.00, 94.67, 400.00…\n"
     ]
    }
   ],
   "source": [
    "# Remove missing values\n",
    "model_data <-\n",
    "  model_data %>%\n",
    "  na.omit()\n",
    "\n",
    "# Check the dataset\n",
    "model_data %>%\n",
    "  glimpse()"
   ]
  },
  {
   "cell_type": "code",
   "execution_count": 75,
   "id": "a612b11d",
   "metadata": {},
   "outputs": [],
   "source": [
    "# Save the dataset\n",
    "write.csv(model_data, file = \"model_data.csv\", row.names = FALSE)"
   ]
  },
  {
   "cell_type": "code",
   "execution_count": null,
   "id": "7cbf5378",
   "metadata": {},
   "outputs": [],
   "source": []
  }
 ],
 "metadata": {
  "kernelspec": {
   "display_name": "R",
   "language": "R",
   "name": "ir"
  },
  "language_info": {
   "codemirror_mode": "r",
   "file_extension": ".r",
   "mimetype": "text/x-r-source",
   "name": "R",
   "pygments_lexer": "r",
   "version": "4.3.1"
  }
 },
 "nbformat": 4,
 "nbformat_minor": 5
}
